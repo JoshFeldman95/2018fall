{
 "cells": [
  {
   "cell_type": "markdown",
   "metadata": {},
   "source": [
    "# Generating And Fitting Regression Data\n",
    "\n",
    "##### Keywords: multi-variate normal, linear regression, correlation"
   ]
  },
  {
   "cell_type": "code",
   "execution_count": 1,
   "metadata": {},
   "outputs": [],
   "source": [
    "import numpy as np\n",
    "%matplotlib inline\n",
    "import matplotlib.pyplot as plt"
   ]
  },
  {
   "cell_type": "markdown",
   "metadata": {},
   "source": [
    "## A trick to generate data\n",
    "\n",
    "We generate data from a gaussian with standard deviation 1 and means given by:\n",
    "\n",
    "$$\\mu_i = 0.15 x_{1,i} - 0.4 x_{2,i}, y \\sim N(\\mu, 1).$$\n",
    "\n",
    "This is a **2 parameter** model.\n",
    "\n",
    "We use an interesting trick to generate this data, directly using the regression coefficients as correlations with the response variable."
   ]
  },
  {
   "cell_type": "markdown",
   "metadata": {},
   "source": [
    "Lets start in 2D"
   ]
  },
  {
   "cell_type": "code",
   "execution_count": 18,
   "metadata": {},
   "outputs": [
    {
     "data": {
      "text/plain": [
       "array([[ 1.  ,  0.15, -0.4 ],\n",
       "       [ 0.  ,  1.  ,  0.  ],\n",
       "       [ 0.  ,  0.  ,  1.  ]])"
      ]
     },
     "execution_count": 18,
     "metadata": {},
     "output_type": "execute_result"
    }
   ],
   "source": [
    "rho=[0.15, -0.4] # correlation with y\n",
    "n_dim = 1 + len(rho)\n",
    "Rho = np.eye(n_dim) \n",
    "for i,r in enumerate(rho):\n",
    "    Rho[0, i+1] = r\n",
    "Rho"
   ]
  },
  {
   "cell_type": "code",
   "execution_count": 19,
   "metadata": {},
   "outputs": [
    {
     "data": {
      "text/plain": [
       "array([[ 1.  ,  0.15, -0.4 ],\n",
       "       [ 0.15,  1.  ,  0.  ],\n",
       "       [-0.4 ,  0.  ,  1.  ]])"
      ]
     },
     "execution_count": 19,
     "metadata": {},
     "output_type": "execute_result"
    }
   ],
   "source": [
    "index_lower = np.tril_indices(n_dim, -1)\n",
    "Rho[index_lower] = Rho.T[index_lower]\n",
    "Rho"
   ]
  },
  {
   "cell_type": "code",
   "execution_count": 23,
   "metadata": {},
   "outputs": [
    {
     "data": {
      "text/plain": [
       "array([[-2.27646991e-01, -5.53019658e-01, -1.94264760e-01],\n",
       "       [ 1.74616943e-01, -2.80567074e-02,  7.40498607e-01],\n",
       "       [-6.82719327e-01,  9.08933697e-01,  2.32455430e-01],\n",
       "       [ 2.99121241e-01,  4.26754402e-01, -4.58459350e-02],\n",
       "       [-7.20479505e-01, -1.04765833e-01, -5.58413201e-02],\n",
       "       [-5.94323672e-01,  8.70116554e-01,  2.35473441e+00],\n",
       "       [-1.43361408e+00,  2.13481689e-01, -1.42567500e+00],\n",
       "       [-1.12545416e+00,  1.01649752e+00, -4.01373651e-01],\n",
       "       [ 1.89360816e+00,  9.09823674e-01, -1.10847152e+00],\n",
       "       [ 8.95834491e-01, -1.88972298e+00,  4.37340282e-01],\n",
       "       [-5.22805327e-01, -3.10611479e-01, -8.53985651e-01],\n",
       "       [ 1.28301436e+00,  3.36217301e-01, -3.35352564e-02],\n",
       "       [-1.11320954e+00,  6.19459648e-01,  1.41109107e+00],\n",
       "       [ 6.19289907e-01, -8.77423170e-01,  7.52867016e-01],\n",
       "       [-5.09532210e-01, -4.45006999e-01,  5.25527552e-02],\n",
       "       [ 1.02778161e+00, -5.39018160e-01, -4.81433080e-01],\n",
       "       [-2.17112162e+00, -2.15198184e-01,  2.56408312e+00],\n",
       "       [-2.97668520e+00, -1.74815210e+00,  4.35901244e-01],\n",
       "       [-7.73502783e-01, -3.41426742e-01,  7.47863077e-01],\n",
       "       [ 2.51945388e-01, -8.28882797e-01, -6.96980396e-01],\n",
       "       [ 7.13593092e-01, -1.83154154e-01,  2.06455925e-01],\n",
       "       [ 1.54971176e+00, -6.39237970e-01,  6.86441241e-01],\n",
       "       [-7.18971518e-01,  5.02311678e-01, -6.27677985e-01],\n",
       "       [-1.36291688e-02,  4.77560389e-01, -1.69950454e-01],\n",
       "       [-7.39859394e-02, -2.46537735e+00,  1.95826829e+00],\n",
       "       [-4.38750877e-01,  2.53481223e-01,  1.30076518e-01],\n",
       "       [ 3.66566818e-01,  1.15367472e-01,  2.05699170e-01],\n",
       "       [ 4.77452255e-01,  1.81035514e+00, -2.79227127e-01],\n",
       "       [-2.18801307e+00, -1.85085890e+00,  7.12565675e-01],\n",
       "       [-6.25735562e-01,  8.79541063e-01,  4.85028080e-01],\n",
       "       [-1.14111633e-01, -7.74039079e-01, -1.08733210e+00],\n",
       "       [-1.06492015e+00, -1.34310714e+00, -3.01550634e-01],\n",
       "       [-5.39886171e-01, -2.19436926e+00,  1.40623180e+00],\n",
       "       [ 1.30792865e+00,  7.95446312e-01,  8.36580192e-02],\n",
       "       [-1.33811347e+00, -1.30910822e+00,  6.60084162e-01],\n",
       "       [-1.39202368e+00,  7.33006020e-01,  1.41283482e+00],\n",
       "       [-2.95981723e-01, -9.78120273e-01,  1.87723263e+00],\n",
       "       [ 1.27520297e-01, -7.52321488e-01,  4.78303051e-01],\n",
       "       [-4.62604524e-01, -4.26015786e-01,  2.56012700e-01],\n",
       "       [-7.40483103e-02, -1.07781431e+00,  6.27381647e-01],\n",
       "       [-6.84986438e-01,  2.36159655e-01,  2.10277506e+00],\n",
       "       [-6.03612198e-01,  2.11623948e-01, -3.18138621e-01],\n",
       "       [-6.60959797e-02,  1.28164011e+00,  6.36627058e-01],\n",
       "       [ 2.11475003e-01, -9.03586745e-01,  9.62115610e-01],\n",
       "       [ 5.88273362e-01,  2.46148933e-01, -6.63671346e-01],\n",
       "       [ 6.37751974e-01, -5.25384170e-01,  6.10982454e-01],\n",
       "       [ 8.05577093e-01,  7.74761385e-02, -8.40134812e-01],\n",
       "       [-4.41431289e-01,  4.89264387e-01,  2.94814200e-01],\n",
       "       [ 1.20512299e+00,  2.09301497e+00, -3.31565755e-01],\n",
       "       [-1.33213992e-01, -5.69503601e-01, -1.00056425e+00],\n",
       "       [-3.29737128e-01, -4.58529165e-01,  4.12390070e-01],\n",
       "       [-3.50658103e-01,  1.14102130e+00, -2.59641721e-01],\n",
       "       [ 1.01118916e+00, -1.00124381e+00, -1.24500024e+00],\n",
       "       [-1.17781957e+00,  4.61592028e-01,  6.11495469e-02],\n",
       "       [-4.40368660e-01,  1.88411445e-01, -1.77991091e-01],\n",
       "       [-3.55174571e-01, -2.15675882e-01,  2.07312753e+00],\n",
       "       [ 5.70073244e-01, -8.88687452e-01,  2.79869198e-01],\n",
       "       [-1.11068936e-01,  4.20588046e-01,  5.21280770e-01],\n",
       "       [-3.45483459e-01, -6.12323638e-01,  2.06187986e+00],\n",
       "       [-6.79530126e-01, -7.97645141e-01,  1.40022892e+00],\n",
       "       [ 8.95041406e-01,  5.56769406e-01,  1.11252819e+00],\n",
       "       [ 1.43368367e-01,  8.75230246e-01, -2.62418134e-01],\n",
       "       [ 3.22081339e-01,  7.93914030e-01,  5.58155108e-02],\n",
       "       [-8.07777281e-01, -5.37388034e-01, -4.28188947e-02],\n",
       "       [-3.55207685e-01,  1.24364481e+00, -2.56338700e-01],\n",
       "       [-7.86168829e-01,  6.38906569e-01,  1.46140264e-01],\n",
       "       [-7.76959293e-01, -2.38573665e-02,  1.77145795e+00],\n",
       "       [-1.23880797e+00,  5.42828804e-01, -3.65714186e-01],\n",
       "       [-1.60971877e-01, -1.85005432e-01, -5.03687378e-01],\n",
       "       [ 2.41360380e-03, -1.12933995e+00,  9.61383866e-01],\n",
       "       [ 1.01153600e+00, -6.21819522e-02,  5.95030599e-01],\n",
       "       [ 2.72117474e-01, -6.59460220e-01,  9.22036322e-01],\n",
       "       [ 9.05777371e-02, -6.66165217e-01, -5.28115151e-01],\n",
       "       [ 1.05608086e+00,  2.06400701e-01, -6.46745114e-01],\n",
       "       [-8.73607892e-01, -1.15578283e+00,  1.64503273e-01],\n",
       "       [ 1.67451094e-01,  6.84679092e-01, -7.59352249e-01],\n",
       "       [-8.13462575e-01, -7.25569959e-01, -8.04593824e-01],\n",
       "       [-3.70569278e-01,  4.72692992e-01, -1.33663825e+00],\n",
       "       [-1.27369266e+00, -4.72327967e-01, -1.01266407e+00],\n",
       "       [-2.23235658e-01, -1.06554495e+00,  1.37772347e+00],\n",
       "       [ 2.90205596e-01,  7.21464968e-01, -2.08152777e-01],\n",
       "       [ 2.15034431e+00,  1.15000521e+00, -1.12503901e+00],\n",
       "       [-1.03710429e+00, -2.96177681e-01, -7.67576054e-01],\n",
       "       [ 1.29963711e-01, -4.92514262e-01, -7.14771286e-01],\n",
       "       [-4.17391621e-01,  1.58121034e+00,  5.62585028e-01],\n",
       "       [-1.47810770e+00, -1.97215791e+00,  7.65182006e-01],\n",
       "       [-5.76465294e-01, -9.43447161e-01, -4.07846894e-01],\n",
       "       [-7.24213717e-01, -9.59206307e-01,  9.20285191e-01],\n",
       "       [ 1.25454468e+00, -1.22572731e+00, -2.66296745e-01],\n",
       "       [ 2.90793810e-01, -6.92311629e-01,  4.93309670e-01],\n",
       "       [ 6.75449266e-01,  6.25654985e-01,  2.76035295e-01],\n",
       "       [ 9.37700725e-01, -1.80907944e-01, -3.49743502e-01],\n",
       "       [-6.53781518e-01, -3.40663605e-01,  2.42411950e-01],\n",
       "       [ 1.10544536e+00, -2.68436378e-01, -6.76190902e-01],\n",
       "       [ 4.12729009e-01, -4.19178159e-01, -3.78939235e-01],\n",
       "       [-2.72144050e+00, -1.05293632e+00,  1.35795878e+00],\n",
       "       [-4.58328866e-02,  9.84918263e-01,  1.27617598e+00],\n",
       "       [ 1.15041541e+00, -1.04069663e+00,  2.56915829e-02],\n",
       "       [-1.69980090e+00, -9.77084577e-01,  3.68499113e-02],\n",
       "       [ 5.02096411e-02, -4.37106471e-01,  1.75113412e+00]])"
      ]
     },
     "execution_count": 23,
     "metadata": {},
     "output_type": "execute_result"
    }
   ],
   "source": [
    "mean = n_dim * [0.]\n",
    "samples = np.random.multivariate_normal(mean, Rho, size=100)\n",
    "samples"
   ]
  },
  {
   "cell_type": "code",
   "execution_count": 24,
   "metadata": {},
   "outputs": [
    {
     "data": {
      "text/plain": [
       "<matplotlib.collections.PathCollection at 0x1176c22b0>"
      ]
     },
     "execution_count": 24,
     "metadata": {},
     "output_type": "execute_result"
    },
    {
     "data": {
      "image/png": "[encoded data removed]",
      "text/plain": [
       "<Figure size 432x288 with 1 Axes>"
      ]
     },
     "metadata": {},
     "output_type": "display_data"
    }
   ],
   "source": [
    "plt.scatter(samples[:,1], samples[:,0]) #marginal"
   ]
  },
  {
   "cell_type": "code",
   "execution_count": 25,
   "metadata": {},
   "outputs": [
    {
     "data": {
      "text/plain": [
       "<matplotlib.collections.PathCollection at 0x11770fba8>"
      ]
     },
     "execution_count": 25,
     "metadata": {},
     "output_type": "execute_result"
    },
    {
     "data": {
      "image/png": "[encoded data removed]",
      "text/plain": [
       "<Figure size 432x288 with 1 Axes>"
      ]
     },
     "metadata": {},
     "output_type": "display_data"
    }
   ],
   "source": [
    "plt.scatter(samples[:,2], samples[:,0]) #marginal"
   ]
  },
  {
   "cell_type": "code",
   "execution_count": 26,
   "metadata": {},
   "outputs": [
    {
     "data": {
      "text/plain": [
       "<matplotlib.collections.PathCollection at 0x11782ab70>"
      ]
     },
     "execution_count": 26,
     "metadata": {},
     "output_type": "execute_result"
    },
    {
     "data": {
      "image/png": "[encoded data removed]",
      "text/plain": [
       "<Figure size 432x288 with 1 Axes>"
      ]
     },
     "metadata": {},
     "output_type": "display_data"
    }
   ],
   "source": [
    "plt.scatter(samples[:,1], samples[:,2]) #marginal"
   ]
  },
  {
   "cell_type": "code",
   "execution_count": 29,
   "metadata": {},
   "outputs": [],
   "source": [
    "def calculate_corr_matrix(k, rho):\n",
    "    n_dim = 1 + len(rho)\n",
    "    if n_dim < k:\n",
    "        n_dim = k\n",
    "    Rho = np.eye(n_dim)\n",
    "    for i,r in enumerate(rho):\n",
    "        Rho[0, i+1] = r\n",
    "    index_lower = np.tril_indices(n_dim, -1)\n",
    "    Rho[index_lower] = Rho.T[index_lower]\n",
    "    return Rho, n_dim"
   ]
  },
  {
   "cell_type": "code",
   "execution_count": 30,
   "metadata": {},
   "outputs": [
    {
     "data": {
      "text/plain": [
       "(array([[ 1.  ,  0.15, -0.4 ],\n",
       "        [ 0.15,  1.  ,  0.  ],\n",
       "        [-0.4 ,  0.  ,  1.  ]]), 3)"
      ]
     },
     "execution_count": 30,
     "metadata": {},
     "output_type": "execute_result"
    }
   ],
   "source": [
    "calculate_corr_matrix(2, [0.15, -0.4])"
   ]
  },
  {
   "cell_type": "code",
   "execution_count": 31,
   "metadata": {},
   "outputs": [
    {
     "data": {
      "text/plain": [
       "(array([[ 1.  ,  0.15, -0.4 ],\n",
       "        [ 0.15,  1.  ,  0.  ],\n",
       "        [-0.4 ,  0.  ,  1.  ]]), 3)"
      ]
     },
     "execution_count": 31,
     "metadata": {},
     "output_type": "execute_result"
    }
   ],
   "source": [
    "calculate_corr_matrix(3, [0.15, -0.4])"
   ]
  },
  {
   "cell_type": "code",
   "execution_count": 32,
   "metadata": {},
   "outputs": [
    {
     "data": {
      "text/plain": [
       "(array([[ 1.  ,  0.15, -0.4 ,  0.  ],\n",
       "        [ 0.15,  1.  ,  0.  ,  0.  ],\n",
       "        [-0.4 ,  0.  ,  1.  ,  0.  ],\n",
       "        [ 0.  ,  0.  ,  0.  ,  1.  ]]), 4)"
      ]
     },
     "execution_count": 32,
     "metadata": {},
     "output_type": "execute_result"
    }
   ],
   "source": [
    "calculate_corr_matrix(4, [0.15, -0.4])"
   ]
  },
  {
   "cell_type": "code",
   "execution_count": 33,
   "metadata": {},
   "outputs": [
    {
     "data": {
      "text/plain": [
       "(array([[ 1.  ,  0.15, -0.4 ,  0.  ,  0.  ],\n",
       "        [ 0.15,  1.  ,  0.  ,  0.  ,  0.  ],\n",
       "        [-0.4 ,  0.  ,  1.  ,  0.  ,  0.  ],\n",
       "        [ 0.  ,  0.  ,  0.  ,  1.  ,  0.  ],\n",
       "        [ 0.  ,  0.  ,  0.  ,  0.  ,  1.  ]]), 5)"
      ]
     },
     "execution_count": 33,
     "metadata": {},
     "output_type": "execute_result"
    }
   ],
   "source": [
    "calculate_corr_matrix(5, [0.15, -0.4])"
   ]
  },
  {
   "cell_type": "code",
   "execution_count": 36,
   "metadata": {},
   "outputs": [],
   "source": [
    "def generate_data(N, k, rho=[0.15, -0.4]):\n",
    "    Rho, n_dim = calculate_corr_matrix(k, rho)\n",
    "    mean = n_dim * [0.]\n",
    "    Xtrain = np.random.multivariate_normal(mean, Rho, size=N)\n",
    "    Xtest = np.random.multivariate_normal(mean, Rho, size=N)\n",
    "    ytrain = Xtrain[:,0].copy()\n",
    "    Xtrain[:,0]=1.\n",
    "    ytest = Xtest[:,0].copy()\n",
    "    Xtest[:,0]=1.\n",
    "    #print(Xtrain)\n",
    "    #print(Xtrain.shape, Xtrain[:,:k].shape)\n",
    "    return Xtrain[:,:k], ytrain, Xtest[:,:k], ytest"
   ]
  },
  {
   "cell_type": "markdown",
   "metadata": {},
   "source": [
    "We want to generate data for 5 different cases, a one parameter (intercept) fit, a two parameter (intercept and $x_1$), three parameters (add a $x_2), and four and five parameters. Here is what the data looks like for 2 and 3 parameters:"
   ]
  },
  {
   "cell_type": "code",
   "execution_count": 37,
   "metadata": {},
   "outputs": [
    {
     "data": {
      "text/plain": [
       "(array([[ 1.        , -0.76599473],\n",
       "        [ 1.        , -0.88699315],\n",
       "        [ 1.        ,  0.11023131],\n",
       "        [ 1.        ,  0.54866433],\n",
       "        [ 1.        , -0.98153376]]),\n",
       " array([ 1.36875036, -0.2537027 , -0.45616327,  0.47455162, -0.49905304]),\n",
       " array([[ 1.        , -0.32862433],\n",
       "        [ 1.        ,  1.38007385],\n",
       "        [ 1.        ,  1.7008265 ],\n",
       "        [ 1.        ,  0.11705765],\n",
       "        [ 1.        , -1.50289309]]),\n",
       " array([ 1.06286276, -0.44431124, -1.23448173, -0.95855499,  1.66485743]))"
      ]
     },
     "execution_count": 37,
     "metadata": {},
     "output_type": "execute_result"
    }
   ],
   "source": [
    "generate_data(5,2)"
   ]
  },
  {
   "cell_type": "code",
   "execution_count": 38,
   "metadata": {},
   "outputs": [
    {
     "data": {
      "text/plain": [
       "(array([[ 1.        , -2.02825156, -0.25325765],\n",
       "        [ 1.        ,  1.41345453,  0.66521125],\n",
       "        [ 1.        , -0.18142715,  0.26463575],\n",
       "        [ 1.        , -0.30605843,  1.94859655],\n",
       "        [ 1.        ,  1.5992421 ,  0.09154477]]),\n",
       " array([-0.82464292,  0.28716936,  0.53157649, -0.12360069,  0.71383004]),\n",
       " array([[ 1.        ,  0.8379532 , -0.38743719],\n",
       "        [ 1.        ,  1.53312074, -0.2393736 ],\n",
       "        [ 1.        ,  0.95142062, -1.65116125],\n",
       "        [ 1.        ,  1.21546881,  0.78903974],\n",
       "        [ 1.        ,  0.10964804,  0.86937281]]),\n",
       " array([ 0.85630261, -1.26484142, -0.12400267,  0.08696908, -1.7280865 ]))"
      ]
     },
     "execution_count": 38,
     "metadata": {},
     "output_type": "execute_result"
    }
   ],
   "source": [
    "generate_data(5,3)"
   ]
  },
  {
   "cell_type": "markdown",
   "metadata": {},
   "source": [
    "And for four and 5 parameters"
   ]
  },
  {
   "cell_type": "code",
   "execution_count": 39,
   "metadata": {},
   "outputs": [
    {
     "data": {
      "text/plain": [
       "(array([[ 1.        , -0.1010607 ,  0.24892344,  0.50640582],\n",
       "        [ 1.        , -1.57992657,  0.51350674, -0.32786908],\n",
       "        [ 1.        , -1.11844598,  0.36876892,  1.47167536],\n",
       "        [ 1.        , -0.02537557,  1.04023632, -1.28371714],\n",
       "        [ 1.        , -0.78916893,  0.49204116,  1.77561013]]),\n",
       " array([ 0.26365199,  1.55142229,  0.16116272, -1.01348471, -0.90533658]),\n",
       " array([[ 1.        , -0.2758852 ,  0.12434874, -0.60072956],\n",
       "        [ 1.        ,  1.37457528,  0.3511855 ,  1.14068641],\n",
       "        [ 1.        , -1.73945599, -0.44184771, -0.23307627],\n",
       "        [ 1.        ,  1.10374678,  1.51875677, -0.27205081],\n",
       "        [ 1.        ,  0.64997444,  0.47658678,  1.1423748 ]]),\n",
       " array([-0.06954204,  0.66946261,  0.29436533, -0.49055179, -1.08743258]))"
      ]
     },
     "execution_count": 39,
     "metadata": {},
     "output_type": "execute_result"
    }
   ],
   "source": [
    "generate_data(5,4)"
   ]
  },
  {
   "cell_type": "code",
   "execution_count": 40,
   "metadata": {},
   "outputs": [
    {
     "data": {
      "text/plain": [
       "(array([[ 1.        ,  0.30870789, -1.54554417, -0.65341488,  1.0336167 ],\n",
       "        [ 1.        , -0.84619133,  1.64443903,  1.39715354, -0.667057  ],\n",
       "        [ 1.        , -1.06848832,  0.21244499,  0.15300914, -0.89049277],\n",
       "        [ 1.        ,  1.01979107,  2.64864197,  2.05358903, -1.44966512],\n",
       "        [ 1.        ,  0.17797169,  0.22906572, -0.99256635,  0.19344417]]),\n",
       " array([ 1.609022  , -1.18784801, -0.27704415, -1.22697072, -0.15303136]),\n",
       " array([[ 1.        ,  0.48183533,  1.26141176, -1.26948315,  0.90525717],\n",
       "        [ 1.        , -0.64123449,  0.07688621, -1.53464376,  0.12733415],\n",
       "        [ 1.        , -1.90635515, -0.50476187, -1.33301708, -0.25348877],\n",
       "        [ 1.        ,  1.13023187,  0.60624116, -0.59552136,  1.3699978 ],\n",
       "        [ 1.        ,  0.10947833,  0.18339908, -0.81644475, -0.32749413]]),\n",
       " array([ 0.4333028 , -0.02111156, -0.02366402,  1.31522594,  0.83907945]))"
      ]
     },
     "execution_count": 40,
     "metadata": {},
     "output_type": "execute_result"
    }
   ],
   "source": [
    "generate_data(5,5)"
   ]
  },
  {
   "cell_type": "code",
   "execution_count": 41,
   "metadata": {},
   "outputs": [],
   "source": [
    "from scipy.stats import norm\n",
    "import statsmodels.api as sm"
   ]
  },
  {
   "cell_type": "markdown",
   "metadata": {},
   "source": [
    "## Analysis, n=20\n",
    "\n",
    "Here is the main loop of our analysis. We take the 5 models we talked about. For each model we generate 10000 samples of the data, split into an equal sized (N=20 each) training and testing set. We fit the regression on the training set, and calculate the **deviance** on the training set. \n",
    "\n",
    "What is **deviance**. We will come to the concept of deviance soon, but for now, its just \n",
    "\n",
    "$$ Deviance  =  -2 \\times \\ell  =  -2 \\times log({\\cal L}) ,$$\n",
    "\n",
    "computed over the data set in question.\n",
    "\n",
    "Thus the Deviance is just a loss function.\n",
    "\n",
    "Notice how we have simply used the `logpdf` from `scipy.stats`. You can easily do this for other distributions.\n",
    "\n",
    "We then use the fit to calculate the $\\mu$ on the test set, and calculate the deviance there. We then find the average and the standard deviation across the 10000 simulations.\n",
    "\n",
    "Why do we do 10000 simulations? These are our **multiple samples from some hypothetical population**."
   ]
  },
  {
   "cell_type": "code",
   "execution_count": 45,
   "metadata": {},
   "outputs": [],
   "source": [
    "reps=10000\n",
    "results_20 = {}\n",
    "for k in range(1,6):\n",
    "    trdevs=np.zeros(reps)\n",
    "    tedevs=np.zeros(reps)\n",
    "    for r in range(reps):\n",
    "        Xtr, ytr, Xte, yte = generate_data(20, k)\n",
    "        ols = sm.OLS(ytr, Xtr).fit()\n",
    "        mutr = np.dot(Xtr, ols.params)\n",
    "        devtr = -2*np.sum(norm.logpdf(ytr, mutr, 1))\n",
    "        mute = np.dot(Xte, ols.params)\n",
    "        #print(mutr.shape, mute.shape)\n",
    "        devte = -2*np.sum(norm.logpdf(yte, mute, 1))\n",
    "        #print(k, r, devtr, devte)\n",
    "        trdevs[r] = devtr\n",
    "        tedevs[r] = devte\n",
    "    results_20[k] = (np.mean(trdevs), np.std(trdevs), np.mean(tedevs), np.std(tedevs))"
   ]
  },
  {
   "cell_type": "code",
   "execution_count": 46,
   "metadata": {},
   "outputs": [
    {
     "data": {
      "text/html": [
       "<div>\n",
       "<style scoped>\n",
       "    .dataframe tbody tr th:only-of-type {\n",
       "        vertical-align: middle;\n",
       "    }\n",
       "\n",
       "    .dataframe tbody tr th {\n",
       "        vertical-align: top;\n",
       "    }\n",
       "\n",
       "    .dataframe thead th {\n",
       "        text-align: right;\n",
       "    }\n",
       "</style>\n",
       "<table border=\"1\" class=\"dataframe\">\n",
       "  <thead>\n",
       "    <tr style=\"text-align: right;\">\n",
       "      <th></th>\n",
       "      <th>train</th>\n",
       "      <th>train_std</th>\n",
       "      <th>test</th>\n",
       "      <th>test_std</th>\n",
       "    </tr>\n",
       "  </thead>\n",
       "  <tbody>\n",
       "    <tr>\n",
       "      <th>1</th>\n",
       "      <td>55.668989</td>\n",
       "      <td>6.077870</td>\n",
       "      <td>57.723826</td>\n",
       "      <td>6.795188</td>\n",
       "    </tr>\n",
       "    <tr>\n",
       "      <th>2</th>\n",
       "      <td>54.404563</td>\n",
       "      <td>5.823598</td>\n",
       "      <td>58.482711</td>\n",
       "      <td>7.243880</td>\n",
       "    </tr>\n",
       "    <tr>\n",
       "      <th>3</th>\n",
       "      <td>50.696043</td>\n",
       "      <td>4.722530</td>\n",
       "      <td>56.032626</td>\n",
       "      <td>6.710294</td>\n",
       "    </tr>\n",
       "    <tr>\n",
       "      <th>4</th>\n",
       "      <td>49.796695</td>\n",
       "      <td>4.576618</td>\n",
       "      <td>57.401429</td>\n",
       "      <td>7.527560</td>\n",
       "    </tr>\n",
       "    <tr>\n",
       "      <th>5</th>\n",
       "      <td>48.969513</td>\n",
       "      <td>4.377445</td>\n",
       "      <td>58.820223</td>\n",
       "      <td>8.409388</td>\n",
       "    </tr>\n",
       "  </tbody>\n",
       "</table>\n",
       "</div>"
      ],
      "text/plain": [
       "       train  train_std       test  test_std\n",
       "1  55.668989   6.077870  57.723826  6.795188\n",
       "2  54.404563   5.823598  58.482711  7.243880\n",
       "3  50.696043   4.722530  56.032626  6.710294\n",
       "4  49.796695   4.576618  57.401429  7.527560\n",
       "5  48.969513   4.377445  58.820223  8.409388"
      ]
     },
     "execution_count": 46,
     "metadata": {},
     "output_type": "execute_result"
    }
   ],
   "source": [
    "import pandas as pd\n",
    "df = pd.DataFrame(results_20).T\n",
    "df = df.rename(columns = dict(zip(range(4), ['train', 'train_std', 'test', 'test_std'])))\n",
    "df"
   ]
  },
  {
   "cell_type": "code",
   "execution_count": 47,
   "metadata": {},
   "outputs": [
    {
     "name": "stderr",
     "output_type": "stream",
     "text": [
      "/Users/joshfeldman/anaconda3/envs/py36/lib/python3.6/site-packages/seaborn/apionly.py:9: UserWarning: As seaborn no longer sets a default style on import, the seaborn.apionly module is deprecated. It will be removed in a future version.\n",
      "  warnings.warn(msg, UserWarning)\n"
     ]
    },
    {
     "data": {
      "text/plain": [
       "[(0.12156862745098039, 0.4666666666666667, 0.7058823529411765),\n",
       " (1.0, 0.4980392156862745, 0.054901960784313725),\n",
       " (0.17254901960784313, 0.6274509803921569, 0.17254901960784313),\n",
       " (0.8392156862745098, 0.15294117647058825, 0.1568627450980392),\n",
       " (0.5803921568627451, 0.403921568627451, 0.7411764705882353),\n",
       " (0.5490196078431373, 0.33725490196078434, 0.29411764705882354),\n",
       " (0.8901960784313725, 0.4666666666666667, 0.7607843137254902),\n",
       " (0.4980392156862745, 0.4980392156862745, 0.4980392156862745),\n",
       " (0.7372549019607844, 0.7411764705882353, 0.13333333333333333),\n",
       " (0.09019607843137255, 0.7450980392156863, 0.8117647058823529)]"
      ]
     },
     "execution_count": 47,
     "metadata": {},
     "output_type": "execute_result"
    }
   ],
   "source": [
    "import seaborn.apionly as sns\n",
    "colors = sns.color_palette()\n",
    "colors"
   ]
  },
  {
   "cell_type": "markdown",
   "metadata": {},
   "source": [
    "We plot the traing and testing deviances"
   ]
  },
  {
   "cell_type": "code",
   "execution_count": 50,
   "metadata": {},
   "outputs": [
    {
     "data": {
      "image/png": "[encoded data removed]",
      "text/plain": [
       "<Figure size 432x288 with 1 Axes>"
      ]
     },
     "metadata": {},
     "output_type": "display_data"
    }
   ],
   "source": [
    "plt.plot(df.index, df.train, 'o', color = colors[0])\n",
    "plt.errorbar(df.index, df.train, yerr=df.train_std, fmt='none', color=colors[0])\n",
    "plt.plot(df.index+0.2, df.test, 'o', color = colors[1])\n",
    "plt.errorbar(df.index+0.2, df.test, yerr=df.test_std, fmt='none', color=colors[1])\n",
    "plt.xlabel(\"number of parameters\")\n",
    "plt.ylabel(\"deviance\")\n",
    "plt.title(\"N=20\");"
   ]
  },
  {
   "cell_type": "markdown",
   "metadata": {},
   "source": [
    "This is just an illustration of the training vs testing structure we saw in class, along with the randomness that comes from sampling and noise. (Indeed, here, because of the way we generated the data, the randomness from both the sampling and the noise are explicitly included)."
   ]
  },
  {
   "cell_type": "markdown",
   "metadata": {},
   "source": [
    "Notice:\n",
    "\n",
    "- the best fit model may not be the original generating model. Remember that the choice of fit depends on the amount of data you have and the less data you have, the less parameters you should use\n",
    "- on average, out of sample deviance must be larger than in-sample deviance, through an individual pair may have that order reversed because of sample peculiarity."
   ]
  },
  {
   "cell_type": "markdown",
   "metadata": {},
   "source": [
    "If you subtract the average losses between the test and training set, you find something interesting. "
   ]
  },
  {
   "cell_type": "code",
   "execution_count": 51,
   "metadata": {},
   "outputs": [
    {
     "data": {
      "text/plain": [
       "1    2.054837\n",
       "2    4.078147\n",
       "3    5.336583\n",
       "4    7.604735\n",
       "5    9.850710\n",
       "dtype: float64"
      ]
     },
     "execution_count": 51,
     "metadata": {},
     "output_type": "execute_result"
    }
   ],
   "source": [
    "df.test - df.train"
   ]
  },
  {
   "cell_type": "markdown",
   "metadata": {},
   "source": [
    "### Analysis N=100"
   ]
  },
  {
   "cell_type": "code",
   "execution_count": 52,
   "metadata": {},
   "outputs": [],
   "source": [
    "reps=10000\n",
    "results_100 = {}\n",
    "for k in range(1,6):\n",
    "    trdevs=np.zeros(reps)\n",
    "    tedevs=np.zeros(reps)\n",
    "    for r in range(reps):\n",
    "        Xtr, ytr, Xte, yte = generate_data(100, k)\n",
    "        ols = sm.OLS(ytr, Xtr).fit()\n",
    "        mutr = np.dot(Xtr, ols.params)\n",
    "        devtr = -2*np.sum(norm.logpdf(ytr, mutr, 1))\n",
    "        mute = np.dot(Xte, ols.params)\n",
    "        devte = -2*np.sum(norm.logpdf(yte, mute, 1))\n",
    "        trdevs[r] = devtr\n",
    "        tedevs[r] = devte\n",
    "    results_100[k] = (np.mean(trdevs), np.std(trdevs), np.mean(tedevs), np.std(tedevs))"
   ]
  },
  {
   "cell_type": "code",
   "execution_count": 53,
   "metadata": {},
   "outputs": [
    {
     "data": {
      "text/html": [
       "<div>\n",
       "<style scoped>\n",
       "    .dataframe tbody tr th:only-of-type {\n",
       "        vertical-align: middle;\n",
       "    }\n",
       "\n",
       "    .dataframe tbody tr th {\n",
       "        vertical-align: top;\n",
       "    }\n",
       "\n",
       "    .dataframe thead th {\n",
       "        text-align: right;\n",
       "    }\n",
       "</style>\n",
       "<table border=\"1\" class=\"dataframe\">\n",
       "  <thead>\n",
       "    <tr style=\"text-align: right;\">\n",
       "      <th></th>\n",
       "      <th>train</th>\n",
       "      <th>train_std</th>\n",
       "      <th>test</th>\n",
       "      <th>test_std</th>\n",
       "    </tr>\n",
       "  </thead>\n",
       "  <tbody>\n",
       "    <tr>\n",
       "      <th>1</th>\n",
       "      <td>282.677847</td>\n",
       "      <td>14.239441</td>\n",
       "      <td>284.718744</td>\n",
       "      <td>14.378587</td>\n",
       "    </tr>\n",
       "    <tr>\n",
       "      <th>2</th>\n",
       "      <td>279.324391</td>\n",
       "      <td>13.766403</td>\n",
       "      <td>283.535265</td>\n",
       "      <td>14.365388</td>\n",
       "    </tr>\n",
       "    <tr>\n",
       "      <th>3</th>\n",
       "      <td>263.184839</td>\n",
       "      <td>11.426188</td>\n",
       "      <td>268.125911</td>\n",
       "      <td>12.100413</td>\n",
       "    </tr>\n",
       "    <tr>\n",
       "      <th>4</th>\n",
       "      <td>262.152227</td>\n",
       "      <td>11.270288</td>\n",
       "      <td>269.117061</td>\n",
       "      <td>12.336948</td>\n",
       "    </tr>\n",
       "    <tr>\n",
       "      <th>5</th>\n",
       "      <td>261.477258</td>\n",
       "      <td>11.230961</td>\n",
       "      <td>269.982520</td>\n",
       "      <td>12.602336</td>\n",
       "    </tr>\n",
       "  </tbody>\n",
       "</table>\n",
       "</div>"
      ],
      "text/plain": [
       "        train  train_std        test   test_std\n",
       "1  282.677847  14.239441  284.718744  14.378587\n",
       "2  279.324391  13.766403  283.535265  14.365388\n",
       "3  263.184839  11.426188  268.125911  12.100413\n",
       "4  262.152227  11.270288  269.117061  12.336948\n",
       "5  261.477258  11.230961  269.982520  12.602336"
      ]
     },
     "execution_count": 53,
     "metadata": {},
     "output_type": "execute_result"
    }
   ],
   "source": [
    "df100 = pd.DataFrame(results_100).T\n",
    "df100 = df100.rename(columns = dict(zip(range(4), ['train', 'train_std', 'test', 'test_std'])))\n",
    "df100"
   ]
  },
  {
   "cell_type": "code",
   "execution_count": 55,
   "metadata": {},
   "outputs": [
    {
     "data": {
      "image/png": "[encoded data removed]",
      "text/plain": [
       "<Figure size 432x288 with 1 Axes>"
      ]
     },
     "metadata": {},
     "output_type": "display_data"
    }
   ],
   "source": [
    "plt.plot(df100.index, df100.train, 'o', color = colors[0])\n",
    "plt.errorbar(df100.index, df100.train, yerr=df100.train_std, fmt='none', color=colors[0])\n",
    "plt.plot(df100.index+0.2, df100.test, 'o', color = colors[1])\n",
    "plt.errorbar(df100.index+0.2, df100.test, yerr=df100.test_std, fmt='none', color=colors[1])\n",
    "plt.xlabel(\"number of parameters\")\n",
    "plt.ylabel(\"deviance\")\n",
    "plt.title(\"N=100\");"
   ]
  },
  {
   "cell_type": "code",
   "execution_count": 56,
   "metadata": {},
   "outputs": [
    {
     "data": {
      "text/plain": [
       "1    2.040897\n",
       "2    4.210874\n",
       "3    4.941072\n",
       "4    6.964834\n",
       "5    8.505262\n",
       "dtype: float64"
      ]
     },
     "execution_count": 56,
     "metadata": {},
     "output_type": "execute_result"
    }
   ],
   "source": [
    "df100.test - df100.train"
   ]
  },
  {
   "cell_type": "code",
   "execution_count": null,
   "metadata": {},
   "outputs": [],
   "source": []
  }
 ],
 "metadata": {
  "kernelspec": {
   "display_name": "Python [conda env:py36]",
   "language": "python",
   "name": "conda-env-py36-py"
  },
  "language_info": {
   "codemirror_mode": {
    "name": "ipython",
    "version": 3
   },
   "file_extension": ".py",
   "mimetype": "text/x-python",
   "name": "python",
   "nbconvert_exporter": "python",
   "pygments_lexer": "ipython3",
   "version": "3.6.6"
  }
 },
 "nbformat": 4,
 "nbformat_minor": 2
}
