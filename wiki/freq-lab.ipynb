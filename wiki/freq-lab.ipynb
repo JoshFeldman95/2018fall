{
 "cells": [
  {
   "cell_type": "markdown",
   "metadata": {},
   "source": [
    "# Lab 2 - The Frequentist Approach:  A brief overview\n",
    "\n",
    "##### Keywords: frequentist statistics, exponential distribution, poisson distribution, maximum likelihood,  bootstrap, parametric"
   ]
  },
  {
   "cell_type": "markdown",
   "metadata": {},
   "source": [
    "## Contents\n",
    "{:.no_toc}\n",
    "* \n",
    "{: toc}"
   ]
  },
  {
   "cell_type": "markdown",
   "metadata": {},
   "source": [
    "## Learning Aims\n",
    "\n",
    "- using scipy.stats\n",
    "- MLE\n",
    "- bootstrap\n",
    "- matplotlib histogram considerations\n",
    "\n",
    "$\\newcommand{\\Ex}{\\mathbb{E}}$\n",
    "$\\newcommand{\\Var}{\\mathrm{Var}}$\n",
    "$\\newcommand{\\Cov}{\\mathrm{Cov}}$\n",
    "$\\newcommand{\\SampleAvg}{\\frac{1}{N({S})} \\sum_{s \\in {S}}}$\n",
    "$\\newcommand{\\indic}{\\mathbb{1}}$\n",
    "$\\newcommand{\\avg}{\\overline}$\n",
    "$\\newcommand{\\est}{\\hat}$\n",
    "$\\newcommand{\\trueval}[1]{#1^{*}}$\n",
    "$\\newcommand{\\Gam}[1]{\\mathrm{Gamma}#1}$"
   ]
  },
  {
   "cell_type": "code",
   "execution_count": 1,
   "metadata": {},
   "outputs": [],
   "source": [
    "# The %... is an iPython thing, and is not part of the Python language.\n",
    "# In this case we're just telling the plotting library to draw things on\n",
    "# the notebook, instead of on a separate window.\n",
    "%matplotlib inline\n",
    "\n",
    "# See all the \"as ...\" contructs? They're just aliasing the package names.\n",
    "# That way we can call methods like plt.plot() instead of matplotlib.pyplot.plot().\n",
    "import numpy as np\n",
    "import scipy as sp\n",
    "import scipy.stats\n",
    "import matplotlib as mpl\n",
    "import matplotlib.cm as cm\n",
    "import matplotlib.pyplot as plt\n",
    "import pandas as pd\n",
    "import time\n",
    "pd.set_option('display.width', 500)\n",
    "pd.set_option('display.max_columns', 100)\n",
    "pd.set_option('display.notebook_repr_html', True)\n",
    "import seaborn as sns\n",
    "sns.set_style(\"whitegrid\")\n",
    "sns.set_context(\"poster\")"
   ]
  },
  {
   "cell_type": "markdown",
   "metadata": {},
   "source": [
    "## Data on the birth of babies"
   ]
  },
  {
   "cell_type": "markdown",
   "metadata": {},
   "source": [
    ">Forty-four babies -- a new record -- were born in one 24-hour period at\n",
    "the Mater Mothers' Hospital in Brisbane, Queensland, Australia, on\n",
    "December 18, 1997.  For each of the 44 babies, _The Sunday Mail_\n",
    "recorded the time of birth, the sex of the child, and the birth weight\n",
    "in grams. Also included is the number of minutes since midnight for\n",
    "each birth.\n",
    "\n",
    "REFERENCE:\n",
    "Steele, S. (December 21, 1997), \"Babies by the Dozen for Christmas:\n",
    "24-Hour Baby Boom,\" _The Sunday Mail_ (Brisbane), p. 7.\n",
    "\n",
    "\"Datasets\n",
    "and Stories\" article \"A Simple Dataset for Demonstrating Common\n",
    "Distributions\" in the _Journal of Statistics Education_ (Dunn 1999).\n",
    "\n",
    "Columns\n",
    "\n",
    "       1 24hrtime  Time of birth recorded on the 24-hour clock\n",
    "       2 sex  Sex of the child (1 = girl, 2 = boy)\n",
    "       3 weight  Birth weight in grams\n",
    "       4 minutes  Number of minutes after midnight of each birth"
   ]
  },
  {
   "cell_type": "code",
   "execution_count": 22,
   "metadata": {},
   "outputs": [
    {
     "data": {
      "text/html": [
       "<div>\n",
       "<style scoped>\n",
       "    .dataframe tbody tr th:only-of-type {\n",
       "        vertical-align: middle;\n",
       "    }\n",
       "\n",
       "    .dataframe tbody tr th {\n",
       "        vertical-align: top;\n",
       "    }\n",
       "\n",
       "    .dataframe thead th {\n",
       "        text-align: right;\n",
       "    }\n",
       "</style>\n",
       "<table border=\"1\" class=\"dataframe\">\n",
       "  <thead>\n",
       "    <tr style=\"text-align: right;\">\n",
       "      <th></th>\n",
       "      <th>24hrtime</th>\n",
       "      <th>sex</th>\n",
       "      <th>weight</th>\n",
       "      <th>minutes</th>\n",
       "    </tr>\n",
       "  </thead>\n",
       "  <tbody>\n",
       "    <tr>\n",
       "      <th>0</th>\n",
       "      <td>5</td>\n",
       "      <td>1</td>\n",
       "      <td>3837</td>\n",
       "      <td>5</td>\n",
       "    </tr>\n",
       "    <tr>\n",
       "      <th>1</th>\n",
       "      <td>104</td>\n",
       "      <td>1</td>\n",
       "      <td>3334</td>\n",
       "      <td>64</td>\n",
       "    </tr>\n",
       "    <tr>\n",
       "      <th>2</th>\n",
       "      <td>118</td>\n",
       "      <td>2</td>\n",
       "      <td>3554</td>\n",
       "      <td>78</td>\n",
       "    </tr>\n",
       "    <tr>\n",
       "      <th>3</th>\n",
       "      <td>155</td>\n",
       "      <td>2</td>\n",
       "      <td>3838</td>\n",
       "      <td>115</td>\n",
       "    </tr>\n",
       "    <tr>\n",
       "      <th>4</th>\n",
       "      <td>257</td>\n",
       "      <td>2</td>\n",
       "      <td>3625</td>\n",
       "      <td>177</td>\n",
       "    </tr>\n",
       "  </tbody>\n",
       "</table>\n",
       "</div>"
      ],
      "text/plain": [
       "   24hrtime  sex  weight  minutes\n",
       "0         5    1    3837        5\n",
       "1       104    1    3334       64\n",
       "2       118    2    3554       78\n",
       "3       155    2    3838      115\n",
       "4       257    2    3625      177"
      ]
     },
     "execution_count": 22,
     "metadata": {},
     "output_type": "execute_result"
    }
   ],
   "source": [
    "df = pd.read_table(\"data/babyboom.dat.txt\", header=None, sep='\\s+', \n",
    "                   names=['24hrtime','sex','weight','minutes'])\n",
    "df.head()"
   ]
  },
  {
   "cell_type": "markdown",
   "metadata": {},
   "source": [
    "We find it convenient to group births into the hours of the day during which they occurred.  Let's bin minutes in order to  construct a new feature 'hours' and store in it the number of births in each hour."
   ]
  },
  {
   "cell_type": "code",
   "execution_count": 23,
   "metadata": {},
   "outputs": [
    {
     "data": {
      "text/html": [
       "<div>\n",
       "<style scoped>\n",
       "    .dataframe tbody tr th:only-of-type {\n",
       "        vertical-align: middle;\n",
       "    }\n",
       "\n",
       "    .dataframe tbody tr th {\n",
       "        vertical-align: top;\n",
       "    }\n",
       "\n",
       "    .dataframe thead th {\n",
       "        text-align: right;\n",
       "    }\n",
       "</style>\n",
       "<table border=\"1\" class=\"dataframe\">\n",
       "  <thead>\n",
       "    <tr style=\"text-align: right;\">\n",
       "      <th></th>\n",
       "      <th>24hrtime</th>\n",
       "      <th>sex</th>\n",
       "      <th>weight</th>\n",
       "      <th>minutes</th>\n",
       "      <th>hours</th>\n",
       "    </tr>\n",
       "  </thead>\n",
       "  <tbody>\n",
       "    <tr>\n",
       "      <th>0</th>\n",
       "      <td>5</td>\n",
       "      <td>1</td>\n",
       "      <td>3837</td>\n",
       "      <td>5</td>\n",
       "      <td>0</td>\n",
       "    </tr>\n",
       "    <tr>\n",
       "      <th>1</th>\n",
       "      <td>104</td>\n",
       "      <td>1</td>\n",
       "      <td>3334</td>\n",
       "      <td>64</td>\n",
       "      <td>1</td>\n",
       "    </tr>\n",
       "    <tr>\n",
       "      <th>2</th>\n",
       "      <td>118</td>\n",
       "      <td>2</td>\n",
       "      <td>3554</td>\n",
       "      <td>78</td>\n",
       "      <td>1</td>\n",
       "    </tr>\n",
       "    <tr>\n",
       "      <th>3</th>\n",
       "      <td>155</td>\n",
       "      <td>2</td>\n",
       "      <td>3838</td>\n",
       "      <td>115</td>\n",
       "      <td>1</td>\n",
       "    </tr>\n",
       "    <tr>\n",
       "      <th>4</th>\n",
       "      <td>257</td>\n",
       "      <td>2</td>\n",
       "      <td>3625</td>\n",
       "      <td>177</td>\n",
       "      <td>2</td>\n",
       "    </tr>\n",
       "  </tbody>\n",
       "</table>\n",
       "</div>"
      ],
      "text/plain": [
       "   24hrtime  sex  weight  minutes  hours\n",
       "0         5    1    3837        5      0\n",
       "1       104    1    3334       64      1\n",
       "2       118    2    3554       78      1\n",
       "3       155    2    3838      115      1\n",
       "4       257    2    3625      177      2"
      ]
     },
     "execution_count": 23,
     "metadata": {},
     "output_type": "execute_result"
    }
   ],
   "source": [
    "df['hours'] = df.minutes // 60\n",
    "df.head()"
   ]
  },
  {
   "cell_type": "markdown",
   "metadata": {},
   "source": [
    "### Frequentist Philosophy:  Samples vs population\n",
    "\n",
    "We've started out this lab by presenting you with some data.  What are we to do with the data?  What are some reasonable approaches to handling the data in such a way that we can draw insights and render conclusions based on the data.  **Frequentist inference** is one framework which serves to constructively provide answers to these sorts of questions.  According to Wikipedia\n",
    "\n",
    "> Frequentist inference has been associated with the frequentist interpretation of probability, specifically that any given experiment can be considered as one of an infinite > sequence of possible repetitions of the same experiment, each capable of producing statistically independent results. In this view, the frequentist inference approach to > drawing conclusions from data is effectively to require that the correct conclusion should be drawn with a given (high) probability, among this notional set of repetitions.\n",
    "\n",
    "The main idea is that given a set of data, frequentism conceives of that data as one **sample** from an existing **population** that comes about from a **data generating process**.  That sample can be used to draw inferences about the population.  This data generating process can be repeated over and over again to create other (slightly different) samples each of which can similarly used conclusions about the population.\n",
    "\n",
    "This notion is probably clearest to you from elections, where some companies like Zogby or CNN take polls. The sample in these polls may be some finite population (e.g. 1000 people) but that sample is used to  \"represent\" the electoral population at large. the pollsters can then attempt to draw inferences about how the population will vote based on the samples and use the tools of frequentist intervals to provide guidance about the robustness of their conclusions.\n",
    "\n",
    "The main purpose of this lab is to introduce **Frequentism** and help familiarize you with some common frequentist tools."
   ]
  },
  {
   "cell_type": "markdown",
   "metadata": {},
   "source": [
    "### The Idealized Data-Generating Process\n",
    "\n",
    "Let's examine the frequentist paradigm under \"ideal circumstances\".  We'll skip over (or present without explanation) some concepts and terminology as the idea here is to provide you intuition and motivate some of the tools we'll present later.\n",
    "\n",
    "1. We're provided with our data sample $S = \\{X_1, X_2, ..., X_k\\}$\n",
    "\n",
    "2. We calculate our relevant estimate(s) or statistic(s) on that sample\n",
    "\n",
    "3. In order to generate confidence intervals around our estimate(s) or statistic(s) we generate from the data generating process n additional data samples\n",
    "\n",
    "4. On each of those n data samples we repeat the calculations of the estimate(s) or statistic(s) \n",
    "\n",
    "5. Collectively use the calculated estimate(s)/statistic(s) on the generated samples to construct a confidence interval\n",
    "\n",
    "Our inference is our original estimate(s)/statistic(s) and the constructed confidence intervals from the estimate(s)/statistic(s) from our n samples from the data generating process"
   ]
  },
  {
   "cell_type": "markdown",
   "metadata": {},
   "source": [
    "### Example of the Idealized Data Generating Process: Male Heights"
   ]
  },
  {
   "cell_type": "markdown",
   "metadata": {},
   "source": [
    "Let's say we know that male heights follow a Gaussian distribution with mean 70 inches and standard deviation 4 inches.  Consider the following two data samples drawn from the canonical distribution of male heights.  For each sample use the idealized data generating process to estimate the mean male height using n=100 additional samples to generate confidence intervals."
   ]
  },
  {
   "cell_type": "markdown",
   "metadata": {},
   "source": [
    "**We're provided our data sample**"
   ]
  },
  {
   "cell_type": "code",
   "execution_count": 26,
   "metadata": {},
   "outputs": [],
   "source": [
    "male_heights_sample1 = np.array([65.27156778, 70.54877119, 73.3194762 , 65.39765796, 71.20531282,\n",
    "       72.60242314, 71.37226406, 68.32409185, 74.53513439, 74.55146588,\n",
    "       68.66712633, 72.94632781, 67.53369738, 71.91086708, 67.04768347,\n",
    "       73.93720054, 77.83917981, 73.05772208, 63.5739442 , 70.95335019])"
   ]
  },
  {
   "cell_type": "code",
   "execution_count": 27,
   "metadata": {},
   "outputs": [],
   "source": [
    "male_heights_sample2 = np.array([73.5832399 , 72.20626275, 76.19045706, 67.57730802, 74.77351658,\n",
    "       85.43682136, 73.38080912, 75.71094703, 70.59903148, 73.5543091 ,\n",
    "       71.76435781, 69.27927312, 66.54357112, 74.31531105, 76.68361655,\n",
    "       69.36297994, 75.18045033, 71.16446918, 74.43549175, 68.72731837])"
   ]
  },
  {
   "cell_type": "markdown",
   "metadata": {},
   "source": [
    "**Calculate estimates on data samples**"
   ]
  },
  {
   "cell_type": "code",
   "execution_count": 35,
   "metadata": {},
   "outputs": [
    {
     "name": "stdout",
     "output_type": "stream",
     "text": [
      "Estimated mean male height from sample 1:  70.729763208\n"
     ]
    }
   ],
   "source": [
    "print(\"Estimated mean male height from sample 1: \", np.mean(male_heights_sample1))"
   ]
  },
  {
   "cell_type": "code",
   "execution_count": 36,
   "metadata": {},
   "outputs": [
    {
     "name": "stdout",
     "output_type": "stream",
     "text": [
      "Estimated mean male height from sample 2:  73.023477081\n"
     ]
    }
   ],
   "source": [
    "print(\"Estimated mean male height from sample 2: \", np.mean(male_heights_sample2))"
   ]
  },
  {
   "cell_type": "markdown",
   "metadata": {},
   "source": [
    "**Generate n=100 additional data samples from the Data Generating Process**"
   ]
  },
  {
   "cell_type": "code",
   "execution_count": 37,
   "metadata": {},
   "outputs": [],
   "source": [
    "additional_heights = scipy.stats.norm.rvs(loc=70, scale=4, size=(100,20))"
   ]
  },
  {
   "cell_type": "code",
   "execution_count": 38,
   "metadata": {},
   "outputs": [
    {
     "data": {
      "text/plain": [
       "array([[74.8596307 , 69.34450648, 66.64821067, ..., 66.09846149,\n",
       "        70.87369378, 69.62228362],\n",
       "       [63.68749173, 73.58213543, 75.96308771, ..., 68.02700912,\n",
       "        62.20543319, 64.65032741],\n",
       "       [70.22435262, 74.51484461, 71.0051005 , ..., 69.13488305,\n",
       "        71.06856528, 71.55666079],\n",
       "       ...,\n",
       "       [65.00710807, 68.78070424, 73.69163263, ..., 67.88924069,\n",
       "        68.47722337, 71.03212052],\n",
       "       [75.98850277, 69.73450684, 77.79526054, ..., 72.01643042,\n",
       "        71.06673712, 66.21380179],\n",
       "       [73.58940374, 70.38729174, 73.06327986, ..., 74.18350181,\n",
       "        70.33382641, 64.8714366 ]])"
      ]
     },
     "execution_count": 38,
     "metadata": {},
     "output_type": "execute_result"
    }
   ],
   "source": [
    "additional_heights"
   ]
  },
  {
   "cell_type": "markdown",
   "metadata": {},
   "source": [
    "**Repeat Calculation of estimate on each of the n=100 additional data samples from the Data Generating Process**"
   ]
  },
  {
   "cell_type": "code",
   "execution_count": 39,
   "metadata": {},
   "outputs": [],
   "source": [
    "additional_heights_estimates = np.mean(additional_heights, axis=1)"
   ]
  },
  {
   "cell_type": "markdown",
   "metadata": {},
   "source": [
    "**Collectively use the calculated estimate to construct confidence intervals**"
   ]
  },
  {
   "cell_type": "code",
   "execution_count": 40,
   "metadata": {},
   "outputs": [],
   "source": [
    "def viz_estimates(viz_axis, viz_data, viz_label, viz_color,  x_label, viz_title, sample_estimate, estimate_label, bin_count=20):\n",
    "\n",
    "        \n",
    "    #plot histogram\n",
    "    _, viz_bins, _ = viz_axis.hist(viz_data, bins=bin_count, facecolor=viz_color, edgecolor='white', label=\"Additional Samples\", density=True, alpha=0.6)\n",
    "\n",
    "    viz_axis.axvline(x=sample_estimate, linewidth=4, color='r', label=estimate_label)\n",
    "    viz_axis.set_xlabel(x_label)\n",
    "    viz_axis.set_title(viz_title)\n",
    "    viz_axis.legend(loc='best')"
   ]
  },
  {
   "cell_type": "code",
   "execution_count": 41,
   "metadata": {},
   "outputs": [
    {
     "data": {
      "image/png": "[encoded data removed]",
      "text/plain": [
       "<Figure size 1440x720 with 2 Axes>"
      ]
     },
     "metadata": {},
     "output_type": "display_data"
    }
   ],
   "source": [
    "fig, (ax1, ax2) = plt.subplots(1, 2, figsize=(20, 10))\n",
    "\n",
    "viz_estimates(\n",
    "    ax1,\n",
    "    additional_heights_estimates,\n",
    "    'Estimates of Additional Height Samples',\n",
    "    'salmon',\n",
    "    'means',\n",
    "    'Distribution of Height Estimates',\n",
    "    np.mean(male_heights_sample1),\n",
    "    'Estimate from Sample 1'\n",
    ")\n",
    "\n",
    "viz_estimates(\n",
    "    ax2,\n",
    "    additional_heights_estimates,\n",
    "    'Estimates of Additional Height Samples',\n",
    "    'salmon',\n",
    "    'means',\n",
    "    'Distribution of Height Estimates',\n",
    "    np.mean(male_heights_sample2),\n",
    "    'Estimate from Sample 2'\n",
    ")\n"
   ]
  },
  {
   "cell_type": "markdown",
   "metadata": {},
   "source": [
    "Are the true value of the parameter for the data generating model in the 95% confidence intervals?"
   ]
  },
  {
   "cell_type": "code",
   "execution_count": 43,
   "metadata": {},
   "outputs": [
    {
     "data": {
      "text/plain": [
       "array([68.43531954, 71.46686096])"
      ]
     },
     "execution_count": 43,
     "metadata": {},
     "output_type": "execute_result"
    }
   ],
   "source": [
    "heights_percentile_interval = np.percentile(additional_heights_estimates, [2.5, 97.5])\n",
    "heights_percentile_interval"
   ]
  },
  {
   "cell_type": "code",
   "execution_count": 44,
   "metadata": {},
   "outputs": [
    {
     "data": {
      "text/plain": [
       "array([0.        , 3.03154142])"
      ]
     },
     "execution_count": 44,
     "metadata": {},
     "output_type": "execute_result"
    }
   ],
   "source": [
    "heights_percentile_interval -= heights_percentile_interval[0]\n",
    "heights_percentile_interval"
   ]
  },
  {
   "cell_type": "code",
   "execution_count": 45,
   "metadata": {},
   "outputs": [
    {
     "data": {
      "text/plain": [
       "array([-1.51577071,  1.51577071])"
      ]
     },
     "execution_count": 45,
     "metadata": {},
     "output_type": "execute_result"
    }
   ],
   "source": [
    "heights_percentile_interval -= heights_percentile_interval[1]/2\n",
    "heights_percentile_interval"
   ]
  },
  {
   "cell_type": "code",
   "execution_count": 46,
   "metadata": {},
   "outputs": [
    {
     "name": "stdout",
     "output_type": "stream",
     "text": [
      "95% confidence interval sample 1:  [69.2139925  72.24553392]\n"
     ]
    }
   ],
   "source": [
    "print(\"95% confidence interval sample 1: \", np.mean(male_heights_sample1)+ heights_percentile_interval)"
   ]
  },
  {
   "cell_type": "code",
   "execution_count": 47,
   "metadata": {},
   "outputs": [
    {
     "name": "stdout",
     "output_type": "stream",
     "text": [
      "95% confidence interval sample 2:  [71.50770637 74.53924779]\n"
     ]
    }
   ],
   "source": [
    "print(\"95% confidence interval sample 2: \", np.mean(male_heights_sample2)+ heights_percentile_interval)"
   ]
  },
  {
   "cell_type": "markdown",
   "metadata": {},
   "source": [
    "We happen to know the true parameters of the model for the data generating process and the mean for that model isn't in the 95% confidence interval for male heights sample 2."
   ]
  },
  {
   "cell_type": "markdown",
   "metadata": {},
   "source": [
    "## Choosing a model: the exponential distribution\n",
    "\n",
    "Going back to the baby data that we were given at the beginning of lab, what would a natural choice for the probability distribution for the data generating process for the babies?\n",
    "\n",
    "One possibility is exponential distribution which comes up naturally when describing the lengths of the inter-arrival times in a homogeneous Poisson process.\n",
    "\n",
    "It takes the form:\n",
    "$$\n",
    "f(x;\\lambda) = \\begin{cases}\n",
    "\\lambda e^{-\\lambda x} & x \\ge 0, \\\\\n",
    "0 & x < 0.\n",
    "\\end{cases}\n",
    "$$\n",
    "\n",
    "From Wikipedia: *In probability theory, a Poisson process is a stochastic process which counts the number of events and the time that these events occur in a given time interval. The time between each pair of consecutive events has an exponential distribution with parameter $\\lambda$ and each of these inter-arrival times is assumed to be independent of other inter-arrival times. The process is named after the French mathematician Siméon Denis Poisson and is a good model of radioactive decay, telephone calls and requests for a particular document on a web server, among many other phenomena.*\n",
    "\n",
    "In our example above, we have the arrival times of the babies. There is no reason to expect any specific clustering in time, so one could think of modelling the arrival of the babies via a poisson process.\n",
    "\n",
    "Furthermore, the Poisson distribution can be used to model the number of births each hour over the 24-hour period."
   ]
  },
  {
   "cell_type": "markdown",
   "metadata": {},
   "source": [
    "### What does the exponential distribution look like?"
   ]
  },
  {
   "cell_type": "code",
   "execution_count": 48,
   "metadata": {},
   "outputs": [
    {
     "data": {
      "text/plain": [
       "Text(0,0.5,'exponential pdf')"
      ]
     },
     "execution_count": 48,
     "metadata": {},
     "output_type": "execute_result"
    },
    {
     "data": {
      "image/png": "[encoded data removed]",
      "text/plain": [
       "<Figure size 432x288 with 1 Axes>"
      ]
     },
     "metadata": {},
     "output_type": "display_data"
    }
   ],
   "source": [
    "f = lambda x, l: l*np.exp(-l*x)*(x>0)\n",
    "xpts=np.arange(-2,3,0.05)\n",
    "plt.plot(xpts,f(xpts, 2),'.');\n",
    "plt.xlabel(\"x\")\n",
    "plt.ylabel(\"exponential pdf\")"
   ]
  },
  {
   "cell_type": "markdown",
   "metadata": {},
   "source": [
    "Note: **some of the code, and ALL of the visual style for the distribution plots below was shamelessly stolen from https://gist.github.com/mattions/6113437/ **."
   ]
  },
  {
   "cell_type": "code",
   "execution_count": 49,
   "metadata": {},
   "outputs": [
    {
     "data": {
      "image/png": "[encoded data removed]",
      "text/plain": [
       "<Figure size 864x288 with 1 Axes>"
      ]
     },
     "metadata": {},
     "output_type": "display_data"
    }
   ],
   "source": [
    "from scipy.stats import expon\n",
    "\n",
    "x = np.linspace(0,4, 100)\n",
    "colors=sns.color_palette()\n",
    "\n",
    "lambda_ = [0.5, 1, 2, 4]\n",
    "plt.figure(figsize=(12,4))\n",
    "for l,c in zip(lambda_,colors):\n",
    "    plt.plot(x, expon.pdf(x, scale=1./l), lw=2, \n",
    "                color=c, label = \"$\\lambda = %.1f$\"%l)\n",
    "    plt.fill_between(x, expon.pdf(x, scale=1./l), color=c, alpha = .33)\n",
    "    \n",
    "plt.legend()\n",
    "plt.ylabel(\"PDF at $x$\")\n",
    "plt.xlabel(\"$x$\")\n",
    "plt.title(\"Probability density function of an Exponential random variable;\\\n",
    " differing $\\lambda$\");"
   ]
  },
  {
   "cell_type": "markdown",
   "metadata": {},
   "source": [
    "### How would we draw from this distribution?\n",
    "\n",
    "Lets use the built in machinery in `scipy.stats`:"
   ]
  },
  {
   "cell_type": "code",
   "execution_count": 50,
   "metadata": {},
   "outputs": [
    {
     "data": {
      "image/png": "[encoded data removed]",
      "text/plain": [
       "<Figure size 432x288 with 1 Axes>"
      ]
     },
     "metadata": {},
     "output_type": "display_data"
    }
   ],
   "source": [
    "from scipy.stats import expon\n",
    "plt.plot(xpts,expon.pdf(xpts, scale=1./2.),'.')\n",
    "plt.hist(expon.rvs(size=1000, scale=1./2.), density=True, alpha=0.5, bins=50);\n",
    "plt.xlabel(\"x\")\n",
    "plt.title(\"exponential pdf and no. of samples(normalized)\");"
   ]
  },
  {
   "cell_type": "markdown",
   "metadata": {},
   "source": [
    "In `scipy.stats`, you can alternatively create a frozen object, which holds values of things like the scale"
   ]
  },
  {
   "cell_type": "code",
   "execution_count": 51,
   "metadata": {},
   "outputs": [
    {
     "data": {
      "image/png": "[encoded data removed]",
      "text/plain": [
       "<Figure size 432x288 with 1 Axes>"
      ]
     },
     "metadata": {},
     "output_type": "display_data"
    }
   ],
   "source": [
    "rv = expon(scale=0.5)\n",
    "plt.plot(xpts,rv.pdf(xpts),'.')\n",
    "plt.hist(rv.rvs(size=1000), density=True, alpha=0.5, bins=30);\n",
    "plt.plot(xpts, rv.cdf(xpts));\n",
    "plt.xlabel(\"x\")\n",
    "plt.title(\"exponential pdf, cdf and samples(normalized)\");"
   ]
  },
  {
   "cell_type": "markdown",
   "metadata": {},
   "source": [
    "## The Poisson distribution\n",
    "\n",
    "The Poisson distribution is a discrete distribution, it expresses the probability of a given number of events occurring in a fixed interval of time (or space, volume, etc.). One assumption made is that these events occur with a known average rate and independently of each other. An example is the number of electrons detected by a sensor in an electron microscope during a time interval, or the number of soldiers in the Prussian army killed accidentally by horse kicks [(see here)](http://en.wikipedia.org/wiki/Poisson_distribution).\n",
    "\n",
    "The Poisson distribution is defined as:\n",
    "\n",
    "\n",
    "$$ f(k; \\mu)= \\frac{\\mu^k e^{-\\mu}}{k!}, $$\n",
    "\n",
    "where $k$ is the number of events, $\\mu$ is a positive real number, and $e$ is Euler's number ($e = 2.71828 \\ldots$)."
   ]
  },
  {
   "cell_type": "code",
   "execution_count": 52,
   "metadata": {},
   "outputs": [
    {
     "data": {
      "image/png": "[encoded data removed]",
      "text/plain": [
       "<Figure size 432x288 with 1 Axes>"
      ]
     },
     "metadata": {},
     "output_type": "display_data"
    }
   ],
   "source": [
    "from scipy.stats import poisson\n",
    "# generate samples for different values of mu\n",
    "kpts=np.arange(0,25)\n",
    "for mu, c in zip([1,2, 4, 6], sns.color_palette()[:4]):\n",
    "    randomVariates = poisson.rvs(mu, size=1000)\n",
    "    plt.hist(randomVariates, density=True, color=c, alpha=0.2, bins=range(0,26), label='$\\mu=' + np.str(mu) + '$')\n",
    "    plt.plot(kpts, poisson.pmf(kpts, mu), '.', color=c)\n",
    "\n",
    "plt.legend()\n",
    "plt.title(\"Poisson Distribution\")\n",
    "plt.xlabel(\"Number of Events\")\n",
    "plt.ylabel(\"Normed Counts\");"
   ]
  },
  {
   "cell_type": "markdown",
   "metadata": {},
   "source": [
    "### Understanding our data using a  histogram-plotted distribution\n",
    "\n",
    "Lets play with our data a bit to understand it:\n",
    "\n",
    "The first birth occurred at 0005, and the last birth in the 24-hour period at 2355. Thus the 43 inter-birth times happened over a 1430-minute period, giving a theoretical mean of 1430/43 = 33.26 minutes between births.\n",
    "\n",
    "Lets plot a histogram of the inter-birth times"
   ]
  },
  {
   "cell_type": "code",
   "execution_count": 53,
   "metadata": {},
   "outputs": [
    {
     "name": "stdout",
     "output_type": "stream",
     "text": [
      "33.25581395348837\n"
     ]
    },
    {
     "data": {
      "image/png": "[encoded data removed]",
      "text/plain": [
       "<Figure size 432x288 with 1 Axes>"
      ]
     },
     "metadata": {},
     "output_type": "display_data"
    }
   ],
   "source": [
    "timediffs = df.minutes.diff()[1:]\n",
    "print(timediffs.mean())\n",
    "timediffs.hist(bins=20, density=True);"
   ]
  },
  {
   "cell_type": "markdown",
   "metadata": {},
   "source": [
    "And do the same for the poisson"
   ]
  },
  {
   "cell_type": "code",
   "execution_count": 54,
   "metadata": {},
   "outputs": [
    {
     "data": {
      "text/plain": [
       "hours\n",
       "0     1\n",
       "1     3\n",
       "2     1\n",
       "4     4\n",
       "7     2\n",
       "8     2\n",
       "9     1\n",
       "10    3\n",
       "11    1\n",
       "12    2\n",
       "13    1\n",
       "14    4\n",
       "15    1\n",
       "16    2\n",
       "17    1\n",
       "18    3\n",
       "19    4\n",
       "20    3\n",
       "21    2\n",
       "22    1\n",
       "23    2\n",
       "Name: minutes, dtype: int64"
      ]
     },
     "execution_count": 54,
     "metadata": {},
     "output_type": "execute_result"
    }
   ],
   "source": [
    "poiskcount = df.groupby('hours')['minutes'].count()\n",
    "poiskcount"
   ]
  },
  {
   "cell_type": "markdown",
   "metadata": {},
   "source": [
    "Since the Poisson is a discrete distribution, it has a probability mass function. Normalizing a pdf is not what we want here, rather, the values of the pmf (which are probabilities) should sum to 1. So we take matters into our own hands.\n",
    "\n",
    "We make sure that every point has equal mass, so that the total mass is one. Then the mass at any point depends on how many samples  (the count) we have for it."
   ]
  },
  {
   "cell_type": "code",
   "execution_count": 55,
   "metadata": {},
   "outputs": [
    {
     "data": {
      "text/plain": [
       "(array([8., 0., 0., 6., 0., 0., 4., 0., 0., 3.]),\n",
       " array([1. , 1.3, 1.6, 1.9, 2.2, 2.5, 2.8, 3.1, 3.4, 3.7, 4. ]),\n",
       " <a list of 10 Patch objects>)"
      ]
     },
     "execution_count": 55,
     "metadata": {},
     "output_type": "execute_result"
    },
    {
     "data": {
      "image/png": "[encoded data removed]",
      "text/plain": [
       "<Figure size 432x288 with 1 Axes>"
      ]
     },
     "metadata": {},
     "output_type": "display_data"
    }
   ],
   "source": [
    "weights = np.ones_like(poiskcount)/len(poiskcount)\n",
    "#poiskcount.hist(weights=weights)\n",
    "\n",
    "plt.hist(poiskcount)"
   ]
  },
  {
   "cell_type": "code",
   "execution_count": 56,
   "metadata": {},
   "outputs": [
    {
     "data": {
      "text/plain": [
       "array([0.04761905, 0.04761905, 0.04761905, 0.04761905, 0.04761905,\n",
       "       0.04761905, 0.04761905, 0.04761905, 0.04761905, 0.04761905,\n",
       "       0.04761905, 0.04761905, 0.04761905, 0.04761905, 0.04761905,\n",
       "       0.04761905, 0.04761905, 0.04761905, 0.04761905, 0.04761905,\n",
       "       0.04761905])"
      ]
     },
     "execution_count": 56,
     "metadata": {},
     "output_type": "execute_result"
    }
   ],
   "source": [
    "weights"
   ]
  },
  {
   "cell_type": "markdown",
   "metadata": {},
   "source": [
    "### Maximum Likelihood Estimation\n",
    "\n",
    "As described in detail above, in frequentist statistics, the data we have in hand, is viewed as a **sample** from a population. So if we want to estimate some parameter of the population, like say the mean, we estimate it on the sample.\n",
    "\n",
    "This is because we've been given only one sample. Ideally we'd want to see the population, but we have no such luck.\n",
    "\n",
    "The parameter estimate is computed by applying an estimator $F$ to some data $D$, so $\\est{\\lambda} = F(D)$. \n",
    "\n",
    "\n",
    "**The parameter is viewed as fixed and the data as random, which is the exact opposite of the Bayesian approach which you will learn later in this class. **\n",
    "\n",
    "In the \"ideal circumstances\", we knew the true values of the parameters for the probability model for the data generating process and though we were given one sample, we can generate additional samples that we are guaranteed to be from the same distribution as the population at will.  Unfortunately we don't generally reside in ideal circumstances and although we may know the distributional family of the probability model generating the data, we don't know a priori its true parameters.  We need to come up with a way of finding/guessing/estimating those parameters.  One of the techniques used to estimate such parameters in frequentist statistics is **maximum likelihood estimation**. Briefly, the idea behind it is:\n",
    "\n",
    "The product \n",
    "\n",
    "$$\n",
    "L(\\lambda) = \\prod_{i=1}^n P(x_i \\mid \\lambda)\n",
    "$$\n",
    "\n",
    "gives us a measure of how likely it is to observe values $x_1,...,x_n$ given the parameters $\\lambda$. Maximum likelihood fitting consists of choosing the appropriate \"likelihood\" function $L=P(X \\mid \\lambda)$ to maximize for a given set of observations. How likely are the observations if the model is true?\n",
    "\n",
    "Often it is easier and numerically more stable to maximise the log likelyhood:\n",
    "\n",
    "$$\n",
    "\\ell(\\lambda) = \\sum_{i=1}^n ln(P(x_i \\mid \\lambda))\n",
    "$$"
   ]
  },
  {
   "cell_type": "markdown",
   "metadata": {},
   "source": [
    "### Analytic MLE for the Exponential distribution\n",
    "\n",
    "In the case of the exponential distribution we have:\n",
    "\n",
    "$$\n",
    "\\ell(lambda) = \\sum_{i=1}^n ln(\\lambda e^{-\\lambda x_i}) = \\sum_{i=1}^n \\left( ln(\\lambda) - \\lambda x_i \\right).\n",
    "$$\n",
    "\n",
    "Maximizing this:\n",
    "\n",
    "$$\n",
    "\\frac{d \\ell}{d\\lambda} = \\frac{n}{\\lambda} - \\sum_{i=1}^n x_i = 0\n",
    "$$\n",
    "\n",
    "and thus:\n",
    "\n",
    "$$\n",
    "\\frac{1}{\\est{\\lambda_{MLE}}} = \\frac{1}{n}\\sum_{i=1}^n x_i,\n",
    "$$\n",
    "\n",
    "which is identical to the simple estimator we used above. Usually one is not so lucky and one must use numerical optimization techniques."
   ]
  },
  {
   "cell_type": "markdown",
   "metadata": {},
   "source": [
    "For the babies, we're assuming that an exponential distribution is a good description of the baby arrival process. When we consider the larger population of babies from our sample of baby arrival data is drawn, there is some true $\\trueval{\\lambda}$ which defines it. We dont know this true $\\trueval{\\lambda}$. The best we can do to start with is to estimate a lambda from the data set we have, which we denote $\\est{\\lambda}$ and in some sense the MLE estimate is the \"best\" estimate.\n",
    "\n",
    "\n",
    "This makes intuitive sense: if you get babies at an average rate of 2 per hour, then you can expect to wait half an hour on average for every baby."
   ]
  },
  {
   "cell_type": "code",
   "execution_count": 57,
   "metadata": {},
   "outputs": [
    {
     "name": "stdout",
     "output_type": "stream",
     "text": [
      "0.03006993006993007 33.25581395348837\n"
     ]
    }
   ],
   "source": [
    "lambda_from_mean = 1./timediffs.mean()\n",
    "print(lambda_from_mean, 1./lambda_from_mean)"
   ]
  },
  {
   "cell_type": "code",
   "execution_count": 58,
   "metadata": {},
   "outputs": [
    {
     "name": "stderr",
     "output_type": "stream",
     "text": [
      "/Users/joshfeldman/anaconda3/envs/py36/lib/python3.6/site-packages/scipy/stats/stats.py:1713: FutureWarning: Using a non-tuple sequence for multidimensional indexing is deprecated; use `arr[tuple(seq)]` instead of `arr[seq]`. In the future this will be interpreted as an array index, `arr[np.array(seq)]`, which will result either in an error or a different result.\n",
      "  return np.add.reduce(sorted[indexer] * weights, axis=axis) / sumval\n"
     ]
    },
    {
     "data": {
      "image/png": "[encoded data removed]",
      "text/plain": [
       "<Figure size 432x288 with 1 Axes>"
      ]
     },
     "metadata": {},
     "output_type": "display_data"
    }
   ],
   "source": [
    "minutes=np.arange(0, 160, 5)\n",
    "rv = expon(scale=1./lambda_from_mean)\n",
    "plt.plot(minutes,rv.pdf(minutes),'.')\n",
    "timediffs.hist(density=True, alpha=0.5, bins=20);\n",
    "sns.kdeplot(timediffs)\n",
    "plt.xlabel(\"minutes\");\n",
    "plt.xlim([0,200])\n",
    "plt.title(\"Normalized data and model for estimated $\\hat{\\lambda}$\");"
   ]
  },
  {
   "cell_type": "markdown",
   "metadata": {},
   "source": [
    "What did we just do? We made a 'point estimate' of the scale or rate parameter as a compression of our data. "
   ]
  },
  {
   "cell_type": "markdown",
   "metadata": {},
   "source": [
    "### For Poisson"
   ]
  },
  {
   "cell_type": "markdown",
   "metadata": {},
   "source": [
    "In the case of the poisson distribution we have:\n",
    "\n",
    "$$\n",
    "\\ell(lambda) = \\sum_{i=1}^n \\left( k_i ln(\\mu) - \\mu - ln(k_i!) \\right).\n",
    "$$\n",
    "\n",
    "You maximize this now.\n",
    "\n",
    "*your answer here* \n",
    "\n",
    "Maximizing this:\n",
    "\n",
    "$$\n",
    "\\frac{d \\ell}{d\\mu} = \\frac{1}{\\mu}\\sum_{i=1}^n k_i - n = 0\n",
    "$$\n",
    "\n",
    "and thus:\n",
    "\n",
    "$$\n",
    "\\est{\\mu_{MLE}} = \\frac{1}{n}\\sum_{i=1}^n k_i\n",
    "$$\n",
    "\n",
    "or just the sample mean!"
   ]
  },
  {
   "cell_type": "markdown",
   "metadata": {},
   "source": [
    "### Sampling Distribution of the Estimator\n",
    "\n",
    "Now, imagine that I let you peek at the entire population in this way: I gave you some M data sets **drawn** from the population, and you can now find the mean on each such dataset, of which the one we have here is one.\n",
    "So, we'd have M means. You can think of these means as coming from some fixed parameter by some data drawing process\n",
    "\n",
    "Thus if we had many replications of this data set: that is, data from other days, an **ensemble** of data sets, for example, we can compute other $\\est{\\lambda}$, and begin to construct the **sampling distribution** of $\\lambda$.  That's the scenario we constructed in the \"ideal case\".  As you saw above, we can use the sampling distribution to put confidence intervals on the estimation of the parameters. \n",
    "\n",
    "\n",
    "So, in the babies case, the uncertainty in the parameter estimate can be measured by computing the **sampling distribution** of the estimator. \n",
    "What you are doing is sampling many Data Sets $D_i$ from the true population (which we are not given you will argue, and you are right, but just wait a bit), say M of them, each of size N, from some true model $p(\\cdot|\\trueval{\\lambda})$. We will now calculate M $\\est{\\lambda}_i$, one for each dataset. As we let $M \\rightarrow \\infty$, the distribution induced on $\\est{\\lambda}$ is the sampling distribution of the estimator."
   ]
  },
  {
   "cell_type": "markdown",
   "metadata": {},
   "source": [
    "### Bootstrapping\n",
    "\n",
    "Bootstrap tries to approximate our sampling distribution. If we knew the true parameters of the population, we could generate M fake datasets. Then we could compute the parameter (or another estimator) on each one of these, to get a empirical sampling distribution of the parameter or estimator, and which will give us an idea of how typical our sample is, and thus, how good our parameter estimations from our sample are.\n",
    "(again from murphy)\n",
    "\n",
    "But we dont have the true parameter. So we generate these samples, using the parameter we calculated. Or, alteratively, we sample with replacement the X from our original sample D, generating many fake datasets, and then compute the distribution on the parameters as before. \n",
    "\n",
    "We do it here for the mean of the time differences. We could also do it for its inverse, $\\lambda$."
   ]
  },
  {
   "cell_type": "markdown",
   "metadata": {},
   "source": [
    "### Parametric Bootstrapping\n",
    "\n",
    "Let's start with the parametric case.  It's the one that maps most closely to the ideal case we dealt with above.  We follow the exact same recipe as we did for the ideal data generating process, but since we don't know the true parameters, we use instead the parameters we obtain from the MLE.  In the case of baby arrival, we get an \"estimate\" of the parameter from our sample, use the exponential distribution to generate many datasets, and then fit the parameter on each one of those datasets. We can then plot the distribution of the mean time-difference."
   ]
  },
  {
   "cell_type": "markdown",
   "metadata": {},
   "source": [
    "### The Parametric Bootstrapping Process\n",
    "\n",
    "1. We're provided with our data sample $S = \\{X_1, X_2, ..., X_k\\}$\n",
    "\n",
    "2. We calculate our relevant estimate(s) or statistic(s) on that sample\n",
    "\n",
    "3. In order to generate confidence intervals around our estimate(s) or statistic(s) we generate from the data generating process n additional data samples **using the MLE parameters instead of the \"true parameters\" (which we don't know).**\n",
    "\n",
    "4. On each of those n data samples we repeat the calculations of the estimate(s) or statistic(s) \n",
    "\n",
    "5. Collectively use the calculated estimate(s)/statistic(s) on the generated samples to construct a confidence interval\n",
    "\n",
    "Our inference is our original estimate(s)/statistic(s) and the constructed confidence intervals from the estimate(s)/statistic(s) from our n samples from the data generating process"
   ]
  },
  {
   "cell_type": "markdown",
   "metadata": {},
   "source": [
    "### Example of Parametric Bootstrapping: Baby Arrival"
   ]
  },
  {
   "cell_type": "markdown",
   "metadata": {},
   "source": [
    "Let's apply the process above for our baby arrival dataset."
   ]
  },
  {
   "cell_type": "markdown",
   "metadata": {},
   "source": [
    "**We're provided our data sample**"
   ]
  },
  {
   "cell_type": "code",
   "execution_count": 83,
   "metadata": {},
   "outputs": [
    {
     "data": {
      "text/plain": [
       "array([ 59.,  14.,  37.,  62.,  68.,   2.,  15.,   9., 157.,  27.,  37.,\n",
       "         2.,  55.,  86.,  14.,   4.,  40.,  36.,  47.,   9.,  61.,   1.,\n",
       "        26.,  13.,  28.,  77.,  26.,  45.,  25.,  18.,  29.,  15.,  38.,\n",
       "         2.,   2.,  19.,  27.,  14.,  13.,  19.,  54.,  70.,  28.])"
      ]
     },
     "execution_count": 83,
     "metadata": {},
     "output_type": "execute_result"
    }
   ],
   "source": [
    "baby_arrival_times = timediffs.values\n",
    "\n",
    "baby_arrival_times"
   ]
  },
  {
   "cell_type": "markdown",
   "metadata": {},
   "source": [
    "**Calculate estimates on data samples**"
   ]
  },
  {
   "cell_type": "code",
   "execution_count": 84,
   "metadata": {},
   "outputs": [
    {
     "name": "stdout",
     "output_type": "stream",
     "text": [
      "Estimated lambda parameter for baby arrival using analytic MLE approximation:  33.25581395348837\n"
     ]
    }
   ],
   "source": [
    "print(\"Estimated lambda parameter for baby arrival using analytic MLE approximation: \", np.mean(baby_arrival_times))"
   ]
  },
  {
   "cell_type": "markdown",
   "metadata": {},
   "source": [
    "**Generate n=10000 additional data samples from the Data Generating Process**"
   ]
  },
  {
   "cell_type": "code",
   "execution_count": 85,
   "metadata": {},
   "outputs": [],
   "source": [
    "additional_arrival_samples = scipy.stats.expon.rvs(scale=np.mean(baby_arrival_times), size=(10000,len(baby_arrival_times)))"
   ]
  },
  {
   "cell_type": "markdown",
   "metadata": {},
   "source": [
    "**Repeat Calculation of estimate on each of the n=10000 additional data samples from the Parametric Bootstrapping**"
   ]
  },
  {
   "cell_type": "code",
   "execution_count": 86,
   "metadata": {},
   "outputs": [],
   "source": [
    "additional_arrival_estimates = np.mean(additional_arrival_samples, axis=1)"
   ]
  },
  {
   "cell_type": "code",
   "execution_count": 87,
   "metadata": {},
   "outputs": [
    {
     "data": {
      "text/plain": [
       "array([33.09758988, 32.81778555, 33.1754366 , ..., 32.93003757,\n",
       "       33.30605005, 33.1892421 ])"
      ]
     },
     "execution_count": 87,
     "metadata": {},
     "output_type": "execute_result"
    }
   ],
   "source": [
    "additional_arrival_estimates"
   ]
  },
  {
   "cell_type": "markdown",
   "metadata": {},
   "source": [
    "**Collectively use the calculated estimate to construct confidence intervals**"
   ]
  },
  {
   "cell_type": "code",
   "execution_count": 88,
   "metadata": {},
   "outputs": [
    {
     "data": {
      "image/png": "[encoded data removed]",
      "text/plain": [
       "<Figure size 432x288 with 1 Axes>"
      ]
     },
     "metadata": {},
     "output_type": "display_data"
    }
   ],
   "source": [
    "fig, ax = plt.subplots()\n",
    "\n",
    "viz_estimates(\n",
    "    ax,\n",
    "    additional_arrival_estimates,\n",
    "    'Estimates of Additional Baby Arrival Samples',\n",
    "    'salmon',\n",
    "    'estimates',\n",
    "    'Baby Arrivals: Parametric Bootstrapping',\n",
    "    np.mean(baby_arrival_times),\n",
    "    'Estimate from Original Sample'\n",
    ")\n"
   ]
  },
  {
   "cell_type": "markdown",
   "metadata": {},
   "source": [
    "Are the estimates for the original models in the 95% confidence interval?"
   ]
  },
  {
   "cell_type": "code",
   "execution_count": 89,
   "metadata": {},
   "outputs": [],
   "source": [
    "arrivals_percentile_interval = np.percentile(additional_arrival_estimates, [2.5, 97.5])\n",
    "\n",
    "arrivals_percentile_interval -= arrivals_percentile_interval[0]\n",
    "\n",
    "arrivals_percentile_interval -= arrivals_percentile_interval[1]/2"
   ]
  },
  {
   "cell_type": "code",
   "execution_count": 90,
   "metadata": {},
   "outputs": [
    {
     "name": "stdout",
     "output_type": "stream",
     "text": [
      "95% confidence interval sample 1:  [32.61508802 33.89653989]\n"
     ]
    }
   ],
   "source": [
    "print(\"95% confidence interval sample 1: \", arrivals_percentile_interval+ np.mean(baby_arrival_times))"
   ]
  },
  {
   "cell_type": "markdown",
   "metadata": {},
   "source": [
    "### Non Parametric Bootstrapping\n",
    "\n",
    "In the earlier cases we were pretty confident of the underlying statistical model of the data generating process.  We could at least pin it down within a distribution family.  What about the cases where we're not really clear about the distribution of data?  What process can we follow in those cases?  We can still engage in bootstrapping, but instead of using estimated MLE parameters and the purported probability distribution of the data-generating process to construct additional samples, we can create the samples by **resampling directly from the data in the original sample**.  The idea (discovered in 1982 by Zac Effron) is that the data in the original sample is a good representation of the population.  If we sample with replacement from the original, our mewly generated samples should come from the same data generating process as the original.  How do we go about this process?"
   ]
  },
  {
   "cell_type": "markdown",
   "metadata": {},
   "source": [
    "* Create new samples by sampling with replacement from the original sample\n",
    "* Each new sample is called **bootsrap replication**\n",
    "* Each replication should be the same size as the original sample"
   ]
  },
  {
   "cell_type": "markdown",
   "metadata": {},
   "source": [
    "### The Non-Parametric Bootstrapping Process\n",
    "\n",
    "1. We're provided with our data sample $S = \\{X_1, X_2, ..., X_k\\}$\n",
    "\n",
    "2. We calculate our relevant estimate(s) or statistic(s) on that sample **sampling with replacement with the sample size equal to the original sample.**\n",
    "\n",
    "4. On each of those n data samples we repeat the calculations of the estimate(s) or statistic(s) \n",
    "\n",
    "5. Collectively use the calculated estimate(s)/statistic(s) on the generated samples to construct a confidence interval\n",
    "\n",
    "Our inference is our original estimate(s)/statistic(s) and the constructed confidence intervals from the estimate(s)/statistic(s) from our n samples from the data generating process"
   ]
  },
  {
   "cell_type": "markdown",
   "metadata": {},
   "source": [
    "### Example of Non-Parametric Bootstrapping: Baby Arrival"
   ]
  },
  {
   "cell_type": "markdown",
   "metadata": {},
   "source": [
    "Let's apply the process above for our baby arrival dataset."
   ]
  },
  {
   "cell_type": "markdown",
   "metadata": {},
   "source": [
    "**We're provided our data sample (this is the same as the parametric and idealized case)**"
   ]
  },
  {
   "cell_type": "code",
   "execution_count": 75,
   "metadata": {},
   "outputs": [],
   "source": [
    "# baby_arrival_times = timediffs.values\n",
    "\n",
    "# baby_arrival_times"
   ]
  },
  {
   "cell_type": "markdown",
   "metadata": {},
   "source": [
    "**Calculate estimates on data samples (this is the same as the parametric and idealized case)**"
   ]
  },
  {
   "cell_type": "code",
   "execution_count": 76,
   "metadata": {},
   "outputs": [
    {
     "name": "stdout",
     "output_type": "stream",
     "text": [
      "Estimated lambda parameter for baby arrival using analytic MLE approximation:  33.25581395348837\n"
     ]
    }
   ],
   "source": [
    "print(\"Estimated lambda parameter for baby arrival using analytic MLE approximation: \", np.mean(baby_arrival_times))"
   ]
  },
  {
   "cell_type": "markdown",
   "metadata": {},
   "source": [
    "**Generate n=10000 additional data samples from the original sample using sampling with replacement**"
   ]
  },
  {
   "cell_type": "code",
   "execution_count": 77,
   "metadata": {},
   "outputs": [],
   "source": [
    "additional_arrival_samples_np = np.random.choice(timediffs.values, size=(10000,len(baby_arrival_times)), replace=True)"
   ]
  },
  {
   "cell_type": "markdown",
   "metadata": {},
   "source": [
    "**Repeat Calculation of estimate on each of the n=10000 additional data samples from the Non-Parametric Bootstrapping**"
   ]
  },
  {
   "cell_type": "code",
   "execution_count": 78,
   "metadata": {},
   "outputs": [],
   "source": [
    "additional_arrival_estimates_np = np.mean(additional_arrival_samples_np, axis=1)"
   ]
  },
  {
   "cell_type": "code",
   "execution_count": 79,
   "metadata": {},
   "outputs": [
    {
     "data": {
      "text/plain": [
       "array([31.25581395, 33.23255814, 30.72093023, ..., 31.13953488,\n",
       "       26.8372093 , 29.93023256])"
      ]
     },
     "execution_count": 79,
     "metadata": {},
     "output_type": "execute_result"
    }
   ],
   "source": [
    "additional_arrival_estimates_np"
   ]
  },
  {
   "cell_type": "markdown",
   "metadata": {},
   "source": [
    "**Collectively use the calculated estimate to construct confidence intervals**"
   ]
  },
  {
   "cell_type": "code",
   "execution_count": 80,
   "metadata": {},
   "outputs": [
    {
     "data": {
      "image/png": "[encoded data removed]",
      "text/plain": [
       "<Figure size 432x288 with 1 Axes>"
      ]
     },
     "metadata": {},
     "output_type": "display_data"
    }
   ],
   "source": [
    "fig, ax = plt.subplots()\n",
    "\n",
    "viz_estimates(\n",
    "    ax,\n",
    "    additional_arrival_estimates_np,\n",
    "    'Estimates of Additional Baby Arrival Samples',\n",
    "    'salmon',\n",
    "    'estimates',\n",
    "    'Baby Arrivals: NP Bootstrapping',\n",
    "    np.mean(baby_arrival_times),\n",
    "    'Estimate from Original Sample'\n",
    ")\n"
   ]
  },
  {
   "cell_type": "markdown",
   "metadata": {},
   "source": [
    "Are the estimates for the original models in the 95% confidence interval?"
   ]
  },
  {
   "cell_type": "code",
   "execution_count": 81,
   "metadata": {},
   "outputs": [],
   "source": [
    "arrivals_percentile_interval_np = np.percentile(additional_arrival_estimates_np, [2.5, 97.5])\n",
    "\n",
    "arrivals_percentile_interval_np -= arrivals_percentile_interval_np[0]\n",
    "\n",
    "arrivals_percentile_interval_np -= arrivals_percentile_interval_np[1]/2"
   ]
  },
  {
   "cell_type": "code",
   "execution_count": 82,
   "metadata": {},
   "outputs": [
    {
     "name": "stdout",
     "output_type": "stream",
     "text": [
      "95% confidence interval sample:  [24.63895349 41.87267442]\n"
     ]
    }
   ],
   "source": [
    "print(\"95% confidence interval sample: \", arrivals_percentile_interval_np+ np.mean(baby_arrival_times))"
   ]
  },
  {
   "cell_type": "markdown",
   "metadata": {},
   "source": [
    "### When does Bootstrapping Do Poorly (and Well)\n",
    "\n",
    "* Parametric Bootstrapping will converge to the wrong results if you use the wrong data generating process model\n",
    "* Parametric Bootstrapping will converge faster if you use an appropriately specified model\n",
    "* Bootstrapping in general assumes that the estimates/statistics that you calculate aren't sensitive to small changes in the bootstrapping process\n",
    "    * For parametric bootstrapping small changes in the parameters --> small changes in the sampling distribution\n",
    "    * For non-parametric bootstrapping small changes in the data points (addition or removal) --> small cahanges in the sampling distribution\n",
    "    * For non-parametric be careful with outliers."
   ]
  },
  {
   "cell_type": "code",
   "execution_count": null,
   "metadata": {},
   "outputs": [],
   "source": []
  }
 ],
 "metadata": {
  "kernelspec": {
   "display_name": "Python [conda env:py36]",
   "language": "python",
   "name": "conda-env-py36-py"
  },
  "language_info": {
   "codemirror_mode": {
    "name": "ipython",
    "version": 3
   },
   "file_extension": ".py",
   "mimetype": "text/x-python",
   "name": "python",
   "nbconvert_exporter": "python",
   "pygments_lexer": "ipython3",
   "version": "3.6.6"
  }
 },
 "nbformat": 4,
 "nbformat_minor": 2
}
