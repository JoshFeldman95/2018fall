{
 "cells": [
  {
   "cell_type": "markdown",
   "metadata": {},
   "source": [
    "# APMTH 207: Advanced Scientific Computing: \n",
    "## Stochastic Methods for Data Analysis, Inference and Optimization\n",
    "## Group Project\n",
    "**Harvard University**<br>\n",
    "**Fall 2018**<br>\n",
    "**Instructors: Rahul Dave**<br>\n",
    "**Due Date: ** Tuesday, Nov 13th, 2018 at 11:59pm\n",
    "\n",
    "**Instructions:**\n",
    "\n",
    "- Upload your iPython notebook containing all work to Canvas.\n",
    "\n",
    "- Structure your notebook and your work to maximize readability."
   ]
  },
  {
   "cell_type": "markdown",
   "metadata": {},
   "source": [
    "## Tutorial on a Recent Research Development\n",
    "\n",
    "As part of the requirements for this course we've stated the following(quoting the website): \"There will be one paper, towards the end of this course. It will require reading and presenting a recent research development in the field.\"\n",
    "\n",
    "We've compiled a list of papers that contain interesting treatments of topics related to AM207:\n",
    "\n",
    "https://docs.google.com/document/d/1N0FjmMHfpX8P__TAzWLQYXqtj_Hbgo839Gu3B0oKOaM/edit?usp=sharing\n",
    "\n",
    "If you find a paper not on this list that you would like to delve into for your project, please let us know (and we can add it).\n",
    "\n",
    "We want you to create a tutorial style jupyter notebook summarizing the relevant math, methods and procedure in a paper of your choice.  Your tutorial should show the relevant methods in action by implementing them on appropriately chosen data.  The intent isn't for you to come up with original research but to get a bit more in-depth perspective on a particular method from AM 207 by exploring an example from the recent literature. "
   ]
  },
  {
   "cell_type": "markdown",
   "metadata": {},
   "source": [
    "#### Goal of Milestone 1: Choosing a group and a topic\n",
    "***Due: November 13th***\n",
    "\n",
    "We want you to work in groups of 3 or 4 (preferably 4).  We will allow people to work individually or in groups of 2 only in exceptional cases (e.g. you plan on working on a project/paper related to your proprietary research).  \n",
    "\n",
    "Form your group and send us 3 papers from the list we provided in order of preference (or alternatively a paper that you really want to work on).  Sign up for your group in Canvas using a group from the ProjectTutorial list.\n",
    "\n",
    "Your submission will include the title of your paper(s), the name of your group in Canvas, the school for which your group was created (FAS or DCE), and the members of your group.  If you have a group that comprises of members from both DCE and FAS sign-up for one group in each school and tell us in your submission.\n",
    "\n",
    "We'll formalize the groups, assign you paper and assign you a member of the AM207 teaching staff to supervise your investigation (if needed)."
   ]
  },
  {
   "cell_type": "markdown",
   "metadata": {},
   "source": [
    "#### Goal of Milestone 2: Create a Plan of Attack\n",
    "***Due: November 22nd***\n",
    "\n",
    "At this point you should have organized yourself into a group and have chosen (and been assigned a paper topic).  In this milestone the main deliverable is to read the paper, come up with a plan of attack, talk to a teaching staff member about your plan and gain approval for your proposal. \n",
    "\n",
    "Your submission will include  confirmation of your group(s), confirmation of your topic (paper title and URL), confirmation of your assigned teaching staff (if needed), a few sentences on your plan of attack -- i.e. the algorithm/aspect of the paper that you want to teach us, and the name of the teaching staff member from whom you received approval.\n",
    "\n",
    "*We highly suggest you meet and get approval from a course staff member as soon as possible.  This will leave you more time to work on your project.  You can meet with a member of the teaching staff in person (OH or separately scheduled times) or off-line (slack, zoom, and piazza).  Do not leave it to the milestone due-date (which coincides with the beginning of the Thanksgiving Holiday period)*"
   ]
  },
  {
   "cell_type": "markdown",
   "metadata": {},
   "source": [
    "#### Ultimate Goal:  Create a tutorial style Jupyter notebook\n",
    "***Due: December 11th***\n",
    "\n",
    "After receiving your assigned paper, your group should read and internalize the paper and create a tutorial style jupyter notebook introducing someone with AM207 background knowledge (but not necessarily an expert in the paper topics) to chosen relevant methods and procedures from the paper.  We expect your tutorial will include\n",
    "\n",
    "* Background information relevant to the paper\n",
    "* A detailed summary of the relevant methods, math and procedure\n",
    "* A python implementation of selected important methods from the paper\n",
    "* A demonstration of the results of those methods on\n",
    "    * an approachable dataset from the paper itself\n",
    "    * an additional simulated dataset chosen by your group\n",
    "    * if possable a selected real live dataset\n",
    "* An analysis relating the paper to topics we've covered in AM207 and contrasting your results reimplemented from the paper with a standard method from AM207 (e.g. metropolis hastings vs special snowflake mcmc)\n"
   ]
  },
  {
   "cell_type": "code",
   "execution_count": null,
   "metadata": {},
   "outputs": [],
   "source": []
  }
 ],
 "metadata": {
  "anaconda-cloud": {},
  "kernelspec": {
   "display_name": "Python [conda env:py36]",
   "language": "python",
   "name": "conda-env-py36-py"
  },
  "language_info": {
   "codemirror_mode": {
    "name": "ipython",
    "version": 3
   },
   "file_extension": ".py",
   "mimetype": "text/x-python",
   "name": "python",
   "nbconvert_exporter": "python",
   "pygments_lexer": "ipython3",
   "version": "3.6.7"
  }
 },
 "nbformat": 4,
 "nbformat_minor": 2
}
