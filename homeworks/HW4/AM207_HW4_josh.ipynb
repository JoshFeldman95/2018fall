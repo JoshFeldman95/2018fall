{
 "cells": [
  {
   "cell_type": "markdown",
   "metadata": {},
   "source": [
    "# Homework 4\n",
    "\n",
    "**Harvard University**<br>\n",
    "**Fall 2018**<br>\n",
    "**Instructors: Rahul Dave**<br>\n",
    "**Due Date: ** Saturday, October 6th, 2018 at 11:59pm\n",
    "\n",
    "**Instructions:**\n",
    "\n",
    "- Upload your final answers in the form of a Jupyter notebook containing all work to Canvas.\n",
    "\n",
    "- Structure your notebook and your work to maximize readability."
   ]
  },
  {
   "cell_type": "markdown",
   "metadata": {},
   "source": [
    "### Collaborators\n",
    "\n",
    "** Place the name of everyone who's submitting this assignment here**"
   ]
  },
  {
   "cell_type": "markdown",
   "metadata": {},
   "source": [
    "<div class=\"answer-separator\">\n",
    "------------------------\n",
    "</div>"
   ]
  },
  {
   "cell_type": "code",
   "execution_count": 2,
   "metadata": {},
   "outputs": [],
   "source": [
    "import numpy as np\n",
    "import scipy.stats\n",
    "import scipy.special\n",
    "\n",
    "import matplotlib\n",
    "import matplotlib.pyplot as plt\n",
    "import matplotlib.mlab as mlab\n",
    "from matplotlib import cm\n",
    "import pandas as pd\n",
    "%matplotlib inline"
   ]
  },
  {
   "cell_type": "markdown",
   "metadata": {},
   "source": [
    "## Question 1: Rubber Chickens Bawk Bawk!\n",
    "\n",
    "In the competitive rubber chicken retail market, the success of a company is built on satisfying the exacting standards of a consumer base with refined and discriminating taste. In particular, customer product reviews are all important. But how should we judge the quality of a product based on customer reviews?\n",
    "\n",
    "On Amazon, the first customer review statistic displayed for a product is the ***average rating***. The following are the main product pages for two competing rubber chicken products, manufactured by Lotus World and Toysmith respectively:\n",
    "\n",
    "\n",
    "Lotus World |  Toysmith\n",
    "- |  - \n",
    "![alt](https://am207.github.io/2018fall/homeworks/lotus1.png) |  ![alt](https://am207.github.io/2018fall/homeworks/toysmith1.png)\n",
    "\n",
    "Clicking on the 'customer review' link on the product pages takes us to a detailed break-down of the reviews. In particular, we can now see the number of times a product is rated a given rating (between 1 and 5 stars).\n",
    "\n",
    "Lotus World |  Toysmith\n",
    "- |  - \n",
    "![alt](https://am207.github.io/2018fall/homeworks/lotus2.png) |  ![alt](https://am207.github.io/2018fall/homeworks/toysmith2.png)\n",
    "\n",
    "(The images above are also included on canvas in case you are offline, see below)\n",
    "\n",
    "In the following, we will ask you to compare these two products using the various rating statistics. **Larger versions of the images are available in the data set accompanying this notebook**."
   ]
  },
  {
   "cell_type": "code",
   "execution_count": 20,
   "metadata": {},
   "outputs": [
    {
     "data": {
      "text/plain": [
       "array([ 57.4,  32.8,  28.7,  45.1, 246. ])"
      ]
     },
     "execution_count": 20,
     "metadata": {},
     "output_type": "execute_result"
    }
   ],
   "source": [
    "np.array([.14, 0.08, 0.07,.11,.60])*410"
   ]
  },
  {
   "cell_type": "markdown",
   "metadata": {},
   "source": [
    "Suppose that for each product, we can model the probability of the value each new rating as the following vector:\n",
    "$$\n",
    "\\theta = [\\theta_1, \\theta_2, \\theta_3, \\theta_4, \\theta_5]\n",
    "$$\n",
    "where $\\theta_i$ is the probability that a given customer will give the product $i$ number of stars.\n",
    "\n",
    "\n",
    "**1.1. Suppose you are told that customer opinions are very polarized in the retail world of rubber chickens, that is, most reviews will be 5 stars or 1 stars (with little middle ground). Choose an appropriate Dirichlet prior for $\\theta$. Recall that the Dirichlet pdf is given by:**\n",
    "$$\n",
    "f_{\\Theta}(\\theta) = \\frac{1}{B(\\alpha)} \\prod_{i=1}^k \\theta_i^{\\alpha_i - 1}, \\quad B(\\alpha) = \\frac{\\prod_{i=1}^k\\Gamma(\\alpha_i)}{\\Gamma\\left(\\sum_{i=1}^k\\alpha_i\\right)},\n",
    "$$\n",
    "**where $\\theta_i \\in (0, 1)$ and $\\sum_{i=1}^k \\theta_i = 1$, $\\alpha_i > 0 $ for $i = 1, \\ldots, k$.**"
   ]
  },
  {
   "cell_type": "markdown",
   "metadata": {},
   "source": [
    "Answer:\n",
    "\n",
    "I would choose $[\\alpha_1, \\alpha_2, \\alpha_3, \\alpha_4, \\alpha_5] = [20,1,1,1,20]$"
   ]
  },
  {
   "cell_type": "markdown",
   "metadata": {},
   "source": [
    "**1.2. Write an expression for the posterior pdf, using a using a multinomial model for observed ratings. Recall that the multinomial pdf is given by:**\n",
    "$$\n",
    "f_{\\mathbf{X}\\vert  \\Theta}(\\mathbf{x}) = \\frac{n!}{x_1! \\ldots x_k!} \\theta_1^{x_1} \\ldots \\theta_k^{x_k}\n",
    "$$\n",
    "**where $n$ is the total number of trials, $\\theta_i$ is the probability of event $i$ and $\\sum_i \\theta_i = 1$, and $x_i$ is count of outcome $i$ and $\\sum_i x_i = n$.** \n",
    "\n",
    "  **Note:** The data you will need in order to define the likelihood function should be read off the image files included in the dataset.\n",
    "  "
   ]
  },
  {
   "cell_type": "markdown",
   "metadata": {},
   "source": [
    "Answer:\n",
    "\n",
    "$$\n",
    "\\begin{align}\n",
    "P(\\theta|X) &= \\frac{P(X|\\theta)P(\\theta)}{P(X)} \\\\\n",
    "&= \\frac{n!}{x_1! \\ldots x_k!B(\\alpha)P(X)} \\prod_{i=1}^k \\theta_i^{x_i} \\prod_{i=1}^k \\theta_i^{\\alpha_i - 1} \\\\\n",
    "&= \\frac{n!}{x_1! \\ldots x_k!B(\\alpha)P(X)} \\prod_{i=1}^k \\theta_i^{x_i + \\alpha_i - 1} \\\\\n",
    "&= \\frac{n!}{x_1! \\ldots x_k!B(\\alpha)P(X)} \\prod_{i=1}^k \\theta_i^{x_i + \\alpha_i - 1} \\\\\n",
    "&= \\text{Dir}(x_i + \\alpha_i)\n",
    "\\end{align} \n",
    "$$\n",
    "\n",
    "Hence, we can easily find the posterior distributions for the two chickens.\n",
    "\n",
    "**Lotus world:** $[\\alpha_1, \\alpha_2, \\alpha_3, \\alpha_4, \\alpha_5] = [10+20,   6+1,   10+1,  28+1, 109+20] =[30,  7, 11,  29, 129]$\n",
    "\n",
    "\n",
    "**Toysmith:** $[\\alpha_1, \\alpha_2, \\alpha_3, \\alpha_4, \\alpha_5] = [57+20,  33+1,  29+1,  45+1, 246+20] =[77, 34, 30, 46, 266]$\n"
   ]
  },
  {
   "cell_type": "markdown",
   "metadata": {},
   "source": [
    "**1.3. Sample 1,000 values of $\\theta$ from the *posterior distribution*.**\n",
    " "
   ]
  },
  {
   "cell_type": "code",
   "execution_count": 21,
   "metadata": {},
   "outputs": [],
   "source": [
    "alpha_lotus = [30,  7, 11,  29, 129]\n",
    "samples_post_lotus = scipy.stats.dirichlet.rvs(alpha_lotus,size = 1000)\n",
    "\n",
    "alpha_toy = [77, 34, 30, 46, 266]\n",
    "samples_post_toy = scipy.stats.dirichlet.rvs(alpha_toy,size = 1000)"
   ]
  },
  {
   "cell_type": "markdown",
   "metadata": {},
   "source": [
    "**1.4. Sample 1,000 values of $x$ from the *posterior predictive distribution*.**"
   ]
  },
  {
   "cell_type": "code",
   "execution_count": 22,
   "metadata": {},
   "outputs": [],
   "source": [
    "def pred_pos(alpha, n):\n",
    "    theta = scipy.stats.dirichlet.rvs(alpha)[0]\n",
    "    return scipy.stats.multinomial.rvs(n,theta)\n",
    "\n",
    "n_lotus = 162\n",
    "n_toy = 410\n",
    "\n",
    "samples_post_pred_lotus = [pred_pos(alpha_lotus, n_lotus) for _ in range(1000)]\n",
    "samples_post_pred_toy = [pred_pos(alpha_toy, n_toy) for _ in range(1000)]"
   ]
  },
  {
   "cell_type": "markdown",
   "metadata": {},
   "source": [
    "**1.5. Name at least two major potential problems with using only the average customer ratings to compare products.**\n",
    "\n",
    "(**Hint:** if product 1 has a higher average rating than product 2, can we conclude that product 1 is better liked? If product 1 and product 2 have the same average rating, can we conclude that they are equally good?)\n",
    "  "
   ]
  },
  {
   "cell_type": "markdown",
   "metadata": {},
   "source": [
    "Problem 1: Though one product may have a higher average rating, if the ratings are more polarized, it means that that I might love it or hate it. The other product with a lower average rating may still be a safer bet.\n",
    "\n",
    "Problem 2: If a product has a high average review, but few reviews in total, it could be that the sample mean is different from the population mean. In other words, the data is not very convincing. Another product with a lower average review, but more ratings overall could lead to more predictably good outcomes overall."
   ]
  },
  {
   "cell_type": "markdown",
   "metadata": {},
   "source": [
    "**1.6. Using the samples from your *posterior distribution*, determine which rubber chicken product is superior. Justify your conclusion with sample statistics.**\n",
    "\n"
   ]
  },
  {
   "cell_type": "markdown",
   "metadata": {},
   "source": [
    "The only thing I care about is whether my chicken is greater than 4 stars. The statistic I care with respect to the posteriori distribution is $s = \\theta_4+\\theta_5$. I will choose the chicken with the greater expected value for this sample statistic because $E(s_{\\text{lotus}}-s_{\\text{toy}}) = E(s_{\\text{lotus}}) - E(s_{\\text{toy}})$."
   ]
  },
  {
   "cell_type": "code",
   "execution_count": 24,
   "metadata": {},
   "outputs": [
    {
     "data": {
      "image/png": "[encoded data removed]",
      "text/plain": [
       "<Figure size 432x288 with 1 Axes>"
      ]
     },
     "metadata": {},
     "output_type": "display_data"
    }
   ],
   "source": [
    "sample_stat_lotus = np.sum(np.array(samples_post_lotus)[:,3:5],axis = 1)\n",
    "sample_stat_toy = np.sum(np.array(samples_post_toy)[:,3:5],axis = 1)\n",
    "plt.hist(sample_stat_lotus, label = \"lotus\",density=True)\n",
    "plt.hist(sample_stat_toy, label = \"toy\",density=True)\n",
    "plt.vlines(np.mean(sample_stat_lotus), ymin=0,ymax =20, color = 'green',label = \"lotus mean\")\n",
    "plt.vlines(np.mean(sample_stat_toy),ymin=0,ymax =20 ,color='red',label = \"toy mean\")\n",
    "plt.xlabel('Probability of rating > 4')\n",
    "plt.ylabel('Count')\n",
    "plt.title('Distribution and Means of Probability of Rating > 4')\n",
    "plt.legend()\n",
    "plt.show()"
   ]
  },
  {
   "cell_type": "markdown",
   "metadata": {},
   "source": [
    "The mean for the lotus probability is greater so I would choose it."
   ]
  },
  {
   "cell_type": "markdown",
   "metadata": {},
   "source": [
    "**1.7. Using the samples from your *posterior predictive distribution*, determine which rubber chicken product is superior. Justify your conclusion with sample statistics.**"
   ]
  },
  {
   "cell_type": "markdown",
   "metadata": {},
   "source": [
    "The only thing I care about is whether my chicken is greater than 4 stars. The statistic I care with respect to the posteriori distribution is $\\frac{x_4+x_5}{n}$. I will choose the chicken with the greater expected value for this sample statistic because this is the optimal choice dictated by decision theory."
   ]
  },
  {
   "cell_type": "code",
   "execution_count": 25,
   "metadata": {},
   "outputs": [
    {
     "data": {
      "image/png": "[encoded data removed]",
      "text/plain": [
       "<Figure size 432x288 with 1 Axes>"
      ]
     },
     "metadata": {},
     "output_type": "display_data"
    }
   ],
   "source": [
    "sample_stat_lotus = np.sum(np.array(samples_post_pred_lotus)[:,3:5],axis = 1)/n_lotus\n",
    "sample_stat_toy = np.sum(np.array(samples_post_pred_toy)[:,3:5],axis = 1)/n_toy\n",
    "plt.hist(sample_stat_lotus, label = \"lotus\",density=True)\n",
    "plt.hist(sample_stat_toy, label = \"toy\",density=True)\n",
    "plt.vlines(np.mean(sample_stat_lotus), ymin=0,ymax =20, color = 'green',label = \"lotus mean\")\n",
    "plt.vlines(np.mean(sample_stat_toy),ymin=0,ymax =20 ,color='red',label = \"toy mean\")\n",
    "plt.xlabel('Proportion of rating > 4')\n",
    "plt.ylabel('Count')\n",
    "plt.title('Distribution and Means of Probability of Rating > 4')\n",
    "plt.legend()\n",
    "plt.show()"
   ]
  },
  {
   "cell_type": "markdown",
   "metadata": {},
   "source": [
    "The mean for the lotus chicken is greater so I would choose it."
   ]
  },
  {
   "cell_type": "markdown",
   "metadata": {},
   "source": [
    "**1.8. Finally, which rubber chicken product is superior?**\n",
    "\n",
    "  (**Note:** we're not looking for \"the correct answer\" here, any sound decision based on a statistically correct interpretation of your model will be fine)"
   ]
  },
  {
   "cell_type": "markdown",
   "metadata": {},
   "source": [
    "The means for the lotus chicken in terms of the posterior and posterior predictive distributions are greater, so I would choose it."
   ]
  },
  {
   "cell_type": "markdown",
   "metadata": {},
   "source": [
    "## Question 2: He Who is Not Courageous Enough to Take Risks Will Accomplish Nothing In Life\n",
    "\n",
    "**No Coding required**\n",
    "\n",
    "Consider a setting where the feature and label space are $\\mathcal{X} = \\mathcal{Y} = [0, 1]$.    In this exercise we will consider both the square loss and the absolute loss, namely:\n",
    "\n",
    "$$ \\mathbb{l}_{sq}(y_1, y_2) = (y_1 - y_2)^2 $$\n",
    "$$ \\mathbb{l}_{abs}(y_1, y_2) = \\left \\vert y_1 - y_2 \\right \\vert $$\n",
    "\n",
    "\n",
    "Let (X, Y) be random, with the following with joint probability density $p_{XY}(x, y) = 2y$, where $x, y \\ \\in \\  [0, 1]$.  We define **statistical risk** as follows:\n",
    "\n",
    "**Definition (Statistical Risk)** For a prediction rule $f$ and a joint distribution of features and labels $P_{XY}$ the statistical risk $\\mathcal{R}(f)$ of $f$ is defined as \n",
    "\n",
    "$$\\mathcal{R}(f) \\equiv \\mathbb{E}_{XY}\\left[\\mathbb{l}(f(X),Y)\\ \\vert \\ f \\right]$$,\n",
    "\n",
    "where $(X, Y) \\sim P_{XY}$.  The conditional statement ensures the definition is sensible even if $f$ is a random quantity."
   ]
  },
  {
   "cell_type": "markdown",
   "metadata": {},
   "source": [
    "**2.1. Show that in this case $X$ and $Y$ are independent, meaning the feature $X$ carries no information about Y.**"
   ]
  },
  {
   "cell_type": "markdown",
   "metadata": {},
   "source": [
    "$$\n",
    "\\begin{align}\n",
    "P(X) &= \\int_0^1 2y dy \\\\\n",
    "&= 1\n",
    "\\end{align}\n",
    "$$\n",
    "\n",
    "and\n",
    "\n",
    "$$\n",
    "\\begin{align}\n",
    "P(y) &= \\int_0^1 2y dx \\\\\n",
    "&= 2y\n",
    "\\end{align}\n",
    "$$\n",
    "\n",
    "Hence, \n",
    "\n",
    "$$\n",
    "P(X,Y)=P(X)P(Y)\n",
    "$$"
   ]
  },
  {
   "cell_type": "markdown",
   "metadata": {},
   "source": [
    "**2.2. What is the risk of prediction rule $f(x) = \\frac{1}{2}$ according to the two loss functions?**"
   ]
  },
  {
   "cell_type": "markdown",
   "metadata": {},
   "source": [
    "First consider the squared loss error:\n",
    "\n",
    "$$\n",
    "\\begin{align}\n",
    "\\mathbb{E}_{XY} \\left[\\mathbb{l}_{sq}(f(X),Y)\\ \\vert \\ f \\right] &= \\int \\int \\mathbb{l}_{sq}(1/2,y) 2y dxdy \\\\\n",
    "&= \\int \\int (1/2-y)^2 2y dxdy \\\\\n",
    "&= \\int  2(1/4-y+y^2)y dy \\\\\n",
    "&= \\int  1/2y-2y^2+2y^3 dy \\\\\n",
    "&= 1/4-2/3+2/4  \\\\\n",
    "&= 1/4-2/3+2/4  \\\\\n",
    "&= 1/12  \\\\\n",
    "\\end{align}\n",
    "$$\n",
    "\n",
    "Now consider the absolute error:\n",
    "\n",
    "$$\n",
    "\\begin{align}\n",
    "\\mathbb{E}_{XY} \\left[\\mathbb{l}_{abs}(f(X),Y)\\ \\vert \\ f \\right] &= \\int \\int \\mathbb{l}_{abs}(1/2,y) 2y dxdy \\\\\n",
    "&= \\int \\int 2|1/2-y| y dxdy \\\\\n",
    "&= \\int 2|1/2-y| y dy \\\\\n",
    "&= \\int_0^{1/2} 2(1/2-y) y dy - \\int_{1/2}^1 2(1/2-y) y dy \\\\\n",
    "&= \\int_0^{1/2} y-2y^2 dy - \\int_{1/2}^1 y-2y^2 dy \\\\\n",
    "&= 1/24 +5/24 \\\\\n",
    "&= 1/4 \\\\\n",
    "\\end{align}\n",
    "$$"
   ]
  },
  {
   "cell_type": "markdown",
   "metadata": {},
   "source": [
    "**2.3. What is the risk of the prediction rule $f^*(x) = \\frac{1}{\\sqrt{2}}$ according to the two loss functions?**\n",
    "\n",
    "**Hint (for 2.3):**\n",
    "\n",
    "* In general the Bayes predictor according to the absolute value loss is the median of the conditional distribution of $Y$ given $X = x$."
   ]
  },
  {
   "cell_type": "markdown",
   "metadata": {},
   "source": [
    "$$\n",
    "\\begin{align}\n",
    "\\mathbb{E}_{XY} \\left[\\mathbb{l}_{sq}(f(X),Y)\\ \\vert \\ f \\right] &= \\int \\int \\mathbb{l}_{sq}(1/\\sqrt{2},y) 2y dxdy \\\\\n",
    "&= \\int \\int (1/\\sqrt{2}-y)^2 2y dxdy \\\\\n",
    "&= 1-2\\sqrt{2}/3\n",
    "\\end{align}\n",
    "$$\n",
    "\n",
    "Now consider the absolute error:\n",
    "\n",
    "$$\n",
    "\\begin{align}\n",
    "\\mathbb{E}_{XY} \\left[\\mathbb{l}_{abs}(f(X),Y)\\ \\vert \\ f \\right] &= \\int \\int \\mathbb{l}_{abs}(1/\\sqrt{2},y) 2y dxdy \\\\\n",
    "&= \\int \\int |1/\\sqrt{2}-y| 2y dxdy \\\\\n",
    "&= \\int_0^{1/\\sqrt{2}} (1/\\sqrt{2}-y)2y dy - \\int_{1/\\sqrt{2}}^1 (1/\\sqrt{2}-y)2y dy \\\\\n",
    "&=\\frac{1}{6\\sqrt{2}} - \\frac{-8 + 5\\sqrt{2}}{12} \\\\\n",
    "&=\\frac{2-\\sqrt{2}}{3}\n",
    "\\end{align}\n",
    "$$"
   ]
  },
  {
   "cell_type": "markdown",
   "metadata": {},
   "source": [
    "**2.4. Show that $f^*$ has actually the smallest absolute loss risk among all prediction rules.**"
   ]
  },
  {
   "cell_type": "markdown",
   "metadata": {},
   "source": [
    "we need to find $m$ such that $\\int \\int |m-y| 2y dxdy = \\int |m-y| 2y dy$ is minimal.\n",
    "\n",
    "We can find a closed form solution for the intergral,\n",
    "\n",
    "$$\n",
    "\\begin{align}\n",
    "\\int |m-y| 2y dy &= \\int_0^m (m-y)2y dy - \\int_m^1 (m-y)2y dy\\\\\n",
    "&= \\left(m y^2 - \\frac{2 y^3}{3}\\right) \\biggr\\rvert_0^m - \\left(m y^2 - \\frac{2 y^3}{3}\\right) \\biggr\\rvert_m^1\\\\\n",
    "&= 2\\left(\\frac{m^3}{3}\\right) - \\left(m-\\frac{2}{3}\\right)\\\\\n",
    "&= \\frac{2m^3}{3} - m+\\frac{2}{3}\\\\\n",
    "\\end{align}\n",
    "$$\n",
    "\n",
    "Now we can differentiate this closed form solution and set to 0 to find the minimal m.\n",
    "$$\n",
    "\\begin{align}\n",
    "\\frac{d}{dm}\\left(\\frac{2m^3}{3} - m+\\frac{2}{3}\\right) &= 2m^2 - 1 \\\\\n",
    "\\end{align}\n",
    "$$\n",
    "\n",
    "Setting this function equal to 0, we find $m^* = 1/\\sqrt{2}$\n",
    "\n",
    "\n"
   ]
  },
  {
   "cell_type": "markdown",
   "metadata": {},
   "source": [
    "## Question 3: Maxwell's Demon Has a Wonderful Way of showing us What Really Matters\n",
    "\n",
    "**Some Coding required**\n",
    "\n",
    "**3.1. Find the entropy of the exponential probability density on support (0, $\\infty$) with mean $1/\\lambda$.**"
   ]
  },
  {
   "cell_type": "markdown",
   "metadata": {},
   "source": [
    "The exponential probability distribution has pdf\n",
    "\n",
    "$$\n",
    "\\begin{align}\n",
    "f(x) = \\lambda e^{-\\lambda x} && \\text{for } x \\geq 0\n",
    "\\end{align}\n",
    "$$\n",
    "\n",
    "The entropy is \n",
    "\n",
    "$$\n",
    "\\begin{align}\n",
    "H(f) &= -\\int_0^\\infty f(x)\\log(f(x))dx \\\\\n",
    "&= -\\int_0^\\infty \\lambda e^{-\\lambda x}\\log(\\lambda e^{-\\lambda x})dx \\\\\n",
    "&= -\\int_0^\\infty  \\lambda e^{-\\lambda x}\\left(\\log(\\lambda) -\\lambda x\\right)dx \\\\\n",
    "&= -\\int_0^\\infty  \\lambda\\log(\\lambda)e^{-\\lambda x} - \\lambda^2xe^{-\\lambda x} dx \\\\\n",
    "&= -\\left[ e^{-\\lambda x} \\left(\\lambda x - \\log(\\lambda)+1\\right)  \\right]\\biggr\\rvert_0^\\infty \\\\\n",
    "&= 1-\\log(\\lambda)\\\\\n",
    "\\end{align}\n",
    "$$"
   ]
  },
  {
   "cell_type": "markdown",
   "metadata": {},
   "source": [
    "**3.2. Show that the exponential distribution $p^*$ is the maximum entropy distribution on support (0, $\\infty$)  with specified mean $\\lambda$. That is to say prove that for any continuous probability density function $p(x)$ on (0, $\\infty$) with mean $\\lambda$ then the entropy h(p) <= h($p^*$) with equality if and only if p is also the exponential with mean $\\lambda$**"
   ]
  },
  {
   "cell_type": "markdown",
   "metadata": {},
   "source": [
    "This proof is based on https://math.stackexchange.com/questions/603042/maximum-entropy-the-existence-of-a-calculus-of-variations-problem\n",
    "\n",
    "Let $p^*$ be the exponential distribution with mean $1/\\lambda$ and let $q$ be an arbitrary continuous distribution on $(0,\\infty)$ with mean $1/\\lambda$.\n",
    "\n",
    "The KL divergence of the two distribution can be written as\n",
    "\n",
    "$$\n",
    "0 \\leq \\text{D}(q,p^*) = -H(q) - \\int q \\log(p^*)\n",
    "$$\n",
    "\n",
    "where $H(q)$ is the entropy of $q$.\n",
    "\n",
    "Plugging in the exponential distribution pdf to the second integral gives\n",
    "\n",
    "$$\n",
    "\\begin{align}\n",
    "\\int q \\log(p^*) &= \\int q(x) \\log(\\lambda e^{-\\lambda x}) dx \\\\\n",
    "&= \\int q(x) (\\log(\\lambda) -\\lambda x) dx \\\\\n",
    "&= \\log(\\lambda)\\int q(x)  - \\lambda \\int xq(x) dx \\\\\n",
    "&= \\log(\\lambda)\\int q(x)  - \\lambda \\text{E}(q) dx \\\\\n",
    "&= \\log(\\lambda)  - 1 \\\\\n",
    "\\end{align}\n",
    "$$\n",
    "\n",
    "We can plug this into the KL Divergence\n",
    "\n",
    "$$\n",
    "\\begin{align}\n",
    "\\text{D}(q,p^*) &= -H(q) - \\log(\\lambda)  + 1 \\\\\n",
    "&= -H(q) + H(p^*) \n",
    "\\end{align}\n",
    "$$\n",
    "\n",
    "Since the KL divergence must be positive\n",
    "\n",
    "$$\n",
    "H(q) \\leq  H(p^*)\n",
    "$$"
   ]
  },
  {
   "cell_type": "markdown",
   "metadata": {},
   "source": [
    "We're familiar with the CLT as a way of approximating the sum of IID random variables with an appropriate Normal distribution.  Let's investigate this relationship by using the KL-Divergence.  Given n identically distributed Bernoulli variables $Y_i \\sim Bern(p)$, then their sum approaches a Normal distribution.\n",
    "\n",
    "3.3. Visualize this relationship by drawing n = 10,000 samples from a Bernoulli with p = 0.02.  These samples determine a random variable and thus a probability distribution (which in the last homework we called the empirical distribution of the data).  Visualize this probability distribution by plotting a normed histogram of the samples.  On your plot overlay the appropriately fitted Gaussian distribution.  Make sure to appropriately title and label your plot."
   ]
  },
  {
   "cell_type": "code",
   "execution_count": 66,
   "metadata": {},
   "outputs": [
    {
     "data": {
      "image/png": "[encoded data removed]",
      "text/plain": [
       "<Figure size 432x288 with 1 Axes>"
      ]
     },
     "metadata": {},
     "output_type": "display_data"
    }
   ],
   "source": [
    "# plot histogram\n",
    "n = 100000\n",
    "p = 0.02\n",
    "q = 1-p\n",
    "bern_samples = np.random.binomial(n=1,p=p,size=(10000,n))\n",
    "bern_sum_samples = np.sum(bern_samples, axis=1)\n",
    "\n",
    "plt.hist(bern_sum_samples, density = True, label = 'samples', bins=range(np.max(bern_sum_samples)))\n",
    "\n",
    "# plot normal distribution\n",
    "x = np.linspace(0, np.max(bern_sum_samples), 1000)\n",
    "plt.plot(x, scipy.stats.norm.pdf(x, loc = n*p, scale= np.sqrt(n*p*q)), label = 'Normal dist. fit to data')\n",
    "\n",
    "# format plot\n",
    "plt.xlabel('sums of bernoullis')\n",
    "plt.ylabel('density')\n",
    "plt.title('Distribution of the Sum of 1000 Bernoullis and the Corresponding Normal Distribution \\n (samples = 10 000)')\n",
    "plt.legend()\n",
    "plt.show()"
   ]
  },
  {
   "cell_type": "markdown",
   "metadata": {},
   "source": [
    "**3.4. From visual inspection are the two distributions close to each other?**"
   ]
  },
  {
   "cell_type": "markdown",
   "metadata": {},
   "source": [
    "Yes, they look close enough to each other."
   ]
  },
  {
   "cell_type": "markdown",
   "metadata": {},
   "source": [
    "**3.5. Formalize your answer to 3.3 and 3.4 by writing a program to compute the K-L divergence between the two distributions (the sum of 10000 sampled Bernoullis and the appropriate Gaussian).  What is the value of the KL divergence.**"
   ]
  },
  {
   "cell_type": "code",
   "execution_count": 67,
   "metadata": {},
   "outputs": [
    {
     "data": {
      "text/plain": [
       "array([0.    , 0.    , 0.    , ..., 0.0002, 0.    , 0.0001])"
      ]
     },
     "execution_count": 67,
     "metadata": {},
     "output_type": "execute_result"
    }
   ],
   "source": [
    "freq = np.bincount(bern_sum_samples)\n",
    "prob_sample = freq/np.sum(freq)\n",
    "prob_sample"
   ]
  },
  {
   "cell_type": "code",
   "execution_count": 68,
   "metadata": {},
   "outputs": [
    {
     "data": {
      "text/plain": [
       "array([0.00000000e+00, 0.00000000e+00, 0.00000000e+00, ...,\n",
       "       2.89812478e-05, 2.68392816e-05, 2.48429476e-05])"
      ]
     },
     "execution_count": 68,
     "metadata": {},
     "output_type": "execute_result"
    }
   ],
   "source": [
    "mean = n*p\n",
    "std = np.sqrt(n*p*q)\n",
    "pdf = lambda x: scipy.stats.norm.cdf(x+.5, loc = mean, scale= std)- scipy.stats.norm.cdf(x-.5, loc = mean, scale= std)\n",
    "normal_prob = pdf(np.arange((len(prob_sample))))\n",
    "normal_prob"
   ]
  },
  {
   "cell_type": "code",
   "execution_count": 69,
   "metadata": {},
   "outputs": [
    {
     "name": "stdout",
     "output_type": "stream",
     "text": [
      "The KL divergence is  0.014474052083132877\n"
     ]
    }
   ],
   "source": [
    "non_zero_indices = np.nonzero(prob_sample)\n",
    "prob_sample = prob_sample[non_zero_indices]\n",
    "normal_prob = normal_prob[non_zero_indices]\n",
    "KL = np.sum(prob_sample*np.log(prob_sample/normal_prob))\n",
    "print(\"The KL divergence is \", KL)"
   ]
  },
  {
   "cell_type": "markdown",
   "metadata": {},
   "source": [
    "**3.6. Let's visualize the convergence of the sum of bernoulli RVs to a Gaussian as fortold by the CLT by repeating the process from 3.5 for various values of n.  We'll set our selection of sample sizes to the following: [100, 250, 500, 750, 1000, 2500, 5000, 7500, 10000, 50000, 100000].  Setting n to each of the specified sample sizes repeat the following procedure 10 times:**\n",
    "\n",
    "* Draw n bernoulli samples using the Bernoulli parameter from 3.3 (p=0.02).\n",
    "* Calculate the Kullback-Leibler divergence between the random variable defined by the sum of Bernoullis samples and the appropriately fitted gaussian. \n",
    "\n",
    "**For each sample size you should have 10 KL divergences. Construct a log scale (in both axes) plot of the Kullback-Leibler divergence and and the 3-$\\sigma$ envelope against the sample size.  What can you convergence of the distributions in question?  What does this mean for the CLT?**"
   ]
  },
  {
   "cell_type": "code",
   "execution_count": 70,
   "metadata": {},
   "outputs": [],
   "source": [
    "def KL_normal(n):\n",
    "    # take samples\n",
    "    bern_samples = np.random.binomial(n=1,p=0.02,size=(n,1000))\n",
    "    bern_sum_samples = np.sum(bern_samples, axis=1)\n",
    "    \n",
    "    # calculate empirical dist.\n",
    "    freq = np.bincount(bern_sum_samples)\n",
    "    prob_sample = freq/np.sum(freq)\n",
    "    \n",
    "    # calculate pdf normal values\n",
    "    mean = 1000*0.02\n",
    "    std = np.sqrt(1000*0.02*(1-0.02))\n",
    "    pdf = lambda x: scipy.stats.norm.cdf(x+.5, loc = mean, scale= std)- scipy.stats.norm.cdf(x-.5, loc = mean, scale= std)\n",
    "    normal_prob = pdf(np.arange((len(prob_sample))))\n",
    "\n",
    "    # calculate KL divergence\n",
    "    non_zero_indices = np.nonzero(prob_sample)\n",
    "    prob_sample = prob_sample[non_zero_indices]\n",
    "    normal_prob = normal_prob[non_zero_indices]\n",
    "    return np.sum(prob_sample*np.log(prob_sample/normal_prob))"
   ]
  },
  {
   "cell_type": "code",
   "execution_count": 71,
   "metadata": {},
   "outputs": [],
   "source": [
    "def KL_ten_times(n):\n",
    "    return [KL_normal(n) for _ in range(10)]\n",
    "\n",
    "samples = [100, 250, 500, 750, 1000, 2500, 5000, 7500, 10000, 50000, 100000]\n",
    "KLs = [KL_ten_times(s) for s in samples]"
   ]
  },
  {
   "cell_type": "code",
   "execution_count": 72,
   "metadata": {},
   "outputs": [
    {
     "data": {
      "text/plain": [
       "[[0.15004854986472008,\n",
       "  0.17941587765168446,\n",
       "  0.20286741442753523,\n",
       "  0.18096580885633987,\n",
       "  0.09212351206740718,\n",
       "  0.20913337157233416,\n",
       "  0.15152284438542332,\n",
       "  0.12719901389631338,\n",
       "  0.14237120647447873,\n",
       "  0.12042817932822122],\n",
       " [0.04130352413512764,\n",
       "  0.0710559127699489,\n",
       "  0.07694132909008589,\n",
       "  0.07776605390955002,\n",
       "  0.0721937842466778,\n",
       "  0.06155854773746064,\n",
       "  0.05388957619319909,\n",
       "  0.05229244580248287,\n",
       "  0.06748140009918835,\n",
       "  0.052647322816864336],\n",
       " [0.03572645390333839,\n",
       "  0.05289915789001925,\n",
       "  0.049529072548750566,\n",
       "  0.021598194179592946,\n",
       "  0.0462698129517273,\n",
       "  0.024801675401710806,\n",
       "  0.022468275795687942,\n",
       "  0.03490498392036316,\n",
       "  0.030637863332677696,\n",
       "  0.03867449977383183],\n",
       " [0.027405556705237217,\n",
       "  0.01616520817228298,\n",
       "  0.03799327305488784,\n",
       "  0.02425788442147584,\n",
       "  0.025254766782168928,\n",
       "  0.03183988919352658,\n",
       "  0.018393599801265058,\n",
       "  0.022833029990508714,\n",
       "  0.041627758508634705,\n",
       "  0.030817284695620124],\n",
       " [0.019900632227037814,\n",
       "  0.014250160780130238,\n",
       "  0.01863857911076376,\n",
       "  0.01764490669709285,\n",
       "  0.013587756925914957,\n",
       "  0.017125148211475195,\n",
       "  0.0164205853124993,\n",
       "  0.028911848940652324,\n",
       "  0.019202188103650368,\n",
       "  0.018483654598582356],\n",
       " [0.012932951119488377,\n",
       "  0.010255545773515609,\n",
       "  0.013408834183565834,\n",
       "  0.008589428423275682,\n",
       "  0.0077697958169942825,\n",
       "  0.009009678266605663,\n",
       "  0.009078547655266434,\n",
       "  0.016291430564559055,\n",
       "  0.0063490484971295965,\n",
       "  0.013414890572350405],\n",
       " [0.01001715204020676,\n",
       "  0.011350413857170553,\n",
       "  0.005371996573087963,\n",
       "  0.007379256467113065,\n",
       "  0.00938796285624592,\n",
       "  0.0036665195414046516,\n",
       "  0.008277579242926795,\n",
       "  0.005750553197081017,\n",
       "  0.007730862569717922,\n",
       "  0.005071705230720257],\n",
       " [0.006735370711037696,\n",
       "  0.007558864032070757,\n",
       "  0.007983671707869362,\n",
       "  0.004827423769658831,\n",
       "  0.0070460112389338645,\n",
       "  0.006103601294717498,\n",
       "  0.00815304784723775,\n",
       "  0.00584156934053775,\n",
       "  0.00676998662810945,\n",
       "  0.005732390627994193],\n",
       " [0.00649923697102913,\n",
       "  0.006393913312235282,\n",
       "  0.006074704256588922,\n",
       "  0.005805412172215251,\n",
       "  0.0046440593915334765,\n",
       "  0.005082152106081428,\n",
       "  0.004976143591493524,\n",
       "  0.005643561196905814,\n",
       "  0.0047470674277707205,\n",
       "  0.0042386213819461645],\n",
       " [0.0041191801407367504,\n",
       "  0.003983744200174187,\n",
       "  0.004809513422366448,\n",
       "  0.004122067846831186,\n",
       "  0.004560650017215837,\n",
       "  0.003962785848196791,\n",
       "  0.004742408797734747,\n",
       "  0.00445868608871284,\n",
       "  0.0046255693802422435,\n",
       "  0.0040073233630268995],\n",
       " [0.004279305793287028,\n",
       "  0.004402418924792639,\n",
       "  0.003823747960422521,\n",
       "  0.004419263999585012,\n",
       "  0.004184782909382181,\n",
       "  0.004419352464324631,\n",
       "  0.004009053521218073,\n",
       "  0.0040871835603624885,\n",
       "  0.004258046558482732,\n",
       "  0.0042984514170707755]]"
      ]
     },
     "execution_count": 72,
     "metadata": {},
     "output_type": "execute_result"
    }
   ],
   "source": [
    "KLs"
   ]
  },
  {
   "cell_type": "code",
   "execution_count": 73,
   "metadata": {},
   "outputs": [],
   "source": [
    "mean_log_KL = np.array([np.log(np.mean(KL_sample_size)) for KL_sample_size in KLs])"
   ]
  },
  {
   "cell_type": "code",
   "execution_count": 74,
   "metadata": {},
   "outputs": [],
   "source": [
    "log_KL_plus = np.array([np.log(np.mean(KL_sample_size)+3*np.std(KL_sample_size)) for KL_sample_size in KLs])\n",
    "log_KL_minus = np.array([np.log(np.mean(KL_sample_size)-3*np.std(KL_sample_size)) for KL_sample_size in KLs])"
   ]
  },
  {
   "cell_type": "code",
   "execution_count": 75,
   "metadata": {},
   "outputs": [
    {
     "data": {
      "text/plain": [
       "<matplotlib.legend.Legend at 0x1a1925c2b0>"
      ]
     },
     "execution_count": 75,
     "metadata": {},
     "output_type": "execute_result"
    },
    {
     "data": {
      "image/png": "[encoded data removed]",
      "text/plain": [
       "<Figure size 432x288 with 1 Axes>"
      ]
     },
     "metadata": {},
     "output_type": "display_data"
    }
   ],
   "source": [
    "plt.scatter(np.log(samples),mean_log_KL,label = 'KL Divergence')\n",
    "plt.fill_between(np.log(samples), y1 = log_KL_minus,y2 = log_KL_plus, alpha = 0.4,label = '3 sigma envelope')\n",
    "plt.xlabel('sample size')\n",
    "plt.ylabel('log KL divergence')\n",
    "plt.title('Divergence between Sum of Bernoulli and Normal Distributions \\nat Different Sample Sizes')\n",
    "plt.legend()"
   ]
  },
  {
   "cell_type": "markdown",
   "metadata": {},
   "source": [
    "# Q4: Marvel at the DC Flash Light Speed experiment\n",
    "\n",
    "Simon Newcomb did an experiment in 1882 to measure the speed of light. These are the times required for light to travel 7442 metres. These are recorded as deviations from 24,800 nanoseconds."
   ]
  },
  {
   "cell_type": "markdown",
   "metadata": {},
   "source": [
    "This data is in the following dataset $D$."
   ]
  },
  {
   "cell_type": "code",
   "execution_count": 76,
   "metadata": {},
   "outputs": [],
   "source": [
    "light_speed = np.array([28, 26, 33, 24, 34, -44, 27, 16, 40, -2, 29, 22, 24, 21, 25,\n",
    "                        30, 23, 29, 31, 19, 24, 20, 36, 32, 36, 28, 25, 21, 28, 29,\n",
    "                        37, 25, 28, 26, 30, 32, 36, 26, 30, 22, 36, 23, 27, 27, 28,\n",
    "                        27, 31, 27, 26, 33, 26, 32, 32, 24, 39, 28, 24, 25, 32, 25,\n",
    "                        29, 27, 28, 29, 16, 23])"
   ]
  },
  {
   "cell_type": "markdown",
   "metadata": {},
   "source": [
    "**4.1. Plot a histogram of the data. Are there outliers in the data?  What data points might you consider to be outliers?**"
   ]
  },
  {
   "cell_type": "code",
   "execution_count": 77,
   "metadata": {},
   "outputs": [
    {
     "data": {
      "text/plain": [
       "Text(0.5,1,'Light Speed Measurement Distribution')"
      ]
     },
     "execution_count": 77,
     "metadata": {},
     "output_type": "execute_result"
    },
    {
     "data": {
      "image/png": "[encoded data removed]",
      "text/plain": [
       "<Figure size 432x288 with 1 Axes>"
      ]
     },
     "metadata": {},
     "output_type": "display_data"
    }
   ],
   "source": [
    "plt.hist(light_speed)\n",
    "plt.xlabel('light speed measurement')\n",
    "plt.ylabel('count')\n",
    "plt.title('Light Speed Measurement Distribution')"
   ]
  },
  {
   "cell_type": "markdown",
   "metadata": {},
   "source": [
    "**4.2. We use a normal models with weakly informative priors to model this experiment. In particular assume uniform priors for both $\\mu$ and $\\sigma$:**\n",
    "\n",
    "$$\\mu \\sim Uniform(0, 60)$$\n",
    "\n",
    "$$\\sigma \\sim Uniform(0.1, 50)$$\n",
    "\n",
    "**Write down an expression for the posterior (joint) pdf $p(\\mu, \\sigma \\vert D)$.**"
   ]
  },
  {
   "cell_type": "markdown",
   "metadata": {},
   "source": [
    "The prior distribution is \n",
    "$$\n",
    "\\begin{align}\n",
    "p(\\mu, \\sigma) = \\frac{1}{60}\\frac{1}{49.9} && \\text{for } \\mu \\in (0, 60) \\text{ and } \n",
    "\\sigma \\in (0.1, 50)\n",
    "\\end{align}\n",
    "$$\n",
    "\n",
    "The likelihood function is \n",
    "\n",
    "$$\n",
    "p(D \\vert \\mu, \\sigma) = \\prod_i \\frac{1}{\\sigma \\sqrt {2\\pi }}e^{ - \\left( {x_i - \\mu } \\right)^2 / 2\\sigma^2}\n",
    "$$\n",
    "\n",
    "and\n",
    "$$\n",
    "\\begin{align}\n",
    "P(D) &= \\int \\int p(D \\vert \\mu, \\sigma)P(\\mu, \\sigma) d\\mu d\\sigma \\\\\n",
    "&= P(\\mu, \\sigma) \\int \\int p(D \\vert \\mu, \\sigma) d\\mu d\\sigma \\\\\n",
    "\\end{align}\n",
    "$$\n",
    "\n",
    "The posterior pdf is\n",
    "\n",
    "$$\n",
    "\\begin{align}\n",
    "P(\\mu, \\sigma \\vert D) &= \\frac{p(D \\vert \\mu, \\sigma)P(\\mu, \\sigma)}{P(D)} \\\\\n",
    "&=\\frac{p(D \\vert \\mu, \\sigma)}{\\int \\int p(D \\vert \\mu, \\sigma) d\\mu d\\sigma}\n",
    "\\end{align}\n",
    "$$"
   ]
  },
  {
   "cell_type": "markdown",
   "metadata": {},
   "source": [
    "**4.3. Set up a 500 point grid in both the $\\mu$ space and the $\\sigma$ space. Compute the normalized posterior on this grid and make a contour plot of it.**\n",
    "\n",
    "**Hint: `np.meshgrid` is your friend**"
   ]
  },
  {
   "cell_type": "code",
   "execution_count": 78,
   "metadata": {},
   "outputs": [],
   "source": [
    "likelihood = lambda mu, sigma: np.prod([scipy.stats.norm.pdf(l, mu, sigma) for l in light_speed], axis = 0)"
   ]
  },
  {
   "cell_type": "code",
   "execution_count": 79,
   "metadata": {},
   "outputs": [
    {
     "data": {
      "image/png": "[encoded data removed]",
      "text/plain": [
       "<Figure size 432x288 with 2 Axes>"
      ]
     },
     "metadata": {},
     "output_type": "display_data"
    }
   ],
   "source": [
    "mu = np.linspace(0,60,500)\n",
    "sigma = np.linspace(0.1,50,500)\n",
    "mu_grid, sigma_grid = np.meshgrid(mu, sigma)\n",
    "\n",
    "posterior_unnormalized = np.array(likelihood(mu_grid, sigma_grid))\n",
    "posterior = posterior_unnormalized/np.sum(posterior_unnormalized)\n",
    "fig, ax = plt.subplots()\n",
    "p = ax.pcolor(mu, sigma, posterior, cmap=cm.RdBu)\n",
    "cb = fig.colorbar(p, ax=ax)"
   ]
  },
  {
   "cell_type": "markdown",
   "metadata": {},
   "source": [
    "**4.4. Use this normalized posterior to sample from the grid, posterior samples of size 500000. That is the posterior should be of shape `(500000, 2)`. (Hint: one way to do it is to first flatten the meshgrid into a grid of shape (250000, 2). Flatten the posterior probabilities as well into a size 250000 vector. Then sample 500000 indices and use them to index the grid). Plot the $\\mu$ and $\\sigma$ marginal posteriors.**"
   ]
  },
  {
   "cell_type": "code",
   "execution_count": 102,
   "metadata": {},
   "outputs": [],
   "source": [
    "mu_sigma_pairs = np.array(list(zip(np.ravel(mu_grid),np.ravel(sigma_grid))))\n",
    "probs = np.ravel(posterior)\n",
    "idx = np.random.choice(range(250000), size=500000, p = probs)\n",
    "mu_sigma_samples = mu_sigma_pairs[idx,:]"
   ]
  },
  {
   "cell_type": "code",
   "execution_count": 103,
   "metadata": {},
   "outputs": [
    {
     "data": {
      "image/png": "[encoded data removed]",
      "text/plain": [
       "<Figure size 432x288 with 1 Axes>"
      ]
     },
     "metadata": {},
     "output_type": "display_data"
    }
   ],
   "source": [
    "plt.hist(mu_sigma_samples[:,0], density = True)\n",
    "plt.xlabel('mu')\n",
    "plt.ylabel('density')\n",
    "plt.title('Marginal Posterior Predictive Distribution for Mu \\n(Samples = 500 000, grid size: 500x500)')\n",
    "plt.show()"
   ]
  },
  {
   "cell_type": "code",
   "execution_count": 104,
   "metadata": {},
   "outputs": [
    {
     "data": {
      "image/png": "[encoded data removed]",
      "text/plain": [
       "<Figure size 432x288 with 1 Axes>"
      ]
     },
     "metadata": {},
     "output_type": "display_data"
    }
   ],
   "source": [
    "plt.hist(mu_sigma_samples[:,1], density = True)\n",
    "plt.xlabel('sigma')\n",
    "plt.ylabel('density')\n",
    "plt.title('Marginal Posterior Predictive Distribution for Sigma \\n(Samples = 500 000, grid size: 500x500)')\n",
    "plt.show()"
   ]
  },
  {
   "cell_type": "markdown",
   "metadata": {},
   "source": [
    "**4.5. Experiment with reducing the grid size down to 100x100. How do the marginal posteriors now look? What does this look tell us about the dimensional scaling of this grid-sampling-in-proportion-to-posterior method of obtaining samples?**"
   ]
  },
  {
   "cell_type": "code",
   "execution_count": 105,
   "metadata": {},
   "outputs": [
    {
     "data": {
      "image/png": "[encoded data removed]",
      "text/plain": [
       "<Figure size 432x288 with 2 Axes>"
      ]
     },
     "metadata": {},
     "output_type": "display_data"
    }
   ],
   "source": [
    "mu = np.linspace(0,60,100)\n",
    "sigma = np.linspace(0.1,50,100)\n",
    "mu_grid, sigma_grid = np.meshgrid(mu, sigma)\n",
    "\n",
    "posterior_unnormalized = np.array(likelihood(mu_grid, sigma_grid))\n",
    "posterior = posterior_unnormalized/np.sum(posterior_unnormalized)\n",
    "fig, ax = plt.subplots()\n",
    "p = ax.pcolor(mu, sigma, posterior, cmap=cm.RdBu)\n",
    "cb = fig.colorbar(p, ax=ax)"
   ]
  },
  {
   "cell_type": "code",
   "execution_count": 106,
   "metadata": {},
   "outputs": [],
   "source": [
    "mu_sigma_pairs = np.array(list(zip(np.ravel(mu_grid),np.ravel(sigma_grid))))\n",
    "probs = np.ravel(posterior)\n",
    "idx = np.random.choice(range(10000), size=500000, p = probs)\n",
    "mu_sigma_samples = mu_sigma_pairs[idx,:]"
   ]
  },
  {
   "cell_type": "code",
   "execution_count": 107,
   "metadata": {},
   "outputs": [
    {
     "data": {
      "image/png": "[encoded data removed]",
      "text/plain": [
       "<Figure size 432x288 with 1 Axes>"
      ]
     },
     "metadata": {},
     "output_type": "display_data"
    }
   ],
   "source": [
    "plt.hist(mu_sigma_samples[:,0], density = True)\n",
    "plt.xlabel('mu')\n",
    "plt.ylabel('density')\n",
    "plt.title('Marginal Posterior Distribution for Mu \\n(Samples = 500 000, grid size: 100x100)')\n",
    "plt.show()"
   ]
  },
  {
   "cell_type": "code",
   "execution_count": 108,
   "metadata": {},
   "outputs": [
    {
     "data": {
      "image/png": "[encoded data removed]",
      "text/plain": [
       "<Figure size 432x288 with 1 Axes>"
      ]
     },
     "metadata": {},
     "output_type": "display_data"
    }
   ],
   "source": [
    "plt.hist(mu_sigma_samples[:,1], density = True)\n",
    "plt.xlabel('mu')\n",
    "plt.ylabel('density')\n",
    "plt.title('Marginal Posterior Distribution for Sigma \\n(Samples = 500 000, grid size: 100x100)')\n",
    "plt.show()"
   ]
  },
  {
   "cell_type": "markdown",
   "metadata": {},
   "source": [
    "**4.6. Now draw from the data sampling normal distribution to obtain the posterior-predictive distribution. You will have as many samples as the size of the posterior. Plot the posterior predictive distribution against the data, and write down your observations.**"
   ]
  },
  {
   "cell_type": "code",
   "execution_count": 109,
   "metadata": {},
   "outputs": [],
   "source": [
    "mu = np.linspace(0,60,500)\n",
    "sigma = np.linspace(0.1,50,500)\n",
    "mu_grid, sigma_grid = np.meshgrid(mu, sigma)\n",
    "\n",
    "posterior_unnormalized = np.array(likelihood(mu_grid, sigma_grid))\n",
    "posterior = posterior_unnormalized/np.sum(posterior_unnormalized)"
   ]
  },
  {
   "cell_type": "code",
   "execution_count": 110,
   "metadata": {},
   "outputs": [],
   "source": [
    "mu_sigma_pairs = np.array(list(zip(np.ravel(mu_grid),np.ravel(sigma_grid))))\n",
    "probs = np.ravel(posterior)\n",
    "idx = np.random.choice(range(250000), size=500000, p = probs)\n",
    "mu_sigma_samples = mu_sigma_pairs[idx,:]"
   ]
  },
  {
   "cell_type": "code",
   "execution_count": 111,
   "metadata": {},
   "outputs": [
    {
     "data": {
      "image/png": "[encoded data removed]",
      "text/plain": [
       "<Figure size 432x288 with 1 Axes>"
      ]
     },
     "metadata": {},
     "output_type": "display_data"
    }
   ],
   "source": [
    "post_pred = np.random.normal(loc = mu_sigma_samples[:,0],scale = mu_sigma_samples[:,1])\n",
    "plt.hist(post_pred, density = True)\n",
    "plt.xlabel('speed of light')\n",
    "plt.ylabel('density')\n",
    "plt.title('Posterior Predictive Distribution for Sigma \\n(Samples = 500 000, grid size: 500x500)')\n",
    "plt.show()"
   ]
  },
  {
   "cell_type": "markdown",
   "metadata": {},
   "source": [
    "4.7. **Informally using a test-statistic**\n",
    "\n",
    "We might wish to compute a test statistic from the posterior predictive. Say for example, we wish to talk about the minimum value of the posterior predictive.\n",
    "\n",
    "The way to do this is to replicate the posterior predictive multiple times. We replicate the posterior-predictive (that is, do the sampling you did in 4.6) 66 times, which is the size of our dataset. In other words, we create as-many artificial datasets as there are samples in our posterior.\n",
    "\n",
    "This is called a **replicative posterior predictive**.\n",
    "\n",
    "Compute the replicative distribution of the minimum-value of the dataset and compare it to the actual value. What might you conclude about the quality of the specification of our model for the purposes of computing minimum values?"
   ]
  },
  {
   "cell_type": "code",
   "execution_count": 112,
   "metadata": {},
   "outputs": [
    {
     "data": {
      "text/plain": [
       "(500000, 66)"
      ]
     },
     "execution_count": 112,
     "metadata": {},
     "output_type": "execute_result"
    }
   ],
   "source": [
    "rep_post_pred = [np.random.normal(size = 500000, loc = mu_sigma_samples[:,0],scale = mu_sigma_samples[:,1]) \n",
    "                 for _ in range(66)]\n",
    "np.column_stack(rep_post_pred).shape"
   ]
  },
  {
   "cell_type": "code",
   "execution_count": 116,
   "metadata": {},
   "outputs": [
    {
     "data": {
      "image/png": "[encoded data removed]",
      "text/plain": [
       "<Figure size 432x288 with 1 Axes>"
      ]
     },
     "metadata": {},
     "output_type": "display_data"
    }
   ],
   "source": [
    "plt.hist(np.min(rep_post_pred, axis = 0), density = True)\n",
    "plt.xlabel('Sample Minimum Value')\n",
    "plt.ylabel('Density')\n",
    "plt.vlines(-44, ymin = 0, ymax = .08)\n",
    "plt.title('Replicative Posterior Predictive Distribution of the Minimum Value \\n (Samples = 500 000, grid = 500x500)')\n",
    "plt.show()"
   ]
  },
  {
   "cell_type": "markdown",
   "metadata": {},
   "source": [
    "It is difficult to tell if this model is well specified or not. If we assume that our outlier is an anomoly, then our model is well specified because it correctly identified the anomoly. However, if we wanted our model to fit to this outlier, then our model is mispecified and we should have chosen a prior with fatter tails. It depends on whether we trust our priors or our data more."
   ]
  },
  {
   "cell_type": "code",
   "execution_count": null,
   "metadata": {},
   "outputs": [],
   "source": []
  }
 ],
 "metadata": {
  "anaconda-cloud": {},
  "kernel_info": {
   "name": "python3"
  },
  "kernelspec": {
   "display_name": "Python [conda env:py36]",
   "language": "python",
   "name": "conda-env-py36-py"
  },
  "language_info": {
   "codemirror_mode": {
    "name": "ipython",
    "version": 3
   },
   "file_extension": ".py",
   "mimetype": "text/x-python",
   "name": "python",
   "nbconvert_exporter": "python",
   "pygments_lexer": "ipython3",
   "version": "3.6.6"
  },
  "nteract": {
   "version": "0.11.7"
  }
 },
 "nbformat": 4,
 "nbformat_minor": 2
}
