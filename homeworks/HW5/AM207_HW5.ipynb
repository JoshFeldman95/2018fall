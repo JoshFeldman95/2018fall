{
 "cells": [
  {
   "cell_type": "markdown",
   "metadata": {},
   "source": [
    "# Homework 5\n",
    "\n",
    "##### Data: chall.txt\n",
    "\n",
    "**Harvard University**<br>\n",
    "**Fall 2018**<br>\n",
    "**Instructors: Rahul Dave**<br>\n",
    "**Due Date: ** Saturday, October 13th, 2018 at 11:59pm\n",
    "\n",
    "**Instructions:**\n",
    "\n",
    "- Upload your final answers in the form of a Jupyter notebook containing all work to Canvas.\n",
    "\n",
    "- Structure your notebook and your work to maximize readability."
   ]
  },
  {
   "cell_type": "markdown",
   "metadata": {},
   "source": [
    "### Collaborators\n",
    "\n",
    "** Place the name of everyone who's submitting this assignment here**"
   ]
  },
  {
   "cell_type": "markdown",
   "metadata": {},
   "source": [
    "<div class=\"answer-separator\">\n",
    "------------------------\n",
    "</div>"
   ]
  },
  {
   "cell_type": "code",
   "execution_count": 3,
   "metadata": {},
   "outputs": [],
   "source": [
    "import numpy as np\n",
    "import scipy.stats\n",
    "import scipy.special\n",
    "\n",
    "import matplotlib\n",
    "import matplotlib.pyplot as plt\n",
    "import matplotlib.mlab as mlab\n",
    "from matplotlib import cm\n",
    "import pandas as pd\n",
    "%matplotlib inline"
   ]
  },
  {
   "cell_type": "markdown",
   "metadata": {},
   "source": [
    "## Question 1: We'll Always Have that Night Sampling in Monte Carlo"
   ]
  },
  {
   "cell_type": "markdown",
   "metadata": {},
   "source": [
    "**Coding required**\n",
    "\n",
    "\n",
    "Let $X$ be a random variable with distribution described by the following pdf:\n",
    "\n",
    "$$\n",
    "f_X(x) = \\begin{cases}\n",
    "\\frac{1}{12}(x-1), &1\\leq x\\leq 3\\\\\n",
    "-\\frac{1}{12}(x-5), &3< x\\leq 5\\\\\n",
    "\\frac{1}{6}(x-5), &5< x\\leq 7\\\\\n",
    "-\\frac{1}{6}(x-9), &7< x\\leq 9\\\\\n",
    "0, &otherwise\n",
    "\\end{cases}\n",
    "$$\n",
    "\n",
    "Let $h$ be the following function of $X$:\n",
    "\n",
    "$$h(X) = \\frac{1}{3\\sqrt{2}\\pi}\\mathrm{exp}\\left\\{ -\\frac{1}{18}\\left( X - 5\\right)^2\\right\\}$$\n",
    "\n",
    "\n",
    "Compute $\\mathbb{E}[h(X)]$ via Monte Carlo simulation using the following sampling methods:\n",
    "\n",
    "**1.1.** Inverse Transform Sampling"
   ]
  },
  {
   "cell_type": "code",
   "execution_count": 49,
   "metadata": {},
   "outputs": [],
   "source": [
    "# probability distribution we're trying to calculate\n",
    "def p(x):\n",
    "    if x >= 1 and x <= 3:\n",
    "        return 1/12*(x-1)\n",
    "    elif x > 3 and x <= 5:\n",
    "        return -1/12*(x-5)\n",
    "    elif x > 5 and x <= 7:\n",
    "        return 1/6*(x-5)\n",
    "    elif x > 7 and x <= 9:\n",
    "        return -1/6*(x-9)\n",
    "    else:\n",
    "        0"
   ]
  },
  {
   "cell_type": "code",
   "execution_count": 50,
   "metadata": {},
   "outputs": [],
   "source": [
    "# CDF of p\n",
    "def cdf(x):\n",
    "    if x >= 1 and x <= 3:\n",
    "        return 1/24*(x-1)**2\n",
    "    elif x > 3 and x <= 5:\n",
    "        return -1/24*(x-5)**2 + 1/3\n",
    "    elif x > 5 and x <= 7:\n",
    "        return 1/12*(x-5)**2 +1/3\n",
    "    elif x > 7 and x <= 9:\n",
    "        return -1/12*(x-9)**2 +1\n",
    "    else:\n",
    "        0"
   ]
  },
  {
   "cell_type": "code",
   "execution_count": 51,
   "metadata": {},
   "outputs": [],
   "source": [
    "# invert the CDF\n",
    "def invCDF(r):\n",
    "    if r >= 0 and r <= 1/6:\n",
    "        return np.sqrt(24*r)+1\n",
    "    elif r > 1/6 and r <= 1/3:\n",
    "        return -np.sqrt(-24*(r-1/3))+5\n",
    "    elif r > 1/3 and r <= 2/3:\n",
    "        return np.sqrt(12*(r-1/3))+5\n",
    "    elif r > 2/3 and r <= 1:\n",
    "        return -np.sqrt(-12*(r-1))+9\n",
    "    else:\n",
    "        raise ValueError(\"r is outside the valid range\")"
   ]
  },
  {
   "cell_type": "code",
   "execution_count": 71,
   "metadata": {},
   "outputs": [
    {
     "name": "stdout",
     "output_type": "stream",
     "text": [
      "The expected value is  0.05885488495863913\n"
     ]
    }
   ],
   "source": [
    "# domain limits\n",
    "xmin = 1 # the lower limit of our domain\n",
    "xmax = 9 # the upper limit of our domain\n",
    "\n",
    "# range limits\n",
    "rmin = cdf(xmin)\n",
    "rmax = cdf(xmax)\n",
    "\n",
    "N = 100000 # the total of samples we wish to generate\n",
    "\n",
    "# generate uniform samples in our range then invert the CDF\n",
    "# to get samples of our target distribution\n",
    "R = np.random.uniform(rmin, rmax, N)\n",
    "X = np.array([invCDF(r) for r in R])\n",
    "\n",
    "# calculate expected value\n",
    "h = lambda x: 1/(3*np.sqrt(2)*np.pi)*np.exp(-1/18*(x - 5)**2)\n",
    "print(\"The expected value according to inverse transform sampling is \",np.mean(h(X)))"
   ]
  },
  {
   "cell_type": "markdown",
   "metadata": {},
   "source": [
    "**1.2.** Rejection Sampling with a uniform proposal distribution (rejection sampling in a rectangular box with uniform probability of sampling any x)"
   ]
  },
  {
   "cell_type": "code",
   "execution_count": 95,
   "metadata": {},
   "outputs": [],
   "source": [
    "N = 100000\n",
    "exp_h_integrand = lambda x: h(x)*p(x)"
   ]
  },
  {
   "cell_type": "code",
   "execution_count": 96,
   "metadata": {},
   "outputs": [
    {
     "name": "stdout",
     "output_type": "stream",
     "text": [
      "The expected value according to rejection sampling is  0.058830400000000005\n"
     ]
    }
   ],
   "source": [
    "X = np.random.uniform(1, 9, N)\n",
    "y_max = 0.02\n",
    "Y_sample = np.random.uniform(0,y_max,N)\n",
    "exp_h_sample = np.array([exp_h_integrand(x) for x in X])\n",
    "accepted = exp_h_sample > Y_sample\n",
    "accepted_prop = sum(accepted)/len(accepted)\n",
    "print(\"The expected value according to rejection sampling is \",accepted_prop*(9-1)*y_max)"
   ]
  },
  {
   "cell_type": "markdown",
   "metadata": {},
   "source": [
    "<div class=\"answer-separator\">\n",
    "------------------------\n",
    "</div>"
   ]
  },
  {
   "cell_type": "markdown",
   "metadata": {},
   "source": [
    "## Question 2: The Consequences of O-ring Failure can be Painful and Deadly"
   ]
  },
  {
   "cell_type": "markdown",
   "metadata": {},
   "source": [
    "**Coding required**\n",
    "\n",
    "In 1986, the space shuttle Challenger exploded during take off, killing the seven astronauts aboard. It is believed that the explosion was caused by the failure of an O-ring (a rubber ring that seals parts of the solid fuel rockets together), and that the failure was caused by the cold weather at the time of launch (31F).\n",
    "\n",
    "In the file chall.txt, you will find temperature (in Fahrenheit) and failure data from 23 shuttle launches, where 1 stands for O-ring failure and 0 no failure. We assume that the observed temperatures are fixed and that, at temperature $t$, an O-ring fails with probability $f(\\theta_{1}+\\theta_{2}t)$ conditionally on $\\Theta = (\\theta_1, \\theta_2)$.\n",
    "\n",
    "$f(z)$ is defined to be the logistic function -- $f(z) = 1/(1 + \\exp(-z))$ \n",
    "\n",
    "**2.1. Based on your own knowledge and experience, suggest a prior distribution for the regression parameters ($\\theta_1, \\theta_2$).  Make sure to explain your choice of prior.**"
   ]
  },
  {
   "cell_type": "markdown",
   "metadata": {},
   "source": [
    "###### Let $\\theta_3 = -\\theta_1 / \\theta_2$. Then $\\theta_1+\\theta_2 x = \\theta_2(x-\\theta_3)$\n",
    "\n",
    "The question states that the failure is more likely at colder temperatures, so we know that $\\theta_2$ is likely to be negative. We also know that there is probably a lot of noise in the relationship between temperature and O-ring failure, so we can say that $\\theta_2$ is likely not very negative. I will pick a normal prior with mean -1 and standard deviation 5.\n",
    "\n",
    "I do not know where this transition occurs, so I will choose a wide prior for $\\theta_3$: a normal prior between centered at 50 and with standard deviation of 20."
   ]
  },
  {
   "cell_type": "markdown",
   "metadata": {},
   "source": [
    "**2.2. Produce 5000-10000 samples from the posterior distribution of $\\Theta $ using rejection sampling, and plot them and their marginals. (This may take a while.)**"
   ]
  },
  {
   "cell_type": "code",
   "execution_count": 21,
   "metadata": {
    "scrolled": true
   },
   "outputs": [
    {
     "data": {
      "text/html": [
       "<div>\n",
       "<style scoped>\n",
       "    .dataframe tbody tr th:only-of-type {\n",
       "        vertical-align: middle;\n",
       "    }\n",
       "\n",
       "    .dataframe tbody tr th {\n",
       "        vertical-align: top;\n",
       "    }\n",
       "\n",
       "    .dataframe thead th {\n",
       "        text-align: right;\n",
       "    }\n",
       "</style>\n",
       "<table border=\"1\" class=\"dataframe\">\n",
       "  <thead>\n",
       "    <tr style=\"text-align: right;\">\n",
       "      <th></th>\n",
       "      <th>temp</th>\n",
       "      <th>failure</th>\n",
       "    </tr>\n",
       "  </thead>\n",
       "  <tbody>\n",
       "    <tr>\n",
       "      <th>0</th>\n",
       "      <td>66</td>\n",
       "      <td>0</td>\n",
       "    </tr>\n",
       "    <tr>\n",
       "      <th>1</th>\n",
       "      <td>70</td>\n",
       "      <td>1</td>\n",
       "    </tr>\n",
       "    <tr>\n",
       "      <th>2</th>\n",
       "      <td>69</td>\n",
       "      <td>0</td>\n",
       "    </tr>\n",
       "    <tr>\n",
       "      <th>3</th>\n",
       "      <td>68</td>\n",
       "      <td>0</td>\n",
       "    </tr>\n",
       "    <tr>\n",
       "      <th>4</th>\n",
       "      <td>67</td>\n",
       "      <td>0</td>\n",
       "    </tr>\n",
       "  </tbody>\n",
       "</table>\n",
       "</div>"
      ],
      "text/plain": [
       "   temp  failure\n",
       "0    66        0\n",
       "1    70        1\n",
       "2    69        0\n",
       "3    68        0\n",
       "4    67        0"
      ]
     },
     "execution_count": 21,
     "metadata": {},
     "output_type": "execute_result"
    }
   ],
   "source": [
    "oring = pd.read_csv('./chall.txt',header = None, delim_whitespace=True)\n",
    "oring.columns = ['temp', 'failure']\n",
    "oring.head()"
   ]
  },
  {
   "cell_type": "code",
   "execution_count": 25,
   "metadata": {},
   "outputs": [],
   "source": [
    "def logprior(theta_2,theta_3):\n",
    "    return (scipy.stats.norm.logpdf(theta_3, loc = 60, scale = 20) \n",
    "            + scipy.stats.norm.logpdf(theta_2, loc = -1, scale = 5))\n",
    "\n",
    "def loglikelihood(theta_2,theta_3, temp = oring['temp'], label = oring['failure']):\n",
    "    temp = np.array(temp)\n",
    "    linearterm = theta_2*(temp - theta_3) \n",
    "    logits = 1/(1+np.exp(-linearterm))\n",
    "    return np.sum([np.log(l) if label[idx] == 1 else np.log(1-l) for idx, l in enumerate(logits)])\n",
    "\n",
    "def posterior(theta_2,theta_3):\n",
    "    return np.exp(loglikelihood(theta_2,theta_3) + logprior(theta_2,theta_3))"
   ]
  },
  {
   "cell_type": "code",
   "execution_count": 26,
   "metadata": {},
   "outputs": [
    {
     "name": "stderr",
     "output_type": "stream",
     "text": [
      "/Users/joshfeldman/anaconda3/envs/py36/lib/python3.6/site-packages/ipykernel/__main__.py:9: RuntimeWarning: divide by zero encountered in log\n"
     ]
    },
    {
     "name": "stdout",
     "output_type": "stream",
     "text": [
      "5.813253436377272e-08\n"
     ]
    }
   ],
   "source": [
    "# find maximum with grid\n",
    "theta_2s = np.linspace(-5,0,100)\n",
    "theta_3s = np.linspace(40,80,100)\n",
    "print(max([posterior(t2,t3) for t2 in theta_2s for t3 in theta_3s]))"
   ]
  },
  {
   "cell_type": "code",
   "execution_count": 32,
   "metadata": {},
   "outputs": [
    {
     "name": "stderr",
     "output_type": "stream",
     "text": [
      "/Users/joshfeldman/anaconda3/envs/py36/lib/python3.6/site-packages/ipykernel/__main__.py:9: RuntimeWarning: divide by zero encountered in log\n"
     ]
    },
    {
     "name": "stdout",
     "output_type": "stream",
     "text": [
      "100\n",
      "200\n",
      "300\n",
      "400\n",
      "500\n",
      "600\n",
      "700\n",
      "800\n",
      "900\n",
      "1000\n",
      "1100\n",
      "1200\n",
      "1300\n",
      "1400\n",
      "1500\n",
      "1600\n",
      "1700\n",
      "1800\n",
      "1900\n",
      "2000\n",
      "2100\n",
      "2200\n",
      "2300\n",
      "2400\n",
      "2500\n",
      "2600\n",
      "2700\n",
      "2800\n",
      "2900\n",
      "3000\n",
      "3100\n",
      "3200\n",
      "3300\n",
      "3400\n",
      "3500\n",
      "3600\n",
      "3700\n",
      "3800\n",
      "3900\n",
      "4000\n",
      "4100\n",
      "4200\n",
      "4300\n",
      "4400\n",
      "4500\n",
      "4600\n",
      "4700\n",
      "4800\n",
      "4900\n",
      "5000\n"
     ]
    }
   ],
   "source": [
    "required_num_samples = 5000\n",
    "accepted_samples = []\n",
    "while len(accepted_samples) < required_num_samples:\n",
    "    theta_2 = np.random.uniform(-11,9)\n",
    "    theta_3 = np.random.uniform(20,100)\n",
    "    probs = np.random.uniform(0,1.0e-07)\n",
    "    if probs < posterior(theta_2, theta_3):\n",
    "        accepted_samples.append((theta_2, theta_3))\n",
    "        if len(accepted_samples) % 100 == 0:\n",
    "            print(len(accepted_samples))"
   ]
  },
  {
   "cell_type": "code",
   "execution_count": 33,
   "metadata": {},
   "outputs": [
    {
     "data": {
      "text/html": [
       "<div>\n",
       "<style scoped>\n",
       "    .dataframe tbody tr th:only-of-type {\n",
       "        vertical-align: middle;\n",
       "    }\n",
       "\n",
       "    .dataframe tbody tr th {\n",
       "        vertical-align: top;\n",
       "    }\n",
       "\n",
       "    .dataframe thead th {\n",
       "        text-align: right;\n",
       "    }\n",
       "</style>\n",
       "<table border=\"1\" class=\"dataframe\">\n",
       "  <thead>\n",
       "    <tr style=\"text-align: right;\">\n",
       "      <th></th>\n",
       "      <th>theta_2</th>\n",
       "      <th>theta_3</th>\n",
       "      <th>theta_1</th>\n",
       "    </tr>\n",
       "  </thead>\n",
       "  <tbody>\n",
       "    <tr>\n",
       "      <th>0</th>\n",
       "      <td>-0.244530</td>\n",
       "      <td>60.317308</td>\n",
       "      <td>14.749395</td>\n",
       "    </tr>\n",
       "    <tr>\n",
       "      <th>1</th>\n",
       "      <td>-0.063615</td>\n",
       "      <td>56.154165</td>\n",
       "      <td>3.572274</td>\n",
       "    </tr>\n",
       "    <tr>\n",
       "      <th>2</th>\n",
       "      <td>-0.168119</td>\n",
       "      <td>67.848002</td>\n",
       "      <td>11.406566</td>\n",
       "    </tr>\n",
       "    <tr>\n",
       "      <th>3</th>\n",
       "      <td>-0.335525</td>\n",
       "      <td>66.952031</td>\n",
       "      <td>22.464071</td>\n",
       "    </tr>\n",
       "    <tr>\n",
       "      <th>4</th>\n",
       "      <td>-0.264192</td>\n",
       "      <td>65.749364</td>\n",
       "      <td>17.370461</td>\n",
       "    </tr>\n",
       "  </tbody>\n",
       "</table>\n",
       "</div>"
      ],
      "text/plain": [
       "    theta_2    theta_3    theta_1\n",
       "0 -0.244530  60.317308  14.749395\n",
       "1 -0.063615  56.154165   3.572274\n",
       "2 -0.168119  67.848002  11.406566\n",
       "3 -0.335525  66.952031  22.464071\n",
       "4 -0.264192  65.749364  17.370461"
      ]
     },
     "execution_count": 33,
     "metadata": {},
     "output_type": "execute_result"
    }
   ],
   "source": [
    "theta_posterior = pd.DataFrame(accepted_samples)\n",
    "theta_posterior.columns = ['theta_2','theta_3']\n",
    "theta_posterior['theta_1'] = -theta_posterior['theta_2']*theta_posterior['theta_3']\n",
    "theta_posterior.head()"
   ]
  },
  {
   "cell_type": "code",
   "execution_count": 34,
   "metadata": {},
   "outputs": [
    {
     "data": {
      "image/png": "[encoded data removed]",
      "text/plain": [
       "<Figure size 432x288 with 1 Axes>"
      ]
     },
     "metadata": {},
     "output_type": "display_data"
    }
   ],
   "source": [
    "plt.hist2d(theta_posterior.theta_1,theta_posterior.theta_2,bins = 100)\n",
    "plt.xlabel(\"theta 1 posterior samples\")\n",
    "plt.ylabel(\"theta 2 posterior samples\")\n",
    "plt.title(\"Samples from Posterior Distribution\")\n",
    "plt.show()"
   ]
  },
  {
   "cell_type": "code",
   "execution_count": 35,
   "metadata": {},
   "outputs": [
    {
     "data": {
      "image/png": "[encoded data removed]",
      "text/plain": [
       "<Figure size 432x288 with 1 Axes>"
      ]
     },
     "metadata": {},
     "output_type": "display_data"
    }
   ],
   "source": [
    "plt.hist(theta_posterior.theta_1,bins = 20, density = True)\n",
    "plt.xlabel('theta 1')\n",
    "plt.ylabel('density')\n",
    "plt.title('theta 1 conditional posterior distribution')\n",
    "plt.show()"
   ]
  },
  {
   "cell_type": "code",
   "execution_count": 36,
   "metadata": {},
   "outputs": [
    {
     "data": {
      "image/png": "[encoded data removed]",
      "text/plain": [
       "<Figure size 432x288 with 1 Axes>"
      ]
     },
     "metadata": {},
     "output_type": "display_data"
    }
   ],
   "source": [
    "plt.hist(theta_posterior.theta_2, bins = 20, density = True)\n",
    "plt.xlabel('theta 2')\n",
    "plt.ylabel('density')\n",
    "plt.title('theta 2 conditional posterior distribution')\n",
    "plt.show()\n",
    "plt.show()"
   ]
  },
  {
   "cell_type": "markdown",
   "metadata": {},
   "source": [
    "**2.3.** Use the logit package in the `statsmodels` library to compute 68% confidence intervals on the $\\theta$ parameters.  Compare those intervals with the 68% credible intervals from the posterior above. Overlay these on the above marginals plots. "
   ]
  },
  {
   "cell_type": "code",
   "execution_count": 37,
   "metadata": {},
   "outputs": [
    {
     "name": "stdout",
     "output_type": "stream",
     "text": [
      "Optimization terminated successfully.\n",
      "         Current function value: 0.441635\n",
      "         Iterations 7\n"
     ]
    }
   ],
   "source": [
    "from statsmodels.tools.tools import add_constant\n",
    "from statsmodels.discrete.discrete_model import Logit\n",
    "\n",
    "model = Logit(oring.failure, add_constant(oring.temp)).fit()\n",
    "theta_1_lower_conf = model.params[0]-model.bse[0]\n",
    "theta_1_upper_conf = model.params[0]+model.bse[0]\n",
    "theta_2_lower_conf = model.params[1]-model.bse[1]\n",
    "theta_2_upper_conf = model.params[1]+model.bse[1]"
   ]
  },
  {
   "cell_type": "code",
   "execution_count": 38,
   "metadata": {},
   "outputs": [],
   "source": [
    "theta_1_lower_cred, theta_1_upper_cred = np.percentile(theta_posterior.theta_1,[16, 84])\n",
    "theta_2_lower_cred, theta_2_upper_cred = np.percentile(theta_posterior.theta_2,[16, 84])"
   ]
  },
  {
   "cell_type": "code",
   "execution_count": 153,
   "metadata": {},
   "outputs": [
    {
     "data": {
      "text/plain": [
       "(6.927628537754204, 22.905245296917972)"
      ]
     },
     "execution_count": 153,
     "metadata": {},
     "output_type": "execute_result"
    }
   ],
   "source": [
    "theta_1_lower_cred, theta_1_upper_cred"
   ]
  },
  {
   "cell_type": "code",
   "execution_count": 154,
   "metadata": {},
   "outputs": [
    {
     "data": {
      "text/plain": [
       "(-0.34829214190754, -0.11430612442378575)"
      ]
     },
     "execution_count": 154,
     "metadata": {},
     "output_type": "execute_result"
    }
   ],
   "source": [
    "theta_2_lower_cred, theta_2_upper_cred"
   ]
  },
  {
   "cell_type": "code",
   "execution_count": 39,
   "metadata": {},
   "outputs": [
    {
     "data": {
      "image/png": "[encoded data removed]",
      "text/plain": [
       "<Figure size 432x288 with 1 Axes>"
      ]
     },
     "metadata": {},
     "output_type": "display_data"
    }
   ],
   "source": [
    "plt.hist(theta_posterior.theta_1,bins = 20, label = 'samples', density = True)\n",
    "plt.vlines(theta_1_lower_conf, color = 'r', label = '68% Confidence Interval',ymin = 0,ymax = 0.06)\n",
    "plt.vlines(theta_1_upper_conf, color = 'r', label = '68% Confidence Interval',ymin = 0,ymax = 0.06)\n",
    "plt.vlines(theta_1_lower_cred, color = 'orange', label = '68% Credible Interval',ymin = 0,ymax = 0.06)\n",
    "plt.vlines(theta_1_upper_cred, color = 'orange', label = '68% Credible Interval',ymin = 0,ymax = 0.06)\n",
    "plt.xlabel('theta 1')\n",
    "plt.ylabel('density')\n",
    "plt.title('theta 1 conditional posterior distribution')\n",
    "plt.legend()\n",
    "plt.show()"
   ]
  },
  {
   "cell_type": "code",
   "execution_count": 40,
   "metadata": {},
   "outputs": [
    {
     "data": {
      "image/png": "[encoded data removed]",
      "text/plain": [
       "<Figure size 432x288 with 1 Axes>"
      ]
     },
     "metadata": {},
     "output_type": "display_data"
    }
   ],
   "source": [
    "plt.hist(theta_posterior.theta_2,bins = 20, label = 'samples', density = True)\n",
    "plt.vlines(theta_2_lower_conf, color = 'r', label = '68% Confidence Interval',ymin = 0,ymax = 4)\n",
    "plt.vlines(theta_2_upper_conf, color = 'r', label = '68% Confidence Interval',ymin = 0,ymax = 4)\n",
    "plt.vlines(theta_2_lower_cred, color = 'orange', label = '68% Credible Interval',ymin = 0,ymax = 4)\n",
    "plt.vlines(theta_2_upper_cred, color = 'orange', label = '68% Credible Interval',ymin = 0,ymax = 4)\n",
    "plt.xlabel('theta 2')\n",
    "plt.ylabel('density')\n",
    "plt.title('theta 2 conditional posterior distribution')\n",
    "plt.legend()\n",
    "plt.show()"
   ]
  },
  {
   "cell_type": "markdown",
   "metadata": {},
   "source": [
    "**2.4.** Use the MLE values from `statsmodels` and the posterior mean from **2.2** at each temperature to plot the probability of failure in the frequentist and bayesian settings as a function of temperature. What do you see? "
   ]
  },
  {
   "cell_type": "code",
   "execution_count": 157,
   "metadata": {},
   "outputs": [
    {
     "data": {
      "image/png": "[encoded data removed]",
      "text/plain": [
       "<Figure size 432x288 with 1 Axes>"
      ]
     },
     "metadata": {},
     "output_type": "display_data"
    }
   ],
   "source": [
    "theta_1_mean = theta_posterior.theta_1.mean()\n",
    "theta_2_mean = theta_posterior.theta_2.mean()\n",
    "bayes_prob_failure = lambda x: 1/(1+np.exp(-(theta_1_mean+theta_2_mean*x)))\n",
    "\n",
    "temp_lin = np.linspace(0,100,1000)\n",
    "plt.plot(temp_lin,model.predict(add_constant(temp_lin)), label = 'MLE Values')\n",
    "plt.plot(temp_lin,bayes_prob_failure(temp_lin), label = 'Posterior Mean')\n",
    "plt.xlabel('temperature')\n",
    "plt.ylabel('probability of failure')\n",
    "plt.title('Probability of Failure as a Function of Temperature using Frequentist and Bayesian Approaches')\n",
    "plt.legend()\n",
    "plt.show()"
   ]
  },
  {
   "cell_type": "markdown",
   "metadata": {},
   "source": [
    "The predictions from the two models are almost identical."
   ]
  },
  {
   "cell_type": "markdown",
   "metadata": {},
   "source": [
    "**2.5.** Compute the mean posterior probability for an O-ring failure at $t = 31^\\circ F$. To do this you must calculate the posterior at $31^\\circ F$ and take the mean of the samples obtained."
   ]
  },
  {
   "cell_type": "code",
   "execution_count": 55,
   "metadata": {},
   "outputs": [
    {
     "name": "stdout",
     "output_type": "stream",
     "text": [
      "Mean posterior probability:  0.9701706853026671\n"
     ]
    }
   ],
   "source": [
    "failure_31_post = 1/(1+np.exp(-(theta_posterior.theta_1+theta_posterior.theta_2*31)))\n",
    "print(\"Mean posterior probability: \",np.mean(failure_31_post))"
   ]
  },
  {
   "cell_type": "markdown",
   "metadata": {},
   "source": [
    "**2.6.** You can instead obtain the probability from the posterior predictive. Use the posterior samples to obtain samples from the posterior predictive at $31^\\circ F$ and calculate the fraction of failures."
   ]
  },
  {
   "cell_type": "code",
   "execution_count": 159,
   "metadata": {},
   "outputs": [
    {
     "name": "stdout",
     "output_type": "stream",
     "text": [
      "Proportion failure in posterior predictive:  0.9712\n"
     ]
    }
   ],
   "source": [
    "failure_31_post_pred = np.random.binomial(n =1, p = failure_31_prob)\n",
    "print(\"Proportion failure in posterior predictive: \",np.mean(failure_31_post_pred))"
   ]
  },
  {
   "cell_type": "markdown",
   "metadata": {},
   "source": [
    "**2.7.** The day before a new launch, meteorologists predict that the temperature will be $T \\sim N(68, 1)$ during take-off. Estimate the probability for an O-ring failure during this take-off. (You will calculate multiple predictives at different temperatures for this purpose)."
   ]
  },
  {
   "cell_type": "code",
   "execution_count": 64,
   "metadata": {},
   "outputs": [
    {
     "name": "stdout",
     "output_type": "stream",
     "text": [
      "Probability of O-ring failure is  0.32678291588542663\n"
     ]
    }
   ],
   "source": [
    "temps = np.random.normal(loc = 68, scale = 1, size = 1000)\n",
    "mean_posterior_prob_failure = []\n",
    "for t in temps:\n",
    "    failure_31_post = 1/(1+np.exp(-(theta_posterior.theta_1+theta_posterior.theta_2*t)))\n",
    "    mean_posterior_prob_failure.append(np.mean(failure_31_post))\n",
    "print(\"Probability of O-ring failure is \", np.mean(mean_posterior_prob_failure))"
   ]
  },
  {
   "cell_type": "markdown",
   "metadata": {},
   "source": [
    "<div class=\"answer-separator\">\n",
    "------------------------\n",
    "</div>"
   ]
  },
  {
   "cell_type": "markdown",
   "metadata": {},
   "source": [
    "## Question 3: Maximum Uniformity -- Frequentist Bootstraps and the Bayesian Posterior"
   ]
  },
  {
   "cell_type": "markdown",
   "metadata": {},
   "source": [
    "**Coding required**\n",
    "\n",
    "Recall in HW 3 Question 1 we attempted to explore an edge case in using non-parametric bootstrap to construct confidence intervals.  Let's revisit the setup of that problem.\n",
    "Suppose you have $\\{X_1, X_2, ... X_n\\}$ datapoints such that $X_i$ are independently and identically drawn from a $Unif(0, \\theta)$.  Consider the extreme order statistic Y = $X_{(n)}$ = max($X_1, X_2, ... X_n$).\n",
    "\n",
    "**1.1. Derive (or possibly re-write from HW3) expressions for $F_Y(y\\ \\vert\\ n, \\theta)$ the CDF of Y and $f_Y(y\\ |\\ n, \\theta)$ the pdf of Y.**"
   ]
  },
  {
   "cell_type": "markdown",
   "metadata": {},
   "source": [
    "Let x be between 0 and $\\theta$. We first derive the cdf.\n",
    "$$\n",
    "\\begin{align}\n",
    "F_Y(y \\vert n, \\theta) &= P(Y < y|n, \\theta) \\\\\n",
    "&= P(\\text{max}(X_1, X_2, ... X_n) < y|n,\\theta) \\\\\n",
    "&= P(X_1 < x, X_2 < x, ..., X_n < y |n, \\theta) \\\\\n",
    "&= \\prod_{i = 0}^{n}P(X_i < y|n, \\theta) \\\\\n",
    "&= \\prod_{i = 0}^{n}\\frac{y}{\\theta} \\\\\n",
    "&= \\left(\\frac{y}{\\theta}\\right)^n\n",
    "\\end{align}\n",
    "$$\n",
    "We take the derivate to find the pdf.\n",
    "\n",
    "$$\n",
    "\\begin{align}\n",
    "f_Y(Y|\\theta) &= \\frac{d}{dy}P(Y < y|n,\\theta) \\\\\n",
    "&= \\frac{d}{dy} \\left(\\frac{y}{\\theta}\\right)^n \\\\\n",
    "&= \\frac{ny^{n-1}}{\\theta^n}\n",
    "\\end{align}\n",
    "$$"
   ]
  },
  {
   "cell_type": "markdown",
   "metadata": {},
   "source": [
    "**1.2. In HW3 we had difficulty constructing confidence intervals to estimate $\\theta$ with percentiles as normal so instead we introduced  pivot confidence intervals.  Let's reframe the problem so that we can use percentiles to construct our confidence intervals.  Define $Z \\equiv n \\cdot (\\theta - Y)$ use elementary calculation to write an expression for $F_Z(z\\ \\vert\\ n, \\theta)$ the CDF of $Z$ and $f_Z(y\\ |\\ n, \\theta)$ the pdf of Z.**"
   ]
  },
  {
   "cell_type": "markdown",
   "metadata": {},
   "source": [
    "$$\n",
    "\\begin{align}\n",
    "F_Z(z \\vert n, \\theta) &= P(Z < z \\vert n, \\theta) \\\\\n",
    "&= P(n \\cdot (\\theta - Y) < z \\vert n, \\theta) \\\\\n",
    "&= P(Y > \\theta - z/n \\vert n, \\theta) \\\\ \n",
    "&= 1 - P(Y < \\theta - z/n \\vert n, \\theta) \\\\ \n",
    "&= 1 - F_Y(\\theta - z/n) \\\\\n",
    "&= 1 - \\left(\\frac{\\theta - z/n}{\\theta}\\right)^n \\\\\n",
    "\\end{align}\n",
    "$$\n",
    "\n",
    "We take the derivate to find the pdf.\n",
    "\n",
    "$$\n",
    "\\begin{align}\n",
    "f_Z(z|n,\\theta) &= \\frac{d}{dz}P(Z < z|n,\\theta) \\\\\n",
    "&= \\frac{d}{dz} 1 - \\left(\\frac{\\theta - z/n}{\\theta}\\right)^n \\\\\n",
    "&= \\frac{\\left(1-\\frac{z}{n\\theta}\\right)^{n-1}}{\\theta}\n",
    "\\end{align}\n",
    "$$\n"
   ]
  },
  {
   "cell_type": "markdown",
   "metadata": {},
   "source": [
    "**1.3. What is the limiting distribution of Z (as $n \\rightarrow \\infty$)?  Plot that limiting distribution.**"
   ]
  },
  {
   "cell_type": "markdown",
   "metadata": {},
   "source": [
    "$$\n",
    "\\begin{align}\n",
    "\\lim_{n\\to\\infty} f_Z(z|n,\\theta) &= \\lim_{n\\to\\infty} \\frac{\\left(1-\\frac{z}{n\\theta}\\right)^{n-1}}{\\theta} \\\\\n",
    "&= \\lim_{n\\to\\infty} \\frac{\\left(1-\\frac{z}{n\\theta}\\right)^{n}}{\\left(1-\\frac{z}{n\\theta}\\right)\\theta} \\\\\n",
    "&= \\frac{e^{-z/\\theta}}{\\theta}\n",
    "\\end{align}\n",
    "$$"
   ]
  },
  {
   "cell_type": "code",
   "execution_count": 110,
   "metadata": {},
   "outputs": [
    {
     "data": {
      "text/plain": [
       "[<matplotlib.lines.Line2D at 0x1a1a6155c0>]"
      ]
     },
     "execution_count": 110,
     "metadata": {},
     "output_type": "execute_result"
    },
    {
     "data": {
      "image/png": "[encoded data removed]",
      "text/plain": [
       "<Figure size 432x288 with 1 Axes>"
      ]
     },
     "metadata": {},
     "output_type": "display_data"
    }
   ],
   "source": [
    "theta = 100\n",
    "z = np.linspace(0,100,1000)\n",
    "limit_Z = lambda z: np.exp(-z/theta)/theta\n",
    "plt.plot(z,limit_Z(z))"
   ]
  },
  {
   "cell_type": "markdown",
   "metadata": {},
   "source": [
    "**1.4. Use scipy/numpy to generate 100000 samples {$X_i$} from Unif(0,100) (i.e. let $\\theta$ = 100).  Store them in Based on your data sample, what's $\\hat{\\theta}$ the empirical estimate for $\\theta$.**"
   ]
  },
  {
   "cell_type": "code",
   "execution_count": 139,
   "metadata": {},
   "outputs": [
    {
     "name": "stdout",
     "output_type": "stream",
     "text": [
      "The empirical estimate for theta is  99.99879029533186\n"
     ]
    }
   ],
   "source": [
    "N = 100000\n",
    "samples = np.random.uniform(0,100,N)\n",
    "theta_hat = np.max(samples)\n",
    "print(\"The empirical estimate for theta is \", theta_hat)"
   ]
  },
  {
   "cell_type": "markdown",
   "metadata": {},
   "source": [
    "**1.5. Use non-parametric bootstrap to generate a sampling distribution of 10000 estimates for $Z$ by substituting $\\hat{\\theta}$ for $\\theta$.  Plot a histogram of your sampling distribution.  Make sure to title and label the plot.  Use percentiles to construct the 10% and 68% bootstrap confidence intervals.  Plot them in your graph.**\n",
    "\n",
    "**Hint:  Should the confidence intervals be symmetric around the estimate $\\hat{\\theta}$**?"
   ]
  },
  {
   "cell_type": "code",
   "execution_count": 112,
   "metadata": {},
   "outputs": [],
   "source": [
    "num_of_bootstraps = 10000\n",
    "bootstap_samples = np.random.choice(samples, replace=True, size = (num_of_bootstraps, N))\n",
    "sampling_distribution = N*(theta_hat - np.max(bootstap_samples, axis = 1))"
   ]
  },
  {
   "cell_type": "code",
   "execution_count": 113,
   "metadata": {},
   "outputs": [],
   "source": [
    "ten_CI_lower, ten_CI_upper = np.percentile(sampling_distribution, [45,55])\n",
    "sixty_eight_CI_lower, sixty_eight_CI_upper = np.percentile(sampling_distribution, [16,84])"
   ]
  },
  {
   "cell_type": "code",
   "execution_count": 114,
   "metadata": {},
   "outputs": [
    {
     "data": {
      "image/png": "[encoded data removed]",
      "text/plain": [
       "<Figure size 432x288 with 1 Axes>"
      ]
     },
     "metadata": {},
     "output_type": "display_data"
    }
   ],
   "source": [
    "plt.hist(sampling_distribution)\n",
    "plt.vlines(ten_CI_lower, color = 'r', label = '10% Confidence Interval',ymin = 0,ymax = 10000)\n",
    "plt.vlines(ten_CI_upper, color = 'r', label = '10% Confidence Interval',ymin = 0,ymax = 10000)\n",
    "plt.vlines(sixty_eight_CI_lower, color = 'g', linestyles = 'dashed',label = '68% Confidence Interval',ymin = 0,ymax = 10000)\n",
    "plt.vlines(sixty_eight_CI_upper, color = 'g', linestyles= 'dashed',label = '68% Confidence Interval',ymin = 0,ymax = 10000)\n",
    "plt.xlabel('Z')\n",
    "plt.ylabel('Count')\n",
    "plt.title('Sampling Distribution of Z')\n",
    "plt.legend()\n",
    "plt.show()"
   ]
  },
  {
   "cell_type": "markdown",
   "metadata": {},
   "source": [
    "**1.6. Make an argument that we can construct a bootstrap confidence interval that always mismatches the limiting distribution.**"
   ]
  },
  {
   "cell_type": "markdown",
   "metadata": {},
   "source": [
    "As the size of our bootstrap samples get larger, the chance of having the maximum value from the original dataset in our boostrap sample increases. The probability of having the maximum value in our bootstrap sample is $1-(1-1/n)^n$. If we let n go to infinity, \n",
    "\n",
    "$$\n",
    "\\lim_{n \\to \\infty} 1-(1-1/n)^n = \\frac{e-1}{e}\n",
    "$$\n",
    "\n",
    "This means that the probability that $p(Z = 0) = \\frac{e-1}{e}$, which is different from the pdf $f(0) = \\frac{1}{\\theta}$. Hence the confidence interval will mismatch the limiting distribution."
   ]
  },
  {
   "cell_type": "markdown",
   "metadata": {},
   "source": [
    "**1.8. Let's switch to being Bayesian.  In 1.1 we came up with an expression for the likelihood $f_Y(y\\ |\\ n, \\theta)$.  Use the [Pareto distribution](https://en.wikipedia.org/wiki/Pareto_distribution) to construct a prior for $\\theta$.  What are some reasonable values to use for the scale and shape?**"
   ]
  },
  {
   "cell_type": "markdown",
   "metadata": {},
   "source": [
    "Since we don't know anything about $\\theta$, we define the prior to have scale $\\beta = 1$ and shape $\\alpha = 0.1$. This assumes that theta is greater than 1."
   ]
  },
  {
   "cell_type": "markdown",
   "metadata": {},
   "source": [
    "**1.9. Write down an expression for the posterior distribution $f_Y(\\theta\\ |\\ n, y)$**"
   ]
  },
  {
   "cell_type": "markdown",
   "metadata": {},
   "source": [
    "$$\n",
    "\\begin{align}\n",
    "f_Y(\\theta\\ |y,n) &= \\frac{f(y, n\\vert\\theta)f(\\theta)}{\\int_1^\\infty f(y, n\\vert\\theta)f(\\theta)d\\theta} \\\\\n",
    "&= \\frac{\\frac{ny^{n-1}}{\\theta^n}\\frac{\\alpha \\beta^\\alpha}{\\theta^{\\alpha+1}}}{\\int_y^\\infty \\frac{ny^{n-1}}{\\theta^n}\\frac{\\alpha \\beta^\\alpha}{\\theta^{\\alpha+1}}d\\theta} \\\\\n",
    "&= \\frac{\\theta^{-(n+\\alpha+1)}}{\\int_y^\\infty \\theta^{-(n+\\alpha+1)} d\\theta} \\\\\n",
    "&= \\frac{(n+\\alpha)\\theta^{-(n+\\alpha+1)}}{y^{-(n+\\alpha)}}\\\\\n",
    "&= \\frac{(n+\\alpha)y^{n+\\alpha}}{\\theta^{n+\\alpha+1}}\\\\\n",
    "&= \\text{pareto}(n+0.1,y)\n",
    "\\end{align}\n",
    "$$"
   ]
  },
  {
   "cell_type": "markdown",
   "metadata": {},
   "source": [
    "**1.10. Draw 10000 posterior samples and plot a histogram of the posterior distribution.  Use percentiles to construct the 68% HPD.  Plot the posterior distribution and mark the HPD on your plot.**"
   ]
  },
  {
   "cell_type": "code",
   "execution_count": 148,
   "metadata": {},
   "outputs": [
    {
     "data": {
      "image/png": "[encoded data removed]",
      "text/plain": [
       "<Figure size 432x288 with 1 Axes>"
      ]
     },
     "metadata": {},
     "output_type": "display_data"
    }
   ],
   "source": [
    "a = 0.1\n",
    "a_post, b_post = N+a, theta_hat  # shape and mode\n",
    "s = (np.random.pareto(a_post, 10000) + 1) * b_post\n",
    "HPD_lower, HPD_upper = np.percentile(s, [0,68])\n",
    "plt.hist(s, density = True, bins = 200, label = 'Theta Posterior Samples')\n",
    "plt.vlines(HPD_lower, color = 'r', label = '68% HPD',ymin = 0,ymax = 900)\n",
    "plt.vlines(HPD_upper, color = 'r', label = '68% HPD',ymin = 0,ymax = 900)\n",
    "plt.legend()\n",
    "plt.xlabel('theta')\n",
    "plt.ylabel('density')\n",
    "plt.title('posterior distribution for theta')\n",
    "plt.show()"
   ]
  },
  {
   "cell_type": "markdown",
   "metadata": {},
   "source": [
    "**1.11.** How does th 68% HPD compare with the confidence interval generated from bootstrapping?  Why doesn't the bayesian interval construction suffer the same concerns you noted in 1.6"
   ]
  },
  {
   "cell_type": "markdown",
   "metadata": {},
   "source": [
    "The frequentist approach treats our parameter estimates as fixed and tries to model the uncertainty induced by the data generating process. Since we are dealing with the edge of our distribution, it is difficult to model uncertainty in the data generating process.\n",
    "\n",
    "The Bayesian approach, alternatively, treats the data as fixed and accounts for uncertainty in our parameters.  In the Bayesian approach, it doesn't matter that we are dealing with the edge of our distribution because our data is assumed to be fixed - instead, we transfer the uncertainty to our parameters which implicitly handle our \"data point\" being at the edge of our sample."
   ]
  },
  {
   "cell_type": "markdown",
   "metadata": {},
   "source": [
    "<div class=\"answer-separator\">\n",
    "------------------------\n",
    "</div>"
   ]
  }
 ],
 "metadata": {
  "anaconda-cloud": {},
  "kernelspec": {
   "display_name": "Python [conda env:py36]",
   "language": "python",
   "name": "conda-env-py36-py"
  },
  "language_info": {
   "codemirror_mode": {
    "name": "ipython",
    "version": 3
   },
   "file_extension": ".py",
   "mimetype": "text/x-python",
   "name": "python",
   "nbconvert_exporter": "python",
   "pygments_lexer": "ipython3",
   "version": "3.6.6"
  }
 },
 "nbformat": 4,
 "nbformat_minor": 2
}
