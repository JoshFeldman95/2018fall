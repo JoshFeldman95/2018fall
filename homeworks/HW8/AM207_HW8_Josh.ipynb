{
 "cells": [
  {
   "cell_type": "markdown",
   "metadata": {},
   "source": [
    "# Homework 8\n",
    "\n",
    "**Harvard University**<br>\n",
    "**Fall 2018**<br>\n",
    "**Instructors: Rahul Dave**<br>\n",
    "**Due Date:** Saturday, November 3rd, 2018 at 11:59pm\n",
    "\n",
    "**Instructions:**\n",
    "\n",
    "- Upload your final answers in the form of a Jupyter notebook containing all work to Canvas.\n",
    "\n",
    "- Structure your notebook and your work to maximize readability."
   ]
  },
  {
   "cell_type": "markdown",
   "metadata": {},
   "source": [
    "### Collaborators\n",
    "\n",
    "** Place the name of everyone who's submitting this assignment here**"
   ]
  },
  {
   "cell_type": "markdown",
   "metadata": {},
   "source": [
    "<div class=\"answer-separator\">\n",
    "------------------------\n",
    "</div>"
   ]
  },
  {
   "cell_type": "code",
   "execution_count": 7,
   "metadata": {},
   "outputs": [],
   "source": [
    "import numpy as np\n",
    "import scipy.stats\n",
    "import scipy.special\n",
    "\n",
    "import matplotlib\n",
    "import matplotlib.pyplot as plt\n",
    "import matplotlib.mlab as mlab\n",
    "from matplotlib import cm\n",
    "\n",
    "import pandas as pd\n",
    "import seaborn as sns\n",
    "\n",
    "%matplotlib inline"
   ]
  },
  {
   "cell_type": "markdown",
   "metadata": {},
   "source": [
    "## Question 1: In the AM207 Nursery We Help Canadians Smoke Trees with Purple Stuff"
   ]
  },
  {
   "cell_type": "markdown",
   "metadata": {},
   "source": [
    "**Some coding required**\n",
    "\n",
    "**This is part 1 of a 2 part problem.  You'll see the second part in a later problem set...**\n",
    "\n",
    "A plant nursery in Cambridge is exprimentally cross-breeding two types of hibiscus flowers: blue and pink. The goal is to create an exotic flower whose petals are pink with a ring of blue on each. \n",
    "\n",
    "There are four types of child plant that can result from this cross-breeding: \n",
    "\n",
    "  - Type 1: blue petals\n",
    "  - Type 2: pink petals \n",
    "  - Type 3: purple petals\n",
    "  - Type 4: pink petals with a blue ring on each (the desired effect). \n",
    "\n",
    "Out of 197 initial cross-breedings, the nursery obtained the following distribution over the four types of child plants: \n",
    "\n",
    "$$Y = (y_1, y_2, y_3, y_4) = (125, 18, 20, 34)$$\n",
    "\n",
    "where $y_i$ represents the number of child plants that are of type $i$.\n",
    "\n",
    "The nursery then consulted a famed Harvard plant geneticist, who informed them that the probability of obtaining each type of child plant in any single breeding experiment is as follows:\n",
    "\n",
    "$$ \\frac{\\theta+2}{4}, \\frac{1-\\theta}{4}, \\frac{1-\\theta}{4}, \\frac{\\theta}{4}.$$\n",
    "\n",
    "Unfortunately, the geneticist was unable to specify the quantity $\\theta$.\n",
    "\n",
    "Clearly, the nursery is interested in understanding how many cross-breeding they must perform, on average, in order to obtain a certain number of child plants with the exotic blue rings. To do this they must be able to compute $\\theta$. \n",
    "\n",
    "The owners of the nursery, being top students in AM207, decided to model the experiment in hopes of discovering $\\theta$ using the results from their 197 initial experiments. \n",
    "\n",
    "They chose to model the observed data using a multinomial model and thus calculated the likelihood to be:\n",
    "\n",
    "$$ p(y  \\vert  \\theta) \\propto (2+\\theta)^{y_1} (1-\\theta)^{y_2+y_3}  \\, \\theta^{y_4} $$\n",
    "\n",
    "\n",
    "The nursery owners decided to augment their model and hopefully obtain a friendlier looking distribution that allows for easy EM based maximum-likelihood finding and sampling (which you will do in next week's homework).\n",
    "\n",
    "They augment the data with a new variable $z$ such that:\n",
    "\n",
    "$$z + (y_1 - z) = y_1.$$\n",
    "\n",
    "That is, using the latent variable $z$, the number of type I child plants $y_1$ can be broken into two subtypes. Let the probability of obtaining the two subtype be $1/2$ and $\\theta/4$, respectively. $y_1$ can now be interpreted as to be the total number of trials in a binomial trial. Thus, the new likelihood can be written as\n",
    "\n",
    "$$ p(y, z  \\vert  \\theta) \\propto \\binom{y_{1}}{z} \\left (\\frac{1}{2} \\right )^{y_1-z} \\left(\\frac{\\theta}{4} \\right )^{z}  (1-\\theta)^{y_2+y_3}  \\, \\theta^{y_4}\n",
    "$$"
   ]
  },
  {
   "cell_type": "markdown",
   "metadata": {},
   "source": [
    "Treat the augmented model as a latent variable model.\n",
    "\n",
    "Write down an expression (up to unimportant constants - you must decide what unimportant means) for each of the following:\n",
    "\n",
    "1.1. The observed data log likelihood $\\mathcal{l}(y \\ \\vert \\ \\theta)$\n",
    "\n",
    "\\begin{align}\n",
    "\\mathcal{l}(y \\ \\vert \\ \\theta) &= log(p(y \\ \\vert \\ \\theta)) \\\\\n",
    "&= y_1log(2+\\theta) + (y_2+y_3)log(1-\\theta) + y_4log(\\theta)\n",
    "\\end{align}\n",
    "\n",
    "1.2. The complete data log likelihood $\\mathcal{L}(y, z\\ \\vert \\ \\theta)$\n",
    "\n",
    "\\begin{align}\n",
    "\\mathcal{L}(y, z\\ \\vert \\ \\theta) &= log(p(y,z \\ \\vert \\ \\theta) \\\\\n",
    "&= log{y_1 \\choose z} + (y_1-z) \\ log(\\frac{1}{2}) + z\\ log(\\frac{\\theta}{4}) + (y_2+y_3)\\ log(1-\\theta) + y_4log(\\theta)\n",
    "\\end{align}\n",
    "\n",
    "1.3. The Auxilary function, $Q(\\theta, \\theta^{(t-1)})$, or the expected complete data log likelihood, defined by\n",
    "\n",
    "$$Q(\\theta, \\theta^{(t-1)}) = \\mathbb{E}_{Z  \\vert  Y=y, \\Theta = \\theta^{t-1}}[\\mathcal{L}(y, z\\ \\vert \\ \\theta)]$$\n",
    "\n",
    "$$\n",
    "\\begin{align}\n",
    "Q(\\theta, \\theta^{(t-1)}) &= \\mathbb{E}_{Z  \\vert  Y=y, \\Theta = \\theta^{t-1}}[\\mathcal{L}(y, z\\ \\vert \\ \\theta)] \\\\\n",
    "&= \\mathbb{E}_{Z  \\vert  Y=y, \\Theta = \\theta^{t-1}}[\\ log{y_1 \\choose z} + (y_1-z) \\ log(\\frac{1}{2}) + z\\ log(\\frac{\\theta}{4}) + (y_2+y_3)\\ log(1-\\theta) + y_4log(\\theta) \\ ]\\\\\n",
    "&= (y_2+y_3)\\ log(1-\\theta) + y_4log(\\theta) + y_1 \\ log(\\frac{1}{2})+\\mathbb{E}_{Z  \\vert  Y=y, \\Theta = \\theta^{t-1}}[\\ log{y_1 \\choose z} + z \\ log(\\frac{1}{2}) + z\\ log(\\frac{\\theta}{4})]\n",
    "\\end{align}\n",
    "$$\n",
    "\n",
    "1.4. Find an expression for $\\theta^{t} = \\text{argmax}_\\theta Q(\\theta, \\theta^{(t-1)})$ by maximizing the Auxilary function $Q(\\theta, \\theta^{(t-1)})$ given $\\theta, \\theta^{t-1}$ to find the optimal value for $\\theta^{t}$.  \n",
    "\n",
    "**Hint:** You don't actually need to do any difficult optimization for the M-step. After taking the expectation of the complete data log likelihood in the E-step, match your $Q(\\theta, \\theta^{(t-1)})$ to the log pdf of a familiar distribution, then use the known formula for the mode of this distribution to optimize $Q(\\theta, \\theta^{(t-1)})$.\n",
    "\n",
    "\n",
    "z is a binomial of probability of success $\\frac{\\theta^{(t-1)}}{\\theta^{(t-1)}+2}$ thus :\n",
    "\n",
    "$$\n",
    "\\begin{align}\n",
    "Q(\\theta, \\theta^{(t-1)}) &= \\mathbb{E}_{Z  \\vert  Y=y, \\Theta = \\theta^{t-1}}[\\mathcal{L}(y, z\\ \\vert \\ \\theta)] \\\\\n",
    "&= (y_2+y_3)\\ log(1-\\theta) + y_4log(\\theta) + y_1 \\ log(\\frac{1}{2})\n",
    "+ y_1 \\frac{\\theta^{(t-1)}}{\\theta^{(t-1)}+2} \\ log(\\frac{1}{2}) + y_1 \\frac{\\theta^{(t-1)}}{\\theta^{(t-1)}+2} \\ log(\\frac{\\theta}{4}) + \\mathbb{E}_{Z  \\vert  Y=y, \\Theta = \\theta^{t-1}}[\\ log{y_1 \\choose z}] \\\\\n",
    "&= (y_2+y_3)\\ log(1-\\theta) + y_4log(\\theta)\n",
    " + y_1 \\frac{\\theta^{(t-1)}}{\\theta^{(t-1)}+2} \\ log(\\theta)  + f(y,z)\n",
    "\\end{align}\n",
    "$$\n",
    "\n",
    "with $f(y,z) = y_1 \\ log(\\frac{1}{2}) + y_1 \\frac{\\theta^{(t-1)}}{\\theta^{(t-1)}+2}\\ log(\\frac{1}{2})+ y_1 \\frac{\\theta^{(t-1)}}{\\theta^{(t-1)}+2} \\ log(\\frac{1}{4}) + \\mathbb{E}_{Z  \\vert  Y=y, \\Theta = \\theta^{t-1}}[\\ log{y_1 \\choose z}]$ a function independent of $\\theta$\n",
    "\n",
    "<br><br>\n",
    "Thus we can write $Q(\\theta, \\theta^{(t-1)})$ as :\n",
    "$$\n",
    "Q(\\theta, \\theta^{(t-1)}) = (n-k)\\ log(1-\\theta) + k \\ log(\\theta) + f(y,z)\n",
    "$$\n",
    "\n",
    "with $n = y_2 + y_3 + y_4 + y_1 \\frac{\\theta^{(t-1)}}{\\theta^{(t-1)}+2}$ <br>\n",
    "and $k = y_4 + y_1 \\frac{\\theta^{(t-1)}}{\\theta^{(t-1)}+2}$\n",
    "\n",
    "\n",
    "1.5. Use your forumulas from 1.3 and 1.4 for $Q(\\theta, \\theta^{t-1})$ and $\\theta^{t}$ to calculate the maximum likelihood through Expectation Maximization (EM). In order to perform EM, you must iterate through the following steps\n",
    "\n",
    "- (Expectation) Compute the Auxilary function, $Q(\\theta, \\theta^{t-1})$ (the expectation of the full data likelihood)\n",
    "- (Maximization) Compute $\\theta^{t} = \\text{argmax}_\\theta Q(\\theta, \\theta^{(t-1)})$\n",
    "\n",
    "Choose your own reasonable criterion for convergence to **estimate the MLE** of $\\theta$ using EM."
   ]
  },
  {
   "cell_type": "code",
   "execution_count": 15,
   "metadata": {},
   "outputs": [],
   "source": [
    "def EM(old_theta,Y):\n",
    "    k = Y[3] + Y[0]*(old_theta/(old_theta+2))\n",
    "    n = Y[1] + Y[2] + k\n",
    "    theta_new = k/n\n",
    "    return theta_new"
   ]
  },
  {
   "cell_type": "code",
   "execution_count": 16,
   "metadata": {},
   "outputs": [
    {
     "name": "stdout",
     "output_type": "stream",
     "text": [
      "0.5465996519114131\n"
     ]
    },
    {
     "ename": "NameError",
     "evalue": "name 'theta_init' is not defined",
     "output_type": "error",
     "traceback": [
      "\u001b[0;31m---------------------------------------------------------------------------\u001b[0m",
      "\u001b[0;31mNameError\u001b[0m                                 Traceback (most recent call last)",
      "\u001b[0;32m<ipython-input-16-acfd65c4cbea>\u001b[0m in \u001b[0;36m<module>\u001b[0;34m()\u001b[0m\n\u001b[1;32m      2\u001b[0m \u001b[0mnew_theta\u001b[0m \u001b[0;34m=\u001b[0m \u001b[0mnp\u001b[0m\u001b[0;34m.\u001b[0m\u001b[0mrandom\u001b[0m\u001b[0;34m.\u001b[0m\u001b[0muniform\u001b[0m\u001b[0;34m(\u001b[0m\u001b[0;34m)\u001b[0m\u001b[0;34m\u001b[0m\u001b[0;34m\u001b[0m\u001b[0m\n\u001b[1;32m      3\u001b[0m \u001b[0mprint\u001b[0m\u001b[0;34m(\u001b[0m\u001b[0mnew_theta\u001b[0m\u001b[0;34m)\u001b[0m\u001b[0;34m\u001b[0m\u001b[0;34m\u001b[0m\u001b[0m\n\u001b[0;32m----> 4\u001b[0;31m \u001b[0mY\u001b[0m \u001b[0;34m=\u001b[0m \u001b[0;34m[\u001b[0m\u001b[0;34m(\u001b[0m\u001b[0mtheta_init\u001b[0m\u001b[0;34m+\u001b[0m\u001b[0;36m2\u001b[0m\u001b[0;34m)\u001b[0m \u001b[0;34m/\u001b[0m \u001b[0;36m4\u001b[0m\u001b[0;34m,\u001b[0m \u001b[0;34m(\u001b[0m\u001b[0;36m1\u001b[0m\u001b[0;34m-\u001b[0m\u001b[0mtheta_init\u001b[0m\u001b[0;34m)\u001b[0m\u001b[0;34m/\u001b[0m\u001b[0;36m4\u001b[0m\u001b[0;34m,\u001b[0m \u001b[0;34m(\u001b[0m\u001b[0;36m1\u001b[0m\u001b[0;34m-\u001b[0m\u001b[0mtheta_init\u001b[0m\u001b[0;34m)\u001b[0m\u001b[0;34m/\u001b[0m\u001b[0;36m4\u001b[0m\u001b[0;34m,\u001b[0m \u001b[0mtheta_init\u001b[0m\u001b[0;34m/\u001b[0m\u001b[0;36m4\u001b[0m\u001b[0;34m]\u001b[0m\u001b[0;34m\u001b[0m\u001b[0;34m\u001b[0m\u001b[0m\n\u001b[0m\u001b[1;32m      5\u001b[0m \u001b[0mprint\u001b[0m\u001b[0;34m(\u001b[0m\u001b[0mtheta_init\u001b[0m\u001b[0;34m)\u001b[0m\u001b[0;34m\u001b[0m\u001b[0;34m\u001b[0m\u001b[0m\n\u001b[1;32m      6\u001b[0m \u001b[0;32mwhile\u001b[0m \u001b[0mabs\u001b[0m\u001b[0;34m(\u001b[0m\u001b[0mtheta\u001b[0m\u001b[0;34m-\u001b[0m\u001b[0mnew_theta\u001b[0m\u001b[0;34m)\u001b[0m\u001b[0;34m>\u001b[0m\u001b[0;36m0.001\u001b[0m\u001b[0;34m:\u001b[0m\u001b[0;34m\u001b[0m\u001b[0;34m\u001b[0m\u001b[0m\n",
      "\u001b[0;31mNameError\u001b[0m: name 'theta_init' is not defined"
     ]
    }
   ],
   "source": [
    "theta = np.inf\n",
    "new_theta = np.random.uniform()\n",
    "print(new_theta)\n",
    "Y = [(theta_init+2) / 4, (1-theta_init)/4, (1-theta_init)/4, theta_init/4]\n",
    "print(theta_init)\n",
    "while abs(theta-new_theta)>0.001:\n",
    "    theta = new_theta\n",
    "    new_theta = EM(theta,Y)\n",
    "    print(new_theta)"
   ]
  },
  {
   "cell_type": "markdown",
   "metadata": {},
   "source": [
    "**Gratuitous Titular Reference**:  Canada recently became the second country in the world to [legalize marijuana](https://www.cnn.com/2018/06/20/health/canada-legalizes-marijuana/index.html).  [Purple Stuff](https://www.amazon.com/Purple-Stuff-Soda-Relaxation-Beverage/dp/B00FF4AXTE) is a health beverage available on Amazon with a name and taste that's a tip of the hat to [Purple Drank](https://en.wikipedia.org/wiki/Purple_drank), the codeine infused beverage also popularly known as *lean* and is synonymous with the Houston hip hop scene (and in particular DJ Screw and his famous Chopped and Screwed style)."
   ]
  },
  {
   "cell_type": "markdown",
   "metadata": {},
   "source": [
    "<div class=\"answer-separator\">\n",
    "------------------------\n",
    "</div>"
   ]
  },
  {
   "cell_type": "markdown",
   "metadata": {},
   "source": [
    "## Question 2: Predicting the Prior Like a Punch to the Kidneys "
   ]
  },
  {
   "cell_type": "markdown",
   "metadata": {},
   "source": [
    "**Some coding required**\n",
    "\n",
    "In this problem we will work with the US Kidney Cancer Dataset (by county), a dataset of kidney cancer frequencies across the US over 5 years on a per county basis. \n",
    "\n",
    "The kidney cancer data can be found [here](./kcancer.csv).\n",
    "\n",
    "A casual inspection of the data might suggest that we independently model cancer rates for each of the provided counties.  Our experience in past homeworks/labs/lectures (in particular when we delved into the Rat Tumors problem) suggests potential drawbacks of conclusions based on raw cancer rates.  Addressing these drawbacks, let's look use a Bayesian model for our analysis of the data. In particular you will implement an Empircal Bayes model to examine the adjusted cancer rates per county.\n",
    "\n",
    "Let $N$ be the number of counties; let $y_j$ the number of kidney cancer case for the $j$-th county, $n_j$ the population of the $j$-th county and $\\theta_j$ the underlying kidney cancer rate for that county. We can construct a Bayesian model for our data as follows:\n",
    "\\begin{aligned}\n",
    "y_j &\\sim Poisson(5 \\cdot n_j \\cdot \\theta_j), \\quad j = 1, \\ldots, N\\\\\n",
    "\\theta_j &\\sim Gamma(\\alpha, \\beta), \\quad j = 1, \\ldots, N\n",
    "\\end{aligned}\n",
    "where $\\alpha, \\beta$ are hyper-parameters of the model.\n",
    "\n",
    "**2.1. Consider the prior-predictive distribution (also called the evidence i.e. the denominator normalization in bayes theorem) of the model: $p(y) = \\int p(y \\vert \\theta) p(\\theta) d \\theta$. Why the prior-predictive? Because technically we \"haven't seen\" individual county data yet. And, our data are on the scale of $y$, not the rates $\\theta$. Write an expression for the negative binomial prior-predictive for this model.**\n",
    "\n",
    "**Note: Up until now we've had primarily thought about the posterior predictive: $\\int p( y \\vert \\theta) p(\\theta \\vert D) d\\theta$.  The posterior predictive and the prior predictive can be somewhat connected. In conjugate models such as ours, the two distributions have the same form.**"
   ]
  },
  {
   "cell_type": "markdown",
   "metadata": {},
   "source": [
    "$$\n",
    "\\begin{align}\n",
    "p(y) &= \\int p(y \\vert \\theta) p(\\theta) d \\theta \\\\\n",
    "&=\\int \\frac{(5n\\theta)^y e^{- 5n\\theta}}{y!} \\frac{\\beta^\\alpha}{\\Gamma(\\alpha)}(\\theta)^{\\alpha-1}e^{-\\beta\\theta} d \\theta \\\\\n",
    "&=(5n)^y\\frac{\\beta^\\alpha}{y!\\Gamma(\\alpha)}\\int \\theta^y e^{- 5n\\theta} \\theta^{\\alpha-1}e^{-\\beta\\theta} d \\theta \\\\\n",
    "&= (5n)^y\\frac{\\beta^\\alpha}{y!\\Gamma(\\alpha)} \\int \\theta^{y+\\alpha-1} e^{- (5n+\\beta)\\theta} d \\theta \\\\\n",
    "&= (5n)^y\\frac{\\beta^\\alpha}{y!\\Gamma(\\alpha)} (5n+\\beta)^{-(y+\\alpha)}\\Gamma(y+\\alpha) \\\\\n",
    "&= \\left(1-\\frac{5n}{5n+\\beta}\\right)^\\alpha \\left(\\frac{5n}{5n+\\beta}\\right)^{y}{y+\\alpha-1 \\choose y } \\\\\n",
    "&= \\text{NB}(\\alpha,5n/(5n+\\beta))\n",
    "\\end{align}\n",
    "$$"
   ]
  },
  {
   "cell_type": "markdown",
   "metadata": {},
   "source": [
    "**2.2. Implement Empirical Bayes via moment matching by matching the mean and the variance (central moments) of the negative binomial you calclated in 2.1 to the sample mean and variance from the data.  Find appropriate expressions/values for $\\alpha$ and $\\beta$.**\n",
    "\n",
    "**Hint: You need to be careful with the $5n_j$ multiplier.**"
   ]
  },
  {
   "cell_type": "markdown",
   "metadata": {},
   "source": [
    "The mean of $\\text{NB}(\\alpha,5n_i/(5n_i+\\beta))$ is \n",
    "$$m = \\frac{\\alpha5}{\\beta}\\overline{n}$$ \n",
    "and the variance is \n",
    "$$\n",
    "\\begin{align}\n",
    "v &= \\frac{1}{N}\\sum_i \\frac{\\alpha5n_i(5n_i+\\beta)}{\\beta^2} \\\\\n",
    "&= \\frac{25\\alpha}{\\beta^2}\\overline{n^2}+\\frac{\\alpha 5}{\\beta}\\overline{n}\n",
    "\\end{align}\n",
    "$$. \n",
    "\n",
    "where $\\overline{n}$ is the mean county size and $\\overline{n^2}$ is the mean squared county size.\n",
    "Hence, \n",
    "$$\\beta = \\frac{5m}{v-m}\\frac{\\overline{n^2}}{\\overline{n}}$$ \n",
    "\n",
    "and \n",
    "\n",
    "$$\\alpha = \\frac{m^2}{v-m}\\frac{\\overline{n^2}}{\\overline{n}^2}$$. \n"
   ]
  },
  {
   "cell_type": "code",
   "execution_count": 21,
   "metadata": {},
   "outputs": [],
   "source": [
    "kidney_df = pd.read_csv('./kcancer.csv')\n",
    "mean_pop = kidney_df['pop'].mean()\n",
    "mean__squared_pop = kidney_df['pop'].apply(lambda x: x**2).mean()\n",
    "mean_cancer = kidney_df.dc.mean()\n",
    "var_cancer = kidney_df.dc.var()"
   ]
  },
  {
   "cell_type": "code",
   "execution_count": 24,
   "metadata": {},
   "outputs": [
    {
     "name": "stdout",
     "output_type": "stream",
     "text": [
      "beta: 127630.55576871084\n"
     ]
    }
   ],
   "source": [
    "beta = (5*mean_cancer*mean__squared_pop)/((var_cancer-mean_cancer)*mean_pop)\n",
    "print('beta:',beta)"
   ]
  },
  {
   "cell_type": "code",
   "execution_count": 25,
   "metadata": {},
   "outputs": [
    {
     "name": "stdout",
     "output_type": "stream",
     "text": [
      "alpha: 1.3281696847742523\n"
     ]
    }
   ],
   "source": [
    "alpha = (mean_cancer**2*mean__squared_pop)/((var_cancer-mean_cancer)*mean_pop**2)\n",
    "print('alpha:',alpha)"
   ]
  },
  {
   "cell_type": "markdown",
   "metadata": {},
   "source": [
    "2.3. Use the values of $\\alpha$ and $\\beta$ you derived in 2.2 to generate 5000 posterior samples for the kidney cancer rates for each county.  Use these samples to generate a posterior mean rate for each county."
   ]
  },
  {
   "cell_type": "code",
   "execution_count": 54,
   "metadata": {},
   "outputs": [],
   "source": [
    "pct_mortality_post = []\n",
    "num_of_cancer_per_county = []\n",
    "for _, row in kidney_df.iterrows():\n",
    "    thetas = np.random.gamma(shape = alpha, scale = 1/beta, size = 5000)\n",
    "    n = row['pop']\n",
    "    num_of_cancers = np.random.poisson(lam=5*n*thetas)\n",
    "    num_of_cancer_per_county.append(np.mean(num_of_cancers))\n",
    "    avg_num_of_cancers= np.mean(num_of_cancers/n)\n",
    "    pct_mortality_post.append(avg_num_of_cancers)"
   ]
  },
  {
   "cell_type": "code",
   "execution_count": 55,
   "metadata": {},
   "outputs": [],
   "source": [
    "kidney_df['post_dc'] = num_of_cancer_per_county\n",
    "kidney_df['post_pct_mortality'] = pct_mortality_post"
   ]
  },
  {
   "cell_type": "code",
   "execution_count": 57,
   "metadata": {},
   "outputs": [
    {
     "data": {
      "text/html": [
       "<div>\n",
       "<style scoped>\n",
       "    .dataframe tbody tr th:only-of-type {\n",
       "        vertical-align: middle;\n",
       "    }\n",
       "\n",
       "    .dataframe tbody tr th {\n",
       "        vertical-align: top;\n",
       "    }\n",
       "\n",
       "    .dataframe thead th {\n",
       "        text-align: right;\n",
       "    }\n",
       "</style>\n",
       "<table border=\"1\" class=\"dataframe\">\n",
       "  <thead>\n",
       "    <tr style=\"text-align: right;\">\n",
       "      <th></th>\n",
       "      <th>state</th>\n",
       "      <th>fips</th>\n",
       "      <th>county</th>\n",
       "      <th>countyfips</th>\n",
       "      <th>dc</th>\n",
       "      <th>pop</th>\n",
       "      <th>pct_mortality</th>\n",
       "      <th>post_pct_mortality</th>\n",
       "      <th>post_dc</th>\n",
       "    </tr>\n",
       "  </thead>\n",
       "  <tbody>\n",
       "    <tr>\n",
       "      <th>0</th>\n",
       "      <td>ALABAMA</td>\n",
       "      <td>1</td>\n",
       "      <td>AUTAUGA</td>\n",
       "      <td>1001</td>\n",
       "      <td>1.0</td>\n",
       "      <td>64915.0</td>\n",
       "      <td>0.000015</td>\n",
       "      <td>0.000051</td>\n",
       "      <td>3.3212</td>\n",
       "    </tr>\n",
       "    <tr>\n",
       "      <th>1</th>\n",
       "      <td>ALABAMA</td>\n",
       "      <td>1</td>\n",
       "      <td>BALDWIN</td>\n",
       "      <td>1003</td>\n",
       "      <td>15.0</td>\n",
       "      <td>195253.0</td>\n",
       "      <td>0.000077</td>\n",
       "      <td>0.000054</td>\n",
       "      <td>10.4672</td>\n",
       "    </tr>\n",
       "    <tr>\n",
       "      <th>2</th>\n",
       "      <td>ALABAMA</td>\n",
       "      <td>1</td>\n",
       "      <td>BARBOUR</td>\n",
       "      <td>1005</td>\n",
       "      <td>1.0</td>\n",
       "      <td>33987.0</td>\n",
       "      <td>0.000029</td>\n",
       "      <td>0.000054</td>\n",
       "      <td>1.8218</td>\n",
       "    </tr>\n",
       "    <tr>\n",
       "      <th>3</th>\n",
       "      <td>ALABAMA</td>\n",
       "      <td>1</td>\n",
       "      <td>BIBB</td>\n",
       "      <td>1007</td>\n",
       "      <td>1.0</td>\n",
       "      <td>31175.0</td>\n",
       "      <td>0.000032</td>\n",
       "      <td>0.000053</td>\n",
       "      <td>1.6402</td>\n",
       "    </tr>\n",
       "    <tr>\n",
       "      <th>4</th>\n",
       "      <td>ALABAMA</td>\n",
       "      <td>1</td>\n",
       "      <td>BLOUNT</td>\n",
       "      <td>1009</td>\n",
       "      <td>5.0</td>\n",
       "      <td>91547.0</td>\n",
       "      <td>0.000055</td>\n",
       "      <td>0.000052</td>\n",
       "      <td>4.7966</td>\n",
       "    </tr>\n",
       "  </tbody>\n",
       "</table>\n",
       "</div>"
      ],
      "text/plain": [
       "     state  fips   county  countyfips    dc       pop  pct_mortality  \\\n",
       "0  ALABAMA     1  AUTAUGA        1001   1.0   64915.0       0.000015   \n",
       "1  ALABAMA     1  BALDWIN        1003  15.0  195253.0       0.000077   \n",
       "2  ALABAMA     1  BARBOUR        1005   1.0   33987.0       0.000029   \n",
       "3  ALABAMA     1     BIBB        1007   1.0   31175.0       0.000032   \n",
       "4  ALABAMA     1   BLOUNT        1009   5.0   91547.0       0.000055   \n",
       "\n",
       "   post_pct_mortality  post_dc  \n",
       "0            0.000051   3.3212  \n",
       "1            0.000054  10.4672  \n",
       "2            0.000054   1.8218  \n",
       "3            0.000053   1.6402  \n",
       "4            0.000052   4.7966  "
      ]
     },
     "execution_count": 57,
     "metadata": {},
     "output_type": "execute_result"
    }
   ],
   "source": [
    "kidney_df.head()"
   ]
  },
  {
   "cell_type": "markdown",
   "metadata": {},
   "source": [
    "2.4. Produce a scatter plot of the raw cancer rates (pct mortality) vs the county population size. Highlight the top 300 raw cancer rates in red. Highlight the bottom 300 raw cancer rates in blue. Finally, on the same plot add a scatter plot visualization of the posterior mean cancer rate estimates (pct mortality) vs the county population size, highlight these in green."
   ]
  },
  {
   "cell_type": "code",
   "execution_count": 71,
   "metadata": {},
   "outputs": [],
   "source": [
    "top_300 = kidney_df.nlargest(300, 'pct_mortality')\n",
    "bottom_300 = kidney_df.nsmallest(300, 'pct_mortality')"
   ]
  },
  {
   "cell_type": "code",
   "execution_count": 82,
   "metadata": {},
   "outputs": [
    {
     "data": {
      "text/plain": [
       "<matplotlib.legend.Legend at 0x1a161f8cf8>"
      ]
     },
     "execution_count": 82,
     "metadata": {},
     "output_type": "execute_result"
    },
    {
     "data": {
      "image/png": "[encoded data removed]",
      "text/plain": [
       "<Figure size 432x288 with 1 Axes>"
      ]
     },
     "metadata": {},
     "output_type": "display_data"
    }
   ],
   "source": [
    "plt.scatter(kidney_df['pop'], kidney_df['pct_mortality'], color = 'black',label = 'pct_mortality')\n",
    "plt.scatter(top_300['pop'], top_300['pct_mortality'], color = 'red', label = '300 highest')\n",
    "plt.scatter(bottom_300['pop'], bottom_300['pct_mortality'], color = 'blue', label = '300 lowest')\n",
    "plt.scatter(kidney_df['pop'], kidney_df['post_pct_mortality'], color = 'green', label= 'posterior mean')\n",
    "plt.ylim(-0.0001,0.001)\n",
    "plt.xlabel('county size')\n",
    "plt.ylabel('mortality rate')\n",
    "plt.title('mortality rate vs. county size: observed and posterior')\n",
    "plt.legend()\n",
    "\n",
    "# log plot"
   ]
  },
  {
   "cell_type": "markdown",
   "metadata": {},
   "source": [
    "2.5. Using the above scatter plot, explain why using the posterior means from our model to estimate cancer rates is preferable to studying the raw rates themselves.\n",
    "\n",
    "**Hint:** You might also find it helpful to follow the Rat Tumor example."
   ]
  },
  {
   "cell_type": "markdown",
   "metadata": {},
   "source": [
    "This is useful because it hedges against the variation introduced in small counties. If we don't use the posterior means, we see that the smallest counties have the largest and smallest mortality rates. When we introduce data from the entire US to estimate the rate for a single county, we can get rid of the variation resulting from a small county size.\n",
    "\n",
    "However, this model uses a single underlying mortality rate to predict the county level mortality rates, whereas we know that health inequalities exist in the US. A better model would still use the national data, but also account for the county-by-county variation."
   ]
  },
  {
   "cell_type": "markdown",
   "metadata": {},
   "source": [
    "**Gratuitous Pop Culture Bayesian Reference**: \n",
    "\n",
    "![](https://www.explainxkcd.com/wiki/images/b/bd/modified_bayes_theorem.png)"
   ]
  },
  {
   "cell_type": "markdown",
   "metadata": {},
   "source": [
    "<div class=\"answer-separator\">\n",
    "------------------------\n",
    "</div>"
   ]
  },
  {
   "cell_type": "markdown",
   "metadata": {},
   "source": [
    "## Q2: Martin Garrix, Tiesto, Marshmello on the 1s and 2s.  Is that a Mixture of Experts?"
   ]
  },
  {
   "cell_type": "markdown",
   "metadata": {},
   "source": [
    "**Some coding required**\n",
    "\n",
    "What if you had to predict a one-to-many function? The data provided below comes from a dataset generated by Chris Bishop (yes that Bishop) to explain the models mentioned in the title above. We have included a pdf from his book which describe these models in some detail. This problem will continure in future homework where we shall learn to sample from this model and also how to solve it using mixture density networks.\n",
    "\n",
    "We read this data in..."
   ]
  },
  {
   "cell_type": "code",
   "execution_count": 8,
   "metadata": {},
   "outputs": [
    {
     "data": {
      "text/html": [
       "<div>\n",
       "<style scoped>\n",
       "    .dataframe tbody tr th:only-of-type {\n",
       "        vertical-align: middle;\n",
       "    }\n",
       "\n",
       "    .dataframe tbody tr th {\n",
       "        vertical-align: top;\n",
       "    }\n",
       "\n",
       "    .dataframe thead th {\n",
       "        text-align: right;\n",
       "    }\n",
       "</style>\n",
       "<table border=\"1\" class=\"dataframe\">\n",
       "  <thead>\n",
       "    <tr style=\"text-align: right;\">\n",
       "      <th></th>\n",
       "      <th>target</th>\n",
       "      <th>x</th>\n",
       "    </tr>\n",
       "  </thead>\n",
       "  <tbody>\n",
       "    <tr>\n",
       "      <th>0</th>\n",
       "      <td>0.000000</td>\n",
       "      <td>0.018727</td>\n",
       "    </tr>\n",
       "    <tr>\n",
       "      <th>1</th>\n",
       "      <td>0.001001</td>\n",
       "      <td>0.050424</td>\n",
       "    </tr>\n",
       "    <tr>\n",
       "      <th>2</th>\n",
       "      <td>0.002002</td>\n",
       "      <td>0.042375</td>\n",
       "    </tr>\n",
       "    <tr>\n",
       "      <th>3</th>\n",
       "      <td>0.003003</td>\n",
       "      <td>0.038596</td>\n",
       "    </tr>\n",
       "    <tr>\n",
       "      <th>4</th>\n",
       "      <td>0.004004</td>\n",
       "      <td>0.019352</td>\n",
       "    </tr>\n",
       "  </tbody>\n",
       "</table>\n",
       "</div>"
      ],
      "text/plain": [
       "     target         x\n",
       "0  0.000000  0.018727\n",
       "1  0.001001  0.050424\n",
       "2  0.002002  0.042375\n",
       "3  0.003003  0.038596\n",
       "4  0.004004  0.019352"
      ]
     },
     "execution_count": 8,
     "metadata": {},
     "output_type": "execute_result"
    }
   ],
   "source": [
    "df = pd.read_csv(\"./onetomany.csv\")\n",
    "df.head()"
   ]
  },
  {
   "cell_type": "markdown",
   "metadata": {},
   "source": [
    "...and then plot it. Notice both the uneven sampling (more towards the center), and the \"more than one y\" for a given x."
   ]
  },
  {
   "cell_type": "code",
   "execution_count": 9,
   "metadata": {},
   "outputs": [
    {
     "data": {
      "image/png": "[encoded data removed]",
      "text/plain": [
       "<Figure size 432x288 with 1 Axes>"
      ]
     },
     "metadata": {},
     "output_type": "display_data"
    }
   ],
   "source": [
    "plt.plot(df.x, df.target, '.');"
   ]
  },
  {
   "cell_type": "markdown",
   "metadata": {},
   "source": [
    "Normal regression approaches to modeling such a function wont work, as they expect the function to be a proper mathematical function, that is, single valued.\n",
    "\n",
    "These kind of problems are called **inverse problems**, where more than one input state leads to an output state, and we have to try and model these multiple input states."
   ]
  },
  {
   "cell_type": "markdown",
   "metadata": {},
   "source": [
    "A mixture of gaussians (or other distributions) might is a sensible way to do this.\n",
    "\n",
    "You choose one of the gaussians with some probability. The nean of the gaussian is then given by some regression function, say for example a straight line. We could additionally fix the standard deviation or model it as well. \n",
    "\n",
    "Thus, for each component Gaussian, we choose a functional form for the mean and standard deviation. So our model looks something like this:"
   ]
  },
  {
   "cell_type": "markdown",
   "metadata": {},
   "source": [
    "$$f(x)  = \\sum_i \\lambda_i g_i (x) $$\n",
    "\n",
    "Say we fit a model with 3 gaussians to this data. Such a model cannot fit the function above. Notice for example that at $x=0.2$ only one of the gaussians will dominate, different from the situation at $x=0.5$. This means that the probabilities of \"belonging\" to one or the other gaussians is also changing with $x$.\n",
    "\n",
    "If we allow the mixing probabilities to depend on $x$, we can model this situation.\n",
    "\n",
    "$$f(x)  = \\sum_i \\lambda_i (x) g_i (x) $$\n",
    "\n",
    "Such a model is called a \"mixture of experts\" model. The idea is that one \"expert\" gaussian is responsible in one sector of the feature space, while another expert is responsible in another sector.\n",
    "\n",
    "You can think of this model as implementing a \"standard\" gaussian mixture at each \"point\" x, with the added complexity that all of the means, standard deviations, and mixture probabilities change from one x to another.\n",
    "\n",
    "See https://www.cs.toronto.edu/~hinton/absps/hme.pdf and http://www.ee.hacettepe.edu.tr/~eyuksel/Publications/2012_TwentyYearsofMixtureofExperts.pdf for more details. I found the latter clearer and easier to understand.\n",
    "\n",
    "For this entire question you might find diagram code from [here](https://github.com/hardmaru/pytorch_notebooks/blob/master/mixture_density_networks.ipynb) useful. Take with attribution.\n",
    "\n",
    "We will assume we have **3 gaussians**."
   ]
  },
  {
   "cell_type": "markdown",
   "metadata": {},
   "source": [
    "### Iterative Linear Regression Mixture of Experts Model\n",
    "\n",
    "The basic idea, illustrated below, is to fit piecewise linear regressions iteratively in a EM style algorithm.\n",
    "\n",
    "![](https://piazza.com/redirect/s3?bucket=uploads&prefix=attach%2Fjlo4e4ari3r4wd%2Fj9vjyzv62x149%2Fjnsuyq59tar%2Fmixreg0.png)"
   ]
  },
  {
   "cell_type": "markdown",
   "metadata": {},
   "source": [
    "The algorithm looks like this: \n",
    "\n",
    "- Initialize the 1000 points in this dataset as randomly belonging to one of 3 \"classes\" or \"clusters\" or \"experts\". This takes a x-data problem and augments it with a fake z data point that tells us whether the point belongs in cluster 0, 1, or 2. (It helps convergence to say that points in the leftmost 0.2 belong to cluster 0 and righmost 0.2 to cluster 2).\n",
    "\n",
    "- With the fake z's in hand the 1000 points can be separated (based on cluster assignment) into 3 sets of points and used to fit 3 linear regression models. \n",
    "\n",
    "- Predictions can be made for all 1000 points on the data for each of the 3 regression lines. Reassign each data point to a cluster by choosing the cluster that minimizes the prediction error based on the squared distances between its actual y value and the 3 cluster predictions.\n",
    "\n",
    "- Rinse and repeat.\n",
    "\n",
    "3.1. We stated that \"*It helps convergence to say that points in the leftmost 0.2 belong to cluster 0 and righmost 0.2 to cluster 2*\".  Why might it help convergence to define an initial cluster assignment as opposed to random assignment?\n",
    "\n",
    "If we know that there is a general structure to our data, it will bring us closer to the maximum expectation, leading to fewer iterations. This is similar to why an informative prior may help bayesian inference converge.\n",
    "\n",
    "3.2. Specify a potential convergence criterion to use.  Why might you choose it?\n",
    "\n",
    "Let $\\theta_i$ be the parameters of the guassian mixture model. I will define convergence by $|\\theta_{i+1}-\\theta_i| <10^{-5}$. This will ensure that our parameters barely changed from one iteration to the next. "
   ]
  },
  {
   "cell_type": "markdown",
   "metadata": {},
   "source": [
    "3.3. Implement the algorithm we described along with the convergence criterion you chose in 3.2.  You can use a linear regression fitter of your choice (statsmodels, sklearn, your own...)."
   ]
  },
  {
   "cell_type": "code",
   "execution_count": 10,
   "metadata": {},
   "outputs": [],
   "source": [
    "from sklearn.linear_model import LinearRegression"
   ]
  },
  {
   "cell_type": "code",
   "execution_count": 14,
   "metadata": {},
   "outputs": [],
   "source": [
    "def get_params(models):\n",
    "    params = []\n",
    "    for m in models:\n",
    "        params.append(m.coef_[0])\n",
    "        params.append(m.intercept_)\n",
    "    return np.array(params)"
   ]
  },
  {
   "cell_type": "code",
   "execution_count": 15,
   "metadata": {},
   "outputs": [],
   "source": [
    "def EM(df):\n",
    "    df['cluster'] = df.x.apply(lambda x: 0 if x < 0.1 else 2 if x > .9 else 1)\n",
    "    param_difference = np.inf\n",
    "\n",
    "    model1 = LinearRegression().fit(df[df.cluster == 0]['x'].values.reshape(-1,1), df[df.cluster == 0].target)\n",
    "    model2 = LinearRegression().fit(df[df.cluster == 1]['x'].values.reshape(-1,1), df[df.cluster == 1].target)\n",
    "    model3 = LinearRegression().fit(df[df.cluster == 2]['x'].values.reshape(-1,1), df[df.cluster == 2].target)\n",
    "    models = [model1, model2, model3]\n",
    "\n",
    "    param_new = np.array(get_params(models))\n",
    "\n",
    "    likelihoods = np.zeros(shape= (len(df),3))\n",
    "    for model_num, m in enumerate(models):\n",
    "        means = m.predict(df.x.values.reshape(-1,1))\n",
    "        resid = np.abs(means - df.target)\n",
    "        likelihoods[:,model_num] = resid\n",
    "\n",
    "    df['cluster'] = np.argmin(likelihoods, axis = 1)\n",
    "    \n",
    "    while param_difference > 1e-5:\n",
    "        model1 = LinearRegression().fit(df[df.cluster == 0]['x'].values.reshape(-1,1), df[df.cluster == 0].target)\n",
    "        model2 = LinearRegression().fit(df[df.cluster == 1]['x'].values.reshape(-1,1), df[df.cluster == 1].target)\n",
    "        model3 = LinearRegression().fit(df[df.cluster == 2]['x'].values.reshape(-1,1), df[df.cluster == 2].target)\n",
    "        models = [model1, model2, model3]\n",
    "\n",
    "        param_old = param_new\n",
    "        param_new = np.array(get_params(models))\n",
    "        param_difference = np.linalg.norm(param_old - param_new)\n",
    "\n",
    "        likelihoods = np.zeros(shape= (len(df),3))\n",
    "        for model_num, m in enumerate(models):\n",
    "            means = m.predict(df.x.values.reshape(-1,1))\n",
    "            resid = np.abs(means - df.target)\n",
    "            likelihoods[:,model_num] = resid\n",
    "\n",
    "        df['cluster'] = np.argmin(likelihoods, axis = 1)\n",
    "    \n",
    "    return models"
   ]
  },
  {
   "cell_type": "markdown",
   "metadata": {},
   "source": [
    "3.4. Apply your algorithm in the data in the `df` dataframe to produce a diagram like the one above which illustrates the straight line fits as well as the cluster belonging. "
   ]
  },
  {
   "cell_type": "code",
   "execution_count": 16,
   "metadata": {},
   "outputs": [],
   "source": [
    "models = EM(df)"
   ]
  },
  {
   "cell_type": "code",
   "execution_count": 17,
   "metadata": {},
   "outputs": [
    {
     "data": {
      "text/plain": [
       "[<matplotlib.lines.Line2D at 0x1a23f45f98>]"
      ]
     },
     "execution_count": 17,
     "metadata": {},
     "output_type": "execute_result"
    },
    {
     "data": {
      "image/png": "[encoded data removed]",
      "text/plain": [
       "<Figure size 432x288 with 1 Axes>"
      ]
     },
     "metadata": {},
     "output_type": "display_data"
    }
   ],
   "source": [
    "plt.plot(df[df.cluster==0].x, df[df.cluster==0].target, '.')\n",
    "plt.plot(df[df.cluster==1].x, df[df.cluster==1].target, '.')\n",
    "plt.plot(df[df.cluster==2].x, df[df.cluster==2].target, '.')\n",
    "plt.plot(df.x,models[0].predict(df.x.values.reshape(-1,1)))\n",
    "plt.plot(df.x,models[1].predict(df.x.values.reshape(-1,1)))\n",
    "plt.plot(df.x,models[2].predict(df.x.values.reshape(-1,1)))"
   ]
  },
  {
   "cell_type": "markdown",
   "metadata": {},
   "source": [
    "**Note for those who want to read more** The mixture of experts can be implemented using Expectation Maximization using iteratively-reweighted least squares. Our method in A was merely an approximation to this process. You can find update equations [here](https://people.eecs.berkeley.edu/~jordan/papers/jordan-xu.ps)\n",
    "\n",
    "**Gratuitous Titular Reference**:  [DJs](https://martingarrix.com/), [DJs](https://www.tiesto.com/), [DJs](https://marshmellomusic.com/)."
   ]
  },
  {
   "cell_type": "markdown",
   "metadata": {},
   "source": [
    "<div class=\"answer-separator\">\n",
    "------------------------\n",
    "</div>"
   ]
  }
 ],
 "metadata": {
  "anaconda-cloud": {},
  "kernelspec": {
   "display_name": "Python [conda env:py36]",
   "language": "python",
   "name": "conda-env-py36-py"
  },
  "language_info": {
   "codemirror_mode": {
    "name": "ipython",
    "version": 3
   },
   "file_extension": ".py",
   "mimetype": "text/x-python",
   "name": "python",
   "nbconvert_exporter": "python",
   "pygments_lexer": "ipython3",
   "version": "3.6.7"
  }
 },
 "nbformat": 4,
 "nbformat_minor": 2
}
