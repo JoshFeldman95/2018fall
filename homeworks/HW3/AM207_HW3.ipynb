{
 "cells": [
  {
   "cell_type": "markdown",
   "metadata": {},
   "source": [
    "# Homework 3\n",
    "\n",
    "##### Data: Homework_3_Data.txt, housedata.zip\n",
    "\n",
    "**Harvard University**<br>\n",
    "**Fall 2018**<br>\n",
    "**Instructors: Rahul Dave**<br>\n",
    "**Due Date: ** Saturday, September 29th, 2018 at 11:59pm\n",
    "\n",
    "**Instructions:**\n",
    "\n",
    "- Upload your final answers in the form of a Jupyter notebook containing all work to Canvas.\n",
    "\n",
    "- Structure your notebook and your work to maximize readability."
   ]
  },
  {
   "cell_type": "code",
   "execution_count": 1,
   "metadata": {},
   "outputs": [],
   "source": [
    "import numpy as np\n",
    "import scipy.stats\n",
    "import scipy.special\n",
    "\n",
    "import matplotlib\n",
    "import matplotlib.pyplot as plt\n",
    "import matplotlib.mlab as mlab\n",
    "from matplotlib import cm\n",
    "import pandas as pd\n",
    "%matplotlib inline"
   ]
  },
  {
   "cell_type": "markdown",
   "metadata": {},
   "source": [
    "## Question 1: When have no confidence that you can lift yourself by the Bootstrap?\n",
    "\n",
    "**Coding required**\n",
    "\n",
    "The idea behind non-parametric bootstrapping is that sampling distributions constructed via the true data generating process should be very close to sampling distributions constructed by resampling.  We mentioned in lab that one edge cases for bootstrapping is calculating order statistics.  Let's explore this edgecase.\n",
    "\n",
    "1.1. Suppose you have $\\{X_1, X_2, ... X_n\\}$ datapoints such that $X_i$ are independently and identically drawn from a $Unif(0, \\theta)$.  Consider the extreme order statistic Y = $X_{(n)}$ = max($X_1, X_2, ... X_n$). Write an expression for the distribution $f_Y(Y|\\theta)$.\n",
    "\n",
    "1.2. Derive $\\hat{\\theta}$ the maximum likelihood estimate for $\\theta$ given datapoints $\\{X_1, X_2, ... X_n\\}$.\n",
    "\n",
    "1.3. To see an alternate potential estimator use the distribution you derived in 1.1. to find an expression for the unbiased estimate of  theta.\n",
    "\n",
    "1.4. Use scipy/numpy to generate 100 samples {$X_i$} from Unif(0,1) (i.e. let $\\theta$ = 1) and store them in the variable `original_xi_samples`.  Based on your data sample, what's the empirical estimate for $\\theta$.\n",
    "\n",
    "1.6. Use non-parametric bootstrap to generate a sampling distribution of 1000 estimates for theta.  Plot a histogram of your sampling distribution.  Make sure to title and label the plot.  \n",
    "\n",
    "1.7. Is your histogram smooth?  From visual inspection does it seem like a good representation of a sampling distribution?\n",
    "\n",
    "1.8. So far we've used a \"natural\" version of calculating bootstrap confidence intervals -- the percentile method.  In this situation is it possible for the \"true\" value of $\\theta$ to be in the confidence interval?  In order to remedy this we'll use a alternate confidence interval version called the pivot confidence interval.  The pivot confidence interval is defined as [$2\\hat{\\theta} -\\hat{\\theta}^*_{(0.975)},2\\hat{\\theta} -\\hat{\\theta}^*_{(0.025)}$].  Is the true value contained in this interval?\n"
   ]
  },
  {
   "cell_type": "markdown",
   "metadata": {},
   "source": [
    "**1.1**\n",
    "Let x be between 0 and $\\theta$. We first derive the cdf.\n",
    "$$\n",
    "\\begin{align}\n",
    "P(Y < y|\\theta) &= P(\\text{max}(X_1, X_2, ... X_n) < y|\\theta) \\\\\n",
    "&= P(X_1 < x, X_2 < x, ..., X_n < y | \\theta) \\\\\n",
    "&= \\prod_{i = 0}^{n}P(X_i < y| \\theta) \\\\\n",
    "&= \\prod_{i = 0}^{n}\\frac{y}{\\theta} \\\\\n",
    "&= \\left(\\frac{y}{\\theta}\\right)^n\n",
    "\\end{align}\n",
    "$$\n",
    "We take the derivate to find the pdf.\n",
    "\n",
    "$$\n",
    "\\begin{align}\n",
    "f_Y(Y|\\theta) &= \\frac{d}{dy}P(Y < y|\\theta) \\\\\n",
    "&= \\frac{d}{dy} \\left(\\frac{y}{\\theta}\\right)^n \\\\\n",
    "&= \\frac{ny^{n-1}}{\\theta^n}\n",
    "\\end{align}\n",
    "$$"
   ]
  },
  {
   "cell_type": "markdown",
   "metadata": {},
   "source": [
    "**1.2**\n",
    "First we write the pdf\n",
    "$$\n",
    "\\begin{align}\n",
    "P(X_1 = x_1,...,X_n = x_n|\\theta) &= \\prod_{i=1}^{n}P(X_i = x_i|\\theta) \\\\\n",
    "&= \\prod_{i=1}^{n}\\frac{1}{\\theta} \\\\\n",
    "&= \\theta^{-n}\n",
    "\\end{align}\n",
    "$$\n",
    "\n",
    "The log likelihood is \n",
    "\n",
    "$$\n",
    "\\log(L(\\theta)) = -n\\log(\\theta)\n",
    "$$\n",
    "\n",
    "Since the log likelihood is monotonically decreasing, the maximum likelihood estimate is the lowest possible value of $\\theta$ such that $\\theta$ is still greater than $X_1, ...,X_n$. In other words $\\hat{\\theta}=\\max(X_1, ...,X_n)$.\n",
    "\n"
   ]
  },
  {
   "cell_type": "markdown",
   "metadata": {},
   "source": [
    "**1.3**\n",
    "First we find the bias of the MLE.\n",
    "\n",
    "$$\n",
    "\\begin{align}\n",
    "E_{X_1,...,X_n|\\theta}\\left[\\hat{\\theta}\\right] &= \\int_{y=0}^{y=\\theta}y\\frac{ny^{n-1}}{\\theta^n}dy \\\\\n",
    "&= \\frac{n}{(n+1)}\\theta\n",
    "\\end{align}\n",
    "$$\n",
    "\n",
    "To unbias the estimation, we must multiply by $\\frac{n+1}{n}$, which gives an unbiased MLE of\n",
    "\n",
    "$$\n",
    "\\hat{\\theta} = \\frac{n+1}{n}\\max(X_1,...,X_n)\n",
    "$$"
   ]
  },
  {
   "cell_type": "markdown",
   "metadata": {},
   "source": [
    "**1.4**"
   ]
  },
  {
   "cell_type": "code",
   "execution_count": 2,
   "metadata": {},
   "outputs": [
    {
     "name": "stdout",
     "output_type": "stream",
     "text": [
      "the estimate is  0.9980996879847268\n"
     ]
    }
   ],
   "source": [
    "original_xi_samples = np.random.uniform(size = 100)\n",
    "theta_estimate = max(original_xi_samples)\n",
    "print('the estimate is ', theta_estimate)"
   ]
  },
  {
   "cell_type": "markdown",
   "metadata": {},
   "source": [
    "**1.6**"
   ]
  },
  {
   "cell_type": "code",
   "execution_count": 3,
   "metadata": {},
   "outputs": [
    {
     "data": {
      "text/plain": [
       "Text(0.5,1,'Sampling Distribution of Theta Estimated By Bootstrap (1000 reps.)')"
      ]
     },
     "execution_count": 3,
     "metadata": {},
     "output_type": "execute_result"
    },
    {
     "data": {
      "image/png": "[encoded data removed]",
      "text/plain": [
       "<Figure size 432x288 with 1 Axes>"
      ]
     },
     "metadata": {},
     "output_type": "display_data"
    }
   ],
   "source": [
    "replications = np.random.choice(original_xi_samples, size=(1000,100), replace=True)\n",
    "estimates = np.max(replications, axis = 1)\n",
    "plt.hist(estimates, density=True)\n",
    "plt.xlabel('estimate of theta')\n",
    "plt.ylabel('density')\n",
    "plt.title('Sampling Distribution of Theta Estimated By Bootstrap (1000 reps.)')"
   ]
  },
  {
   "cell_type": "markdown",
   "metadata": {},
   "source": [
    "**1.7**"
   ]
  },
  {
   "cell_type": "markdown",
   "metadata": {},
   "source": [
    "No the histogram is not smooth. It is not a good representationo of the sampling distribution because we would expect  theta to be distribiuted smoothly around it's MLE. Of particular note, the estimated sampling distribution predicts no values _above_ the MLE, but we know that there is a chance that the true value of theta is greater than our MLE. "
   ]
  },
  {
   "cell_type": "markdown",
   "metadata": {},
   "source": [
    "**1.8**\n",
    "In this situation is it possible for the \"true\" value of $\\theta$ to not be in the confidence interval?  "
   ]
  },
  {
   "cell_type": "code",
   "execution_count": 4,
   "metadata": {},
   "outputs": [
    {
     "data": {
      "text/plain": [
       "array([-0.00481075,  0.00481075])"
      ]
     },
     "execution_count": 4,
     "metadata": {},
     "output_type": "execute_result"
    }
   ],
   "source": [
    "percentile_interval = np.percentile(estimates, [2.5, 97.5])\n",
    "percentile_interval -= percentile_interval[0]\n",
    "percentile_interval -= percentile_interval[1]/2\n",
    "percentile_interval"
   ]
  },
  {
   "cell_type": "code",
   "execution_count": 5,
   "metadata": {
    "scrolled": true
   },
   "outputs": [
    {
     "name": "stdout",
     "output_type": "stream",
     "text": [
      "95% confidence interval  [0.99328894 1.00291044]\n"
     ]
    }
   ],
   "source": [
    "print(\"95% confidence interval \", theta_estimate + percentile_interval)"
   ]
  },
  {
   "cell_type": "markdown",
   "metadata": {},
   "source": [
    "It is possible that the true value is not contained in this interval because the bootstrapped sampling distribution can never be greater than the original maximum value in the dataset. This means that the confidence interval may be too narrow and we underestimate the chance of $\\theta$ being greater than $\\hat{\\theta}$"
   ]
  },
  {
   "cell_type": "markdown",
   "metadata": {},
   "source": [
    "In order to remedy this we'll use a alternate confidence interval version called the pivot confidence interval.  The pivot confidence interval is defined as [$2\\hat{\\theta} -\\hat{\\theta}^*_{(0.975)},2\\hat{\\theta} -\\hat{\\theta}^*_{(0.025)}$].  Is the true value contained in this interval?"
   ]
  },
  {
   "cell_type": "code",
   "execution_count": 6,
   "metadata": {},
   "outputs": [
    {
     "data": {
      "text/plain": [
       "array([0.99809969, 1.00772119])"
      ]
     },
     "execution_count": 6,
     "metadata": {},
     "output_type": "execute_result"
    }
   ],
   "source": [
    "np.full((2,), 2*theta_estimate) - np.percentile(estimates, [97.5, 2.5])\n"
   ]
  },
  {
   "cell_type": "markdown",
   "metadata": {},
   "source": [
    "The true value is contained in this interval"
   ]
  },
  {
   "cell_type": "markdown",
   "metadata": {},
   "source": [
    "<div class=\"answer-separator\">\n",
    "------------------------\n",
    "</div>"
   ]
  },
  {
   "cell_type": "markdown",
   "metadata": {},
   "source": [
    "## Question 2: Visualize Your Poor Marginlized Conditional Love\n",
    "\n",
    "**Coding required**\n",
    "\n",
    "Read the data set contained in [Homework_3_Data.txt](Homework_3_Data.txt). Each data point is a two-dimensional vector, $\\mathbf{x} = (x_1, x_2)$.\n",
    "\n",
    "2.1. Make a 2-D visualization of the empirical distribution of the data. \n",
    "\n",
    "2.2. We assume that the data was generated by some probability distribution (pdf).  Visualize that pdf, $f_X$.\n",
    "\n",
    "2.3. Visualize the conditional distribution defined by $f_{x_2 \\mid x_1}$ for $x_1 \\in [3.99, 4.01]$.\n",
    "\n",
    "2.4. Visualize the mariginal distribution defined by $f_{x_1}$.\n",
    "\n",
    "2.5. Empirically estimate the mean of the distribution $f_{x_1}$. Estimate, also the SE (standard error) of the estimate.\n",
    "\n",
    "2.6. Empirically estimate the standard deviation of the distribution $f_{x_2 \\mid x_1}$, for $x_1 \\in [3.99, 4.01]$. Estimate, also the SE (standard error) of the estimate.\n",
    "\n",
    "2.7. Given the SE, How many digits in your standard deviation estimate are significant? Explain why.\n",
    "\n",
    "In obtaining estimates for this problem we want you to \n",
    "\n",
    "- define a function called *get_bootstrap_sample(dataset)* to generate each bootstrap sample\n",
    "- and then another function *perform_bootstrap(dataset)* to generate all the samples. \n",
    "\n",
    "They should both take as parameters the dataset from which you'll be drawing samples. *perform_bootstrap* should call *get_bootstrap_sample* and return a sequence of bootstrap samples.  *get_bootstrap_sample* should return an individual bootstrap sample.\n"
   ]
  },
  {
   "cell_type": "code",
   "execution_count": 7,
   "metadata": {},
   "outputs": [
    {
     "data": {
      "text/html": [
       "<div>\n",
       "<style scoped>\n",
       "    .dataframe tbody tr th:only-of-type {\n",
       "        vertical-align: middle;\n",
       "    }\n",
       "\n",
       "    .dataframe tbody tr th {\n",
       "        vertical-align: top;\n",
       "    }\n",
       "\n",
       "    .dataframe thead th {\n",
       "        text-align: right;\n",
       "    }\n",
       "</style>\n",
       "<table border=\"1\" class=\"dataframe\">\n",
       "  <thead>\n",
       "    <tr style=\"text-align: right;\">\n",
       "      <th></th>\n",
       "      <th>x1</th>\n",
       "      <th>x2</th>\n",
       "    </tr>\n",
       "  </thead>\n",
       "  <tbody>\n",
       "    <tr>\n",
       "      <th>0</th>\n",
       "      <td>3.008992</td>\n",
       "      <td>6.205285</td>\n",
       "    </tr>\n",
       "    <tr>\n",
       "      <th>1</th>\n",
       "      <td>4.845897</td>\n",
       "      <td>4.864804</td>\n",
       "    </tr>\n",
       "    <tr>\n",
       "      <th>2</th>\n",
       "      <td>5.137567</td>\n",
       "      <td>4.536671</td>\n",
       "    </tr>\n",
       "    <tr>\n",
       "      <th>3</th>\n",
       "      <td>4.766038</td>\n",
       "      <td>4.158884</td>\n",
       "    </tr>\n",
       "    <tr>\n",
       "      <th>4</th>\n",
       "      <td>4.242169</td>\n",
       "      <td>4.070555</td>\n",
       "    </tr>\n",
       "  </tbody>\n",
       "</table>\n",
       "</div>"
      ],
      "text/plain": [
       "         x1        x2\n",
       "0  3.008992  6.205285\n",
       "1  4.845897  4.864804\n",
       "2  5.137567  4.536671\n",
       "3  4.766038  4.158884\n",
       "4  4.242169  4.070555"
      ]
     },
     "execution_count": 7,
     "metadata": {},
     "output_type": "execute_result"
    }
   ],
   "source": [
    "df = pd.read_csv(\"./Homework_3_Data.txt\", header=None)\n",
    "df.columns = ['x1','x2']\n",
    "df.head()"
   ]
  },
  {
   "cell_type": "markdown",
   "metadata": {},
   "source": [
    "**2.1**"
   ]
  },
  {
   "cell_type": "code",
   "execution_count": 8,
   "metadata": {},
   "outputs": [
    {
     "data": {
      "image/png": "[encoded data removed]",
      "text/plain": [
       "<Figure size 432x288 with 1 Axes>"
      ]
     },
     "metadata": {},
     "output_type": "display_data"
    }
   ],
   "source": [
    "plt.hist2d(df.x1,df.x2, bins = 30)\n",
    "plt.xlabel('x1')\n",
    "plt.ylabel('x2')\n",
    "plt.title('Distribution of data')\n",
    "plt.show()"
   ]
  },
  {
   "cell_type": "markdown",
   "metadata": {},
   "source": [
    "**2.2**"
   ]
  },
  {
   "cell_type": "code",
   "execution_count": 9,
   "metadata": {},
   "outputs": [],
   "source": [
    "# Peform the kernel density estimate\n",
    "x1min = df.x1.min()\n",
    "x1max = df.x1.max()\n",
    "x2min = df.x2.min()\n",
    "x2max = df.x2.max()"
   ]
  },
  {
   "cell_type": "code",
   "execution_count": 10,
   "metadata": {},
   "outputs": [],
   "source": [
    "xx1, xx2 = np.mgrid[x1min:x1max:100j, x2min:x2max:100j]\n",
    "positions = np.vstack([xx1.ravel(), xx2.ravel()])\n",
    "samples = np.vstack([df.x1, df.x2])\n",
    "density = scipy.stats.gaussian_kde(samples)\n",
    "f = np.reshape(density(positions).T, xx1.shape)"
   ]
  },
  {
   "cell_type": "code",
   "execution_count": 11,
   "metadata": {},
   "outputs": [
    {
     "data": {
      "image/png": "[encoded data removed]",
      "text/plain": [
       "<Figure size 432x288 with 1 Axes>"
      ]
     },
     "metadata": {},
     "output_type": "display_data"
    }
   ],
   "source": [
    "ax = plt.figure().gca()\n",
    "ax.contourf(xx1, xx2, f, cmap='Blues')\n",
    "ax.set_xlabel('x1')\n",
    "ax.set_ylabel('x2')\n",
    "ax.set_title('Kernel Desnity Estimate of PDF')\n",
    "plt.show()"
   ]
  },
  {
   "cell_type": "markdown",
   "metadata": {},
   "source": [
    "**2.3**"
   ]
  },
  {
   "cell_type": "code",
   "execution_count": 12,
   "metadata": {},
   "outputs": [
    {
     "data": {
      "text/plain": [
       "Text(0.5,1,'Kernel Density Estimate of \\n conditional distribution x2 | 3.99 < x1 < 4.01')"
      ]
     },
     "execution_count": 12,
     "metadata": {},
     "output_type": "execute_result"
    },
    {
     "data": {
      "image/png": "[encoded data removed]",
      "text/plain": [
       "<Figure size 432x288 with 1 Axes>"
      ]
     },
     "metadata": {},
     "output_type": "display_data"
    }
   ],
   "source": [
    "x2_subset = df[abs(df.x1-4) < 0.01].x2\n",
    "density = scipy.stats.gaussian_kde(x2_subset)\n",
    "x2 = np.linspace(x2_subset.min()-1,x2_subset.max()+1,200)\n",
    "\n",
    "ax = plt.figure().gca()\n",
    "ax.plot(x2,density(x2))\n",
    "ax.set_xlabel('x2 | 3.99 < x1 < 4.01')\n",
    "ax.set_ylabel('kernel density estimate')\n",
    "ax.set_title('Kernel Density Estimate of \\n conditional distribution x2 | 3.99 < x1 < 4.01')"
   ]
  },
  {
   "cell_type": "markdown",
   "metadata": {},
   "source": [
    "**2.4**"
   ]
  },
  {
   "cell_type": "code",
   "execution_count": 13,
   "metadata": {},
   "outputs": [
    {
     "data": {
      "text/plain": [
       "Text(0.5,1,'Kernel Density Estimate of \\n marginal distribution of x1')"
      ]
     },
     "execution_count": 13,
     "metadata": {},
     "output_type": "execute_result"
    },
    {
     "data": {
      "image/png": "[encoded data removed]",
      "text/plain": [
       "<Figure size 432x288 with 1 Axes>"
      ]
     },
     "metadata": {},
     "output_type": "display_data"
    }
   ],
   "source": [
    "x1_values = df.x1\n",
    "density = scipy.stats.gaussian_kde(x1_values)\n",
    "x1 = np.linspace(x1_values.min()-1,x1_values.max()+1,200)\n",
    "\n",
    "ax = plt.figure().gca()\n",
    "ax.plot(x1,density(x1))\n",
    "ax.set_xlabel('x1')\n",
    "ax.set_ylabel('kernel density estimate')\n",
    "ax.set_title('Kernel Density Estimate of \\n marginal distribution of x1')"
   ]
  },
  {
   "cell_type": "markdown",
   "metadata": {},
   "source": [
    "**Define Bootstrap Functions**"
   ]
  },
  {
   "cell_type": "code",
   "execution_count": 14,
   "metadata": {},
   "outputs": [],
   "source": [
    "def get_bootstap_sample(dataset):\n",
    "    return np.random.choice(dataset, size = len(dataset), replace = True)\n",
    "\n",
    "def perform_bootstrap(dataset, num_of_bootstraps):\n",
    "    return [get_bootstap_sample(dataset) for _ in range(num_of_bootstraps)]"
   ]
  },
  {
   "cell_type": "markdown",
   "metadata": {},
   "source": [
    "In obtaining estimates for this problem we want you to\n",
    "define a function called get_bootstrap_sample(dataset) to generate each bootstrap sample\n",
    "and then another function perform_bootstrap(dataset) to generate all the samples.\n",
    "They should both take as parameters the dataset from which you'll be drawing samples. perform_bootstrap should call get_bootstrap_sample and return a sequence of bootstrap samples. get_bootstrap_sample should return an individual bootstrap sample."
   ]
  },
  {
   "cell_type": "markdown",
   "metadata": {},
   "source": [
    "**2.5**"
   ]
  },
  {
   "cell_type": "code",
   "execution_count": 15,
   "metadata": {},
   "outputs": [
    {
     "name": "stdout",
     "output_type": "stream",
     "text": [
      "The mean of f_x1 is  3.992763976722155\n"
     ]
    }
   ],
   "source": [
    "print(\"The mean of f_x1 is \", df.x1.mean())"
   ]
  },
  {
   "cell_type": "code",
   "execution_count": 16,
   "metadata": {},
   "outputs": [
    {
     "name": "stdout",
     "output_type": "stream",
     "text": [
      "The standard error of our estimate is  0.006876024459587009\n"
     ]
    }
   ],
   "source": [
    "replications = perform_bootstrap(df.x1, 10000)\n",
    "estimates = [np.mean(r) for r in replications]\n",
    "print(\"The standard error of our estimate is \", np.std(estimates))"
   ]
  },
  {
   "cell_type": "markdown",
   "metadata": {},
   "source": [
    "**2.6**"
   ]
  },
  {
   "cell_type": "code",
   "execution_count": 17,
   "metadata": {},
   "outputs": [
    {
     "name": "stdout",
     "output_type": "stream",
     "text": [
      "The standard deviation of f_x2|(3.99 < x1 < 4.01) is  0.7383930840136718\n"
     ]
    }
   ],
   "source": [
    "x2_subset = df[abs(df.x1-4) < 0.01].x2\n",
    "print(\"The standard deviation of f_x2|(3.99 < x1 < 4.01) is \", np.std(x2_subset))"
   ]
  },
  {
   "cell_type": "code",
   "execution_count": 18,
   "metadata": {
    "scrolled": true
   },
   "outputs": [
    {
     "name": "stdout",
     "output_type": "stream",
     "text": [
      "The standard error of our estimate is  0.03902035698758916\n"
     ]
    }
   ],
   "source": [
    "replications = perform_bootstrap(x2_subset, 10000)\n",
    "estimates = [np.std(r) for r in replications]\n",
    "print(\"The standard error of our estimate is \", np.std(estimates))"
   ]
  },
  {
   "cell_type": "markdown",
   "metadata": {},
   "source": [
    "**2.7**"
   ]
  },
  {
   "cell_type": "markdown",
   "metadata": {},
   "source": [
    "The standard deviation estimate is significant in one digits. If we add or subtract two standard errors, only the first digit will remain significant. "
   ]
  },
  {
   "cell_type": "markdown",
   "metadata": {},
   "source": [
    "<div class=\"answer-separator\">\n",
    "------------------------\n",
    "</div>"
   ]
  },
  {
   "cell_type": "markdown",
   "metadata": {},
   "source": [
    "## Problem 3: Linear Regression\n",
    "\n",
    "Consider the following base Regression class, which roughly follows the API in the python package `scikit-learn`.\n",
    "\n",
    "Our model is the the multivariate linear model whose MLE solution or equivalent cost minimization was talked about in lecture:\n",
    "\n",
    "$$y = X\\beta + \\epsilon$$\n",
    "where $y$ is a length $n$ vector, $X$ is an $m \\times p$ matrix created by stacking the features for each data point, and $\\beta$ is a $p$ length vector of coefficients.\n",
    "\n",
    "The class showcases the API:\n",
    "\n",
    "$fit(X, y)$: Fits linear model to $X$ and $y$.\n",
    "\n",
    "$get\\_params()$: Returns $\\hat{\\beta}$ for the fitted model. The parameters should be stored in a dictionary with keys \"intercept\" and \"coef\" that give us $\\hat{\\beta_0}$ and $\\hat{\\beta_{1:}}$. (The second value here is thus a numpy array of coefficient values)\n",
    "\n",
    "$predict(X)$: Predict new values with the fitted model given $X$.\n",
    "\n",
    "$score(X, y)$: Returns $R^2$ value of the fitted model.\n",
    "\n",
    "$set\\_params()$: Manually set the parameters of the linear model.\n",
    "\n"
   ]
  },
  {
   "cell_type": "code",
   "execution_count": 19,
   "metadata": {},
   "outputs": [],
   "source": [
    "class Regression(object):\n",
    "    \n",
    "    def __init__(self):\n",
    "        self.params = dict()\n",
    "    \n",
    "    def get_params(self, k):\n",
    "        return self.params[k]\n",
    "    \n",
    "    def set_params(self, **kwargs):\n",
    "        for k,v in kwargs.items():\n",
    "            self.params[k] = v\n",
    "        \n",
    "    def fit(self, X, y):\n",
    "        raise NotImplementedError()\n",
    "        \n",
    "    def predict(self, X):\n",
    "        raise NotImplementedError()\n",
    "        \n",
    "    def score(self, X, y):\n",
    "        raise NotImplementedError()"
   ]
  },
  {
   "cell_type": "markdown",
   "metadata": {},
   "source": [
    "3.1. In a jupyter notebook code cell below we've defined and implemented the class `Regression`.  Inherit from this class to create an ordinary least squares Linear Regression class called AM207OLS.  Your class will implement an sklearn-like api.  It's signature will look like this:\n",
    "\n",
    "`class OLS(Regression):`\n",
    "\n",
    "Implement `fit`, `predict` and `score`. This will involve some linear algebra. (You might want to read up on pseudo-inverses before you directly implement the linear algebra on the lecure slides).\n",
    "\n",
    "The $R^2$ score is defined as: $${R^{2} = {1-{SS_E \\over SS_T}}}$$\n",
    "\n",
    "Where:\n",
    "\n",
    "$$SS_T=\\sum_i (y_i-\\bar{y})^2, SS_R=\\sum_i (\\hat{y_i}-\\bar{y})^2, SS_E=\\sum_i (y_i - \\hat{y_i})^2$$\n",
    "where  ${y_i}$ are the original data values, $\\hat{y_i}$ are the predicted values, and $\\bar{y_i}$ is the mean of the original data values.\n",
    "\n",
    "3.2.  We'll create a synthetic data set using the code below. (Read the documentation for `make_regression` to see what is going on).  \n",
    "\n",
    "Verify that your code recovers these coefficients approximately on doing the fit. Plot the predicted `y` against the actual `y`. Also calculate the score using the same sets `X` and `y`. The usage will look something like:\n",
    "\n",
    "```python\n",
    "lr = OLS()\n",
    "lr.fit(X,y)\n",
    "lr.get_params['coef']\n",
    "lr.predict(X,y)\n",
    "lr.score(X,y)```"
   ]
  },
  {
   "cell_type": "markdown",
   "metadata": {},
   "source": [
    "**3.1**"
   ]
  },
  {
   "cell_type": "code",
   "execution_count": 20,
   "metadata": {},
   "outputs": [],
   "source": [
    "class OLS(Regression):        \n",
    "    def fit(self, X, y):\n",
    "        #get size of dataset\n",
    "        n = X.shape[0]\n",
    "        \n",
    "        #add intercepts\n",
    "        X = np.append(X, np.ones(n).reshape(n,1), axis = 1)\n",
    "        \n",
    "        #calculate coefficients\n",
    "        coeff = np.linalg.pinv(X.T.dot(X)).dot(X.T).dot(y)\n",
    "        self.params['coef'] = coeff[:-1]\n",
    "        self.params['intercept'] = coeff[-1]\n",
    "        \n",
    "    def predict(self, X):\n",
    "        return np.dot(X, self.params['coef']) + self.params['intercept']\n",
    "        \n",
    "    def score(self, X, y):\n",
    "        # your code\n",
    "        SST = np.sum((y-np.mean(y))**2)\n",
    "        SSE = np.sum((y-self.predict(X))**2)\n",
    "        return 1 - SSE/SST"
   ]
  },
  {
   "cell_type": "markdown",
   "metadata": {},
   "source": [
    "**3.2**"
   ]
  },
  {
   "cell_type": "code",
   "execution_count": 21,
   "metadata": {},
   "outputs": [
    {
     "data": {
      "text/plain": [
       "array([76.6568183 , 77.67682678, 63.78807738, 19.3299907 , 59.01638708,\n",
       "       53.13633737, 28.77629958, 10.01888939,  9.25346811, 59.55220395])"
      ]
     },
     "execution_count": 21,
     "metadata": {},
     "output_type": "execute_result"
    }
   ],
   "source": [
    "from sklearn.datasets import make_regression\n",
    "import numpy as np\n",
    "np.random.seed(99)\n",
    "X, y, coef = make_regression(30,10, 10, bias=1, noise=2, coef=True)\n",
    "coef"
   ]
  },
  {
   "cell_type": "code",
   "execution_count": 22,
   "metadata": {},
   "outputs": [
    {
     "name": "stdout",
     "output_type": "stream",
     "text": [
      "Coefficients:  [77.20719705 76.51004831 62.97865316 18.4436452  58.50019885 53.25126559\n",
      " 28.29088241  9.33333359 10.29584457 59.1606719 ]\n",
      "Difference between real coefficients and estimated coefficients:  [ 0.55037876 -1.16677846 -0.80942422 -0.8863455  -0.51618823  0.11492822\n",
      " -0.48541717 -0.6855558   1.04237646 -0.39153205]\n"
     ]
    }
   ],
   "source": [
    "lr = OLS()\n",
    "lr.fit(X,y)\n",
    "print(\"Coefficients: \", lr.get_params('coef'))\n",
    "print(\"Difference between real coefficients and estimated coefficients: \", lr.get_params('coef')-coef)"
   ]
  },
  {
   "cell_type": "code",
   "execution_count": 23,
   "metadata": {},
   "outputs": [
    {
     "data": {
      "image/png": "[encoded data removed]",
      "text/plain": [
       "<Figure size 432x288 with 1 Axes>"
      ]
     },
     "metadata": {},
     "output_type": "display_data"
    }
   ],
   "source": [
    "y_pred = lr.predict(X)\n",
    "ax = plt.figure().gca()\n",
    "ax.hist(y_pred-y)\n",
    "ax.set_xlabel('Residuals')\n",
    "ax.set_ylabel('Density')\n",
    "ax.set_title('The Distribution of the Residuals of OLS Regression')\n",
    "plt.show()"
   ]
  },
  {
   "cell_type": "code",
   "execution_count": 24,
   "metadata": {},
   "outputs": [
    {
     "name": "stdout",
     "output_type": "stream",
     "text": [
      "R squared:  0.9999155832062194\n"
     ]
    }
   ],
   "source": [
    "print(\"R squared: \", lr.score(X,y))"
   ]
  },
  {
   "cell_type": "markdown",
   "metadata": {},
   "source": [
    "<div class=\"answer-separator\">\n",
    "------------------------\n",
    "</div>"
   ]
  },
  {
   "cell_type": "markdown",
   "metadata": {},
   "source": [
    "## Question 4: Is the Incumbent of the House in?"
   ]
  },
  {
   "cell_type": "markdown",
   "metadata": {},
   "source": [
    "We shall consider US House data from 1896 to 1990. This dataset was compiled for [Gelman, Andrew, and Gary King. \"Estimating incumbency advantage without bias.\" American Journal of Political Science (1990): 1142-1164.](http://gking.harvard.edu/files/gking/files/inc.pdf). Why incumbency and why the house? The house gives us lots of races in any given year to validate our model, and in elections which happen every two years, where demography hasn't changed much, incumbency is a large effect, as might be the presence of a national swing (which we would capture in an intercept in a regression).\n",
    "\n",
    "Let us, then, imagine a very simplified model in which the democratic party's fraction of the vote in this election, for seat(county) $i$, at time $t$ years, $d_{i,t}$, is a linear combination of the democratic party's fraction of the vote in the previous election, at time $t-2$, $d_{i, t-2}$, and a categorical variable $I_{i,t}$, which characterizes the nature of the candidate running in this election:\n",
    "\n",
    "$$\n",
    "I =\n",
    "\\begin{cases} \n",
    "      -1 & \\texttt{Republican Incumbent Running} \\\\\n",
    "       0 & \\texttt{New Candidate Running} \\\\\n",
    "       1 & \\texttt{Democratic Incumbent Running}\n",
    "\\end{cases}\n",
    "$$\n",
    "\n",
    "We use the statsmodels formula notation: \n",
    "\n",
    "`DP1 ~ DP + I`.\n",
    "\n",
    "This means linear regress DP, the democratic fraction of the vote this time around for a given house seat on DP1 which is the democratic fraction the previous time around and I, a \"factor\" or categorical(nominal) variable with 3 levels.\n",
    "\n",
    "In mathematical notation this regression is:\n",
    "\n",
    "$$d_{t,i} = \\beta_1 d_{i, t-2} + \\beta_2 I_{i,t} + \\beta_0,$$\n",
    "\n",
    "where $d_{i, t-2}$ is the democratic fraction in county $i$ at the previous election, and $I_{i,t}$ is the factor above which tells us if (and from which party: 1 for dems, -1 for reps) an incumbent is running. We want to find $\\beta_0,\\beta_1,\\beta_2$.\n",
    "\n",
    "Notice that we are regressing on a discrete variable `I`. This incumbency factor takes values 1, -1, or 0. As such it only changes the *intercept* of the regression. You can think of it as 3 regression lines, one for each subpopulation of incumbency, with their *slope constrained to be the same*. An intercept of $\\beta_0$ for open seats, $\\beta_2+\\beta_0$ for Democratic incumbents and $-\\beta_2+\\beta_0$ for Republican incumbents.\n",
    "\n",
    "You then think a little bit more and realize that, for example, in many conservative districts you will have a republican elected whether he/she is an incumbent or not. And you now realize that our analysis does not consider the party of the incumbent. So you decide to fix this\n",
    "\n",
    "Lets define $P_{t,i}$ as the party in power right now before the election at time $t$, i.e. the party that won the election at time $t-2$ in county $i$. It takes on values:\n",
    "\n",
    "$$\n",
    "P =\n",
    "\\begin{cases} \n",
    "      -1 & \\texttt{Republican Seat holder} \\\\\n",
    "       1 & \\texttt{Democratic Seat holder}\n",
    "\\end{cases}\n",
    "$$\n",
    "We can do this regression instead:\n",
    "\n",
    "`DP1 ~ DP + I + P`, where\n",
    "\n",
    "$P$ represents the incumbent party, i.e. the party which won the election in year t−2.\n",
    "\n",
    "In mathematical notation we have:\n",
    "\n",
    "$$d_{t,i} = \\beta_1 d_{t-2,i} + \\beta_2 I_{t,i} + \\beta_3 P_{t,i} + \\beta_0 ,$$\n",
    "where $P_{t,i}$ is the party in power right now before the election at time $t$, i.e. the party that won the election at time $t-2$ in county $i$. The value of $P$ is 1 for democrats, and -1 for republicans.\n",
    "\n",
    "### Interpretable Regressions\n",
    "\n",
    "One can say that the coefficient of $I$ now more properly captures the ￼effect of incumbency, after controlling for party.\n",
    "\n",
    "Regression coefficients become harder to interpret with multiple features. The meaning of any given coefficient depends on the other features in the model. Gelman and Hill advise: Typical advice is to interpret each coefficient “with all the other predictors held constant.”[Gelman, Andrew; Hill, Jennifer (2006-12-25). Data Analysis Using Regression and Multilevel/Hierarchical Models] Economists like to use the phrase \"ceteris paribus\" to describe this.\n",
    "\n",
    "The way to do this is interpretation to look at the various cases and explain what the co-efficients of $P$ and $I$ mean. Let us at first set $I$ to 0 meaning no incumbents and explain what the coefficients of $P$ mean. We are then fitting:\n",
    "\n",
    "$$d_{t,i} = \\beta_1 d_{t-2,i} + \\beta_3 P_{t,i} + \\beta_0 ,$$\n",
    "which for the $P=1$ (Democrat party winning the past election) case, gives us:\n",
    "\n",
    "$$d_{t,i} = \\beta_1 d_{t-2,i} + \\beta_3 + \\beta_0 ,$$\n",
    "and, for the $P=-1$ (Republican party winning the past election) case, gives us:\n",
    "\n",
    "$$d_{t,i} = \\beta_1 d_{t-2,i} - \\beta_3 + \\beta_0 .$$\n",
    "You can see that $\\beta_3$ then captures half the difference in the effect between democrats and republicans that comes from just having the party incumbent. It tells us that, with respect to the national swing measure $\\beta_0$, whats the party effect for republicans and democrats. It does it very poorly by splitting the difference between the democratic and republican party effects and being constant across seats, but its a start.\n",
    "\n",
    "\n"
   ]
  },
  {
   "cell_type": "code",
   "execution_count": 25,
   "metadata": {},
   "outputs": [],
   "source": [
    "pairs=[\n",
    "    (1898,1896),\n",
    "    (1900,1898),\n",
    "    (1904,1902),\n",
    "    (1906,1904),\n",
    "    (1908, 1906),\n",
    "    (1910, 1908),\n",
    "    (1914, 1912),\n",
    "    (1916, 1914),\n",
    "    (1918, 1916),\n",
    "    (1920, 1918),\n",
    "    (1924, 1922),\n",
    "    (1926, 1924),\n",
    "    (1928, 1926),\n",
    "    (1930, 1928),\n",
    "    (1934, 1932),\n",
    "    (1936, 1934),\n",
    "    (1938, 1936),\n",
    "    (1940, 1938),\n",
    "    (1944, 1942),\n",
    "    (1946, 1944),\n",
    "    (1948, 1946),\n",
    "    (1950, 1948),\n",
    "    (1954, 1952),\n",
    "    (1956, 1954),\n",
    "    (1958, 1956),\n",
    "    (1960, 1958),\n",
    "    (1964, 1962),\n",
    "    (1966, 1964),\n",
    "    (1968, 1966),\n",
    "    (1970, 1968),\n",
    "    (1974, 1972),\n",
    "    (1976, 1974),\n",
    "    (1978, 1976),\n",
    "    (1980, 1978),\n",
    "    (1984, 1982),\n",
    "    (1986, 1984),\n",
    "    (1988, 1986),\n",
    "    (1990, 1988)\n",
    "]"
   ]
  },
  {
   "cell_type": "markdown",
   "metadata": {},
   "source": [
    "Each CSV file has the following information:\n",
    "\n",
    "- a number for the state\n",
    "- a number for the district\n",
    "- D1 and R1, the dem and repub percentages in the past election, and I1 the incumency back then\n",
    "- D and R, the dem and repub percentages in the present election, and I the incumbency now\n",
    "- P, the incumbent party from the past election in that seat, 1 for democrats, -1 for republicans\n",
    "- PNOW, the party which won the current election, 1 for democrats, -1 for republicans\n",
    "- A variable we'll call $T$ (for treatment),where we want to decide if we should replace an incumbent for a new candidate, or not. \n",
    "$$\n",
    "T =\n",
    "\\begin{cases} \n",
    "      0 & \\texttt{Incumbent Running} \\\\\n",
    "      1 & \\texttt{New Candidate Running}\n",
    "\\end{cases}\n",
    "$$\n",
    "\n",
    "(This column is not used in this homework)"
   ]
  },
  {
   "cell_type": "code",
   "execution_count": 26,
   "metadata": {},
   "outputs": [],
   "source": [
    "pairframes={}\n",
    "for p in pairs:\n",
    "    key = str(p[0])+\"-\"+str(p[1])\n",
    "    pairframes[key] = pd.read_csv(\"./housedata/{}.csv\".format(key))"
   ]
  },
  {
   "cell_type": "markdown",
   "metadata": {},
   "source": [
    "To get warmed up, let us consider the 1988-1990 election pair."
   ]
  },
  {
   "cell_type": "code",
   "execution_count": 27,
   "metadata": {},
   "outputs": [
    {
     "data": {
      "text/html": [
       "<div>\n",
       "<style scoped>\n",
       "    .dataframe tbody tr th:only-of-type {\n",
       "        vertical-align: middle;\n",
       "    }\n",
       "\n",
       "    .dataframe tbody tr th {\n",
       "        vertical-align: top;\n",
       "    }\n",
       "\n",
       "    .dataframe thead th {\n",
       "        text-align: right;\n",
       "    }\n",
       "</style>\n",
       "<table border=\"1\" class=\"dataframe\">\n",
       "  <thead>\n",
       "    <tr style=\"text-align: right;\">\n",
       "      <th></th>\n",
       "      <th>state</th>\n",
       "      <th>district</th>\n",
       "      <th>I</th>\n",
       "      <th>D</th>\n",
       "      <th>R</th>\n",
       "      <th>D1</th>\n",
       "      <th>R1</th>\n",
       "      <th>DP</th>\n",
       "      <th>DP1</th>\n",
       "      <th>P</th>\n",
       "      <th>PNOW</th>\n",
       "      <th>T</th>\n",
       "    </tr>\n",
       "  </thead>\n",
       "  <tbody>\n",
       "    <tr>\n",
       "      <th>0</th>\n",
       "      <td>1</td>\n",
       "      <td>1</td>\n",
       "      <td>1</td>\n",
       "      <td>126566</td>\n",
       "      <td>50690</td>\n",
       "      <td>176463</td>\n",
       "      <td>51985</td>\n",
       "      <td>0.714029</td>\n",
       "      <td>0.772443</td>\n",
       "      <td>1</td>\n",
       "      <td>1</td>\n",
       "      <td>0.0</td>\n",
       "    </tr>\n",
       "    <tr>\n",
       "      <th>1</th>\n",
       "      <td>1</td>\n",
       "      <td>2</td>\n",
       "      <td>1</td>\n",
       "      <td>105085</td>\n",
       "      <td>70922</td>\n",
       "      <td>143326</td>\n",
       "      <td>81965</td>\n",
       "      <td>0.597050</td>\n",
       "      <td>0.636182</td>\n",
       "      <td>1</td>\n",
       "      <td>1</td>\n",
       "      <td>0.0</td>\n",
       "    </tr>\n",
       "    <tr>\n",
       "      <th>2</th>\n",
       "      <td>1</td>\n",
       "      <td>3</td>\n",
       "      <td>0</td>\n",
       "      <td>90772</td>\n",
       "      <td>83440</td>\n",
       "      <td>147394</td>\n",
       "      <td>74275</td>\n",
       "      <td>0.521043</td>\n",
       "      <td>0.664928</td>\n",
       "      <td>1</td>\n",
       "      <td>1</td>\n",
       "      <td>1.0</td>\n",
       "    </tr>\n",
       "    <tr>\n",
       "      <th>3</th>\n",
       "      <td>1</td>\n",
       "      <td>4</td>\n",
       "      <td>-1</td>\n",
       "      <td>32352</td>\n",
       "      <td>105682</td>\n",
       "      <td>55751</td>\n",
       "      <td>147843</td>\n",
       "      <td>0.234377</td>\n",
       "      <td>0.273834</td>\n",
       "      <td>-1</td>\n",
       "      <td>-1</td>\n",
       "      <td>0.0</td>\n",
       "    </tr>\n",
       "    <tr>\n",
       "      <th>4</th>\n",
       "      <td>1</td>\n",
       "      <td>5</td>\n",
       "      <td>0</td>\n",
       "      <td>85803</td>\n",
       "      <td>93912</td>\n",
       "      <td>58612</td>\n",
       "      <td>163729</td>\n",
       "      <td>0.477439</td>\n",
       "      <td>0.263613</td>\n",
       "      <td>-1</td>\n",
       "      <td>-1</td>\n",
       "      <td>1.0</td>\n",
       "    </tr>\n",
       "  </tbody>\n",
       "</table>\n",
       "</div>"
      ],
      "text/plain": [
       "   state  district  I       D       R      D1      R1        DP       DP1  P  \\\n",
       "0      1         1  1  126566   50690  176463   51985  0.714029  0.772443  1   \n",
       "1      1         2  1  105085   70922  143326   81965  0.597050  0.636182  1   \n",
       "2      1         3  0   90772   83440  147394   74275  0.521043  0.664928  1   \n",
       "3      1         4 -1   32352  105682   55751  147843  0.234377  0.273834 -1   \n",
       "4      1         5  0   85803   93912   58612  163729  0.477439  0.263613 -1   \n",
       "\n",
       "   PNOW    T  \n",
       "0     1  0.0  \n",
       "1     1  0.0  \n",
       "2     1  1.0  \n",
       "3    -1  0.0  \n",
       "4    -1  1.0  "
      ]
     },
     "execution_count": 27,
     "metadata": {},
     "output_type": "execute_result"
    }
   ],
   "source": [
    "pairframes['1990-1988'].head()"
   ]
  },
  {
   "cell_type": "markdown",
   "metadata": {},
   "source": [
    "To carry out the linear regression we'll use `statsmodels` from python, using the `ols`, or Ordinary Least Squares method defined there.\n",
    "\n",
    "We use the `statsmodels` formula notation. `DP ~ DP1 + I` means linear regress `DP`, the democratic fraction of the vote this time around for a given house seat on `DP1` which is the democratic fraction the previous time around and `I`, a \"factor\" or categorical(nominal) variable with 3 levels: "
   ]
  },
  {
   "cell_type": "code",
   "execution_count": 28,
   "metadata": {},
   "outputs": [],
   "source": [
    "import statsmodels.api as sm\n",
    "from statsmodels.formula.api import glm, ols"
   ]
  },
  {
   "cell_type": "code",
   "execution_count": 29,
   "metadata": {},
   "outputs": [
    {
     "data": {
      "text/plain": [
       "<statsmodels.regression.linear_model.RegressionResultsWrapper at 0x1c1cad8c50>"
      ]
     },
     "execution_count": 29,
     "metadata": {},
     "output_type": "execute_result"
    }
   ],
   "source": [
    "ols_model = ols('DP ~ DP1 + I', pairframes['1990-1988']).fit()\n",
    "ols_model"
   ]
  },
  {
   "cell_type": "code",
   "execution_count": 30,
   "metadata": {},
   "outputs": [
    {
     "data": {
      "text/html": [
       "<table class=\"simpletable\">\n",
       "<caption>OLS Regression Results</caption>\n",
       "<tr>\n",
       "  <th>Dep. Variable:</th>           <td>DP</td>        <th>  R-squared:         </th> <td>   0.806</td> \n",
       "</tr>\n",
       "<tr>\n",
       "  <th>Model:</th>                   <td>OLS</td>       <th>  Adj. R-squared:    </th> <td>   0.804</td> \n",
       "</tr>\n",
       "<tr>\n",
       "  <th>Method:</th>             <td>Least Squares</td>  <th>  F-statistic:       </th> <td>   612.0</td> \n",
       "</tr>\n",
       "<tr>\n",
       "  <th>Date:</th>             <td>Fri, 28 Sep 2018</td> <th>  Prob (F-statistic):</th> <td>1.04e-105</td>\n",
       "</tr>\n",
       "<tr>\n",
       "  <th>Time:</th>                 <td>23:31:01</td>     <th>  Log-Likelihood:    </th> <td>  368.81</td> \n",
       "</tr>\n",
       "<tr>\n",
       "  <th>No. Observations:</th>      <td>   298</td>      <th>  AIC:               </th> <td>  -731.6</td> \n",
       "</tr>\n",
       "<tr>\n",
       "  <th>Df Residuals:</th>          <td>   295</td>      <th>  BIC:               </th> <td>  -720.5</td> \n",
       "</tr>\n",
       "<tr>\n",
       "  <th>Df Model:</th>              <td>     2</td>      <th>                     </th>     <td> </td>    \n",
       "</tr>\n",
       "<tr>\n",
       "  <th>Covariance Type:</th>      <td>nonrobust</td>    <th>                     </th>     <td> </td>    \n",
       "</tr>\n",
       "</table>\n",
       "<table class=\"simpletable\">\n",
       "<tr>\n",
       "      <td></td>         <th>coef</th>     <th>std err</th>      <th>t</th>      <th>P>|t|</th>  <th>[0.025</th>    <th>0.975]</th>  \n",
       "</tr>\n",
       "<tr>\n",
       "  <th>Intercept</th> <td>    0.2326</td> <td>    0.020</td> <td>   11.503</td> <td> 0.000</td> <td>    0.193</td> <td>    0.272</td>\n",
       "</tr>\n",
       "<tr>\n",
       "  <th>DP1</th>       <td>    0.5622</td> <td>    0.040</td> <td>   14.220</td> <td> 0.000</td> <td>    0.484</td> <td>    0.640</td>\n",
       "</tr>\n",
       "<tr>\n",
       "  <th>I</th>         <td>    0.0429</td> <td>    0.008</td> <td>    5.333</td> <td> 0.000</td> <td>    0.027</td> <td>    0.059</td>\n",
       "</tr>\n",
       "</table>\n",
       "<table class=\"simpletable\">\n",
       "<tr>\n",
       "  <th>Omnibus:</th>       <td> 7.465</td> <th>  Durbin-Watson:     </th> <td>   1.728</td>\n",
       "</tr>\n",
       "<tr>\n",
       "  <th>Prob(Omnibus):</th> <td> 0.024</td> <th>  Jarque-Bera (JB):  </th> <td>   7.316</td>\n",
       "</tr>\n",
       "<tr>\n",
       "  <th>Skew:</th>          <td> 0.374</td> <th>  Prob(JB):          </th> <td>  0.0258</td>\n",
       "</tr>\n",
       "<tr>\n",
       "  <th>Kurtosis:</th>      <td> 3.174</td> <th>  Cond. No.          </th> <td>    13.1</td>\n",
       "</tr>\n",
       "</table><br/><br/>Warnings:<br/>[1] Standard Errors assume that the covariance matrix of the errors is correctly specified."
      ],
      "text/plain": [
       "<class 'statsmodels.iolib.summary.Summary'>\n",
       "\"\"\"\n",
       "                            OLS Regression Results                            \n",
       "==============================================================================\n",
       "Dep. Variable:                     DP   R-squared:                       0.806\n",
       "Model:                            OLS   Adj. R-squared:                  0.804\n",
       "Method:                 Least Squares   F-statistic:                     612.0\n",
       "Date:                Fri, 28 Sep 2018   Prob (F-statistic):          1.04e-105\n",
       "Time:                        23:31:01   Log-Likelihood:                 368.81\n",
       "No. Observations:                 298   AIC:                            -731.6\n",
       "Df Residuals:                     295   BIC:                            -720.5\n",
       "Df Model:                           2                                         \n",
       "Covariance Type:            nonrobust                                         \n",
       "==============================================================================\n",
       "                 coef    std err          t      P>|t|      [0.025      0.975]\n",
       "------------------------------------------------------------------------------\n",
       "Intercept      0.2326      0.020     11.503      0.000       0.193       0.272\n",
       "DP1            0.5622      0.040     14.220      0.000       0.484       0.640\n",
       "I              0.0429      0.008      5.333      0.000       0.027       0.059\n",
       "==============================================================================\n",
       "Omnibus:                        7.465   Durbin-Watson:                   1.728\n",
       "Prob(Omnibus):                  0.024   Jarque-Bera (JB):                7.316\n",
       "Skew:                           0.374   Prob(JB):                       0.0258\n",
       "Kurtosis:                       3.174   Cond. No.                         13.1\n",
       "==============================================================================\n",
       "\n",
       "Warnings:\n",
       "[1] Standard Errors assume that the covariance matrix of the errors is correctly specified.\n",
       "\"\"\""
      ]
     },
     "execution_count": 30,
     "metadata": {},
     "output_type": "execute_result"
    }
   ],
   "source": [
    "ols_model.summary()"
   ]
  },
  {
   "cell_type": "markdown",
   "metadata": {},
   "source": [
    "### Interpretable Regressions"
   ]
  },
  {
   "cell_type": "markdown",
   "metadata": {},
   "source": [
    "One can say that **The coefficient of `I` now more properly captures the ￼effect of incumbency, after controlling for party.**\n",
    "\n",
    "Regression coefficients become harder to interpret with multiple features. The meaning of any given coefficient depends on the other features in the model. Gelman and Hill advise: **Typical advice is to interpret each coefficient “with all the other predictors held constant.”**[Gelman, Andrew; Hill, Jennifer (2006-12-25). Data Analysis Using Regression and Multilevel/Hierarchical Models] Economists like to use the phrase \"ceteris paribus\" to describe this."
   ]
  },
  {
   "cell_type": "markdown",
   "metadata": {},
   "source": [
    "The way to do this is interpretation to look at the various cases and explain what the co-efficients of `P` and `I` mean. Let us at first set `I` to 0 meaning no incumbents and explain what the coefficients of `P` mean. \n",
    "We are then fitting:\n",
    "\n",
    "$$d_{t,i} = \\beta_1 d_{t-2,i} + \\beta_3 P_{t,i} + \\beta_0 ,$$\n",
    "\n",
    "which for the $P=1$ (Democrat party winning the past election) case, gives us:\n",
    "\n",
    "$$d_{t,i} = \\beta_1 d_{t-2,i} + \\beta_3 + \\beta_0 ,$$\n",
    "\n",
    "and, for the $P=-1$ (Republican party winning the past election) case, gives us:\n",
    "\n",
    "$$d_{t,i} = \\beta_1 d_{t-2,i} - \\beta_3 + \\beta_0 .$$\n",
    "\n",
    "You can see that $\\beta_3$ then captures half the difference in the effect between democrats and republicans that comes from just having the party incumbent. It tells us that, with respect to the national swing measure $\\beta_0$, whats the party effect for republicans and democrats. It does it very poorly by splitting the difference between the democratic and republican party effects and being constant across seats, but its a start.\n",
    "\n"
   ]
  },
  {
   "cell_type": "markdown",
   "metadata": {},
   "source": [
    "### 4.1 Explain the coefficient of Incumbency"
   ]
  },
  {
   "cell_type": "markdown",
   "metadata": {},
   "source": [
    "**Use a similar argument to the one above**. \n",
    "\n",
    "(Note that setting $I$ to 1 also constrains $P$ to 1, but the reverse is not true as we saw above)."
   ]
  },
  {
   "cell_type": "markdown",
   "metadata": {},
   "source": [
    "*your answer here*\n",
    "We have XX cases.\n",
    "\n",
    "If we set $P = 1$, then $I$ can be either 0 or 1, since if the democratic party is incumbent, it would be impossible to have a republican incumbent. Likewise, if we set $P = -1$, then $I$ can be either 0 or -1.\n",
    "\n",
    "Under the first case, where the democrats won the previous election, we are fitting:\n",
    "\n",
    "$$d_{t,i} = \\beta_1 d_{t-2,i} + \\beta_2I_{t,i} + \\beta_3 + \\beta_0 ,$$\n",
    "\n",
    "In this case, $\\beta_2$ captures the effect of a democratic incumbency.\n",
    "\n",
    "Under the second scenario, where the republicans won the previous election, we are fitting:\n",
    "\n",
    "$$d_{t,i} = \\beta_1 d_{t-2,i} + \\beta_2I_{t,i} - \\beta_3 + \\beta_0 $$\n",
    "\n",
    "In this case, $-\\beta_2$ captures the effect of a republican incumbency. The coefficient is negative because $I$ is either 0 or -1.\n",
    "\n",
    "\n",
    "\n",
    "\n"
   ]
  },
  {
   "cell_type": "markdown",
   "metadata": {},
   "source": [
    "### 4.2 Carry out the linear regression `DP ~ DP1 + I + P` for all the year pairs\n",
    "\n",
    "**Present the results in a dataframe `ols_frame`. Comment on the trend in the incumbency coefficients after 1960.**\n",
    "\n",
    "(FORMAT: This dataframe has columns `yp`, the year-pair string (the keys of the dictionary of frames), the year for which we do the regression `year` (the higher year in the pair), the `formula`, which is just repeated, and the R-squared in `R2` for each regression, as well as the parameters of the regression and the p-values for the regression (for the name of the column here prefix the parameter with `p_` to denote the p-value).)"
   ]
  },
  {
   "cell_type": "code",
   "execution_count": 31,
   "metadata": {},
   "outputs": [
    {
     "data": {
      "text/html": [
       "<div>\n",
       "<style scoped>\n",
       "    .dataframe tbody tr th:only-of-type {\n",
       "        vertical-align: middle;\n",
       "    }\n",
       "\n",
       "    .dataframe tbody tr th {\n",
       "        vertical-align: top;\n",
       "    }\n",
       "\n",
       "    .dataframe thead th {\n",
       "        text-align: right;\n",
       "    }\n",
       "</style>\n",
       "<table border=\"1\" class=\"dataframe\">\n",
       "  <thead>\n",
       "    <tr style=\"text-align: right;\">\n",
       "      <th></th>\n",
       "      <th>Intercept</th>\n",
       "      <th>DP1</th>\n",
       "      <th>I</th>\n",
       "      <th>P</th>\n",
       "      <th>yp</th>\n",
       "      <th>year</th>\n",
       "      <th>formula</th>\n",
       "      <th>R2</th>\n",
       "      <th>p_Intercept</th>\n",
       "      <th>p_DP1</th>\n",
       "      <th>p_I</th>\n",
       "      <th>p_P</th>\n",
       "    </tr>\n",
       "  </thead>\n",
       "  <tbody>\n",
       "    <tr>\n",
       "      <th>0</th>\n",
       "      <td>0.091247</td>\n",
       "      <td>0.901581</td>\n",
       "      <td>0.021063</td>\n",
       "      <td>-0.006020</td>\n",
       "      <td>1898-1896</td>\n",
       "      <td>1898</td>\n",
       "      <td>DP ~ DP1 + I + P</td>\n",
       "      <td>0.714405</td>\n",
       "      <td>3.412383e-03</td>\n",
       "      <td>1.286508e-33</td>\n",
       "      <td>0.035734</td>\n",
       "      <td>0.558655</td>\n",
       "    </tr>\n",
       "    <tr>\n",
       "      <th>1</th>\n",
       "      <td>0.098974</td>\n",
       "      <td>0.768643</td>\n",
       "      <td>0.011889</td>\n",
       "      <td>0.002537</td>\n",
       "      <td>1900-1898</td>\n",
       "      <td>1900</td>\n",
       "      <td>DP ~ DP1 + I + P</td>\n",
       "      <td>0.819429</td>\n",
       "      <td>3.999435e-07</td>\n",
       "      <td>9.145154e-58</td>\n",
       "      <td>0.154437</td>\n",
       "      <td>0.747252</td>\n",
       "    </tr>\n",
       "    <tr>\n",
       "      <th>2</th>\n",
       "      <td>-0.005676</td>\n",
       "      <td>0.924338</td>\n",
       "      <td>0.011397</td>\n",
       "      <td>0.001106</td>\n",
       "      <td>1904-1902</td>\n",
       "      <td>1904</td>\n",
       "      <td>DP ~ DP1 + I + P</td>\n",
       "      <td>0.867082</td>\n",
       "      <td>7.656457e-01</td>\n",
       "      <td>7.903248e-78</td>\n",
       "      <td>0.082649</td>\n",
       "      <td>0.871755</td>\n",
       "    </tr>\n",
       "    <tr>\n",
       "      <th>3</th>\n",
       "      <td>0.098251</td>\n",
       "      <td>0.882225</td>\n",
       "      <td>-0.002075</td>\n",
       "      <td>0.017502</td>\n",
       "      <td>1906-1904</td>\n",
       "      <td>1906</td>\n",
       "      <td>DP ~ DP1 + I + P</td>\n",
       "      <td>0.856573</td>\n",
       "      <td>3.586958e-07</td>\n",
       "      <td>1.928989e-72</td>\n",
       "      <td>0.782880</td>\n",
       "      <td>0.029587</td>\n",
       "    </tr>\n",
       "    <tr>\n",
       "      <th>4</th>\n",
       "      <td>0.103591</td>\n",
       "      <td>0.778613</td>\n",
       "      <td>0.009547</td>\n",
       "      <td>-0.003617</td>\n",
       "      <td>1908-1906</td>\n",
       "      <td>1908</td>\n",
       "      <td>DP ~ DP1 + I + P</td>\n",
       "      <td>0.863811</td>\n",
       "      <td>2.381739e-11</td>\n",
       "      <td>3.310047e-85</td>\n",
       "      <td>0.229116</td>\n",
       "      <td>0.665677</td>\n",
       "    </tr>\n",
       "  </tbody>\n",
       "</table>\n",
       "</div>"
      ],
      "text/plain": [
       "   Intercept       DP1         I         P         yp  year           formula  \\\n",
       "0   0.091247  0.901581  0.021063 -0.006020  1898-1896  1898  DP ~ DP1 + I + P   \n",
       "1   0.098974  0.768643  0.011889  0.002537  1900-1898  1900  DP ~ DP1 + I + P   \n",
       "2  -0.005676  0.924338  0.011397  0.001106  1904-1902  1904  DP ~ DP1 + I + P   \n",
       "3   0.098251  0.882225 -0.002075  0.017502  1906-1904  1906  DP ~ DP1 + I + P   \n",
       "4   0.103591  0.778613  0.009547 -0.003617  1908-1906  1908  DP ~ DP1 + I + P   \n",
       "\n",
       "         R2   p_Intercept         p_DP1       p_I       p_P  \n",
       "0  0.714405  3.412383e-03  1.286508e-33  0.035734  0.558655  \n",
       "1  0.819429  3.999435e-07  9.145154e-58  0.154437  0.747252  \n",
       "2  0.867082  7.656457e-01  7.903248e-78  0.082649  0.871755  \n",
       "3  0.856573  3.586958e-07  1.928989e-72  0.782880  0.029587  \n",
       "4  0.863811  2.381739e-11  3.310047e-85  0.229116  0.665677  "
      ]
     },
     "execution_count": 31,
     "metadata": {},
     "output_type": "execute_result"
    }
   ],
   "source": [
    "# your code here\n",
    "coeff = []\n",
    "for year_str in pairframes:\n",
    "    model = ols('DP ~ DP1 + I + P', pairframes[year_str]).fit()\n",
    "    p_values = model.pvalues\n",
    "    p_values.index = ['p_'+ coef for coef in p_values.index]\n",
    "    coeff.append(model.params\n",
    "                 .append(pd.Series({'yp':year_str}))\n",
    "                 .append(pd.Series({'year':int(year_str[:4])}))\n",
    "                 .append(pd.Series({'formula': 'DP ~ DP1 + I + P'}))\n",
    "                 .append(pd.Series({'R2': model.rsquared}))\n",
    "                 .append(p_values)\n",
    "                )\n",
    "regressions = pd.DataFrame(coeff)\n",
    "regressions.head()"
   ]
  },
  {
   "cell_type": "code",
   "execution_count": 32,
   "metadata": {},
   "outputs": [
    {
     "data": {
      "image/png": "[encoded data removed]",
      "text/plain": [
       "<Figure size 432x288 with 1 Axes>"
      ]
     },
     "metadata": {},
     "output_type": "display_data"
    }
   ],
   "source": [
    "# your code here\n",
    "plt.plot(regressions['year'],regressions['I'], label = 'incumbency coefficient')\n",
    "plt.vlines(1960, ymin = 0, ymax = 0.15, label = '1960')\n",
    "plt.xlabel('year')\n",
    "plt.ylabel('coeffecient')\n",
    "plt.title('Change in the Incumbency Coefficient Over Time')\n",
    "plt.legend()\n",
    "plt.show()"
   ]
  },
  {
   "cell_type": "markdown",
   "metadata": {},
   "source": [
    "*your answer here*\n",
    "\n",
    "The incumbency coeffecients have been rising since 1960."
   ]
  },
  {
   "cell_type": "markdown",
   "metadata": {},
   "source": [
    "### 4.3 Bootstrap a distribution for the coefficient of I for 1990-1988"
   ]
  },
  {
   "cell_type": "markdown",
   "metadata": {},
   "source": [
    "**Plot a histogram of the distribution* of the co-efficient. Also print the the 2.5th and 97.5th quantile of the distribution to give a non-parametric confidence interval, plotting these on the histogram. What conclusions can you draw?**\n",
    "\n",
    "(Hint: Bootstrap involves sampling with replacement from the data and recalculating the quantity of interest, in our case the regression. This will give you a new coefficient for each regression. If you're interested in using the method for more complex applications it if imperative to familiarize with the assumptions, [this](http://stats.stackexchange.com/questions/26088/explaining-to-laypeople-why-bootstrapping-works) is a good start, but [this article](https://goo.gl/2T6k8j) is also helpful.)"
   ]
  },
  {
   "cell_type": "code",
   "execution_count": 33,
   "metadata": {},
   "outputs": [],
   "source": [
    "#your code here\n",
    "df_90_88 = pairframes['1990-1988']\n",
    "num_of_bootstraps = 1000\n",
    "dfs = [df_90_88.sample(n = len(df), replace = True) for _ in range(num_of_bootstraps)]\n",
    "models = [ols('DP ~ DP1 + I + P', df).fit() for df in dfs]\n",
    "I_coeffs = [m.params.I for m in models]"
   ]
  },
  {
   "cell_type": "code",
   "execution_count": 34,
   "metadata": {},
   "outputs": [
    {
     "data": {
      "text/plain": [
       "0.07906717268696993"
      ]
     },
     "execution_count": 34,
     "metadata": {},
     "output_type": "execute_result"
    }
   ],
   "source": [
    "np.percentile(I_coeffs, q = 2.5)"
   ]
  },
  {
   "cell_type": "code",
   "execution_count": 35,
   "metadata": {},
   "outputs": [
    {
     "data": {
      "text/plain": [
       "Text(0.5,1,'Distribution of I Coefficient with 95% CI (non-parametric)')"
      ]
     },
     "execution_count": 35,
     "metadata": {},
     "output_type": "execute_result"
    },
    {
     "data": {
      "image/png": "[encoded data removed]",
      "text/plain": [
       "<Figure size 432x288 with 1 Axes>"
      ]
     },
     "metadata": {},
     "output_type": "display_data"
    }
   ],
   "source": [
    "plt.hist(I_coeffs)\n",
    "plt.vlines(np.percentile(I_coeffs, q = 2.5), ymin = 0, ymax = 300, color = 'red')\n",
    "plt.vlines(np.percentile(I_coeffs, q = 97.5), ymin = 0, ymax = 300, color = 'red')\n",
    "plt.xlabel('I coefficient')\n",
    "plt.xlabel('Density')\n",
    "plt.title('Distribution of I Coefficient with 95% CI (non-parametric)')"
   ]
  },
  {
   "cell_type": "markdown",
   "metadata": {},
   "source": [
    "### 4.4 Inference using p-values over time"
   ]
  },
  {
   "cell_type": "markdown",
   "metadata": {},
   "source": [
    "Of-course, another more classic way of doing this same inference is though the regression itself -- it give us p-values. These are values from a t-test that asks if the coefficient is different from 0. The regression machinery assumes Normality of errors for this purpose. Lets assume the Normality and do an inference on all the years in our regression. The assumption used to calculate these p-values are: for each model (in our case `year`), the errors at each point of the regression are uncorrelated and follow a Normal distribution. We shall assume these to be true for now (in real life you ought to be checking a plot of residuals as well).\n",
    "\n",
    "Generally we'd like the p-values to be vanishingly small as they *represent the probability that we observed such an extreme incumbency effect purely by chance*. Have a look at the Wikipedia page on [p-values](https://en.wikipedia.org/wiki/P-value) for a quick reminder.\n",
    "\n",
    "Furthermore, when constructing results like this (where there are many tests considered at once) there are other concerns to take into account. One such concern is the issue of [multiple testing](https://en.wikipedia.org/wiki/Multiple_comparisons_problem). This is important because when we start dealing with a **large number** of hypotheses jointly the probability of making mistakes gets larger, hence we should be **more stringent** about what it means for a result to be significant. One such correction is the [**Bonferroni Correction**](https://en.wikipedia.org/wiki/Bonferroni_correction) which provides a new bound for deciding significance. Instead of asking the classic question: **is the p-value < $0.05$**?, this considers instead a stricter bound, we ask: **is p-value < $0.05/H$**. Where $H$ is the number of hypotheses being considered, in our case $H = 38$ (the number of years) -- this is a much higher bar for significance."
   ]
  },
  {
   "cell_type": "markdown",
   "metadata": {},
   "source": [
    "**Plot a graph of incumbency (`I`) coefficient p-vales for every year. Use this plot to study if the coefficients after 1960 are significantly different from 0.** (Plot them in log scale for easier viewing of small numbers. Also draw lines at $\\log(0.05)$ and $\\log(0.05/38)$ for reference). **Interpret your results**."
   ]
  },
  {
   "cell_type": "code",
   "execution_count": 36,
   "metadata": {},
   "outputs": [
    {
     "data": {
      "text/plain": [
       "Text(0.5,1,'Incumbency Coefficient P-Values')"
      ]
     },
     "execution_count": 36,
     "metadata": {},
     "output_type": "execute_result"
    },
    {
     "data": {
      "image/png": "[encoded data removed]",
      "text/plain": [
       "<Figure size 432x288 with 1 Axes>"
      ]
     },
     "metadata": {},
     "output_type": "display_data"
    }
   ],
   "source": [
    "#your code here\n",
    "plt.scatter(regressions.year, np.log(regressions.p_I), label = 'Incumbency Coeffecient P-Value')\n",
    "plt.hlines(np.log(0.05),xmin = 1898, xmax = 2000, color = 'red', linestyle = '--', label = 'p = 0.05')\n",
    "plt.hlines(np.log(0.05/38),xmin = 1898, xmax = 2000, color = 'red', label = 'Bonferroni Correction')\n",
    "plt.legend()\n",
    "plt.xlabel('year')\n",
    "plt.ylabel('p-value (log scale)')\n",
    "plt.title('Incumbency Coefficient P-Values')"
   ]
  },
  {
   "cell_type": "markdown",
   "metadata": {},
   "source": [
    "*your answer here*\n",
    "After 1962, the p-values for associated with the incumbency coeffecient are less than 0.05/38 suggesting that the coeffecients being different from 0 by chance is extremely low."
   ]
  },
  {
   "cell_type": "markdown",
   "metadata": {},
   "source": [
    "### 4.5 Carry out the linear regression with an interaction between the previous elections democratic fraction and this elections incumbency, for all the year pairs"
   ]
  },
  {
   "cell_type": "markdown",
   "metadata": {},
   "source": [
    "**Is the regression complete? Or do we need more features?**"
   ]
  },
  {
   "cell_type": "markdown",
   "metadata": {},
   "source": [
    "Recall that our model is fairly restrictive, the different incumbency groups are allowed to have different intercepts but the new candidate group, $I = 0$ is equally between the two incumbency groups. Furthermore, the incumbency groups are not allowed different slopes, meaning the effect of the previous elections Democratic fraction (`DP1`) is assumed the same for all incumbency groups. This may not be the case. \n",
    "\n",
    "In the figure below we can see that in fact the different groups seem to have not only different intercepts, but also possibly different slopes. "
   ]
  },
  {
   "cell_type": "code",
   "execution_count": 37,
   "metadata": {},
   "outputs": [
    {
     "name": "stderr",
     "output_type": "stream",
     "text": [
      "/Users/joshfeldman/anaconda3/envs/py36/lib/python3.6/site-packages/seaborn/regression.py:546: UserWarning: The `size` paramter has been renamed to `height`; please update your code.\n",
      "  warnings.warn(msg, UserWarning)\n",
      "/Users/joshfeldman/anaconda3/envs/py36/lib/python3.6/site-packages/scipy/stats/stats.py:1713: FutureWarning: Using a non-tuple sequence for multidimensional indexing is deprecated; use `arr[tuple(seq)]` instead of `arr[seq]`. In the future this will be interpreted as an array index, `arr[np.array(seq)]`, which will result either in an error or a different result.\n",
      "  return np.add.reduce(sorted[indexer] * weights, axis=axis) / sumval\n"
     ]
    },
    {
     "data": {
      "text/plain": [
       "<seaborn.axisgrid.FacetGrid at 0x1c9382e208>"
      ]
     },
     "execution_count": 37,
     "metadata": {},
     "output_type": "execute_result"
    },
    {
     "data": {
      "image/png": "[encoded data removed]",
      "text/plain": [
       "<Figure size 650.8x504 with 1 Axes>"
      ]
     },
     "metadata": {},
     "output_type": "display_data"
    }
   ],
   "source": [
    "import seaborn as sns\n",
    "sns.lmplot(x=\"DP1\", y=\"DP\", hue = \"I\", data=pairframes['1990-1988'], size = 7, aspect=1.2)"
   ]
  },
  {
   "cell_type": "markdown",
   "metadata": {},
   "source": [
    "**Carry out the regression with an between the previous elections democratic fraction and this elections incumbency, for each year pair. Is there evidence for interaction? How can you know for sure?**\n",
    "\n",
    "(HINT: In mathematical notation this regression is:\n",
    "\n",
    "$$d_{t,i} = \\beta_4 d_{i, t-2} I_{i,t} + \\beta_3 I_{i,t} + \\beta_2 P_{i,t} + \\beta_4 I_{i,t} d_{i, t-2} + \\beta_0,$$\n",
    "\n",
    "In `statsmodels` notation, we wish to carry out the regression:\n",
    "\n",
    "`DP ~ DP1 + I + P + DP1:I` )\n"
   ]
  },
  {
   "cell_type": "code",
   "execution_count": 38,
   "metadata": {
    "scrolled": false
   },
   "outputs": [
    {
     "data": {
      "text/html": [
       "<div>\n",
       "<style scoped>\n",
       "    .dataframe tbody tr th:only-of-type {\n",
       "        vertical-align: middle;\n",
       "    }\n",
       "\n",
       "    .dataframe tbody tr th {\n",
       "        vertical-align: top;\n",
       "    }\n",
       "\n",
       "    .dataframe thead th {\n",
       "        text-align: right;\n",
       "    }\n",
       "</style>\n",
       "<table border=\"1\" class=\"dataframe\">\n",
       "  <thead>\n",
       "    <tr style=\"text-align: right;\">\n",
       "      <th></th>\n",
       "      <th>Intercept</th>\n",
       "      <th>DP1</th>\n",
       "      <th>I</th>\n",
       "      <th>P</th>\n",
       "      <th>DP1:I</th>\n",
       "      <th>yp</th>\n",
       "      <th>year</th>\n",
       "      <th>formula</th>\n",
       "      <th>R2</th>\n",
       "      <th>p_Intercept</th>\n",
       "      <th>p_DP1</th>\n",
       "      <th>p_I</th>\n",
       "      <th>p_P</th>\n",
       "      <th>p_DP1:I</th>\n",
       "    </tr>\n",
       "  </thead>\n",
       "  <tbody>\n",
       "    <tr>\n",
       "      <th>12</th>\n",
       "      <td>0.133975</td>\n",
       "      <td>0.647948</td>\n",
       "      <td>-0.058281</td>\n",
       "      <td>-0.011112</td>\n",
       "      <td>0.177502</td>\n",
       "      <td>1928-1926</td>\n",
       "      <td>1928</td>\n",
       "      <td>DP ~ DP1 + I + P</td>\n",
       "      <td>0.783404</td>\n",
       "      <td>7.229229e-11</td>\n",
       "      <td>1.280012e-47</td>\n",
       "      <td>0.005617</td>\n",
       "      <td>0.375580</td>\n",
       "      <td>1.425443e-06</td>\n",
       "    </tr>\n",
       "    <tr>\n",
       "      <th>21</th>\n",
       "      <td>0.084596</td>\n",
       "      <td>0.752226</td>\n",
       "      <td>-0.095963</td>\n",
       "      <td>0.022790</td>\n",
       "      <td>0.193842</td>\n",
       "      <td>1950-1948</td>\n",
       "      <td>1950</td>\n",
       "      <td>DP ~ DP1 + I + P</td>\n",
       "      <td>0.864735</td>\n",
       "      <td>1.101427e-05</td>\n",
       "      <td>4.730792e-56</td>\n",
       "      <td>0.000018</td>\n",
       "      <td>0.020453</td>\n",
       "      <td>9.623747e-07</td>\n",
       "    </tr>\n",
       "    <tr>\n",
       "      <th>27</th>\n",
       "      <td>0.140460</td>\n",
       "      <td>0.563580</td>\n",
       "      <td>-0.031507</td>\n",
       "      <td>-0.016602</td>\n",
       "      <td>0.219084</td>\n",
       "      <td>1966-1964</td>\n",
       "      <td>1966</td>\n",
       "      <td>DP ~ DP1 + I + P</td>\n",
       "      <td>0.819300</td>\n",
       "      <td>9.092910e-07</td>\n",
       "      <td>3.660949e-19</td>\n",
       "      <td>0.310379</td>\n",
       "      <td>0.156935</td>\n",
       "      <td>1.715822e-04</td>\n",
       "    </tr>\n",
       "  </tbody>\n",
       "</table>\n",
       "</div>"
      ],
      "text/plain": [
       "    Intercept       DP1         I         P     DP1:I         yp  year  \\\n",
       "12   0.133975  0.647948 -0.058281 -0.011112  0.177502  1928-1926  1928   \n",
       "21   0.084596  0.752226 -0.095963  0.022790  0.193842  1950-1948  1950   \n",
       "27   0.140460  0.563580 -0.031507 -0.016602  0.219084  1966-1964  1966   \n",
       "\n",
       "             formula        R2   p_Intercept         p_DP1       p_I  \\\n",
       "12  DP ~ DP1 + I + P  0.783404  7.229229e-11  1.280012e-47  0.005617   \n",
       "21  DP ~ DP1 + I + P  0.864735  1.101427e-05  4.730792e-56  0.000018   \n",
       "27  DP ~ DP1 + I + P  0.819300  9.092910e-07  3.660949e-19  0.310379   \n",
       "\n",
       "         p_P       p_DP1:I  \n",
       "12  0.375580  1.425443e-06  \n",
       "21  0.020453  9.623747e-07  \n",
       "27  0.156935  1.715822e-04  "
      ]
     },
     "execution_count": 38,
     "metadata": {},
     "output_type": "execute_result"
    }
   ],
   "source": [
    "# your code here\n",
    "coeff = []\n",
    "for year_str in pairframes:\n",
    "    model = ols('DP ~ DP1 + I + P + DP1:I', pairframes[year_str]).fit()\n",
    "    p_values = model.pvalues\n",
    "    p_values.index = ['p_'+ coef for coef in p_values.index]\n",
    "    coeff.append(model.params\n",
    "                 .append(pd.Series({'yp':year_str}))\n",
    "                 .append(pd.Series({'year':int(year_str[:4])}))\n",
    "                 .append(pd.Series({'formula': 'DP ~ DP1 + I + P'}))\n",
    "                 .append(pd.Series({'R2': model.rsquared}))\n",
    "                 .append(p_values)\n",
    "                )\n",
    "regressions = pd.DataFrame(coeff)\n",
    "regressions[regressions['p_DP1:I'] < 0.05/38]"
   ]
  },
  {
   "cell_type": "code",
   "execution_count": 39,
   "metadata": {},
   "outputs": [
    {
     "data": {
      "text/plain": [
       "Text(0.5,1,'Incumbency vs. Previous Election Democratic\\nVote Share Interaction Coeffecient P-Value')"
      ]
     },
     "execution_count": 39,
     "metadata": {},
     "output_type": "execute_result"
    },
    {
     "data": {
      "image/png": "[encoded data removed]",
      "text/plain": [
       "<Figure size 432x288 with 1 Axes>"
      ]
     },
     "metadata": {},
     "output_type": "display_data"
    }
   ],
   "source": [
    "#your code here\n",
    "plt.scatter(regressions.year, np.log(regressions['p_DP1:I']), \n",
    "            label = 'Incumbency vs. Democratic Vote % Interaction P-Value')\n",
    "plt.hlines(np.log(0.05),xmin = 1898, xmax = 2000, color = 'red', linestyle = '--', label = 'p = 0.05')\n",
    "plt.hlines(np.log(0.05/38),xmin = 1898, xmax = 2000, color = 'red', label = 'Bonferroni Correction')\n",
    "plt.legend(loc=9, bbox_to_anchor=(0.5, -0.15))\n",
    "plt.xlabel('year')\n",
    "plt.ylabel('p-value (log scale)')\n",
    "plt.title('Incumbency vs. Previous Election Democratic\\nVote Share Interaction Coeffecient P-Value')"
   ]
  },
  {
   "cell_type": "markdown",
   "metadata": {},
   "source": [
    "*your answer here*\n",
    "\n",
    "There are only three years when the p-value for the interaction coefficient is less than 0.5/38 (1928, 1950, 1962). In all other cases, the coeffecient is not significantly different from 0."
   ]
  }
 ],
 "metadata": {
  "anaconda-cloud": {},
  "kernel_info": {
   "name": "python3"
  },
  "kernelspec": {
   "display_name": "Python [conda env:py36]",
   "language": "python",
   "name": "conda-env-py36-py"
  },
  "language_info": {
   "codemirror_mode": {
    "name": "ipython",
    "version": 3
   },
   "file_extension": ".py",
   "mimetype": "text/x-python",
   "name": "python",
   "nbconvert_exporter": "python",
   "pygments_lexer": "ipython3",
   "version": "3.6.6"
  },
  "nteract": {
   "version": "0.11.7"
  }
 },
 "nbformat": 4,
 "nbformat_minor": 2
}
