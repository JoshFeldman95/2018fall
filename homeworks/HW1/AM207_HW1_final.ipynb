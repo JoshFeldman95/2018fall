{
 "cells": [
  {
   "cell_type": "markdown",
   "metadata": {},
   "source": [
    "# AM207 Homework 1\n",
    "\n",
    "##### Data: wine_quality_missing.csv\n",
    "\n",
    "**Harvard University**<br>\n",
    "**Fall 2018**<br>\n",
    "**Instructors: Rahul Dave**<br>\n",
    "**Due Date: ** Saturday, September 15th, 2018 at 11:59pm\n",
    "\n",
    "\n",
    "\n",
    "**Instructions:**\n",
    "\n",
    "- Upload your final answers as well as your iPython notebook containing all work to Canvas.\n",
    "\n",
    "- Structure your notebook and your work to maximize readability.\n"
   ]
  },
  {
   "cell_type": "code",
   "execution_count": 1,
   "metadata": {},
   "outputs": [],
   "source": [
    "import numpy as np\n",
    "import scipy.stats\n",
    "import matplotlib\n",
    "import matplotlib.pyplot as plt\n",
    "import matplotlib.mlab as mlab\n",
    "from matplotlib import cm\n",
    "import pandas as pd\n",
    "%matplotlib inline"
   ]
  },
  {
   "cell_type": "markdown",
   "metadata": {},
   "source": [
    "## Question 1: Don't Be Sensitive, We're Looking For False Positivity\n",
    "\n",
    "**Coding not required**\n",
    "\n",
    "As the U.S. aims to increase early identification and treatment of people with HIV, a greater focus has been placed on determining the accuracy of HIV tests in real-world settings in order to better identify individuals during the early (acute) stages of infection when transmission risk is especially high.  In order to quantify this, researchers from the University of California, San Francisco conducted a review of over 21,234 HIV tests given between the years 2003 and 2008 in some of the city's highest prevalence populations.  Two of the tests included in the study -- the OraQuick Advance Blood Rapid Antibody Test (a 3rd generation fingerstick blood test we'll henceforth call the **BRT**) and the OraQuick Advance Saliva Rapid Antibody Test (a 3rd generation saliva test we'll henceforth call the **SRT**) -- can be considered Rapidly Administered tests.  According to Wikipedia, the overall prevalence of adult HIV in the United States is 0.3%\n",
    "\n",
    "You and your partner decide to undergo tests for HIV and the two of you are administered the SRT at an HIV screening clinic.  You're aware that the test you've been administered (one of the tests featured in the study) has a sensitivity (true positive rate) of 86.6% and a specificity (true negative rate) of 98.6%.\n",
    "\n",
    "1.1. In the unfortunate event that your partner tests positive what is the probability that he/she has HIV?\n",
    "\n",
    "1.2. Should you be concerned enough to ask for further testing or treatment for your partner?  Justify your answer quantitatively.\n",
    "\n",
    "1.3. The medical staff at the screening clinic decides to independently administer the BRT as it is the only other test they can administer on site.  Based on the UCSF study above, you're aware that this test has a sensitivity (true positive rate) of 91.9% and a specificity of 99.6%.  What is the probability that your partner has the HIV if both tests come up positive (Make the assumption that the independent administration means that the tests are independent of each other)?\n",
    "\n",
    "It turns out the screening clinic didn't have the second test and you and your partner were only able to be administered the SRT. However, on your way home you're reminded that your partner has spent almost all his/her life in the Bahamas where the prevalence of adult HIV is 3.3%.\n",
    "\n",
    "1.4. What is the probability that your Bahamian partner has HIV given that he/she received a positive test result on the SRT?\n",
    "\n",
    "1.5. How does the new information quantifiably affect your decision of whether you should  be concerned enough to ask for treatment or testing for your partner?\n",
    "\n",
    "*Make sure to justify your decisions using your calculations.*"
   ]
  },
  {
   "cell_type": "markdown",
   "metadata": {},
   "source": [
    "**Solution**:"
   ]
  },
  {
   "cell_type": "markdown",
   "metadata": {},
   "source": [
    "<div class=\"answer-separator\">\n",
    "------------------------\n",
    "</div>"
   ]
  },
  {
   "cell_type": "markdown",
   "metadata": {},
   "source": [
    "<h4>1.1. In the unfortunate event that your partner tests positive what is the probability that he/she has HIV?</h4>"
   ]
  },
  {
   "cell_type": "markdown",
   "metadata": {},
   "source": [
    "<div class=\"answer\">\n",
    "\n",
    "<br>\n",
    "Let $H$ be the event that your partner has HIV and let $S$ be the event that the SRT test returns a positive result. The probability that your partner has HIV given that the test is positive $P(H = 1|S = 1)$ can be found using Bayes' theorem.\n",
    "\n",
    "\\begin{equation}\n",
    "P(H = 1|S = 1) = \\frac{P(S = 1|H = 1)P(H = 1)}{P(S = 1|H = 1)P(H = 1) + P(S = 1|H = 0)P(H = 0)}\n",
    "\\end{equation}\n",
    "\n",
    "We know from Wikipedia that the probability of being HIV positive $P(H=1) = 0.003$ and, equivalently, $P(H=0) = 0.97$. The probability $P(S = 1|H = 1)$ is the true positive rate or the specificity which we know is $0.866$. The probability $P(S = 1|H = 0) = 1 - P(S = 0|H = 0) = 1 - 0.986 = 0.014$.\n",
    "\n",
    "\n",
    "Hence,\n",
    "\n",
    "\\begin{align}\n",
    "P(H = 1|S = 1) &= \\frac{(0.866)(0.003)}{(0.866)(0.003) + (0.014)(0.997)} \\\\\n",
    "    &= 0.157\n",
    "\\end{align}\n",
    "</div>"
   ]
  },
  {
   "cell_type": "code",
   "execution_count": 4,
   "metadata": {},
   "outputs": [
    {
     "data": {
      "text/plain": [
       "0.15692196182652815"
      ]
     },
     "execution_count": 4,
     "metadata": {},
     "output_type": "execute_result"
    }
   ],
   "source": [
    "(0.866*0.003)/(0.866*0.003 + 0.014*0.997)"
   ]
  },
  {
   "cell_type": "markdown",
   "metadata": {},
   "source": [
    "<div class=\"answer-separator\">\n",
    "------------------------\n",
    "</div>"
   ]
  },
  {
   "cell_type": "markdown",
   "metadata": {},
   "source": [
    "<h4>1.2. Should you be concerned enough to ask for further testing or treatment for your partner?  Justify your answer quantitatively.</h4>"
   ]
  },
  {
   "cell_type": "markdown",
   "metadata": {},
   "source": [
    "<div class=\"answer\">\n",
    "\n",
    "<br>\n",
    "Since the posterior probability of my partner being infected is only 15.7%, I would be concerned enough to ask for further testing for my partner, but not concerned enough to go immediately to treatment.\n",
    "<br>\n",
    "\n",
    "</div>"
   ]
  },
  {
   "cell_type": "markdown",
   "metadata": {},
   "source": [
    "<div class=\"answer-separator\">\n",
    "------------------------\n",
    "</div>"
   ]
  },
  {
   "cell_type": "markdown",
   "metadata": {},
   "source": [
    "<h4>1.3. The medical staff at the screening clinic decides to independently administer the BRT as it is the only other test they can administer on site.  Based on the UCSF study above, you're aware that this test has a sensitivity (true positive rate) of 91.9% and a specificity of 99.6%.  What is the probability that your partner has the HIV if both tests come up positive (Make the assumption that the independent administration means that the tests are independent of each other)?</h4>"
   ]
  },
  {
   "cell_type": "markdown",
   "metadata": {},
   "source": [
    "<div class=\"answer\">\n",
    "\n",
    "<br>\n",
    "Let $B$ be the event that the BRT test returns a positive result and $H, S$ defined as above. We assume that $B$ is independent of $S$ given $H$. The probability that your partner has HIV given that both tests are positive $P(H=1|S=1, B = 1)$ can be found using Bayes' theorem.\n",
    "\\begin{align}\n",
    "P(H=1|S=1, B = 1) &= \\frac{P(S=1, B = 1 | H = 1)P(H = 1)}{P(S=1, B = 1)} \\\\\n",
    "    &= \\frac{P(S=1| H = 1)P(B = 1| H = 1)P(H = 1)}{P(S=1, B = 1 |H = 1)P(H=1) + P(S=1, B = 1 |H = 0)P(H=0)} \\\\\n",
    "    &= \\frac{P(S=1| H = 1)P(B = 1| H = 1)P(H = 1)}{P(S=1|H = 1)P(B=1|H = 1)P(H=1) + P(S=1|H = 0)P(B=1|H = 0)P(H=0)} \\\\\n",
    "\\end{align}\n",
    " \n",
    " \n",
    "Given the values above, we find that.\n",
    "\n",
    "Hence,\n",
    "\\begin{align}\n",
    "P(H=1|S=1, B = 1) &= \\frac{(0.866)(0.919)(0.003)}{(0.866)(0.919)(0.003) + (0.014)(0.004)(0.997)} \\\\\n",
    "    &= 0.977\n",
    "\\end{align}   \n",
    "<br>\n",
    "\n",
    "</div>"
   ]
  },
  {
   "cell_type": "code",
   "execution_count": 6,
   "metadata": {},
   "outputs": [
    {
     "data": {
      "text/plain": [
       "0.9771498170168217"
      ]
     },
     "execution_count": 6,
     "metadata": {},
     "output_type": "execute_result"
    }
   ],
   "source": [
    "(0.866*0.919*0.003)/(0.866*0.919*0.003 + 0.014*0.004*0.997)"
   ]
  },
  {
   "cell_type": "markdown",
   "metadata": {},
   "source": [
    "<div class=\"answer-separator\">\n",
    "------------------------\n",
    "</div>"
   ]
  },
  {
   "cell_type": "markdown",
   "metadata": {},
   "source": [
    "<h4>1.4. What is the probability that your Bahamian partner has HIV given that he/she received a positive test result on the SRT?</h4>"
   ]
  },
  {
   "cell_type": "markdown",
   "metadata": {},
   "source": [
    "<div class=\"answer\">\n",
    "\n",
    "<br>\n",
    "From **1.1** we know,\n",
    "\n",
    "\\begin{equation}\n",
    "P(H = 1|S = 1) = \\frac{P(S = 1|H = 1)P(H = 1)}{P(S = 1|H = 1)P(H = 1) + P(S = 1|H = 0)P(H = 0)}\n",
    "\\end{equation}\n",
    "\n",
    "Hence,\n",
    "\n",
    "\\begin{align}\n",
    "P(H = 1|S = 1) &= \\frac{(0.866)(0.033)}{(0.866)(0.033) + (0.014)(0.967)} \\\\\n",
    "    &= 0.679\n",
    "\\end{align}\n",
    "<br>\n",
    "\n",
    "</div>"
   ]
  },
  {
   "cell_type": "code",
   "execution_count": 11,
   "metadata": {},
   "outputs": [
    {
     "data": {
      "text/plain": [
       "0.6785544686105044"
      ]
     },
     "execution_count": 11,
     "metadata": {},
     "output_type": "execute_result"
    }
   ],
   "source": [
    "(0.866*0.033)/(0.866*0.033 + 0.014*0.967)"
   ]
  },
  {
   "cell_type": "markdown",
   "metadata": {},
   "source": [
    "<div class=\"answer-separator\">\n",
    "------------------------\n",
    "</div>"
   ]
  },
  {
   "cell_type": "markdown",
   "metadata": {},
   "source": [
    "<h4>1.5. How does the new information quantifiably affect your decision of whether you should  be concerned enough to ask for treatment or testing for your partner?</h4>"
   ]
  },
  {
   "cell_type": "markdown",
   "metadata": {},
   "source": [
    "<div class=\"answer\">\n",
    "\n",
    "<br>\n",
    "Since the probability of my partner being HIV+ is now 67.8%, I would be concerned enough to ask for treatment, although I would also seek out another clinic that has the BRT test. <br>\n",
    "\n",
    "</div>"
   ]
  },
  {
   "cell_type": "markdown",
   "metadata": {},
   "source": [
    "<div class=\"answer-separator\">\n",
    "------------------------\n",
    "</div>"
   ]
  },
  {
   "cell_type": "markdown",
   "metadata": {},
   "source": [
    "## Question 2: Visualize Yourself Missing Your Data\n",
    "\n",
    "**Some Coding required**\n",
    "\n",
    "Missing data is a very important topic in statistics and machine learning and we may touch upon it a few times throughout the course. Let us begin to explore how to handle missing data in our analysis.  We'll be working with a dataset from the UCI Machine Learning Repository that uses a variety of wine chemical predictors to classify wines grown in the same region in Italy.  Each line represents 13 (mostly chemical) predictors of the response variable wine class, including things like alcohol content, hue, and phenols.  Unfortunately some of the predictor values were lost in measurement.  You'll find the dataset in a file called `wine_quality_missing.csv`.\n",
    "\n",
    "2.1. Read the data in the `wine_quality_missing.csv` into a pandas dataframe and store the dataframe in the variable `wine_df`.  How many observations are in the dataset?  \n",
    "\n",
    "2.2. One way to handle missing data is to just totally ignore it by removing any rows that have any missing values.  This is called *drop imputation*.  Use drop imputation on our wine quality dataframe and store the resulting dataframe in the variable `wine_drop`.  How many observations does the drop imputed dataset have?\n",
    "\n",
    "2.3. Visualize using a normed histogram the values of Ash predictor in the drop imputed dataframe.  Overlay a fitted normal distribution on your plot.  Make sure to title the plot, include a legend and label axes.\n",
    "\n",
    "2.4. What are the mean and standard deviation of the values of the Ash feature in your drop imputed dataset?\n",
    "\n",
    "2.5. Another way to handle missing data is to replace any missing value with the mean of the non-missing values in that *column*.  This is called *mean imputation*.  How many rows does our mean imputed dataset have?\n",
    "\n",
    "2.6. Visualize using a normed histogram the values of Ash predictor in the mean imputed dataframe.  Overlay a fitted normal distribution on your plot.  Make sure to title the plot, include a legend and label axes.\n",
    "\n",
    "2.7. What are the mean and standard deviation of the Ash predictor values in your mean imputed dataset?  How do they compare to the mean and standard deviation of the drop imputed dataset?\n"
   ]
  },
  {
   "cell_type": "code",
   "execution_count": 12,
   "metadata": {},
   "outputs": [
    {
     "name": "stdout",
     "output_type": "stream",
     "text": [
      "There are 178 observations in the dataset\n"
     ]
    }
   ],
   "source": [
    "wine_df = pd.read_csv(\"wine_quality_missing.csv\")\n",
    "print(\"There are %i observations in the dataset\" % len(wine_df))"
   ]
  },
  {
   "cell_type": "code",
   "execution_count": 13,
   "metadata": {},
   "outputs": [
    {
     "name": "stdout",
     "output_type": "stream",
     "text": [
      "There are 43 observations in the dataset after drop imputation\n"
     ]
    }
   ],
   "source": [
    "wine_drop = wine_df.dropna()\n",
    "print(\"There are %i observations in the dataset after drop imputation\" % len(wine_drop))"
   ]
  },
  {
   "cell_type": "code",
   "execution_count": 14,
   "metadata": {},
   "outputs": [
    {
     "data": {
      "text/plain": [
       "0.2996857918281888"
      ]
     },
     "execution_count": 14,
     "metadata": {},
     "output_type": "execute_result"
    }
   ],
   "source": [
    "np.std(wine_drop[\"Ash\"])"
   ]
  },
  {
   "cell_type": "code",
   "execution_count": 15,
   "metadata": {},
   "outputs": [
    {
     "data": {
      "image/png": "[encoded data removed]",
      "text/plain": [
       "<Figure size 432x288 with 1 Axes>"
      ]
     },
     "metadata": {},
     "output_type": "display_data"
    }
   ],
   "source": [
    "from scipy.stats import norm\n",
    "#plot histogram\n",
    "plt.hist(wine_drop[\"Ash\"], density=True, label = \"Observations\")\n",
    "\n",
    "#fit normal dist\n",
    "m_drop, s_drop = norm.fit(wine_drop[\"Ash\"])\n",
    "\n",
    "#plot normal dist\n",
    "x_values = np.linspace(min(wine_drop[\"Ash\"]), max(wine_drop[\"Ash\"]), 50)\n",
    "p = norm.pdf(x_values, m_drop, s_drop)\n",
    "plt.plot(x_values, p, label = \"Normal Distribution\")\n",
    "\n",
    "#format figure\n",
    "plt.xlabel(\"Ash\")\n",
    "plt.ylabel(\"Density\")\n",
    "plt.title(\"Histogram of Ash Values with Overlayed Normal Distribution \\n After Drop Imputation\")\n",
    "plt.legend()\n",
    "plt.show()"
   ]
  },
  {
   "cell_type": "code",
   "execution_count": 16,
   "metadata": {},
   "outputs": [
    {
     "name": "stdout",
     "output_type": "stream",
     "text": [
      "The Ash feature in the drop imputed dataset has mean 2.369767 and standard deviation 0.299686\n"
     ]
    }
   ],
   "source": [
    "print(\"The Ash feature in the drop imputed dataset has mean %f and standard deviation %f\" % (m_drop, s_drop))"
   ]
  },
  {
   "cell_type": "code",
   "execution_count": 17,
   "metadata": {},
   "outputs": [
    {
     "name": "stdout",
     "output_type": "stream",
     "text": [
      "There are 178 observations in the dataset after mean imputation\n"
     ]
    }
   ],
   "source": [
    "wine_mean = wine_df.copy()\n",
    "for clm in wine_df:\n",
    "    wine_mean[clm] = wine_mean[clm].fillna(np.mean(wine_mean[clm]))\n",
    "print(\"There are %i observations in the dataset after mean imputation\" % len(wine_mean))"
   ]
  },
  {
   "cell_type": "code",
   "execution_count": 18,
   "metadata": {},
   "outputs": [
    {
     "data": {
      "image/png": "[encoded data removed]",
      "text/plain": [
       "<Figure size 432x288 with 1 Axes>"
      ]
     },
     "metadata": {},
     "output_type": "display_data"
    }
   ],
   "source": [
    "from scipy.stats import norm\n",
    "#plot histogram\n",
    "plt.hist(wine_mean[\"Ash\"], density=True, label = \"Observations\")\n",
    "\n",
    "#fit normal dist\n",
    "m_mean, s_mean = norm.fit(wine_mean[\"Ash\"])\n",
    "\n",
    "#plot normal dist\n",
    "x_values = np.linspace(min(wine_mean[\"Ash\"]), max(wine_mean[\"Ash\"]), 50)\n",
    "p = norm.pdf(x_values, m_mean, s_mean)\n",
    "plt.plot(x_values, p, label = \"Normal Distribution\")\n",
    "\n",
    "#format figure\n",
    "plt.xlabel(\"Ash\")\n",
    "plt.ylabel(\"Density\")\n",
    "plt.title(\"Histogram of Ash Values with Overlayed Normal Distribution \\n After Mean Imputation\")\n",
    "plt.legend()\n",
    "plt.show()"
   ]
  },
  {
   "cell_type": "code",
   "execution_count": 19,
   "metadata": {
    "scrolled": true
   },
   "outputs": [
    {
     "name": "stdout",
     "output_type": "stream",
     "text": [
      "The Ash feature in the mean imputed dataset has mean 2.366218 and standard deviation 0.264276\n"
     ]
    }
   ],
   "source": [
    "print(\"The Ash feature in the mean imputed dataset has mean %f and standard deviation %f\" % (m_mean, s_mean))"
   ]
  },
  {
   "cell_type": "markdown",
   "metadata": {},
   "source": [
    "Drop and mean imputations do not change the mean of the dataset. Mean imputation does, however, decrease the standard deviation when compared with drop imputation."
   ]
  },
  {
   "cell_type": "markdown",
   "metadata": {},
   "source": [
    "## Part 3: Walk Softly and Carry a Broken Stick  \n",
    "\n",
    "**Some Coding required**\n",
    "\n",
    "3.1  A well-known probability problem, the **Broken Stick Problem** can be formulated as follows. *A stick is broken up at two points, chosen at random along its\n",
    "length. Show that the probability that the pieces obtained form a triangle is 1/4.*  Write a function `simulate_broken_stick` that runs takes an integer parameter `n_sims`, runs that many simulations of the broken stick problem and returns a floating point number representing an estimate of the probability that the pieces of a stick randomly broken in two places form a triangle.  \n",
    "\n",
    "**Hints**:\n",
    "\n",
    "1. Use either np.random.rand or scipy.stats.uniform.rvs to simulate stick-breaking\n",
    "2. Think about the triangle inequality\n",
    "\n",
    "3.2 Run your function `simulate_broken_stick` with `n_sims` set to be equal to 50 and 1000.  What are your two estimates of the solution to the broken stick problem?\n",
    "\n",
    "3.3 (Optional) Provide an analytic proof of the **Broken Stick Problem**.\n",
    "\n",
    "**Hints**:\n",
    "\n",
    "1. There's a very nice geometric proof taking advantage of [Viviani's Theorem][1].  Argue that every point in the equilateral triangle with height equal to the length of the stick maps to a particular breaking of the stick.  Divide the equilateral triangle into subtriangles by joining the midpoints.  What does it mean for a point to be outside the central equilateral subtriangle?\n",
    "2. There's a more straightforward proof treating the breaking of the stick as joint uniform random variables.  What conditions does the triangle inequality impose on the joint random variable? How do you calculate the probability that the joint uniform meets those conditions? \n",
    "\n",
    "[1]: https://en.wikipedia.org/wiki/Viviani%27s_theorem"
   ]
  },
  {
   "cell_type": "markdown",
   "metadata": {},
   "source": [
    "**Solution**:"
   ]
  },
  {
   "cell_type": "markdown",
   "metadata": {},
   "source": [
    "<h4> 3.1  A well-known probability problem, the **Broken Stick Problem** can be formulated as follows. *A stick is broken up at two points, chosen at random along its\n",
    "length. Show that the probability that the pieces obtained form a triangle is 1/4.*  Write a function `simulate_broken_stick` that runs takes an integer parameter `n_sims`, runs that many simulations of the broken stick problem and returns a floating point number representing an estimate of the probability that the pieces of a stick randomly broken in two places form a triangle.</h4>"
   ]
  },
  {
   "cell_type": "code",
   "execution_count": 38,
   "metadata": {},
   "outputs": [],
   "source": [
    "def simulate_broken_stick(n_sims):\n",
    "    \n",
    "    # define your probability estimate and initialize it to 0\n",
    "    probability_estimate = 0\n",
    "    \n",
    "    # run your simulation and calculate probability_estimate\n",
    "    cuts = np.random.rand(n_sims, 2)\n",
    "    cuts.sort()\n",
    "    side1_less_than_half = cuts[:,0] < .5\n",
    "    side2_less_than_half = cuts[:,1] - cuts[:,0] < .5\n",
    "    side3_less_than_half = cuts[:,1] > .5\n",
    "    triangles = np.all([side1_less_than_half, side2_less_than_half, side3_less_than_half], axis = 0)    # \n",
    "    total_triangles = np.sum(triangles)\n",
    "    probability_estimate = total_triangles/n_sims\n",
    "    return probability_estimate"
   ]
  },
  {
   "cell_type": "markdown",
   "metadata": {},
   "source": [
    "<h4>3.2 Run your function `simulate_broken_stick` with `n_sims` set to be equal to 50 and 1000.  What are your two estimates of the solution to the broken stick problem?</h4>"
   ]
  },
  {
   "cell_type": "code",
   "execution_count": 39,
   "metadata": {},
   "outputs": [],
   "source": [
    "estimate_50 = simulate_broken_stick(n_sims=50)  # calculate estimate for 50 simulations\n",
    "estimate_1000 = simulate_broken_stick(n_sims=1000)  # calculate estimate for 1000 simulations"
   ]
  },
  {
   "cell_type": "code",
   "execution_count": 40,
   "metadata": {},
   "outputs": [
    {
     "name": "stdout",
     "output_type": "stream",
     "text": [
      "After 50 simulations, the estimated probability that the sticks form a triangle is 0.220000\n",
      "After 1000 simulations, the estimated probability that the sticks form a triangle is 0.266000\n"
     ]
    }
   ],
   "source": [
    "## Make sure you present your answers somewhere here\n",
    "print(\"After 50 simulations, the estimated probability that the sticks form a triangle is %f\" % estimate_50)\n",
    "print(\"After 1000 simulations, the estimated probability that the sticks form a triangle is %f\" % estimate_1000)"
   ]
  },
  {
   "cell_type": "markdown",
   "metadata": {},
   "source": [
    "<h4>3.3 (Optional) Provide an analytic proof of the **Broken Stick Problem**.</h4>"
   ]
  },
  {
   "cell_type": "markdown",
   "metadata": {},
   "source": [
    "<div class=\"answer\">\n",
    "\n",
    "<br>\n",
    "By the triangle inequality, we can see that the 3 sticks form a triangle if and only they are all of length less than 1/2. We can draw a 1x1 plot representing the multivariate distribution of two uniform random variables that take on values between 0 and 1 (i.e. the two breaks in the stick). Since we can't have the distance between the points or to the edge of the stick greater than a half, we can shade in the regions that would create a triangle (see figure). The shaded areas consist of two right angle triangles that, together, make up 1/4 of the square.\n",
    "<br>\n",
    "\n",
    "</div>"
   ]
  },
  {
   "cell_type": "code",
   "execution_count": 45,
   "metadata": {},
   "outputs": [
    {
     "data": {
      "text/plain": [
       "Text(0,0.5,'cut 2')"
      ]
     },
     "execution_count": 45,
     "metadata": {},
     "output_type": "execute_result"
    },
    {
     "data": {
      "image/png": "[encoded data removed]",
      "text/plain": [
       "<Figure size 432x288 with 1 Axes>"
      ]
     },
     "metadata": {},
     "output_type": "display_data"
    }
   ],
   "source": [
    "x = (0, .5)\n",
    "y1 = (.5, 1)\n",
    "y2 = (.5, .5)\n",
    "plt.fill_between(x, y1, y2, color = \"blue\", interpolate=True)\n",
    "x = (.5, 1)\n",
    "y2 = (0, .5)\n",
    "y1 = (.5, .5)\n",
    "\n",
    "plt.fill_between(x, y1, y2, color = \"blue\", interpolate=True)\n",
    "plt.xlim(0,1)\n",
    "plt.ylim(0,1)\n",
    "plt.xlabel('cut 1')\n",
    "plt.ylabel('cut 2')"
   ]
  },
  {
   "cell_type": "code",
   "execution_count": null,
   "metadata": {},
   "outputs": [],
   "source": []
  }
 ],
 "metadata": {
  "anaconda-cloud": {},
  "kernel_info": {
   "name": "python3"
  },
  "kernelspec": {
   "display_name": "Python [conda env:py36]",
   "language": "python",
   "name": "conda-env-py36-py"
  },
  "language_info": {
   "codemirror_mode": {
    "name": "ipython",
    "version": 3
   },
   "file_extension": ".py",
   "mimetype": "text/x-python",
   "name": "python",
   "nbconvert_exporter": "python",
   "pygments_lexer": "ipython3",
   "version": "3.6.6"
  },
  "nteract": {
   "version": "0.10.0"
  }
 },
 "nbformat": 4,
 "nbformat_minor": 2
}
