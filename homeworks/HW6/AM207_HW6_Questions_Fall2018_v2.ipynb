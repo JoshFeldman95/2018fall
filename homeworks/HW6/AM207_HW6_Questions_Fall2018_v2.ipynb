{
 "cells": [
  {
   "cell_type": "markdown",
   "metadata": {},
   "source": [
    "# Homework 6\n",
    "\n",
    "##### Data: HW6_data.csv\n",
    "\n",
    "**Harvard University**<br>\n",
    "**Fall 2018**<br>\n",
    "**Instructors: Rahul Dave**<br>\n",
    "**Due Date: ** Saturday, October 20th, 2018 at 11:59pm\n",
    "\n",
    "**Instructions:**\n",
    "\n",
    "- Upload your final answers in the form of a Jupyter notebook containing all work to Canvas.\n",
    "\n",
    "- Structure your notebook and your work to maximize readability."
   ]
  },
  {
   "cell_type": "markdown",
   "metadata": {},
   "source": [
    "### Collaborators\n",
    "\n",
    "** Place the name of everyone who's submitting this assignment here**"
   ]
  },
  {
   "cell_type": "markdown",
   "metadata": {},
   "source": [
    "<div class=\"answer-separator\">\n",
    "------------------------\n",
    "</div>"
   ]
  },
  {
   "cell_type": "code",
   "execution_count": 1,
   "metadata": {},
   "outputs": [],
   "source": [
    "import numpy as np\n",
    "import scipy.stats as sc\n",
    "import scipy.special\n",
    "\n",
    "import matplotlib\n",
    "import matplotlib.pyplot as plt\n",
    "import matplotlib.mlab as mlab\n",
    "from matplotlib import cm\n",
    "import pandas as pd\n",
    "%matplotlib inline"
   ]
  },
  {
   "cell_type": "markdown",
   "metadata": {},
   "source": [
    "## Question 1: Can I sample from F-R-I-E-N-D-S without rejection?  It's Important!"
   ]
  },
  {
   "cell_type": "markdown",
   "metadata": {},
   "source": [
    "**Coding required**\n",
    "\n",
    "\n",
    "*Haven't we made it obvious?* In HW 5 we were introduced to $X$ a random variable with distribution described by the following pdf:\n",
    "\n",
    "$$\n",
    "f_X(x) = \\begin{cases}\n",
    "\\frac{1}{12}(x-1), &1\\leq x\\leq 3\\\\\n",
    "-\\frac{1}{12}(x-5), &3< x\\leq 5\\\\\n",
    "\\frac{1}{6}(x-5), &5< x\\leq 7\\\\\n",
    "-\\frac{1}{6}(x-9), &7< x\\leq 9\\\\\n",
    "0, &otherwise\n",
    "\\end{cases}\n",
    "$$\n",
    "\n",
    "*Haven't we made it clear?*  We were also introduced to $h$ the following function of $X$:\n",
    "\n",
    "$$h(X) = \\frac{1}{3\\sqrt{2}\\pi}\\mathrm{exp}\\left\\{ -\\frac{1}{18}\\left( X - 5\\right)^2\\right\\}$$\n",
    "\n",
    "\n",
    "*Want us to spell it out for you?* Compute $\\mathbb{E}[h(X)]$ via Monte Carlo simulation using the following sampling methods:"
   ]
  },
  {
   "cell_type": "markdown",
   "metadata": {},
   "source": [
    "**1.1.** Rejection sampling with a normal proposal distribution and appropriately chosen parameters (aka rejection on steroids)"
   ]
  },
  {
   "cell_type": "code",
   "execution_count": 2,
   "metadata": {},
   "outputs": [],
   "source": [
    "# probability distribution we're trying to sample from\n",
    "def p(x):\n",
    "    if x >= 1 and x <= 3:\n",
    "        return 1/12*(x-1)\n",
    "    elif x > 3 and x <= 5:\n",
    "        return -1/12*(x-5)\n",
    "    elif x > 5 and x <= 7:\n",
    "        return 1/6*(x-5)\n",
    "    elif x > 7 and x <= 9:\n",
    "        return -1/6*(x-9)\n",
    "    else:\n",
    "        0"
   ]
  },
  {
   "cell_type": "code",
   "execution_count": 3,
   "metadata": {},
   "outputs": [],
   "source": [
    "# define gaussian mixture model (makes more sense than normal for bimodal distribution)\n",
    "class guassian_mixture(object):\n",
    "    def __init__(self, m1,s1,m2,s2,p):\n",
    "            self.m1 = m1\n",
    "            self.s1 = s1\n",
    "            self.m2 = m2\n",
    "            self.s2 = s2\n",
    "            self.p = p\n",
    "                \n",
    "    def sample(self, size = 1):\n",
    "        samples = []\n",
    "        for _ in range(size):\n",
    "            g1_or_g2 = sc.binom.rvs(1,self.p)\n",
    "            if g1_or_g2 == 0:\n",
    "                samples.append(sc.norm.rvs(loc = self.m1, scale = self.s1))\n",
    "            else:\n",
    "                samples.append(sc.norm.rvs(loc = self.m2, scale = self.s2))\n",
    "        if size == 1:\n",
    "            return samples[0]\n",
    "        else:\n",
    "            return samples\n",
    "            \n",
    "        \n",
    "    def pdf(self, x):\n",
    "        return ((1-self.p)*sc.norm.pdf(x, loc = self.m1, scale = self.s1) \n",
    "                + self.p*sc.norm.pdf(x, loc = self.m2, scale = self.s2))\n",
    "    \n",
    "    def cdf(self, x):\n",
    "        return ((1-self.p)*sc.norm.cdf(x, loc = self.m1, scale = self.s1) \n",
    "                + self.p*sc.norm.cdf(x, loc = self.m2, scale = self.s2))"
   ]
  },
  {
   "cell_type": "code",
   "execution_count": 4,
   "metadata": {},
   "outputs": [
    {
     "data": {
      "image/png": "[encoded data removed]",
      "text/plain": [
       "<Figure size 432x288 with 1 Axes>"
      ]
     },
     "metadata": {},
     "output_type": "display_data"
    }
   ],
   "source": [
    "gauss_mix = guassian_mixture(3,1,7,1,.66)\n",
    "gauss_mix_samples = gauss_mix.sample(10000)\n",
    "plt.hist(gauss_mix_samples,bins = 50)\n",
    "plt.show()"
   ]
  },
  {
   "cell_type": "code",
   "execution_count": 5,
   "metadata": {},
   "outputs": [
    {
     "data": {
      "text/plain": [
       "[<matplotlib.lines.Line2D at 0x1a22006630>]"
      ]
     },
     "execution_count": 5,
     "metadata": {},
     "output_type": "execute_result"
    },
    {
     "data": {
      "image/png": "[encoded data removed]",
      "text/plain": [
       "<Figure size 432x288 with 1 Axes>"
      ]
     },
     "metadata": {},
     "output_type": "display_data"
    }
   ],
   "source": [
    "xx = np.linspace(1,9,100)\n",
    "p_x = [p(x) for x in xx]\n",
    "plt.plot(xx, p_x)\n",
    "plt.plot(xx, gauss_mix.pdf(xx))"
   ]
  },
  {
   "cell_type": "code",
   "execution_count": 6,
   "metadata": {},
   "outputs": [
    {
     "data": {
      "text/plain": [
       "[<matplotlib.lines.Line2D at 0x1a21fdc320>]"
      ]
     },
     "execution_count": 6,
     "metadata": {},
     "output_type": "execute_result"
    },
    {
     "data": {
      "image/png": "[encoded data removed]",
      "text/plain": [
       "<Figure size 432x288 with 1 Axes>"
      ]
     },
     "metadata": {},
     "output_type": "display_data"
    }
   ],
   "source": [
    "fbyg = p_x/gauss_mix.pdf(xx)\n",
    "plt.plot(xx, fbyg)"
   ]
  },
  {
   "cell_type": "code",
   "execution_count": 7,
   "metadata": {},
   "outputs": [
    {
     "data": {
      "text/plain": [
       "1.253207214315986"
      ]
     },
     "execution_count": 7,
     "metadata": {},
     "output_type": "execute_result"
    }
   ],
   "source": [
    "M = fbyg[np.argmax(fbyg)]\n",
    "M"
   ]
  },
  {
   "cell_type": "code",
   "execution_count": 8,
   "metadata": {},
   "outputs": [
    {
     "data": {
      "text/plain": [
       "[<matplotlib.lines.Line2D at 0x1a2205f2b0>]"
      ]
     },
     "execution_count": 8,
     "metadata": {},
     "output_type": "execute_result"
    },
    {
     "data": {
      "image/png": "[encoded data removed]",
      "text/plain": [
       "<Figure size 432x288 with 1 Axes>"
      ]
     },
     "metadata": {},
     "output_type": "display_data"
    }
   ],
   "source": [
    "plt.plot(xx, p_x)\n",
    "plt.plot(xx, M*gauss_mix.pdf(xx))"
   ]
  },
  {
   "cell_type": "code",
   "execution_count": 9,
   "metadata": {},
   "outputs": [
    {
     "name": "stdout",
     "output_type": "stream",
     "text": [
      "Count 12266 Accepted 10000 Outside 287\n"
     ]
    }
   ],
   "source": [
    "# domain limits\n",
    "xmin = 1 # the lower limit of our domain\n",
    "xmax = 9 # the upper limit of our domain\n",
    "\n",
    "\n",
    "N = 10000 # the total of samples we wish to generate\n",
    "accepted = 0 # the number of accepted samples\n",
    "samples = np.zeros(N)\n",
    "count = 0 # the total count of proposals\n",
    "outside = 0\n",
    "\n",
    "# generation loop\n",
    "while (accepted < N):\n",
    "    \n",
    "    while 1:\n",
    "        xproposal = gauss_mix.sample()\n",
    "        if xproposal > xmin and xproposal < xmax:\n",
    "            break\n",
    "        outside+=1\n",
    "    # pick a uniform number on [0, 1)\n",
    "    y = np.random.uniform(0,1)\n",
    "    \n",
    "    # Do the accept/reject comparison\n",
    "    if y < p(xproposal)/(M*gauss_mix.pdf(xproposal)):\n",
    "        samples[accepted] = xproposal\n",
    "        accepted += 1\n",
    "    \n",
    "    count +=1\n",
    "    \n",
    "print(\"Count\", count, \"Accepted\", accepted, \"Outside\", outside)\n"
   ]
  },
  {
   "cell_type": "code",
   "execution_count": 10,
   "metadata": {},
   "outputs": [
    {
     "data": {
      "image/png": "[encoded data removed]",
      "text/plain": [
       "<Figure size 432x288 with 1 Axes>"
      ]
     },
     "metadata": {},
     "output_type": "display_data"
    }
   ],
   "source": [
    "plt.hist(samples,bins = 50)\n",
    "plt.show()"
   ]
  },
  {
   "cell_type": "code",
   "execution_count": 11,
   "metadata": {},
   "outputs": [
    {
     "data": {
      "text/plain": [
       "0.05895532096087287"
      ]
     },
     "execution_count": 11,
     "metadata": {},
     "output_type": "execute_result"
    }
   ],
   "source": [
    "h = lambda x: 1/(3*np.sqrt(2)*np.pi)*np.exp(-1/18*(x - 5)**2)\n",
    "np.mean(h(samples))"
   ]
  },
  {
   "cell_type": "markdown",
   "metadata": {},
   "source": [
    "**1.2.** Importance sampling with a uniform proposal distribution"
   ]
  },
  {
   "cell_type": "code",
   "execution_count": 12,
   "metadata": {},
   "outputs": [
    {
     "data": {
      "text/plain": [
       "0.058722300987900086"
      ]
     },
     "execution_count": 12,
     "metadata": {},
     "output_type": "execute_result"
    }
   ],
   "source": [
    "samples = sc.uniform.rvs(1,8,100000)\n",
    "fbyg = lambda x: p(x)/sc.uniform.pdf(x,1,8)\n",
    "np.mean([h(s)*fbyg(s) for s in samples])"
   ]
  },
  {
   "cell_type": "markdown",
   "metadata": {},
   "source": [
    "**1.3.** Importance sampling with a normal proposal distribution and appropriately chosen parameters"
   ]
  },
  {
   "cell_type": "code",
   "execution_count": 13,
   "metadata": {},
   "outputs": [
    {
     "data": {
      "text/plain": [
       "0.05861418075082972"
      ]
     },
     "execution_count": 13,
     "metadata": {},
     "output_type": "execute_result"
    }
   ],
   "source": [
    "gauss_mix = guassian_mixture(3,1,7,1,.66)\n",
    "samples = gauss_mix.sample(10000)\n",
    "samples_in_range = [s for s in samples if 1 < s and s < 9]\n",
    "normer = 1/(gauss_mix.cdf(9) - gauss_mix.cdf(1))\n",
    "fbyg = lambda x: p(x)/(normer*gauss_mix.pdf(x))\n",
    "np.mean([h(s)*fbyg(s) for s in samples_in_range])"
   ]
  },
  {
   "cell_type": "markdown",
   "metadata": {},
   "source": [
    "--"
   ]
  },
  {
   "cell_type": "markdown",
   "metadata": {},
   "source": [
    "**1.4.** So far (in HWs 5 and 6) we've computed estimates of $\\mathbb{E}[h(X)]$ for the following list of methods:\n",
    "\n",
    "* Inverse Transform Sampling\n",
    "* Rejection Sampling with a uniform proposal distribution (rejection sampling in a rectangular box with uniform probability of sampling any x)\n",
    "* Rejection sampling with a normal proposal distribution and appropriately chosen parameters (aka rejection on steroids)\n",
    "* Importance sampling with a uniform proposal distribution\n",
    "* Importance sampling with a normal proposal distribution and appropriately chosen parameters.\n",
    "\n",
    "Compute the variance of each estimate of $\\mathbb{E}[h(X)]$ you calculated in this list. "
   ]
  },
  {
   "cell_type": "code",
   "execution_count": 33,
   "metadata": {},
   "outputs": [],
   "source": [
    "# CDF of p\n",
    "def cdf(x):\n",
    "    if x >= 1 and x <= 3:\n",
    "        return 1/24*(x-1)**2\n",
    "    elif x > 3 and x <= 5:\n",
    "        return -1/24*(x-5)**2 + 1/3\n",
    "    elif x > 5 and x <= 7:\n",
    "        return 1/12*(x-5)**2 +1/3\n",
    "    elif x > 7 and x <= 9:\n",
    "        return -1/12*(x-9)**2 +1\n",
    "    else:\n",
    "        0"
   ]
  },
  {
   "cell_type": "code",
   "execution_count": 34,
   "metadata": {},
   "outputs": [],
   "source": [
    "# invert the CDF\n",
    "def invCDF(r):\n",
    "    if r >= 0 and r <= 1/6:\n",
    "        return np.sqrt(24*r)+1\n",
    "    elif r > 1/6 and r <= 1/3:\n",
    "        return -np.sqrt(-24*(r-1/3))+5\n",
    "    elif r > 1/3 and r <= 2/3:\n",
    "        return np.sqrt(12*(r-1/3))+5\n",
    "    elif r > 2/3 and r <= 1:\n",
    "        return -np.sqrt(-12*(r-1))+9\n",
    "    else:\n",
    "        raise ValueError(\"r is outside the valid range\")"
   ]
  },
  {
   "cell_type": "markdown",
   "metadata": {},
   "source": [
    "## Inverse Transform Sampling"
   ]
  },
  {
   "cell_type": "code",
   "execution_count": 35,
   "metadata": {},
   "outputs": [],
   "source": [
    "def calc_inverse_approx(N):\n",
    "    # domain limits\n",
    "    xmin = 1 # the lower limit of our domain\n",
    "    xmax = 9 # the upper limit of our domain\n",
    "\n",
    "    # range limits\n",
    "    rmin = cdf(xmin)\n",
    "    rmax = cdf(xmax)\n",
    "\n",
    "    # generate uniform samples in our range then invert the CDF\n",
    "    # to get samples of our target distribution\n",
    "    R = np.random.uniform(rmin, rmax, N)\n",
    "    X = np.array([invCDF(r) for r in R])\n",
    "\n",
    "    # calculate expected value\n",
    "    h = lambda x: 1/(3*np.sqrt(2)*np.pi)*np.exp(-1/18*(x - 5)**2)\n",
    "    return np.mean(h(X))"
   ]
  },
  {
   "cell_type": "code",
   "execution_count": 36,
   "metadata": {},
   "outputs": [
    {
     "data": {
      "text/plain": [
       "1.343451326704829e-06"
      ]
     },
     "execution_count": 36,
     "metadata": {},
     "output_type": "execute_result"
    }
   ],
   "source": [
    "inverse_approx = [calc_inverse_approx(100) for _ in range(100)]\n",
    "np.var(inverse_approx)"
   ]
  },
  {
   "cell_type": "markdown",
   "metadata": {},
   "source": [
    "## Rejection Sampling with a uniform proposal distribution"
   ]
  },
  {
   "cell_type": "code",
   "execution_count": 37,
   "metadata": {},
   "outputs": [],
   "source": [
    "def calc_rejection_unif_approx(N):\n",
    "    exp_h_integrand = lambda x: h(x)*p(x)\n",
    "    X = np.random.uniform(1, 9, N)\n",
    "    y_max = 0.02\n",
    "    Y_sample = np.random.uniform(0,y_max,N)\n",
    "    exp_h_sample = np.array([exp_h_integrand(x) for x in X])\n",
    "    accepted = exp_h_sample > Y_sample\n",
    "    accepted_prop = sum(accepted)/len(accepted)\n",
    "    return accepted_prop*(9-1)*y_max"
   ]
  },
  {
   "cell_type": "code",
   "execution_count": 38,
   "metadata": {},
   "outputs": [
    {
     "data": {
      "text/plain": [
       "6.0820223999999996e-05"
      ]
     },
     "execution_count": 38,
     "metadata": {},
     "output_type": "execute_result"
    }
   ],
   "source": [
    "rejection_unif_approx = [calc_rejection_unif_approx(100) for _ in range(100)]\n",
    "np.var(rejection_unif_approx)"
   ]
  },
  {
   "cell_type": "markdown",
   "metadata": {},
   "source": [
    "## Rejection Sampling with a normal proposal distribution"
   ]
  },
  {
   "cell_type": "code",
   "execution_count": 39,
   "metadata": {},
   "outputs": [],
   "source": [
    "def calc_rejection_norm_approx(N, M):\n",
    "    # domain limits\n",
    "    xmin = 1 # the lower limit of our domain\n",
    "    xmax = 9 # the upper limit of our domain\n",
    "\n",
    "\n",
    "    accepted = 0 # the number of accepted samples\n",
    "    samples = np.zeros(N)\n",
    "    count = 0 # the total count of proposals\n",
    "    outside = 0\n",
    "\n",
    "    # generation loop\n",
    "    while (accepted < N):\n",
    "\n",
    "        while 1:\n",
    "            xproposal = gauss_mix.sample()\n",
    "            if xproposal > xmin and xproposal < xmax:\n",
    "                break\n",
    "            outside+=1\n",
    "        # pick a uniform number on [0, 1)\n",
    "        y = np.random.uniform(0,1)\n",
    "\n",
    "        # Do the accept/reject comparison\n",
    "        if y < p(xproposal)/(M*gauss_mix.pdf(xproposal)):\n",
    "            samples[accepted] = xproposal\n",
    "            accepted += 1\n",
    "\n",
    "        count +=1\n",
    "    return np.mean(h(samples))\n",
    "\n"
   ]
  },
  {
   "cell_type": "code",
   "execution_count": 40,
   "metadata": {
    "scrolled": true
   },
   "outputs": [
    {
     "data": {
      "text/plain": [
       "1.2130639830341786e-06"
      ]
     },
     "execution_count": 40,
     "metadata": {},
     "output_type": "execute_result"
    }
   ],
   "source": [
    "rejection_norm_approx = [calc_rejection_norm_approx(100, M) for _ in range(100)]\n",
    "np.var(rejection_norm_approx)"
   ]
  },
  {
   "cell_type": "markdown",
   "metadata": {},
   "source": [
    "## Importance Sampling Uniform"
   ]
  },
  {
   "cell_type": "code",
   "execution_count": 41,
   "metadata": {},
   "outputs": [],
   "source": [
    "def calc_importance_unif(N):\n",
    "    samples = sc.uniform.rvs(1,8,N)\n",
    "    fbyg = lambda x: p(x)/sc.uniform.pdf(x,1,8)\n",
    "    return np.mean([h(s)*fbyg(s) for s in samples])"
   ]
  },
  {
   "cell_type": "code",
   "execution_count": 42,
   "metadata": {},
   "outputs": [
    {
     "data": {
      "text/plain": [
       "1.7139254698922007e-05"
      ]
     },
     "execution_count": 42,
     "metadata": {},
     "output_type": "execute_result"
    }
   ],
   "source": [
    "importance_unif = [calc_importance_unif(100) for _ in range(100)]\n",
    "np.var(importance_unif)"
   ]
  },
  {
   "cell_type": "markdown",
   "metadata": {},
   "source": [
    "## Importance Sampling Normal"
   ]
  },
  {
   "cell_type": "code",
   "execution_count": 43,
   "metadata": {},
   "outputs": [],
   "source": [
    "def calc_importance_norm(N):\n",
    "    gauss_mix = guassian_mixture(3,1,7,1,.66)\n",
    "    samples = gauss_mix.sample(N)\n",
    "    samples_in_range = [s for s in samples if 1 < s and s < 9]\n",
    "    normer = 1/(gauss_mix.cdf(9) - gauss_mix.cdf(1))\n",
    "    fbyg = lambda x: p(x)/(normer*gauss_mix.pdf(x))\n",
    "    return np.mean([h(s)*fbyg(s) for s in samples_in_range])"
   ]
  },
  {
   "cell_type": "code",
   "execution_count": 44,
   "metadata": {},
   "outputs": [
    {
     "data": {
      "text/plain": [
       "2.1839688955275674e-06"
      ]
     },
     "execution_count": 44,
     "metadata": {},
     "output_type": "execute_result"
    }
   ],
   "source": [
    "importance_norm = [calc_importance_norm(100) for _ in range(100)]\n",
    "np.var(importance_norm)"
   ]
  },
  {
   "cell_type": "markdown",
   "metadata": {},
   "source": [
    "Which sampling methods and associated proposal distributions would you expect based on discussions from lecture to have resulted in lower variances? How well do your results align with these expectations?"
   ]
  },
  {
   "cell_type": "markdown",
   "metadata": {},
   "source": []
  },
  {
   "cell_type": "markdown",
   "metadata": {},
   "source": [
    "**Gratuitous Titular Reference**:  Annemarie and Marshmello's [F-R-I-E-N-D-S](https://www.youtube.com/watch?v=CY8E6N5Nzec) samples from French Hip Hop artist Rapsa's [42 Mesures à ta Sa(i)nté](https://www.youtube.com/watch?v=JivaoPSAgLI) a homage to his hometown of Saint-Étienne."
   ]
  },
  {
   "cell_type": "markdown",
   "metadata": {},
   "source": [
    "<div class=\"answer-separator\">\n",
    "------------------------\n",
    "</div>"
   ]
  },
  {
   "cell_type": "markdown",
   "metadata": {},
   "source": [
    "## Question 2: Mr. Poe Writes of Gradient Descent Into the Maelström`"
   ]
  },
  {
   "cell_type": "markdown",
   "metadata": {},
   "source": [
    "Suppose you are building a pricing model for laying down telecom cables over a geographical region. You construct a pricing model that takes as input a pair of coordinates, $(x_1, x_2)$ and based upon two parameters $\\lambda_1, \\lambda_2$ predicts the loss in revenue corresponding to laying the cables at the inputed location.  Your pricing model is described by the following equation:\n",
    "\n",
    "$$\n",
    "\\mathcal{L}(x_1, x_2\\ \\vert\\ \\lambda_1, \\lambda_2) = 0.000045\\lambda_2^2 x_2 - 0.000098\\lambda_1^2 x_1 + 0.003926\\lambda_1 x_1\\exp\\left\\{\\left(x_2^2 - x_1^2\\right)\\left(\\lambda_1^2 + \\lambda_2^2\\right)\\right\\}\n",
    "$$\n",
    "\n",
    "We've provided you some data contained in the file `HW6_data.csv`. This data represents a set of coordinates configured on the curve $x_2^2 - x_1^2 = -0.1$. Your general goal for this problem is to find the parameters $\\lambda_1, \\lambda_2$ that  minimize the net loss over the entire dataset.\n",
    "\n",
    "**2.1.** Construct an appropriate visualization of the loss function for the given data.  Use that visualization to verify that for $\\lambda_1 = 2.05384, \\lambda_2 = 0$, the loss function $L$ is minimized.  Your visualization should make note of this optima."
   ]
  },
  {
   "cell_type": "code",
   "execution_count": 56,
   "metadata": {},
   "outputs": [
    {
     "data": {
      "text/html": [
       "<div>\n",
       "<style scoped>\n",
       "    .dataframe tbody tr th:only-of-type {\n",
       "        vertical-align: middle;\n",
       "    }\n",
       "\n",
       "    .dataframe tbody tr th {\n",
       "        vertical-align: top;\n",
       "    }\n",
       "\n",
       "    .dataframe thead th {\n",
       "        text-align: right;\n",
       "    }\n",
       "</style>\n",
       "<table border=\"1\" class=\"dataframe\">\n",
       "  <thead>\n",
       "    <tr style=\"text-align: right;\">\n",
       "      <th></th>\n",
       "      <th>X_1</th>\n",
       "      <th>X_2</th>\n",
       "    </tr>\n",
       "  </thead>\n",
       "  <tbody>\n",
       "    <tr>\n",
       "      <th>15995</th>\n",
       "      <td>-59.451012</td>\n",
       "      <td>-59.450171</td>\n",
       "    </tr>\n",
       "    <tr>\n",
       "      <th>15996</th>\n",
       "      <td>-91.805088</td>\n",
       "      <td>91.804543</td>\n",
       "    </tr>\n",
       "    <tr>\n",
       "      <th>15997</th>\n",
       "      <td>-97.916107</td>\n",
       "      <td>-97.915596</td>\n",
       "    </tr>\n",
       "    <tr>\n",
       "      <th>15998</th>\n",
       "      <td>-49.388900</td>\n",
       "      <td>49.387887</td>\n",
       "    </tr>\n",
       "    <tr>\n",
       "      <th>15999</th>\n",
       "      <td>-56.236041</td>\n",
       "      <td>56.235152</td>\n",
       "    </tr>\n",
       "  </tbody>\n",
       "</table>\n",
       "</div>"
      ],
      "text/plain": [
       "             X_1        X_2\n",
       "15995 -59.451012 -59.450171\n",
       "15996 -91.805088  91.804543\n",
       "15997 -97.916107 -97.915596\n",
       "15998 -49.388900  49.387887\n",
       "15999 -56.236041  56.235152"
      ]
     },
     "execution_count": 56,
     "metadata": {},
     "output_type": "execute_result"
    }
   ],
   "source": [
    "data = pd.read_csv('./HW6_data.csv')\n",
    "data.tail()"
   ]
  },
  {
   "cell_type": "code",
   "execution_count": 339,
   "metadata": {},
   "outputs": [],
   "source": [
    "def loss(x1, x2, lambda1, lambda2):\n",
    "    return (0.000045*lambda2**2*x2 \n",
    "            - 0.000098*lambda1**2*x1 \n",
    "            + 0.003926*lambda1*x1*np.exp((x2**2 - x1**2)*(lambda1**2 + lambda2**2))\n",
    "           )\n",
    "\n",
    "def total_log_loss(data, lambda1, lambda2):\n",
    "    losses = np.array([loss(row.X_1, row.X_2, lambda1, lambda2) for _, row in data.iterrows()])\n",
    "    return np.sum(losses, axis = 0)\n",
    "    \n",
    "def stochastic_log_loss(data, lambda1, lambda2):\n",
    "    return loss(data.X_1, data.X_2, lambda1, lambda2)/16000"
   ]
  },
  {
   "cell_type": "code",
   "execution_count": 170,
   "metadata": {},
   "outputs": [
    {
     "data": {
      "text/plain": [
       "(100, 100)"
      ]
     },
     "execution_count": 170,
     "metadata": {},
     "output_type": "execute_result"
    }
   ],
   "source": [
    "lambda1 = np.linspace(-10,10,100)\n",
    "lambda2 = np.linspace(-10,10,100)\n",
    "\n",
    "lambda1_mesh, lambda2_mesh =  np.meshgrid(lambda1, lambda2)\n",
    "Z = total_log_loss(data, lambda1_mesh, lambda2_mesh)\n",
    "Z.shape"
   ]
  },
  {
   "cell_type": "code",
   "execution_count": 171,
   "metadata": {},
   "outputs": [
    {
     "data": {
      "text/plain": [
       "<matplotlib.legend.Legend at 0x1a26f3a080>"
      ]
     },
     "execution_count": 171,
     "metadata": {},
     "output_type": "execute_result"
    },
    {
     "data": {
      "image/png": "[encoded data removed]",
      "text/plain": [
       "<Figure size 432x288 with 1 Axes>"
      ]
     },
     "metadata": {},
     "output_type": "display_data"
    }
   ],
   "source": [
    "plt.pcolor(lambda1_mesh, lambda2_mesh, Z)\n",
    "plt.scatter(2.05384, 0, c='r', label = 'minima')\n",
    "plt.xlabel('lambda 1')\n",
    "plt.ylabel('lambda 2')\n",
    "plt.title('Loss Function Surface')\n",
    "plt.legend()"
   ]
  },
  {
   "cell_type": "markdown",
   "metadata": {},
   "source": [
    "**2.2.** Choose an appropriate learning rate  from [10, 1, 0.1, 0.01, 0.001, 0.0001] and use that learning rate to implement gradient descent.  Use your implementation to minimize $L$ for the given data.  Your implementation should be stored in a function named `gradient_descent`.  `gradient_descent` should take the following parameters (n represents the number of data points):\n",
    "\n",
    "- `lambda_init` -- a numpy array with shape (2 , 1) containing the initial value for $\\lambda_1$ and $\\lambda_2$\n",
    "- `X_data` -- an numpy array with shape (n, 2) containing the data coordinates used in your loss function\n",
    "- `step_size` -- a float containing the step-size/learning rate used in your algorithm\n",
    "- `scale` -- a float containing the factor by which you'll scale your step_size (or alternatively your loss) in the algorithm\n",
    "- `max_iterations` -- an integer containing a cap on the number of iterations for which you'll let your algorithm run\n",
    "- `precision` -- a float containing the difference in loss between consecutive iterations below which you'll stop the algorithm\n",
    "- `loss` -- a function (or lambda function) that takes in the following parameters and returns a float with the results of calculating the loss function for our data at $\\lambda_1$ and $\\lambda_2$\n",
    "    - `lambdas` -- a numpy array with shape (2, 1) containing $\\lambda_1$ and $\\lambda_2$\n",
    "    - `X_data` -- the same as the parameter `X_data` for `gradient_descent`\n",
    "    \n",
    "The return value for `gradient_descent` should be a dictionary with the following keys (n_itertions represents the total number of iterations):\n",
    "- 'lambdas' -- the associated value is a numpy array with shape (2,1) containing the optimal $\\lambda$'s found by the algorithm\n",
    "- 'history' -- the associated value is a numpy array with shape (n_iterations,) containing a history of the calculated value of the loss function at each iteration"
   ]
  },
  {
   "cell_type": "code",
   "execution_count": 380,
   "metadata": {},
   "outputs": [],
   "source": [
    "def get_grad(data, lambda_params, loss):\n",
    "    # calculates gradient with via symmetric difference quotient\n",
    "    grad = np.zeros(2)\n",
    "    epsilon = 1e-5\n",
    "    grad[0] = (loss(data, lambda_params[0]+epsilon, lambda_params[1])\n",
    "               -loss(data, lambda_params[0]-epsilon, lambda_params[1]))/(2*epsilon)\n",
    "    grad[1] = (loss(data, lambda_params[0], lambda_params[1]+epsilon)\n",
    "               -loss(data, lambda_params[0], lambda_params[1]-epsilon))/(2*epsilon)\n",
    "    return grad"
   ]
  },
  {
   "cell_type": "code",
   "execution_count": 381,
   "metadata": {},
   "outputs": [],
   "source": [
    "def gradient_descent(lambda_init,\n",
    "                     X_data,\n",
    "                     step_size,\n",
    "                     scale,\n",
    "                     max_iterations,\n",
    "                     precision,\n",
    "                     loss):\n",
    "    lambda_params = lambda_init\n",
    "    iterations = 0\n",
    "    loss_val = loss(X_data, lambda_params[0], lambda_params[1])\n",
    "    history = [loss_val]\n",
    "    loss_decrease = np.inf\n",
    "    while loss_decrease > precision and iterations < max_iterations:\n",
    "        step_size = scale*step_size\n",
    "        grad = get_grad(X_data, lambda_params, loss)\n",
    "        lambda_params = lambda_params - step_size * grad\n",
    "        loss_val = loss(X_data, lambda_params[0], lambda_params[1])\n",
    "        history.append(loss_val)\n",
    "        loss_decrease = history[-2] - history[-1]\n",
    "        iterations += 1\n",
    "        print('iter',iterations)\n",
    "        print('lambda',lambda_params)\n",
    "        print('loss',loss_val)\n",
    "        print('loss_decrease',loss_decrease)\n",
    "    return {'lambdas': lambda_params, 'history': np.array(history)}"
   ]
  },
  {
   "cell_type": "code",
   "execution_count": 382,
   "metadata": {},
   "outputs": [
    {
     "name": "stdout",
     "output_type": "stream",
     "text": [
      "iter 1\n",
      "lambda [3.22988113 3.18646746]\n",
      "loss 0.8132496363423627\n",
      "loss_decrease 8.903251877006682\n",
      "iter 2\n",
      "lambda [1.69425499 1.02659436]\n",
      "loss -8.371121279650197\n",
      "loss_decrease 9.18437091599256\n",
      "iter 3\n",
      "lambda [ 2.52607459 -0.14576738]\n",
      "loss -9.37526917343962\n",
      "loss_decrease 1.0041478937894226\n",
      "iter 4\n",
      "lambda [1.63566287 0.00530409]\n",
      "loss -9.479756788507302\n",
      "loss_decrease 0.10448761506768278\n",
      "iter 5\n",
      "lambda [2.35429909e+00 1.12880214e-03]\n",
      "loss -9.713718551314287\n",
      "loss_decrease 0.23396176280698455\n",
      "iter 6\n",
      "lambda [1.97702067e+00 3.70207867e-04]\n",
      "loss -9.919106278053505\n",
      "loss_decrease 0.20538772673921812\n",
      "iter 7\n",
      "lambda [2.05916421e+00 1.73054776e-04]\n",
      "loss -9.934032730066747\n",
      "loss_decrease 0.014926452013241942\n",
      "iter 8\n",
      "lambda [2.05466696e+00 9.88550990e-05]\n",
      "loss -9.934102324745709\n",
      "loss_decrease 6.959467896194838e-05\n",
      "iter 9\n",
      "lambda [2.05411293e+00 6.49576991e-05]\n",
      "loss -9.93410384433264\n",
      "loss_decrease 1.5195869309536647e-06\n"
     ]
    }
   ],
   "source": [
    "result = gradient_descent([5,5], data, 1, .8, 100, 1e-5, total_log_loss)"
   ]
  },
  {
   "cell_type": "markdown",
   "metadata": {},
   "source": [
    "**2.3** For your implementation in 2.2, create a plot of loss vs iteration.  Does your descent algorithm comverge to the right values of $\\lambda$?  At what point does your implementation converge?"
   ]
  },
  {
   "cell_type": "code",
   "execution_count": 175,
   "metadata": {},
   "outputs": [
    {
     "data": {
      "text/plain": [
       "Text(0.5,1,'Convergence of Gradient Descent')"
      ]
     },
     "execution_count": 175,
     "metadata": {},
     "output_type": "execute_result"
    },
    {
     "data": {
      "image/png": "[encoded data removed]",
      "text/plain": [
       "<Figure size 432x288 with 1 Axes>"
      ]
     },
     "metadata": {},
     "output_type": "display_data"
    }
   ],
   "source": [
    "plt.plot(np.arange(len(result['history'])),result['history'])\n",
    "plt.xlabel('iteration')\n",
    "plt.ylabel('loss')\n",
    "plt.title('Convergence of Gradient Descent')"
   ]
  },
  {
   "cell_type": "code",
   "execution_count": 176,
   "metadata": {},
   "outputs": [
    {
     "name": "stdout",
     "output_type": "stream",
     "text": [
      "[2.05411293e+00 6.49576991e-05]\n"
     ]
    }
   ],
   "source": [
    "print(result['lambdas'])"
   ]
  },
  {
   "cell_type": "markdown",
   "metadata": {},
   "source": [
    "The algorithm converges to approximately the correct values of lambda. It converges after about 4 iterations."
   ]
  },
  {
   "cell_type": "markdown",
   "metadata": {},
   "source": [
    "**2.4.** Choose an appropriate learning rate  from [10, 1, 0.1, 0.01, 0.001, 0.0001] and use that learning rate to implement stochastic gradient descent.  Use your implementation to minimize $L$ for the given data.  Your implementation should a stored in a function named `stochastic_gradient_descent`.  `stochastic_gradient_descent` should take the following parameters (n represents the number of data points):\n",
    "\n",
    "- `lambda_init` -- a numpy array with shape (2 , 1) containing the initial value for $\\lambda_1$ and $\\lambda_2$\n",
    "- `X_data` -- an numpy array with shape (n, 2) containing the data coordinates for your loss function\n",
    "- `step_size` -- a float containing the step-size/learning rate used in your algorithm\n",
    "- `scale` -- a float containing the factor by which you'll scale your step_size (or alternatively your loss) in the algorithm\n",
    "- `max_iterations` -- an integer containing a cap on the number of iterations for which you'll let your algorithm run\n",
    "- `precision` -- a float containing the difference in loss between consecutive iterations below which you'll stop the algorithm\n",
    "- `loss` -- a function (or lambda function) that takes in the following parameters and returns a float with the results of calculating the loss function for our data at $\\lambda_1$ and $\\lambda_2$\n",
    "    - `lambdas` -- a numpy array with shape (2, 1) containing $\\lambda_1$ and $\\lambda_2$\n",
    "    - `X_data` -- the same as the parameter `X_data` for `stochastic_gradient_descent`\n",
    "    \n",
    "The return value for `stochastic_gradient_descent` should be a dictionary with the following keys (n_itertions represents the total number of iterations):\n",
    "- 'lambdas' -- the associated value is a numpy array with shape (2,1) containing the optimal $\\lambda$'s found by the algorithm\n",
    "- 'history' -- the associated value is a numpy array with shape (n_iterations,) containing a history of the calculated value of the loss function at each iteration"
   ]
  },
  {
   "cell_type": "code",
   "execution_count": 386,
   "metadata": {},
   "outputs": [],
   "source": [
    "def stochastic_gradient_descent(lambda_init,\n",
    "                     X_data,\n",
    "                     step_size,\n",
    "                     scale,\n",
    "                     max_epochs,\n",
    "                     precision,\n",
    "                     loss,\n",
    "                     loss_total):\n",
    "    lambdas = [lambda_init]\n",
    "    X_data = pd.DataFrame(np.random.permutation(X_data),columns = ['X_1','X_2'])\n",
    "    epochs = 0\n",
    "    loss_val = loss_total(X_data, lambdas[-1][0], lambdas[-1][1])\n",
    "    history = [loss_val]\n",
    "    loss_decrease = np.inf\n",
    "    row = 0\n",
    "    while (loss_decrease > precision or loss_decrease < 0) and epochs < max_iterations:\n",
    "        if row >= len(X_data)-1:\n",
    "            row = 0\n",
    "            epochs = epochs + 1\n",
    "            X_data = pd.DataFrame(np.random.permutation(X_data),columns = ['X_1','X_2'])\n",
    "            print(lambdas[-1]-lambdas[-16000])\n",
    "            loss_val = loss_total(X_data, lambdas[-1][0], lambdas[-1][1])\n",
    "            history.append(loss_val)\n",
    "        else:\n",
    "            row = row + 1\n",
    "        step_size = scale*step_size\n",
    "        grad = get_grad(X_data.loc[row], lambdas[-1], loss)\n",
    "        lambdas.append(lambdas[-1] - step_size * grad)\n",
    "    return {'lambdas': np.array(lambdas), 'history': np.array(history)}"
   ]
  },
  {
   "cell_type": "code",
   "execution_count": 387,
   "metadata": {
    "scrolled": true
   },
   "outputs": [
    {
     "name": "stdout",
     "output_type": "stream",
     "text": [
      "[-0.3213829  -0.22987317]\n",
      "[-0.325292   -0.25256463]\n",
      "[-0.30910651 -0.18926603]\n",
      "[-0.30896505 -0.14673216]\n",
      "[-0.32758181 -0.22628656]\n",
      "[-0.3143952  -0.18735748]\n",
      "[-0.53345535 -0.19608575]\n",
      "[-0.35180516 -0.29974762]\n",
      "[-0.2211812  -0.29350915]\n",
      "[-0.15458507 -0.24790891]\n",
      "[-0.03468602 -0.36609769]\n",
      "[ 0.0871103  -0.63359107]\n",
      "[ 0.08837831 -0.73594697]\n",
      "[ 0.02999548 -0.45518922]\n",
      "[ 0.01110222 -0.27701581]\n",
      "[ 0.00257524 -0.13267854]\n",
      "[ 0.00063929 -0.06121099]\n",
      "[ 0.0001393  -0.02874876]\n",
      "[ 2.33604098e-05 -1.31379424e-02]\n",
      "[ 5.57294840e-06 -6.01768589e-03]\n"
     ]
    }
   ],
   "source": [
    "result = stochastic_gradient_descent([5,5], data, 2000, 0.9999**(1/16000), 20, 1e-5/16000, stochastic_log_loss, total_log_loss)"
   ]
  },
  {
   "cell_type": "markdown",
   "metadata": {},
   "source": [
    "**2.5** For your implementation in 2.4, create a plot of loss vs iteration.  Does your descent algorithm comverge to the right values of $\\lambda$?  At what point does your implementation converge?"
   ]
  },
  {
   "cell_type": "code",
   "execution_count": 388,
   "metadata": {},
   "outputs": [
    {
     "data": {
      "text/plain": [
       "<matplotlib.legend.Legend at 0x1a5f926c18>"
      ]
     },
     "execution_count": 388,
     "metadata": {},
     "output_type": "execute_result"
    },
    {
     "data": {
      "image/png": "[encoded data removed]",
      "text/plain": [
       "<Figure size 432x288 with 1 Axes>"
      ]
     },
     "metadata": {},
     "output_type": "display_data"
    }
   ],
   "source": [
    "plt.pcolor(lambda1_mesh, lambda2_mesh, Z)\n",
    "plt.scatter(2.05384, 0, c='r', label = 'minima')\n",
    "plt.plot(result['lambdas'][:,0],result['lambdas'][:,1], c='r')\n",
    "plt.xlabel('lambda 1')\n",
    "plt.ylabel('lambda 2')\n",
    "plt.title('Loss Function Surface')\n",
    "plt.legend()"
   ]
  },
  {
   "cell_type": "code",
   "execution_count": 389,
   "metadata": {},
   "outputs": [
    {
     "data": {
      "text/plain": [
       "Text(0.5,1,'Convergence of Gradient Descent')"
      ]
     },
     "execution_count": 389,
     "metadata": {},
     "output_type": "execute_result"
    },
    {
     "data": {
      "image/png": "[encoded data removed]",
      "text/plain": [
       "<Figure size 432x288 with 1 Axes>"
      ]
     },
     "metadata": {},
     "output_type": "display_data"
    }
   ],
   "source": [
    "plt.plot(np.arange(len(result['history'])),result['history'])\n",
    "plt.xlabel('iteration')\n",
    "plt.ylabel('loss')\n",
    "plt.title('Convergence of Stochastic Gradient Descent')"
   ]
  },
  {
   "cell_type": "markdown",
   "metadata": {},
   "source": [
    "The algorithm converges after 12 iterations."
   ]
  },
  {
   "cell_type": "markdown",
   "metadata": {},
   "source": [
    "**2.6** Compare the average time it takes to update the parameter estimation in each iteration of the two implementations. Which method is faster? Briefly explain why this result should be expected."
   ]
  },
  {
   "cell_type": "markdown",
   "metadata": {},
   "source": [
    "An iteration of stochastic gradient descent is much faster than gradient descent. This is because the evaluating the gradient over the inter dataset is computationally intensive, whereas calculating the gradient for a single `X_1, Y_1` pair is easy."
   ]
  },
  {
   "cell_type": "markdown",
   "metadata": {},
   "source": [
    "**2.7** Compare the number of iterations it takes for each algorithm to obtain an estimate accurate to `1e-3`.  You may wish to set a cap for maximum number of iterations.  Which method converges to the optimal point in fewer iterations?  Briefly explain why this result should be expected."
   ]
  },
  {
   "cell_type": "markdown",
   "metadata": {},
   "source": [
    "Gradient descent converges to the optimal point in fewer iterations for two reasons:\n",
    "1. The step size for gradient descent is 16000 times larger than the step size in gradient descent. This means that "
   ]
  },
  {
   "cell_type": "markdown",
   "metadata": {},
   "source": [
    "**2.8** Compare the performance of stochastic gradient descent on our loss function and dataset for the following learning rates: [10, 1, 0.1, 0.01, 0.001, 0.0001]. Based on your observations, briefly describe the effect of the choice of learning rate on the performance of the algorithm.\n",
    "\n",
    "**2.9** Using your implementation of gradient descent and stochastic gradient descent, document the behavior of your two algorithms for the following starting points, and for a number of stepsizes of your choice:\n",
    "\n",
    "- $(\\lambda_1, \\lambda_2) = (-2.47865, 0)$\n",
    "- $(\\lambda_1, \\lambda_2) = (-3, 0)$\n",
    "- $(\\lambda_1, \\lambda_2) = (-5, 0)$\n",
    "- $(\\lambda_1, \\lambda_2) = (-10, 0)$\n",
    "\n",
    "Construct a mathematical analysis of the loss function $\\mathcal{L}$ to explain results of your descent algorithms at different starting points.\n",
    "\n",
    "**Gratuitous Titular Reference**:  The renowned American auteur Edgar Allen Poe penned [\"A Descent into the Maelström\"](https://en.wikipedia.org/wiki/A_Descent_into_the_Maelstr%C3%B6m), a macabre tale of a seemingly elderly man's surviving a previous horrendous encounter with a massive hurricane, a shipwreck and a sea vortex, in 1841."
   ]
  },
  {
   "cell_type": "markdown",
   "metadata": {},
   "source": [
    "<div class=\"answer-separator\">\n",
    "------------------------\n",
    "</div>"
   ]
  }
 ],
 "metadata": {
  "anaconda-cloud": {},
  "kernelspec": {
   "display_name": "Python [conda env:py36]",
   "language": "python",
   "name": "conda-env-py36-py"
  },
  "language_info": {
   "codemirror_mode": {
    "name": "ipython",
    "version": 3
   },
   "file_extension": ".py",
   "mimetype": "text/x-python",
   "name": "python",
   "nbconvert_exporter": "python",
   "pygments_lexer": "ipython3",
   "version": "3.6.6"
  }
 },
 "nbformat": 4,
 "nbformat_minor": 2
}
