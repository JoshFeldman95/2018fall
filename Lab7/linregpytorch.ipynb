{
 "cells": [
  {
   "cell_type": "markdown",
   "metadata": {},
   "source": [
    "# Lab  7 - Introduction to Pytorch\n",
    "\n",
    "##### Keywords: gradient descent, logistic regression, pytorch, sgd, minibatch sgd\n",
    "##### Data: data/iris_dataset.pickle"
   ]
  },
  {
   "cell_type": "markdown",
   "metadata": {},
   "source": [
    "## Contents\n",
    "{:.no_toc}\n",
    "* \n",
    "{: toc}"
   ]
  },
  {
   "cell_type": "markdown",
   "metadata": {},
   "source": [
    "## Learning Aims\n",
    "\n",
    "- Introduction to PyTorch\n",
    "- Linear regression\n",
    "- Logistic regression\n",
    "- Automatic differentiation\n",
    "- Gradient descent\n",
    "\n",
    "## Lab Trajectory\n",
    "\n",
    "- PyTorch Installation\n",
    "- Why PyTorch?\n",
    "- Working with PyTorch Basics\n",
    "- Linear Regression\n",
    "- DataLoaders\n",
    "- Logistic Regression on MNIST"
   ]
  },
  {
   "cell_type": "markdown",
   "metadata": {},
   "source": [
    "## Installing PyTorch\n",
    "\n",
    "### Installation\n",
    "\n",
    "#### OS X/Linux \n",
    "We shall be using PyTorch in this class.  Please go to the PyTorch website where they have a nicely designed interface that will generate for you the appropriate installation instructions depending on your OS (Linux/OS X/Windows), your package management system (pip/conda) and your CUDA install (8/9/none).  http://pytorch.org.  Your installation instructions will look something like:\n",
    "\n",
    "- conda install pytorch torchvision -c pytorch \n",
    "\n",
    "or\n",
    "\n",
    "- pip3 install http://download.pytorch.org/whl/cu92/torch-0.4.1-cp36-cp36m-linux_x86_64.whl\n",
    "- pip3 install torchvision\n",
    "\n",
    "#### Windows\n",
    "PyTorch doesn't have official Windows support as yet, but there are Windows binaries available due to Github user @peter123.  Please see his PyTorch for Windows repo https://github.com/peterjc123/pytorch-scripts for installation instructions for different versions of Windows and CUDA.  In all likelihood your installation instructions will be:\n",
    "\n",
    "- conda install pytorch-cpu -c pytorch\n",
    "- pip install torchvision\n",
    "\n",
    "\n",
    "### Testing Installation\n",
    "\n",
    "If the code cell below shows an error, then your PyTorch installation is not working and you should contact one of the teaching staff."
   ]
  },
  {
   "cell_type": "code",
   "execution_count": 1,
   "metadata": {},
   "outputs": [],
   "source": [
    "import numpy as np"
   ]
  },
  {
   "cell_type": "code",
   "execution_count": 2,
   "metadata": {},
   "outputs": [
    {
     "name": "stdout",
     "output_type": "stream",
     "text": [
      "PyTorch version: \n",
      "Torchvision version: \n",
      "Creating a Tensor!!\n",
      "tensor([[0.9958, 0.2294, 0.9122],\n",
      "        [0.7469, 0.5787, 0.6076],\n",
      "        [0.2264, 0.8602, 0.5326],\n",
      "        [0.9106, 0.9765, 0.9191],\n",
      "        [0.6455, 0.4210, 0.0344]])\n",
      "Testing some PyTorch transformations!!\n",
      "-1.2001605206053618\n"
     ]
    }
   ],
   "source": [
    "### Code Cell to Test PyTorch\n",
    "\n",
    "import torch\n",
    "print(\"PyTorch version: \".format(torch.__version__))\n",
    "import torchvision\n",
    "import torchvision.transforms as transforms\n",
    "print(\"Torchvision version: \".format(torchvision.__version__))\n",
    "\n",
    "print(\"Creating a Tensor!!\")\n",
    "x = torch.rand(5, 3)\n",
    "print(x)\n",
    "\n",
    "transforms.RandomRotation(0.7)\n",
    "transforms.RandomRotation([0.9, 0.2])\n",
    "\n",
    "t = transforms.RandomRotation(10)\n",
    "angle = t.get_params(t.degrees)\n",
    "\n",
    "print(\"Testing some PyTorch transformations!!\")\n",
    "print(angle)\n"
   ]
  },
  {
   "cell_type": "markdown",
   "metadata": {},
   "source": [
    "## Why PyTorch?\n",
    "\n",
    "*All the quotes will come from the PyTorch About Page http://pytorch.org/about/ from which I'll plagiarize shamelessly.  After all, who better to tout the virtues of PyTorch than the creators?*\n",
    "\n",
    "\n",
    "### What is PyTorch?\n",
    "\n",
    "According to the PyTorch about page, \"PyTorch is a python package that provides two high-level features:\n",
    "\n",
    "- Tensor computation (like numpy) with strong GPU acceleration\n",
    "- Deep Neural Networks built on a tape-based autograd system\"\n",
    "\n",
    "### Why is it getting so popular?\n",
    "\n",
    "#### It's quite fast\n",
    "\n",
    "\"PyTorch has minimal framework overhead. We integrate acceleration libraries such as Intel MKL and NVIDIA (CuDNN, NCCL) to maximize speed. At the core, it’s CPU and GPU Tensor and Neural Network backends (TH, THC, THNN, THCUNN) are written as independent libraries with a C99 API.\n",
    "They are mature and have been tested for years.\n",
    "\n",
    "Hence, PyTorch is quite fast – whether you run small or large neural networks.\"\n",
    "\n",
    "#### Imperative programming experience\n",
    "\n",
    "\"PyTorch is designed to be intuitive, linear in thought and easy to use. When you execute a line of code, it gets executed. There isn’t an asynchronous view of the world. When you drop into a debugger, or receive error messages and stack traces, understanding them is straight-forward. The stack-trace points to exactly where your code was defined. We hope you never spend hours debugging your code because of bad stack traces or asynchronous and opaque execution engines.\"\n",
    "\n",
    "\"PyTorch is not a Python binding into a monolothic C++ framework. It is built to be deeply integrated into Python. You can use it naturally like you would use numpy / scipy / scikit-learn etc. You can write your new neural network layers in Python itself, using your favorite libraries and use packages such as Cython and Numba. Our goal is to not reinvent the wheel where appropriate.\"\n",
    "\n",
    "#### Takes advantage of GPUs easily\n",
    "\n",
    "\"PyTorch provides Tensors that can live either on the CPU or the GPU, and accelerate compute by a huge amount.\n",
    "\n",
    "We provide a wide variety of tensor routines to accelerate and fit your scientific computation needs such as slicing, indexing, math operations, linear algebra, reductions. And they are fast!\"\n",
    "\n",
    "\n",
    "#### Dynamic Graphs!!!\n",
    "\n",
    "\"Most frameworks such as TensorFlow, Theano, Caffe and CNTK have a static view of the world. One has to build a neural network, and reuse the same structure again and again. Changing the way the network behaves means that one has to start from scratch.\n",
    "\n",
    "With PyTorch, we use a technique called Reverse-mode auto-differentiation, which allows you to change the way your network behaves arbitrarily with zero lag or overhead. Our inspiration comes from several research papers on this topic, as well as current and past work such as autograd, autograd, Chainer, etc.\n",
    "\n",
    "While this technique is not unique to PyTorch, it’s one of the fastest implementations of it to date. You get the best of speed and flexibility for your crazy research.\"\n",
    "\n"
   ]
  },
  {
   "cell_type": "markdown",
   "metadata": {},
   "source": [
    "## Working with PyTorch Constructs\n",
    "\n",
    "Enough of the sales pitch!  Let's start to understand the PyTorch basics.\n",
    "\n",
    "The basic unit of PyTorch is a tensor (basically a multi-dimensional array like a np.ndarray).\n",
    "\n",
    "![](https://cdn-images-1.medium.com/max/2000/1*_D5ZvufDS38WkhK9rK32hQ.jpeg)\n",
    "\n",
    "(image borrowed from https://hackernoon.com/learning-ai-if-you-suck-at-math-p4-tensors-illustrated-with-cats-27f0002c9b32 )\n",
    "\n",
    "In fact the big difference between a PyTorch Tensor and a numpy ndarray is that a tensor has some extra functionality that allows it to operate both on the GPU and the CPU."
   ]
  },
  {
   "cell_type": "markdown",
   "metadata": {},
   "source": [
    "### Working with Tensors\n",
    "\n",
    "We have many different ways to create tensors.  Most of them allow creation of tensors from existing numpy objects."
   ]
  },
  {
   "cell_type": "code",
   "execution_count": 3,
   "metadata": {},
   "outputs": [
    {
     "name": "stdout",
     "output_type": "stream",
     "text": [
      "Vector 1: tensor([1., 2., 3., 4., 5., 6.])\n",
      "Vector 2: tensor([1, 2, 3, 4, 5, 6])\n",
      "Matrix Tensor: tensor([[1., 2., 3.],\n",
      "        [4., 5., 6.]])\n",
      "Tensor 3D tensor([[[1., 2.],\n",
      "         [3., 4.]],\n",
      "\n",
      "        [[5., 6.],\n",
      "         [7., 8.]]])\n",
      "Another Tensor 3D tensor([[[ 1.,  2.,  3.],\n",
      "         [ 4.,  5.,  6.]],\n",
      "\n",
      "        [[ 2.,  4.,  6.],\n",
      "         [ 8., 10., 12.]]])\n"
     ]
    }
   ],
   "source": [
    "\n",
    "## You can create torch.Tensor objects by giving them data directly\n",
    "\n",
    "#  1D vector\n",
    "vector_input = [1, 2, 3, 4, 5, 6]\n",
    "vector1 = torch.Tensor(vector_input)\n",
    "\n",
    "## this is the right way!!\n",
    "vector2 = torch.tensor(vector_input)\n",
    "\n",
    "# Matrix\n",
    "matrix_input = [[1., 2., 3.], [4., 5., 6]]\n",
    "matrix = torch.tensor(matrix_input)\n",
    "\n",
    "\n",
    "# Create a 3D tensor of size 2x2x2.\n",
    "tensor_input = [[[1., 2.], [3., 4.]],\n",
    "          [[5., 6.], [7., 8.]]]\n",
    "tensor3d = torch.Tensor(tensor_input)\n",
    "\n",
    "matrix2 = torch.clone(matrix) + matrix\n",
    "tensor3d_2 = torch.stack((matrix, matrix2))\n",
    "\n",
    "print(\"Vector 1:\", vector1)\n",
    "print(\"Vector 2:\", vector2)\n",
    "print(\"Matrix Tensor:\", matrix)\n",
    "print(\"Tensor 3D\", tensor3d)\n",
    "print(\"Another Tensor 3D\", tensor3d_2)\n"
   ]
  },
  {
   "cell_type": "markdown",
   "metadata": {},
   "source": [
    "They can be created without any initialization or initialized with random data from uniform (rand()) or normal (randn()) distributions"
   ]
  },
  {
   "cell_type": "code",
   "execution_count": 4,
   "metadata": {},
   "outputs": [
    {
     "name": "stdout",
     "output_type": "stream",
     "text": [
      "x_1:  tensor([[0.0000, 0.0000, 0.0000, 0.0000, 0.0000],\n",
      "        [0.0000, 0.0000, 0.0000, 0.0000, 0.0000]])\n",
      "y_1:  tensor([[ 0.0000e+00,  2.5244e-29,  0.0000e+00,  2.5244e-29,  1.2612e-44],\n",
      "        [ 0.0000e+00,  4.3960e-05,  8.5755e-07,  0.0000e+00,  2.5244e-29],\n",
      "        [ 5.3170e+24, -2.5250e-29,  9.8091e-45,  0.0000e+00,  0.0000e+00]])\n",
      "x_2:  tensor([[[0.3222, 0.9720, 0.8072, 0.1513, 0.2076],\n",
      "         [0.3796, 0.7033, 0.0192, 0.5015, 0.6847],\n",
      "         [0.9792, 0.2801, 0.2603, 0.4461, 0.4138]],\n",
      "\n",
      "        [[0.2301, 0.4304, 0.9287, 0.3719, 0.5298],\n",
      "         [0.8133, 0.0205, 0.1188, 0.0661, 0.1391],\n",
      "         [0.7443, 0.0063, 0.9351, 0.0661, 0.3138]],\n",
      "\n",
      "        [[0.2437, 0.6461, 0.7227, 0.9186, 0.9295],\n",
      "         [0.6805, 0.1083, 0.8534, 0.7771, 0.0289],\n",
      "         [0.6518, 0.0788, 0.8600, 0.3735, 0.6588]],\n",
      "\n",
      "        [[0.9110, 0.6798, 0.5433, 0.8583, 0.8612],\n",
      "         [0.8991, 0.9520, 0.5127, 0.8447, 0.7686],\n",
      "         [0.0665, 0.5205, 0.7415, 0.2538, 0.1734]],\n",
      "\n",
      "        [[0.3588, 0.1672, 0.8420, 0.7826, 0.8939],\n",
      "         [0.3705, 0.9675, 0.7444, 0.6922, 0.1244],\n",
      "         [0.6652, 0.5674, 0.4848, 0.4781, 0.1412]]])\n",
      "y_2:  tensor([[0.3958, 0.3166, 0.3114, 0.3062, 0.3723],\n",
      "        [0.3697, 0.0643, 0.1016, 0.0512, 0.5131],\n",
      "        [0.2433, 0.0869, 0.8951, 0.3814, 0.9383],\n",
      "        [0.8037, 0.7271, 0.7777, 0.9021, 0.9821],\n",
      "        [0.5974, 0.7707, 0.3424, 0.5244, 0.0318]])\n",
      "x_3:  tensor([[-1.8073,  0.1082, -0.3669],\n",
      "        [ 0.3896, -0.7066, -2.1983],\n",
      "        [-0.9243, -0.9576, -1.3896],\n",
      "        [-1.5351,  0.4546,  0.9513],\n",
      "        [ 1.6168,  0.5748, -0.6802]])\n",
      "y_3:  tensor([[ 0.6031, -0.8153, -0.9407, -1.8841,  1.0624],\n",
      "        [-1.6973,  0.3289, -0.6556, -0.2116, -0.1286],\n",
      "        [ 0.1089, -0.3406, -2.0469, -0.5465,  1.4065],\n",
      "        [-0.3977, -1.1664,  0.6340, -0.1123,  1.1200],\n",
      "        [ 0.9642,  0.9185,  0.2730, -0.4924,  0.4897]])\n"
     ]
    }
   ],
   "source": [
    "# Tensors with no initialization\n",
    "x_1 = torch.Tensor(2, 5)\n",
    "y_1 = torch.Tensor(3, 5)\n",
    "print(\"x_1: \", x_1)\n",
    "print(\"y_1: \", y_1)\n",
    "\n",
    "# Tensors initialized from uniform\n",
    "x_2 = torch.rand(5, 3, 5)\n",
    "y_2 = torch.rand(5, 5)\n",
    "\n",
    "print(\"x_2: \", x_2)\n",
    "print(\"y_2: \", y_2)\n",
    "\n",
    "# Tensors initialized from normal\n",
    "x_3 = torch.randn(5, 3)\n",
    "y_3 = torch.randn(5, 5)\n",
    "\n",
    "print(\"x_3: \", x_3)\n",
    "print(\"y_3: \", y_3)"
   ]
  },
  {
   "cell_type": "markdown",
   "metadata": {},
   "source": [
    "So far it seems numpy like as promised.  Is there any difference?  Let's pick one of the tensors above and examine it."
   ]
  },
  {
   "cell_type": "code",
   "execution_count": 5,
   "metadata": {},
   "outputs": [
    {
     "data": {
      "text/plain": [
       "torch.Tensor"
      ]
     },
     "execution_count": 5,
     "metadata": {},
     "output_type": "execute_result"
    }
   ],
   "source": [
    "type(x_1)"
   ]
  },
  {
   "cell_type": "markdown",
   "metadata": {},
   "source": [
    "It is indeed a tensor.  What about length and size?"
   ]
  },
  {
   "cell_type": "code",
   "execution_count": 6,
   "metadata": {},
   "outputs": [
    {
     "name": "stdout",
     "output_type": "stream",
     "text": [
      "Size:  torch.Size([2, 5])\n",
      "Shape:  torch.Size([2, 5])\n",
      "Length:  2\n",
      "tensor([[0.0000, 0.0000, 0.0000, 0.0000, 0.0000],\n",
      "        [0.0000, 0.0000, 0.0000, 0.0000, 0.0000]])\n",
      "cpu\n"
     ]
    }
   ],
   "source": [
    "# Expect (2,5)\n",
    "print(\"Size: \", x_1.size())\n",
    "print(\"Shape: \", x_1.shape)\n",
    "print(\"Length: \", len(x_1))\n",
    "\n",
    "# just as a reminder\n",
    "print(x_1)\n",
    "\n",
    "print(x_1.device)\n"
   ]
  },
  {
   "cell_type": "markdown",
   "metadata": {},
   "source": [
    "So len works as normal, size() gives a torch version of size, and shape is an alias for size.  Most important"
   ]
  },
  {
   "cell_type": "markdown",
   "metadata": {},
   "source": [
    "The expected operations (arithmetic operations, addressing, etc) are all in place."
   ]
  },
  {
   "cell_type": "code",
   "execution_count": 7,
   "metadata": {},
   "outputs": [
    {
     "name": "stdout",
     "output_type": "stream",
     "text": [
      "tensor([[[0.3222, 0.9720, 0.8072, 0.1513, 0.2076],\n",
      "         [0.3796, 0.7033, 0.0192, 0.5015, 0.6847],\n",
      "         [0.9792, 0.2801, 0.2603, 0.4461, 0.4138]],\n",
      "\n",
      "        [[0.2301, 0.4304, 0.9287, 0.3719, 0.5298],\n",
      "         [0.8133, 0.0205, 0.1188, 0.0661, 0.1391],\n",
      "         [0.7443, 0.0063, 0.9351, 0.0661, 0.3138]],\n",
      "\n",
      "        [[0.2437, 0.6461, 0.7227, 0.9186, 0.9295],\n",
      "         [0.6805, 0.1083, 0.8534, 0.7771, 0.0289],\n",
      "         [0.6518, 0.0788, 0.8600, 0.3735, 0.6588]],\n",
      "\n",
      "        [[0.9110, 0.6798, 0.5433, 0.8583, 0.8612],\n",
      "         [0.8991, 0.9520, 0.5127, 0.8447, 0.7686],\n",
      "         [0.0665, 0.5205, 0.7415, 0.2538, 0.1734]],\n",
      "\n",
      "        [[0.3588, 0.1672, 0.8420, 0.7826, 0.8939],\n",
      "         [0.3705, 0.9675, 0.7444, 0.6922, 0.1244],\n",
      "         [0.6652, 0.5674, 0.4848, 0.4781, 0.1412]]])\n",
      "tensor([[-1.8073,  0.1082, -0.3669],\n",
      "        [ 0.3896, -0.7066, -2.1983],\n",
      "        [-0.9243, -0.9576, -1.3896],\n",
      "        [-1.5351,  0.4546,  0.9513],\n",
      "        [ 1.6168,  0.5748, -0.6802]])\n"
     ]
    },
    {
     "ename": "RuntimeError",
     "evalue": "The size of tensor a (5) must match the size of tensor b (3) at non-singleton dimension 2",
     "output_type": "error",
     "traceback": [
      "\u001b[0;31m---------------------------------------------------------------------------\u001b[0m",
      "\u001b[0;31mRuntimeError\u001b[0m                              Traceback (most recent call last)",
      "\u001b[0;32m<ipython-input-7-6ea12bd1a278>\u001b[0m in \u001b[0;36m<module>\u001b[0;34m()\u001b[0m\n\u001b[1;32m      3\u001b[0m \u001b[0mprint\u001b[0m\u001b[0;34m(\u001b[0m\u001b[0mx_3\u001b[0m\u001b[0;34m)\u001b[0m\u001b[0;34m\u001b[0m\u001b[0m\n\u001b[1;32m      4\u001b[0m \u001b[0;34m\u001b[0m\u001b[0m\n\u001b[0;32m----> 5\u001b[0;31m \u001b[0mprint\u001b[0m\u001b[0;34m(\u001b[0m\u001b[0mx_2\u001b[0m\u001b[0;34m+\u001b[0m \u001b[0mx_3\u001b[0m\u001b[0;34m)\u001b[0m\u001b[0;34m\u001b[0m\u001b[0m\n\u001b[0m\u001b[1;32m      6\u001b[0m \u001b[0;34m\u001b[0m\u001b[0m\n\u001b[1;32m      7\u001b[0m \u001b[0;31m# Addressing\u001b[0m\u001b[0;34m\u001b[0m\u001b[0;34m\u001b[0m\u001b[0m\n",
      "\u001b[0;31mRuntimeError\u001b[0m: The size of tensor a (5) must match the size of tensor b (3) at non-singleton dimension 2"
     ]
    }
   ],
   "source": [
    "# Addition\n",
    "print(x_2)\n",
    "print(x_3)\n",
    "\n",
    "print(x_2+ x_3)\n",
    "\n",
    "# Addressing\n",
    "print(x_3[:, 2])"
   ]
  },
  {
   "cell_type": "markdown",
   "metadata": {},
   "source": [
    "It's easy to move between PyTorch and Numpy worlds with numpy() and torch.from_numpy()"
   ]
  },
  {
   "cell_type": "code",
   "execution_count": 8,
   "metadata": {},
   "outputs": [
    {
     "name": "stdout",
     "output_type": "stream",
     "text": [
      "tensor([[0.0000, 0.0000, 0.0000, 0.0000, 0.0000],\n",
      "        [0.0000, 0.0000, 0.0000, 0.0000, 0.0000]])\n",
      "[[0.000000e+00 2.524355e-29 0.000000e+00 2.524355e-29 4.203895e-45]\n",
      " [0.000000e+00 0.000000e+00 0.000000e+00 0.000000e+00 0.000000e+00]]\n",
      "<class 'torch.Tensor'>\n",
      "<class 'numpy.ndarray'>\n",
      "<class 'numpy.ndarray'>\n",
      "<class 'torch.Tensor'>\n"
     ]
    }
   ],
   "source": [
    "# PyTorch --> Numpy\n",
    "print(x_1)\n",
    "print(x_1.numpy())\n",
    "\n",
    "print(type(x_1))\n",
    "print(type(x_1.numpy()))\n",
    "\n",
    "numpy_x_1 = x_1.numpy()\n",
    "pytorch_x_1 = torch.from_numpy(numpy_x_1)\n",
    "\n",
    "print(type(numpy_x_1))\n",
    "print(type(pytorch_x_1))"
   ]
  },
  {
   "cell_type": "markdown",
   "metadata": {},
   "source": [
    "Finally PyTorch provides some convenience mechanisms for concatenating Tensors via torch.cat() and reshaping them with  .view() "
   ]
  },
  {
   "cell_type": "code",
   "execution_count": 9,
   "metadata": {},
   "outputs": [
    {
     "name": "stdout",
     "output_type": "stream",
     "text": [
      "tensor([[-0.8581,  0.8287, -1.7052,  0.3046, -0.3647],\n",
      "        [ 0.4475, -1.2481,  1.5101,  1.2911,  0.9228],\n",
      "        [-0.2189,  0.6454,  0.7926,  0.2895,  0.4676],\n",
      "        [ 0.6650,  1.5849,  0.0542,  1.1582,  0.8367],\n",
      "        [ 0.4095,  1.7173,  0.8092,  0.4157, -1.7180]])\n",
      "tensor([[-0.6843,  0.3718, -0.9128, -0.4820, -1.3049, -0.9284, -0.3882,  0.8642],\n",
      "        [ 1.3563,  0.9005, -1.3320,  1.7382,  0.0217,  1.0071,  0.1333, -2.0343]])\n",
      "tensor([[[ 0.3296,  1.4442, -0.5054, -1.2382],\n",
      "         [-0.7572,  0.8706,  0.9551, -0.7182],\n",
      "         [-0.5171,  0.5612,  0.4524, -0.9957]],\n",
      "\n",
      "        [[ 0.2440,  0.2117,  0.8652,  1.5757],\n",
      "         [-0.1593, -0.6403,  1.2271, -1.6094],\n",
      "         [-0.7489, -2.2876, -0.6614,  1.2920]]])\n",
      "tensor([[ 0.3296,  1.4442, -0.5054, -1.2382, -0.7572,  0.8706,  0.9551, -0.7182,\n",
      "         -0.5171,  0.5612,  0.4524, -0.9957],\n",
      "        [ 0.2440,  0.2117,  0.8652,  1.5757, -0.1593, -0.6403,  1.2271, -1.6094,\n",
      "         -0.7489, -2.2876, -0.6614,  1.2920]])\n",
      "tensor([[ 0.3296,  1.4442, -0.5054, -1.2382, -0.7572,  0.8706,  0.9551, -0.7182,\n",
      "         -0.5171,  0.5612,  0.4524, -0.9957],\n",
      "        [ 0.2440,  0.2117,  0.8652,  1.5757, -0.1593, -0.6403,  1.2271, -1.6094,\n",
      "         -0.7489, -2.2876, -0.6614,  1.2920]])\n"
     ]
    }
   ],
   "source": [
    "## Concatenating\n",
    "\n",
    "# By default, it concatenates along the first axis (concatenates rows)\n",
    "x_1 = torch.randn(2, 5)\n",
    "y_1 = torch.randn(3, 5)\n",
    "z_1 = torch.cat([x_1, y_1])\n",
    "print(z_1)\n",
    "\n",
    "# Concatenate columns:\n",
    "x_2 = torch.randn(2, 3)\n",
    "y_2 = torch.randn(2, 5)\n",
    "# second arg specifies which axis to concat along\n",
    "z_2 = torch.cat([x_2, y_2], 1)\n",
    "print(z_2)\n",
    "\n",
    "## Reshaping\n",
    "x = torch.randn(2, 3, 4)\n",
    "print(x)\n",
    "print(x.view(2, 12))  # Reshape to 2 rows, 12 columns\n",
    "# Same as above.  If one of the dimensions is -1, its size can be inferred\n",
    "print(x.view(2, -1))"
   ]
  },
  {
   "cell_type": "markdown",
   "metadata": {},
   "source": [
    "Ok -- in order to understand variables in PyTorch, let's take a break and learn about Artificial Neural Networks."
   ]
  },
  {
   "cell_type": "markdown",
   "metadata": {},
   "source": [
    "## PyTorch Variables and the Computational Graph\n",
    "\n",
    "Ok -- back to PyTorch.\n",
    "\n",
    "The other fundamental PyTorch construct besides Tensors are Variables.  Variables are very similar to tensors, but they also keep track of the graph (including their gradients for autodifferentiation).  They are defined in the autograd module of torch."
   ]
  },
  {
   "cell_type": "code",
   "execution_count": 10,
   "metadata": {},
   "outputs": [
    {
     "name": "stdout",
     "output_type": "stream",
     "text": [
      "first variables gradient:  None\n",
      "first variables data:  tensor([23.3000])\n"
     ]
    }
   ],
   "source": [
    "from torch.autograd import Variable\n",
    "import torch.nn as nn\n",
    "import torch.nn.functional as F\n",
    "\n",
    "# Let's create a variable by initializing it with a tensor\n",
    "first_tensor = torch.Tensor([23.3])\n",
    "\n",
    "first_variable = Variable(first_tensor, requires_grad=True)\n",
    "\n",
    "print(\"first variables gradient: \", first_variable.grad)\n",
    "print(\"first variables data: \", first_variable.data)\n",
    "\n"
   ]
  },
  {
   "cell_type": "markdown",
   "metadata": {},
   "source": [
    "Now let's create some new variables. We can do so implicitly just by creating other variables with functional relationships to our variable."
   ]
  },
  {
   "cell_type": "code",
   "execution_count": 15,
   "metadata": {},
   "outputs": [
    {
     "name": "stdout",
     "output_type": "stream",
     "text": [
      "y.data:  tensor([542.8900])\n",
      "y.grad:  None\n",
      "z.data:  tensor([1.])\n",
      "z.grad:  None\n",
      "x.data: tensor([23.3000])\n",
      "x.grad: tensor([0.])\n"
     ]
    },
    {
     "name": "stderr",
     "output_type": "stream",
     "text": [
      "/Users/joshfeldman/anaconda3/envs/py36/lib/python3.6/site-packages/torch/nn/functional.py:1109: UserWarning: nn.functional.tanh is deprecated. Use torch.tanh instead.\n",
      "  warnings.warn(\"nn.functional.tanh is deprecated. Use torch.tanh instead.\")\n"
     ]
    }
   ],
   "source": [
    "x = first_variable\n",
    "y = (x ** 2)  # y is a variable\n",
    "z = F.tanh(y) # z has a functional relationship to y, it's a variable\n",
    "z.backward()\n",
    "\n",
    "print(\"y.data: \", y.data)\n",
    "print(\"y.grad: \", y.grad)\n",
    "\n",
    "print(\"z.data: \", z.data)\n",
    "print(\"z.grad: \", z.grad)\n",
    "\n",
    "print(\"x.data:\", x.data)\n",
    "print(\"x.grad:\", x.grad)\n",
    "\n"
   ]
  },
  {
   "cell_type": "markdown",
   "metadata": {},
   "source": [
    "Variables come with a .backward() that allows them to do autodifferentiation via backwards propagation.  "
   ]
  },
  {
   "cell_type": "markdown",
   "metadata": {},
   "source": [
    "## Constructing a model with PyTorch\n",
    "\n",
    "Constructing a model with PyTorch is based on a design pattern with a fairly repeatable three step process:\n",
    "\n",
    "- Design your model (including relationships between your variables)\n",
    "    - Generally done by defining a subclass of torch.nn.Module\n",
    "- Construct your loss and optimizer\n",
    "- Train your model using your optimizer and forwards and backwards steps in your model"
   ]
  },
  {
   "cell_type": "code",
   "execution_count": 20,
   "metadata": {},
   "outputs": [],
   "source": [
    "from sklearn.datasets import make_regression\n",
    "import numpy as np\n",
    "np.random.seed(99)\n",
    "x1_data, y1_data, coef = make_regression(30,10, 10, bias=1, noise=2, coef=True)"
   ]
  },
  {
   "cell_type": "code",
   "execution_count": 21,
   "metadata": {},
   "outputs": [],
   "source": [
    "y1_data = y1_data.reshape(-1,1)"
   ]
  },
  {
   "cell_type": "code",
   "execution_count": 22,
   "metadata": {},
   "outputs": [],
   "source": [
    "#matplotlib\n",
    "\n",
    "import matplotlib\n",
    "import matplotlib.pyplot as plt"
   ]
  },
  {
   "cell_type": "code",
   "execution_count": 24,
   "metadata": {},
   "outputs": [
    {
     "name": "stdout",
     "output_type": "stream",
     "text": [
      "torch.Size([30, 10])\n",
      "0 tensor(722015.8125)\n",
      "25 tensor(68.1572)\n",
      "50 tensor(59.1880)\n",
      "75 tensor(59.1842)\n",
      "100 tensor(59.1844)\n",
      "125 tensor(59.1843)\n",
      "150 tensor(59.1843)\n",
      "175 tensor(59.1843)\n",
      "200 tensor(59.1843)\n",
      "225 tensor(59.1843)\n",
      "250 tensor(59.1843)\n",
      "275 tensor(59.1843)\n",
      "300 tensor(59.1843)\n",
      "325 tensor(59.1843)\n",
      "350 tensor(59.1843)\n",
      "375 tensor(59.1843)\n",
      "400 tensor(59.1843)\n",
      "425 tensor(59.1843)\n",
      "450 tensor(59.1843)\n",
      "475 tensor(59.1843)\n"
     ]
    },
    {
     "name": "stderr",
     "output_type": "stream",
     "text": [
      "/Users/joshfeldman/anaconda3/envs/py36/lib/python3.6/site-packages/torch/nn/functional.py:54: UserWarning: size_average and reduce args will be deprecated, please use reduction='sum' instead.\n",
      "  warnings.warn(warning.format(ret))\n"
     ]
    }
   ],
   "source": [
    "import torch\n",
    "from torch.autograd import Variable\n",
    "\n",
    "x_data = Variable(torch.Tensor(x1_data))\n",
    "y_data = Variable(torch.Tensor(y1_data))\n",
    "\n",
    "print(x_data.shape)\n",
    "\n",
    "class Model(torch.nn.Module):\n",
    "\n",
    "    def __init__(self):\n",
    "        \"\"\"\n",
    "        In the constructor we instantiate two nn.Linear module\n",
    "        \"\"\"\n",
    "        super(Model, self).__init__()\n",
    "        self.linear = torch.nn.Linear(10, 1)  # One in and one out\n",
    "\n",
    "    def forward(self, x):\n",
    "        \"\"\"\n",
    "        In the forward function we accept a Variable of input data and we must return\n",
    "        a Variable of output data. We can use Modules defined in the constructor as\n",
    "        well as arbitrary operators on Variables.\n",
    "        \"\"\"\n",
    "        y_pred = self.linear(x)\n",
    "        return y_pred\n",
    "\n",
    "# our model\n",
    "model = Model()\n",
    "\n",
    "\n",
    "# Construct our loss function and an Optimizer. The call to model.parameters()\n",
    "# in the SGD constructor will contain the learnable parameters of the two\n",
    "# nn.Linear modules which are members of the model.\n",
    "criterion = torch.nn.MSELoss(size_average=False)\n",
    "optimizer = torch.optim.SGD(model.parameters(), lr=0.01)\n",
    "\n",
    "# Training loop\n",
    "for epoch in range(500):\n",
    "    \n",
    "    # Forward pass: Compute predicted y by passing x to the model\n",
    "    y_pred = model(x_data)\n",
    "\n",
    "    # Compute and print loss\n",
    "    loss = criterion(y_pred, y_data)\n",
    "    \n",
    "    if (not epoch % 25):\n",
    "        print(epoch, loss.data)\n",
    "\n",
    "    # Zero gradients, perform a backward pass, and update the weights.\n",
    "    optimizer.zero_grad()\n",
    "    loss.backward()\n",
    "    optimizer.step()\n",
    "\n",
    "\n",
    "# After training\n",
    "ytrain_pred = model(x_data)\n"
   ]
  },
  {
   "cell_type": "code",
   "execution_count": 25,
   "metadata": {},
   "outputs": [
    {
     "data": {
      "text/plain": [
       "<generator object Module.parameters at 0x1a23049e60>"
      ]
     },
     "execution_count": 25,
     "metadata": {},
     "output_type": "execute_result"
    }
   ],
   "source": [
    "model.parameters()"
   ]
  },
  {
   "cell_type": "markdown",
   "metadata": {},
   "source": [
    "## DataLoaders"
   ]
  },
  {
   "cell_type": "code",
   "execution_count": 27,
   "metadata": {},
   "outputs": [],
   "source": [
    "from IPython.lib.display import YouTubeVideo\n",
    "\n",
    "from torchvision import datasets, transforms\n",
    "from torch.utils.data import Dataset\n",
    "from torch.utils.data.sampler import SubsetRandomSampler\n",
    "from torch.utils.data.sampler import SubsetRandomSampler"
   ]
  },
  {
   "cell_type": "markdown",
   "metadata": {},
   "source": [
    "### Defining our Dataset\n",
    "\n",
    "We'll start by defining a dataset not too disimilar to MNIST but a lot simpler.  We replace our (28, 28, 1) ndarrays with (2, 2, 1) versions.  We also implement the ability to handle transforms just so our class fits in with the MNIST-like Dataset/DataLoader scaffolding in torch/torchvision."
   ]
  },
  {
   "cell_type": "code",
   "execution_count": 28,
   "metadata": {},
   "outputs": [],
   "source": [
    "class MyCustomPixelDataset(Dataset):\n",
    "    \"\"\"\n",
    "    This dataset is a toy dataset that acts like 2x2 version of MNIST\n",
    "    with the trace as labels.\n",
    "    \"\"\"\n",
    "    def __init__(self, size=1, transform=None):\n",
    "        super(MyCustomPixelDataset, self).__init__()\n",
    "        \n",
    "        # size determines length of dataset\n",
    "        self.size = size\n",
    "        \n",
    "        # generate random 2x2 matrices with values in [0, 255]\n",
    "        self.matrices = [np.random.randint(256, size=(2, 2)) for i in range(self.size)]\n",
    "        \n",
    "        # our dataset will be a list of (ndarray, label) tuples where the label is the trace\n",
    "        # reshape our matrices into (2x2x1) ndarrays so that transforms.ToTensor()\n",
    "        # has the appropriate expected shape\n",
    "        self.matrices = [(np.reshape(np.array([matrix]), (2,2,1)), np.trace(matrix)) for matrix in self.matrices]\n",
    "        \n",
    "        # if we're passed a transform then apply it to the first element of our tuple (the input)\n",
    "        if transform:\n",
    "            self.matrices = [(transform(element[0]), element[1]) for element in self.matrices]\n",
    "        \n",
    "    # length should just be the size although we don't validate size (i.e. should be an int > 0)\n",
    "    def __len__(self):\n",
    "        return self.size\n",
    "    \n",
    "    # implement __getitem__ as the indexed tuple \n",
    "    def __getitem__(self, index):\n",
    "        #assert 0 <= index <= self.b - self.a\n",
    "        \n",
    "        return self.matrices[index]"
   ]
  },
  {
   "cell_type": "markdown",
   "metadata": {},
   "source": [
    "**If we look at an example small instance of our dataset, we see that it correctly handles the transforms.ToTensor() operation and matches the structure of the MNIST dataset although we have scalar labels as the trace of the original random 2x2 matrix**"
   ]
  },
  {
   "cell_type": "code",
   "execution_count": 29,
   "metadata": {},
   "outputs": [],
   "source": [
    "mydset = MyCustomPixelDataset(12,transform=transforms.ToTensor())"
   ]
  },
  {
   "cell_type": "code",
   "execution_count": 30,
   "metadata": {},
   "outputs": [
    {
     "data": {
      "text/plain": [
       "[(tensor([[[186,  98],\n",
       "           [ 93, 145]]]), 331), (tensor([[[138, 197],\n",
       "           [ 33, 204]]]), 342), (tensor([[[ 34,  23],\n",
       "           [175,  92]]]), 126), (tensor([[[ 88, 166],\n",
       "           [ 41,  38]]]), 126), (tensor([[[ 92, 250],\n",
       "           [ 99, 149]]]), 241), (tensor([[[ 93, 217],\n",
       "           [110, 101]]]), 194), (tensor([[[ 59,  82],\n",
       "           [221,  47]]]), 106), (tensor([[[ 97, 139],\n",
       "           [ 28, 155]]]), 252), (tensor([[[163, 228],\n",
       "           [ 26,  11]]]), 174), (tensor([[[196,  34],\n",
       "           [162, 116]]]), 312), (tensor([[[ 61,  41],\n",
       "           [209, 140]]]), 201), (tensor([[[226,  70],\n",
       "           [182,  92]]]), 318)]"
      ]
     },
     "execution_count": 30,
     "metadata": {},
     "output_type": "execute_result"
    }
   ],
   "source": [
    "mydset[:]"
   ]
  },
  {
   "cell_type": "markdown",
   "metadata": {},
   "source": [
    "### Defining our DataLoader\n",
    "\n",
    "We'll now define a DataLoader with a batch_size of 4 and shuffle set to be True.  If things go as expected when we loop through our epochs (we only define two here just to show the functionality) and iterate through the DataLoader, we should see our batches of 4 and they shouldn't come out in a defined order.  Our data should come out in different orders (and different batches) in each epoch."
   ]
  },
  {
   "cell_type": "code",
   "execution_count": 31,
   "metadata": {},
   "outputs": [],
   "source": [
    "mydset_loader = torch.utils.data.DataLoader(dataset=mydset, \n",
    "                                           batch_size=4, \n",
    "                                           shuffle=True)"
   ]
  },
  {
   "cell_type": "code",
   "execution_count": 32,
   "metadata": {},
   "outputs": [
    {
     "name": "stdout",
     "output_type": "stream",
     "text": [
      "0 0 tensor([201, 126, 342, 126])\n",
      "0 1 tensor([106, 194, 331, 312])\n",
      "0 2 tensor([252, 241, 174, 318])\n",
      "1 0 tensor([331, 252, 241, 312])\n",
      "1 1 tensor([342, 106, 201, 126])\n",
      "1 2 tensor([318, 126, 174, 194])\n"
     ]
    }
   ],
   "source": [
    "for epoch in range(2):   \n",
    "    for batch_index, (inputs, labels) in enumerate(mydset_loader):\n",
    "        print(epoch, batch_index, labels)"
   ]
  },
  {
   "cell_type": "markdown",
   "metadata": {},
   "source": [
    "Sure enough our label clusters come in different orders and organized in different batchs in each epoch.\n",
    "\n",
    "### Splitting out a Validation Set from our Dataset\n",
    "\n",
    "Our problem is that we're given a dataset but not necessary a validation set.  How do we split out a validation set while still being able to use the convenient dataset/dataloader scaffolding that PyTorch provides?\n",
    "\n",
    "We'll take the following approach:\n",
    "\n",
    "* Split our dataset into training set and validation set\n",
    "* Use the indices of the split to create PyTorch Samplers\n",
    "* Feed that sampler into our DataLoaders to tell them which dataset elements to include in their iteration\n",
    "* Iterate over the appropriate DataLoaders in the training/validation loops\n",
    "* Gnome underpants\n"
   ]
  },
  {
   "cell_type": "code",
   "execution_count": 33,
   "metadata": {},
   "outputs": [],
   "source": [
    "## define our indices -- our dataset has 9 elements and we want a 8:4 split\n",
    "num_train = len(mydset)\n",
    "indices = list(range(num_train))\n",
    "split = 4\n",
    "\n",
    "# Random, non-contiguous split\n",
    "validation_idx = np.random.choice(indices, size=split, replace=False)\n",
    "train_idx = list(set(indices) - set(validation_idx))\n",
    "\n",
    "# Contiguous split\n",
    "# train_idx, validation_idx = indices[split:], indices[:split]\n",
    "\n",
    "## define our samplers -- we use a SubsetRandomSampler because it will return\n",
    "## a random subset of the split defined by the given indices without replaf\n",
    "train_sampler = SubsetRandomSampler(train_idx)\n",
    "validation_sampler = SubsetRandomSampler(validation_idx)\n",
    "\n",
    "train_loader = torch.utils.data.DataLoader(mydset, \n",
    "                batch_size=4, sampler=train_sampler)\n",
    "\n",
    "validation_loader = torch.utils.data.DataLoader(mydset, \n",
    "                batch_size=2, sampler=validation_sampler)"
   ]
  },
  {
   "cell_type": "markdown",
   "metadata": {},
   "source": [
    "### Testing our Validation Split\n",
    "\n",
    "OK -- we should have accomplished the first 3 items on our agenda:\n",
    "\n",
    "* Split our dataset into training set and validation set\n",
    "* Use the indices of the split to create PyTorch Samplers\n",
    "* Feed that sampler into our DataLoaders to tell them which dataset elements to include in their iteration\n",
    "\n",
    "Now we kind of glossed over an unexpected problem.  If you define any kind of sampler, you lose the ability to designate shuffle as True in your DataLoader.  For this reason we defined our sampler as a SubsetRandomSampler which should ensure shuffling by its very nature.  If all goes as expected, we should be able to iterate through our train_loader and validation_loader and get segmented results -- elements in the validation loader are not in the train_loader and vice versa.  Furthermore, we should see random shuffling batches from our train_loader just as if we designated shuffle to True.\n",
    "\n",
    "let's test our train_loader:"
   ]
  },
  {
   "cell_type": "code",
   "execution_count": 34,
   "metadata": {},
   "outputs": [
    {
     "name": "stdout",
     "output_type": "stream",
     "text": [
      "0 0 tensor([342, 174, 312, 126])\n",
      "0 1 tensor([252, 331, 241, 106])\n",
      "1 0 tensor([331, 342, 174, 252])\n",
      "1 1 tensor([126, 241, 106, 312])\n"
     ]
    }
   ],
   "source": [
    "for epoch in range(2):   \n",
    "    for batch_index, (inputs, labels) in enumerate(train_loader):\n",
    "        print(epoch, batch_index, labels)"
   ]
  },
  {
   "cell_type": "markdown",
   "metadata": {},
   "source": [
    "and now our validation_loader:"
   ]
  },
  {
   "cell_type": "code",
   "execution_count": 35,
   "metadata": {},
   "outputs": [
    {
     "name": "stdout",
     "output_type": "stream",
     "text": [
      "0 0 tensor([201, 318])\n",
      "0 1 tensor([194, 126])\n",
      "1 0 tensor([194, 126])\n",
      "1 1 tensor([201, 318])\n"
     ]
    }
   ],
   "source": [
    "for epoch in range(2):   \n",
    "    for batch_index, (inputs, labels) in enumerate(validation_loader):\n",
    "        print(epoch, batch_index, labels)"
   ]
  },
  {
   "cell_type": "markdown",
   "metadata": {},
   "source": [
    "### Testing Conclusions\n",
    "\n",
    "RESULT!! No overlap! Now because we use SubsetRandomSampler for both our train_sampler and our validation_sampler as a side effect we get random shuffling on our validation split.  It's not ideal, but not the end of the world.  Unfortunately there isn't a SubsetSequentialSampler class.  We could write our own sampler class (they're quite easy to implement) but since the downside of random shuffling in our validation split aren't onerous, we'll just use the SubsetRandomSampler as a base class for both samplers.  We have achieved our final two objectives:\n",
    "\n",
    "* Iterate over the appropriate DataLoaders in the training/validation loops\n",
    "* Gnome underpants"
   ]
  },
  {
   "cell_type": "markdown",
   "metadata": {},
   "source": [
    "### Train/Validation Splits on the MNIST Dataset\n",
    "\n",
    "With the above infrastructure in place, we can construct some validation boilerplate code for HW4 Questions 2 and 3 to allow us to create validation sets for MNIST.  Fortunately we don't have to do anything special for the test set, the MNIST code in torchvision already at the right size.  As is, out of the 70K imates in MNIST, the torchvision MNIST dataset  gives us a 60K/10K train/test split.  For the HW we want a 60K/10K/10K train/validation/test split.  You should be able to use the below boilerplate."
   ]
  },
  {
   "cell_type": "code",
   "execution_count": 36,
   "metadata": {},
   "outputs": [
    {
     "name": "stdout",
     "output_type": "stream",
     "text": [
      "Downloading http://yann.lecun.com/exdb/mnist/train-images-idx3-ubyte.gz\n",
      "Downloading http://yann.lecun.com/exdb/mnist/train-labels-idx1-ubyte.gz\n",
      "Downloading http://yann.lecun.com/exdb/mnist/t10k-images-idx3-ubyte.gz\n",
      "Downloading http://yann.lecun.com/exdb/mnist/t10k-labels-idx1-ubyte.gz\n",
      "Processing...\n",
      "Done!\n"
     ]
    }
   ],
   "source": [
    "## Define our MNIST Datasets (Images and Labels) for training and testing\n",
    "train_dataset = datasets.MNIST(root='./data', \n",
    "                            train=True, \n",
    "                            transform=transforms.ToTensor(),\n",
    "                            download=True)\n",
    "\n",
    "test_dataset = datasets.MNIST(root='./data', \n",
    "                           train=False, \n",
    "                           transform=transforms.ToTensor())\n",
    "\n",
    "\n",
    "## We need to further split our training dataset into training and validation sets.\n",
    "\n",
    "# Define the indices\n",
    "indices = list(range(len(train_dataset))) # start with all the indices in training set\n",
    "split = 10000 # define the split size\n",
    "\n",
    "# Define your batch_size\n",
    "batch_size = 64\n",
    "\n",
    "# Random, non-contiguous split\n",
    "validation_idx = np.random.choice(indices, size=split, replace=False)\n",
    "train_idx = list(set(indices) - set(validation_idx))\n",
    "\n",
    "# Contiguous split\n",
    "# train_idx, validation_idx = indices[split:], indices[:split]\n",
    "\n",
    "\n",
    "# define our samplers -- we use a SubsetRandomSampler because it will return\n",
    "# a random subset of the split defined by the given indices without replacement\n",
    "train_sampler = SubsetRandomSampler(train_idx)\n",
    "validation_sampler = SubsetRandomSampler(validation_idx)\n",
    "\n",
    "# Create the train_loader -- use your real batch_size which you\n",
    "# I hope have defined somewhere above\n",
    "train_loader = torch.utils.data.DataLoader(dataset=train_dataset, \n",
    "                batch_size=batch_size, sampler=train_sampler)\n",
    "\n",
    "# You can use your above batch_size or just set it to 1 here.  Your validation\n",
    "# operations shouldn't be computationally intensive or require batching.\n",
    "validation_loader = torch.utils.data.DataLoader(dataset=train_dataset, \n",
    "                batch_size=1, sampler=validation_sampler)\n",
    "\n",
    "# You can use your above batch_size or just set it to 1 here.  Your test set\n",
    "# operations shouldn't be computationally intensive or require batching.  We \n",
    "# also turn off shuffling, although that shouldn't affect your test set operations\n",
    "# either\n",
    "test_loader = torch.utils.data.DataLoader(dataset=test_dataset, \n",
    "                                          batch_size=1,\n",
    "                                          shuffle=False)"
   ]
  },
  {
   "cell_type": "markdown",
   "metadata": {},
   "source": [
    "## SGD for Multinomial Logistic Regresion on MNIST"
   ]
  },
  {
   "cell_type": "markdown",
   "metadata": {},
   "source": [
    "The [*MNIST* dataset](https://en.wikipedia.org/wiki/MNIST_database) is one of the classic datasets in Machine Learning and is often one of the first datasets against which new classification algorithms test themselves.  It consists of 70,000 images of handwritten digits, each of which is 28x28 pixels. You will be using PyTorch to build a handwritten digit classifier that you will train and test with MNIST.\n",
    "\n",
    "Your classifier will use a multinomial logistic regression model, will take as input an array of pixel values in an image and output the images most likely digit label (i.e. 0-9). You should think about the pixel values as features of the input vector.  Before you fully realize your model, we recommend that you plot some of the images beforehand to develop some intuition on the dataset.\n",
    "\n",
    "\n",
    "1. Plot 10 sample images from the MNIST dataset\n",
    "1. Construct a softmax formulation in PyTorch of multinomial logistic regression with  Cross Entropy Loss.  \n",
    "1. Train your model using SGD to minimize the cost function. *Use a batch size of 64, a learning rate $\\eta = 0.01$, and 10 epochs*\n",
    "1. What are the training and test set accuracies?  \n",
    "1. Plot some (around 5) examples of misclassifications\n",
    "\n",
    "** The MNIST dataset (including a train/test split) is part of PyTorch in the torchvision module.  See this week's lab notebook for details of how to load it if you need help accessing it **\n"
   ]
  },
  {
   "cell_type": "markdown",
   "metadata": {},
   "source": [
    "** Solutions **\n",
    "\n",
    "The key parts to this solution will be creating a Multinomial Logistic Regression implementation to classify MNIST in PyTorch (784 inputs, 10 outputs, no hidden layers, CrossEntropy Loss).  We'll start our endeavors with our torch related imports.  \n"
   ]
  },
  {
   "cell_type": "code",
   "execution_count": 37,
   "metadata": {},
   "outputs": [],
   "source": [
    "## Standard boilerplate to import torch and torch related modules\n",
    "import torch\n",
    "import torchvision.datasets as datasets\n",
    "import torchvision.transforms as transforms\n",
    "\n",
    "from torch.autograd import Variable\n",
    "import torch.nn as nn\n",
    "import torch.nn.functional as F"
   ]
  },
  {
   "cell_type": "markdown",
   "metadata": {},
   "source": [
    "We'll base our class on the **Regression** parent class that we created in for the last Homework.  We'll do so in order to model our Logistic Regression class on the SKLearn API."
   ]
  },
  {
   "cell_type": "code",
   "execution_count": 38,
   "metadata": {},
   "outputs": [],
   "source": [
    "\n",
    "# Regression Parent Class\n",
    "class Regression(object):\n",
    "    \n",
    "    def __init__(self):\n",
    "        self.params = dict()\n",
    "    \n",
    "    def get_params(self, k):\n",
    "        return self.params.get(k, None)\n",
    "    \n",
    "    def set_params(self, **kwargs):\n",
    "        for k,v in kwargs.items():\n",
    "            self.params[k] = v\n",
    "        \n",
    "                    \n",
    "    def fit(self, X, y):\n",
    "        raise NotImplementedError()\n",
    "        \n",
    "    def predict(self, X):\n",
    "        raise NotImplementedError()\n",
    "        \n",
    "    def score(self, X, y):\n",
    "        raise NotImplementedError()\n",
    "        "
   ]
  },
  {
   "cell_type": "markdown",
   "metadata": {},
   "source": [
    "*We've created a PyTorch Logistic Regression model based on nn.Module.  We've defined the appropriate layers (one input and the implicit output layer) in the constructor.  In forward, we run the inputs through the layers we defined.  We don't define any activation on the output layer because we'll be using CrossEntropyLoss which does the softmax activation automatically for us.*"
   ]
  },
  {
   "cell_type": "code",
   "execution_count": 2,
   "metadata": {},
   "outputs": [
    {
     "ename": "NameError",
     "evalue": "name 'nn' is not defined",
     "output_type": "error",
     "traceback": [
      "\u001b[0;31m---------------------------------------------------------------------------\u001b[0m",
      "\u001b[0;31mNameError\u001b[0m                                 Traceback (most recent call last)",
      "\u001b[0;32m<ipython-input-2-c607cb9909fd>\u001b[0m in \u001b[0;36m<module>\u001b[0;34m()\u001b[0m\n\u001b[1;32m      1\u001b[0m \u001b[0;31m## Our PyTorch implementation of Logistic Regression\u001b[0m\u001b[0;34m\u001b[0m\u001b[0;34m\u001b[0m\u001b[0m\n\u001b[0;32m----> 2\u001b[0;31m \u001b[0;32mclass\u001b[0m \u001b[0mLRPyTorch\u001b[0m\u001b[0;34m(\u001b[0m\u001b[0mnn\u001b[0m\u001b[0;34m.\u001b[0m\u001b[0mModule\u001b[0m\u001b[0;34m)\u001b[0m\u001b[0;34m:\u001b[0m\u001b[0;34m\u001b[0m\u001b[0m\n\u001b[0m\u001b[1;32m      3\u001b[0m     \u001b[0;32mdef\u001b[0m \u001b[0m__init__\u001b[0m\u001b[0;34m(\u001b[0m\u001b[0mself\u001b[0m\u001b[0;34m)\u001b[0m\u001b[0;34m:\u001b[0m\u001b[0;34m\u001b[0m\u001b[0m\n\u001b[1;32m      4\u001b[0m         \u001b[0msuper\u001b[0m\u001b[0;34m(\u001b[0m\u001b[0;34m)\u001b[0m\u001b[0;34m.\u001b[0m\u001b[0m__init__\u001b[0m\u001b[0;34m(\u001b[0m\u001b[0;34m)\u001b[0m\u001b[0;34m\u001b[0m\u001b[0m\n\u001b[1;32m      5\u001b[0m \u001b[0;34m\u001b[0m\u001b[0m\n",
      "\u001b[0;31mNameError\u001b[0m: name 'nn' is not defined"
     ]
    }
   ],
   "source": [
    "## Our PyTorch implementation of Logistic Regression\n",
    "class LRPyTorch(nn.Module):\n",
    "\n",
    "    ## the constructor is where we'll define all our layers (input, hidden, and output)\n",
    "    def __init__(self):\n",
    "\n",
    "        ## this line creates an instance of our parent (or base) class which in this case\n",
    "        ## is nn.Module.\n",
    "        super().__init__()\n",
    "\n",
    "        ## in the lines below we'll create instance variables and assign them torch.nn Models\n",
    "        ## in order to create our layers.  You should ordinarily have one variable definition for each layer\n",
    "        ## in your neural network except for the output layer.  The output layer is defined by the number of\n",
    "        ## outputs in your last layer. Since we're dealing with simple Artificial Neural Networks, we should\n",
    "        ## predominantly be using nn.Linear.  \n",
    "        self.l1 = nn.Linear(784, 10)\n",
    "\n",
    " \n",
    "    # forwards takes as a parameter x -- the batch of inputs that we want to feed into our neural network model\n",
    "    # and returns the output of the model ... i.e. the results of the output layer of the model after forward\n",
    "    # propagation through our model. practically this means you should call each layer you defined in the\n",
    "    # constructor in sequence plus any activation functions on each layer.\n",
    "    def forward(self, x):\n",
    "     \n",
    "        # call all our layers on our input (in this case we only need one)\n",
    "        x = self.l1(x)\n",
    "\n",
    "        # Since we're using Cross Entropy Loss\n",
    "        # we can return our output directly\n",
    "        return x\n"
   ]
  },
  {
   "cell_type": "markdown",
   "metadata": {},
   "source": [
    "*Create the MNIST Logistic Regression model.  We define methods to fit, predict and score our model as well as methods to load data, visualize sample training images, visualize our cross entropy loss, and save and visualize sample misclassified images.*"
   ]
  },
  {
   "cell_type": "code",
   "execution_count": 49,
   "metadata": {},
   "outputs": [],
   "source": [
    "\n",
    "class MNIST_Logistic_Regression(Regression):\n",
    "    \n",
    "    def __init__(self, learning_rate=0.01, batch_size=64, epochs=10):\n",
    "        \n",
    "        super().__init__()\n",
    "        \n",
    "        \n",
    "        ## Load MNIST Data\n",
    "        train_dataset, test_dataset, train_loader, test_loader = self.load_data()\n",
    "        \n",
    "        ## Add Datasets and Data Loaders to our params\n",
    "        self.set_params(train_dataset=train_dataset, \n",
    "                        train_loader=train_loader,\n",
    "                        test_dataset=test_dataset,\n",
    "                        test_loader=test_loader)\n",
    "        \n",
    "        \n",
    "        ## Here we instantiate the PyTorch model that we so nicely defined previously\n",
    "        model = LRPyTorch()\n",
    "\n",
    "        ## Here we define our loss function.  We're using CrossEntropyLoss but other options include\n",
    "        ## NLLLoss (negative log likelihood loss for when the log_softmax activation is explicitly defined\n",
    "        ## on the output layer), MSELoss for OLS Regression, KLLDivLoss for KL Divergence, BCELoss\n",
    "        ## for binary cross entropy and many others\n",
    "        criterion = nn.CrossEntropyLoss()\n",
    "\n",
    "        ## Here we define our optimizer.  In class we've been using SGD although in practice one will often\n",
    "        ## use other optimizers like Adam or RMSProp.  The primary parameter the optimizer takes is the\n",
    "        ## set of parameters in your model.  Fortunately those are easily accessible via model.paramters()\n",
    "        ## where model is the instance of the model you defined.  Other useful parameters include lr for the\n",
    "        ## learning rate and weight_decay for the rate of l2 regularization.\n",
    "        optimizer = torch.optim.SGD(model.parameters(), lr=learning_rate)\n",
    "        \n",
    "        \n",
    "        ## Set the rest of our parameters -- batch_size, learning_rate, epochs, optimizer,\n",
    "        ## model and criterion\n",
    "        \n",
    "        ## Add Datasets and Data Loaders to our params\n",
    "        self.set_params(optimizer=optimizer, \n",
    "                        learning_rate=learning_rate,\n",
    "                        batch_size=batch_size,\n",
    "                        model=model,\n",
    "                        criterion=criterion,\n",
    "                        epochs=epochs)   \n",
    "        \n",
    "    def load_data(self):\n",
    "        \"\"\"load the MNIST training and test sets from MNIST\"\"\"\n",
    "        \n",
    "        \n",
    "        ## We start by defining our training dataset\n",
    "        ## --root-- a string pointing to the relative path of the directory where we'll store our MNIST data\n",
    "        ## --train-- tells us whether to download the training set (True) or the test set (False)\n",
    "        ## MNIST in torchvision only has train (60K) and test (10K) datasets.  Other datasets also have a validation set\n",
    "        ## --transforms-- is a torchvision.transforms object that specifies what transforms to apply to each element\n",
    "        ## in the dataset.  The required transform is transforms.ToTensor() that turns each element into a PyTorch floating\n",
    "        ## point tensor object.  You could also add others like transforms.Normalize if you wished\n",
    "        ## --download-- specifies whether to download the data from the online urls.   If set to false, then you should\n",
    "        ## provide the data locally yourself\n",
    "        train_dataset = datasets.MNIST(root='./hw3_data',\n",
    "                                    train=True,\n",
    "                                    transform=transforms.Compose([transforms.ToTensor(),\n",
    "                                      transforms.Normalize((0.1307,), (0.3081,)),\n",
    "                                     ]),\n",
    "                                    download=True)\n",
    "\n",
    "        ## similar to the above, the main difference is that we should set train=False since we want the\n",
    "\n",
    "        ## test set data\n",
    "        test_dataset = datasets.MNIST(root='./hw3_data',\n",
    "                                   train=False,\n",
    "                                   transform=transforms.Compose([transforms.ToTensor(),\n",
    "                                      transforms.Normalize((0.1307,), (0.3081,)),\n",
    "                                     ]),\n",
    "                                   download=True)\n",
    "\n",
    "        ## A DataLoader or (Dataset Loader) turns the specified data set into a sequence of data elements\n",
    "        ## that you can access in your loops for training or evaluating accuracy, etc.\n",
    "\n",
    "\n",
    "\n",
    "        ## your train loader, takes train_dataset and turns into a sequence/iterator.  Major parameters include\n",
    "        ## --dataset-- the dataset to act upon\n",
    "        ## --batch_size-- how many elements to draw from the dataset at a time similar to mini batch SGD\n",
    "        ## --shuffle--  whether to shuffle the elements after drawing a batch.  We want this in our training data loader\n",
    "        train_loader = torch.utils.data.DataLoader(dataset=train_dataset,\n",
    "                                                   batch_size=64,\n",
    "                                                   shuffle=True)\n",
    "\n",
    "\n",
    "\n",
    "        ## in our test set loader, we don't want to shuffle since we want to\n",
    "        ## evaluate every element in sequence.  We set the batch_size to the size of the \n",
    "        ## whole dataset\n",
    "        test_loader = torch.utils.data.DataLoader(dataset=test_dataset,\n",
    "                                                  batch_size=len(test_dataset),\n",
    "                                                  shuffle=False)\n",
    "\n",
    "        return (train_dataset, test_dataset, train_loader, test_loader)\n",
    "    \n",
    "    def sample_training_images(self):\n",
    "        \"\"\"Create a set of sample images from the MNIST training images\"\"\"\n",
    "        \n",
    "        training_set = self.get_params('train_dataset')\n",
    "        sample_indices = np.random.choice(training_set.train_data.size(0), 10)\n",
    "        \n",
    "        sample_images = training_set.train_data[sample_indices,:,:].numpy()\n",
    "        sample_labels = [training_set.train_labels[x] for x in sample_indices]\n",
    "        \n",
    "        self.set_params(sample_training_images=sample_images)\n",
    "        self.set_params(sample_training_labels=sample_labels)\n",
    "        \n",
    "    def save_misclassified(self, predictions, images, labels):\n",
    "        \"\"\"Create and save a set of sample images misclassified images by the model\"\"\"\n",
    "             \n",
    "        mislabeled_indices = [index for index,value in enumerate(predictions == labels) if value==False]\n",
    "        sample_indices = np.random.choice(mislabeled_indices, 10)\n",
    "        \n",
    "        sample_images = images[sample_indices,:,:].numpy()\n",
    "        sample_labels = [predictions[x] for x in sample_indices]\n",
    "        true_labels = [labels[x] for x in sample_indices]\n",
    "\n",
    "        self.set_params(misclassified_images=sample_images)\n",
    "        self.set_params(misclassified_labels=sample_labels)\n",
    "        self.set_params(misclassified_true_labels=true_labels)\n",
    "        \n",
    "        \n",
    "    def viz_training_images(self):\n",
    "        \"\"\"Visualize/Plot sample training images\"\"\"\n",
    "        \n",
    "        if not self.get_params('training_labels'):\n",
    "            self.sample_training_images()\n",
    "        \n",
    "        # get the images and labels\n",
    "        sample_images = self.get_params(\"sample_training_images\")\n",
    "        sample_labels = self.get_params(\"sample_training_labels\")\n",
    "        \n",
    "        fig, (ax1, ax2) = plt.subplots(2, 5, figsize=(20, 10))\n",
    "        plt.suptitle(\"Some Sample Images from MNIST\", fontsize=20, weight='heavy')\n",
    "\n",
    "        for i in range(5):\n",
    "            ax1[i].imshow(sample_images[i])\n",
    "            ax1[i].set_title(\"MNIST Label: {}\".format(sample_labels[i]))\n",
    "            ax2[i].imshow(sample_images[i+5])\n",
    "            ax2[i].set_title(\"MNIST Label: {}\".format(sample_labels[i+5]), weight='bold')\n",
    "            \n",
    "        plt.show()\n",
    "\n",
    "    def viz_misclassified_images(self):\n",
    "        \"\"\"Visualize/Plot misclassified training images\"\"\"\n",
    "\n",
    "        # get the images and labels\n",
    "        sample_images = self.get_params(\"misclassified_images\")\n",
    "        sample_labels = self.get_params(\"misclassified_labels\")\n",
    "        true_labels = self.get_params(\"misclassified_true_labels\")\n",
    "\n",
    "        if not sample_labels:\n",
    "            raise(Exception(\"Please run predict() or score() with save_misclassified=True\"))\n",
    "\n",
    "        fig, (ax1, ax2) = plt.subplots(2, 5, figsize=(20, 10))\n",
    "        plt.suptitle(\"Some Sample Misclassified Images\", fontsize=20, weight='heavy')\n",
    "\n",
    "        for i in range(5):\n",
    "            ax1[i].imshow(sample_images[i])\n",
    "            ax1[i].set_title(\"MNIST Label: {} Classified: {}\".format(true_labels[i], sample_labels[i]), weight='bold')\n",
    "            ax2[i].imshow(sample_images[i+5])\n",
    "            ax2[i].set_title(\"MNIST Label: {} Classified: {}\".format(true_labels[i+5], sample_labels[i+5]), weight='bold')\n",
    "\n",
    "        plt.show()\n",
    "        \n",
    "    \n",
    "    ## Stolen from excellent visualization from submission from Madeleine Duran/Sarah Walker\n",
    "    def viz_training_loss(self, epochs=10):\n",
    "        \"\"\"Visualize/Plot our training loss\"\"\"\n",
    "        \n",
    "        losses = self.get_params(\"training_losses\")\n",
    "        \n",
    "        if type(losses) == type(None):\n",
    "            raise(\"Please run fit() to train data\")\n",
    "        \n",
    "        fig, axes = plt.subplots(nrows=1, ncols=epochs, figsize=(20,5), sharex=True, sharey=True)\n",
    "        \n",
    "        for i in range(10):\n",
    "            axes[i].plot(range(len(losses[i])), losses[i])\n",
    "            axes[i].set_title(\"epoch {}\".format(i))\n",
    "            if i % 2 == 1:\n",
    "                axes[i].axvspan(-10, 950, facecolor='gray', alpha=0.2)\n",
    "        plt.subplots_adjust(wspace=0)\n",
    "        plt.show()\n",
    "        \n",
    "    \n",
    "    def predict(self, dataset='Test', save_misclassified=True):\n",
    "        \"\"\"Classify images based on the fitted logistic regression model\"\"\"\n",
    "\n",
    "        # Get Loader   \n",
    "        loader = self.get_params('test_loader') if dataset == 'Test' else self.get_params('train_loader')\n",
    "        dataset_labels = loader.dataset.test_labels if dataset == 'Test' else loader.dataset.train_labels\n",
    "        dataset_images = loader.dataset.test_data if dataset == 'Test' else loader.dataset.train_data\n",
    "        dataset_labels = dataset_labels.numpy()\n",
    "        \n",
    "        predictions = []\n",
    "        correct = 0\n",
    "        model = self.get_params('model')\n",
    "\n",
    "        for inputs, labels in loader:\n",
    "\n",
    "            ## get the inputs from the dataloader and turn into a variable for \n",
    "            ## feeding to the model\n",
    "            inputs = Variable(inputs)\n",
    "\n",
    "            ## Reshape so that batches work properly\n",
    "            inputs = inputs.view(-1, 28*28)\n",
    "\n",
    "            # run our model on the inputs\n",
    "            outputs = model(inputs)\n",
    "\n",
    "            # get the class of the max log-probability\n",
    "            pred = outputs.data.max(1)[1]\n",
    "\n",
    "            correct += (pred == labels).sum()\n",
    "\n",
    "            # append current batch of predictions to our list\n",
    "            predictions += list(pred)\n",
    "\n",
    "\n",
    "        if save_misclassified:\n",
    "            self.save_misclassified(predictions, dataset_images, dataset_labels)\n",
    "            \n",
    "        self.set_params(predictions=predictions, \n",
    "                        correct_predictions=correct,\n",
    "                        prediction_dataset_length=len(loader.dataset),\n",
    "                        prediction_dataset_labels=dataset_labels\n",
    "                       )\n",
    "        return np.array(predictions)\n",
    "    \n",
    "    \n",
    "    def score(self, dataset='Test', save_misclassified=True ):\n",
    "        \"\"\"Calculate accuracy score based upon model classification\"\"\"\n",
    "        \n",
    "        self.predict(dataset=dataset, save_misclassified=save_misclassified)\n",
    "        correct = self.get_params('correct_predictions')\n",
    "        total = self.get_params('prediction_dataset_length')\n",
    "        \n",
    "        print('Dataset: {} \\nAccuracy: {}/{} ({:.1f}%)\\n'.format(\n",
    "            dataset, correct, total, 100.0 * correct / total))\n",
    "        \n",
    "        return(correct/total)\n",
    "        \n",
    "        \n",
    "    def fit(self):\n",
    "        \"\"\"Fit our logistic regression model on MNIST training set\"\"\"\n",
    "        \n",
    "        ## We defined a number of variables in our constructor -- let's reclaim them here\n",
    "        optimizer=self.get_params(\"optimizer\")\n",
    "        model=self.get_params(\"model\")\n",
    "        epochs=self.get_params(\"epochs\")\n",
    "        criterion=self.get_params(\"criterion\")\n",
    "        train_loader=self.get_params(\"train_loader\")\n",
    "        \n",
    "        ## Get the Total size of training set\n",
    "        self.get_params('train_dataset')\n",
    "        training_size = self.get_params('train_dataset').train_data.size(0)\n",
    "        \n",
    "        iterations = int(np.ceil(training_size/self.get_params(\"batch_size\")))\n",
    "        \n",
    "        ## We need something to keep track of our losses\n",
    "        losses = np.zeros((epochs, iterations)) \n",
    "  \n",
    "        \n",
    "        ## Our training loop.  We can loop over a fixed number of epochs or\n",
    "        ## using a sensitivity parameter (i.e. until net change in loss is\n",
    "        ## below a certain tolerance).  Here we iterate over a fixed number of\n",
    "        ## epochs\n",
    "        for epoch in range(epochs):\n",
    "\n",
    "            ## We defined our train_loader DataLoader earlier.  The train_loader is a\n",
    "            ## sequence of tuples with the first element of each tuple being\n",
    "            ## the batched training inputs (the batch_size being defined in your DataLoader)\n",
    "            ## and the second second element of each tuple being the corresponding labels\n",
    "            ## more or less all the pytorch classes are built to handle batching transparently\n",
    "\n",
    "            ## loop through the DataLoader.  Each loop is one iteration.  All the loops\n",
    "            ## form one epoch\n",
    "            for batch_index, (inputs, labels) in enumerate(train_loader):\n",
    "\n",
    "                # Convert the inputs/labels passed from the DataLoader into\n",
    "                # autograd Variables.  The dataloader provides them as PyTorch Tensors\n",
    "                # per the transforms.ToTensor() operation.\n",
    "                inputs, labels = Variable(inputs), Variable(labels)\n",
    "\n",
    "                ## as mentioned above we receive the inputs as tensors of size (batch_size,1, 28, 28)\n",
    "                ## which is effectively (batch_size, 28, 28) basically as a 3 dimensional tensor\n",
    "                ## representing a stack of (28x28) matrices with each matrix element a floating point number\n",
    "                ## representing the value of that pixel in the image.  Unfortunately our Neural Network model\n",
    "                ## can't handle that representation and needs a pixel matrices to be flattened into a row vector\n",
    "                ## of inputs.  The model takes a 2d tensor representing batch of such row vectors each row vector\n",
    "                ## representing one set of inputs corresponding to one image.  In order to accomplish this\n",
    "                ## flattening we use the .view method defined on autograd Variables.\n",
    "                inputs = inputs.view(-1, 28*28)\n",
    "\n",
    "                # we need to zero out our gradients after each pass\n",
    "                optimizer.zero_grad()\n",
    "\n",
    "\n",
    "                ## This is the optimize - forward step - backwards step part of our design pattern\n",
    "\n",
    "                # this is the forward step --> we calculate the new outputs based upon the input data from\n",
    "                # this batch and store the outputs in a variable\n",
    "                outputs = model(inputs)\n",
    "\n",
    "                # we compare the outputs to the ground truth labels in the batch to calculate the loss for this step\n",
    "                loss = criterion(outputs, labels)\n",
    "                \n",
    "                ## count the loss\n",
    "                losses[epoch,batch_index] = loss.data.item()\n",
    "\n",
    "                # we run backpropagation on the loss variable which repopulates the gradients all the way\n",
    "                # back through our model to the input layer\n",
    "                loss.backward()\n",
    "\n",
    "                # Use the gradients calculated in the backprop that took place in .backwards() to do a new\n",
    "                # gradient descent step\n",
    "                optimizer.step()\n",
    "                \n",
    "        ## Set Loss Matrix for visualizing\n",
    "        self.set_params(training_losses=losses)\n",
    "        \n",
    "        return self\n",
    "        "
   ]
  },
  {
   "cell_type": "markdown",
   "metadata": {},
   "source": [
    "** Part 1:  Plot 10 sample images from the MNIST dataset ** "
   ]
  },
  {
   "cell_type": "code",
   "execution_count": 50,
   "metadata": {},
   "outputs": [
    {
     "data": {
      "image/png": "[encoded data removed]",
      "text/plain": [
       "<Figure size 1440x720 with 10 Axes>"
      ]
     },
     "metadata": {},
     "output_type": "display_data"
    }
   ],
   "source": [
    "## Define our model \n",
    "MLR = MNIST_Logistic_Regression()\n",
    "\n",
    "## Plot sample images\n",
    "MLR.viz_training_images()\n"
   ]
  },
  {
   "cell_type": "markdown",
   "metadata": {},
   "source": [
    "** Question 2:  Construct a softmax formulation in PyTorch of multinomial logistic regression with  Cross Entropy Loss.  **\n",
    "\n",
    "** Question 3: Train your model using SGD to minimize the cost function. *Use a batch size of 64, a learning rate $\\eta = 0.01$, and 10 epochs* **"
   ]
  },
  {
   "cell_type": "markdown",
   "metadata": {},
   "source": [
    "We defined our multinomial logistic model with Cross Entropy Loss above.  Let's train it now."
   ]
  },
  {
   "cell_type": "code",
   "execution_count": 51,
   "metadata": {},
   "outputs": [
    {
     "data": {
      "text/plain": [
       "<__main__.MNIST_Logistic_Regression at 0x1a27cb1668>"
      ]
     },
     "execution_count": 51,
     "metadata": {},
     "output_type": "execute_result"
    }
   ],
   "source": [
    "MLR.fit()"
   ]
  },
  {
   "cell_type": "markdown",
   "metadata": {},
   "source": [
    "** Question 4: What are the training and test set accuracies? **\n",
    "\n",
    "** Question 5: Plot some (around 5) examples of misclassifications **"
   ]
  },
  {
   "cell_type": "markdown",
   "metadata": {},
   "source": [
    "*Let's see what the accuracy on the training set.  Because we didn't define a validation set, we'll take the unorthodox step of determining classification accuracy on the entire training set (i.e. the same set on which we trained).  We get a classification accuracy of ~ 92% on the high side of what we'd get for classification accuracy on a Logistic Regression model for this data set.*"
   ]
  },
  {
   "cell_type": "code",
   "execution_count": 52,
   "metadata": {},
   "outputs": [
    {
     "name": "stdout",
     "output_type": "stream",
     "text": [
      "Dataset: Train \n",
      "Accuracy: 55503/60000 (92.0%)\n",
      "\n"
     ]
    },
    {
     "data": {
      "image/png": "[encoded data removed]",
      "text/plain": [
       "<Figure size 1440x720 with 10 Axes>"
      ]
     },
     "metadata": {},
     "output_type": "display_data"
    }
   ],
   "source": [
    "MLR.score(\"Train\")\n",
    "\n",
    "MLR.viz_misclassified_images()"
   ]
  },
  {
   "cell_type": "markdown",
   "metadata": {},
   "source": [
    "*On the Test set, we also get a classification accuracy of ~ 92%.  This is similar accuracy to that which we obtained on the training set which suggests that our classification performance isn't due to overfitting.*"
   ]
  },
  {
   "cell_type": "code",
   "execution_count": 53,
   "metadata": {},
   "outputs": [
    {
     "name": "stdout",
     "output_type": "stream",
     "text": [
      "Dataset: Test \n",
      "Accuracy: 9225/10000 (92.0%)\n",
      "\n"
     ]
    },
    {
     "data": {
      "image/png": "[encoded data removed]",
      "text/plain": [
       "<Figure size 1440x720 with 10 Axes>"
      ]
     },
     "metadata": {},
     "output_type": "display_data"
    }
   ],
   "source": [
    "MLR.score(\"Test\")\n",
    "\n",
    "MLR.viz_misclassified_images()"
   ]
  },
  {
   "cell_type": "markdown",
   "metadata": {},
   "source": [
    "A casual inspection of some of the the sample misclassified images seems to suggest that 8's, 7's and 4's make a number of appearances.  We also see a few examples of images that seem to show a bit of ambiguity which is picked up by our model."
   ]
  },
  {
   "cell_type": "markdown",
   "metadata": {},
   "source": [
    "You're done now! :-)"
   ]
  },
  {
   "cell_type": "code",
   "execution_count": 54,
   "metadata": {},
   "outputs": [
    {
     "data": {
      "image/jpeg": "[encoded data removed]",
      "text/html": [
       "\n",
       "        <iframe\n",
       "            width=\"400\"\n",
       "            height=\"300\"\n",
       "            src=\"https://www.youtube.com/embed/iguPncD11bI\"\n",
       "            frameborder=\"0\"\n",
       "            allowfullscreen\n",
       "        ></iframe>\n",
       "        "
      ],
      "text/plain": [
       "<IPython.lib.display.YouTubeVideo at 0x1a28485748>"
      ]
     },
     "execution_count": 54,
     "metadata": {},
     "output_type": "execute_result"
    }
   ],
   "source": [
    "YouTubeVideo('iguPncD11bI')"
   ]
  },
  {
   "cell_type": "code",
   "execution_count": null,
   "metadata": {},
   "outputs": [],
   "source": []
  }
 ],
 "metadata": {
  "anaconda-cloud": {},
  "kernelspec": {
   "display_name": "Python [conda env:py36]",
   "language": "python",
   "name": "conda-env-py36-py"
  },
  "language_info": {
   "codemirror_mode": {
    "name": "ipython",
    "version": 3
   },
   "file_extension": ".py",
   "mimetype": "text/x-python",
   "name": "python",
   "nbconvert_exporter": "python",
   "pygments_lexer": "ipython3",
   "version": "3.6.6"
  },
  "nteract": {
   "version": "0.7.1"
  }
 },
 "nbformat": 4,
 "nbformat_minor": 2
}
